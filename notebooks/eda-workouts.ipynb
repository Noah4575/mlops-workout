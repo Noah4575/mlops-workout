{
 "cells": [
  {
   "cell_type": "code",
   "execution_count": 1,
   "id": "initial_id",
   "metadata": {
    "collapsed": true,
    "ExecuteTime": {
     "end_time": "2024-02-05T16:29:33.248064Z",
     "start_time": "2024-02-05T16:29:31.466670Z"
    }
   },
   "outputs": [
    {
     "name": "stderr",
     "output_type": "stream",
     "text": [
      "/var/folders/s3/52f8ptfd1wg8m_7fvtgb9g0w0000gn/T/ipykernel_88979/2937650959.py:1: DeprecationWarning: \n",
      "Pyarrow will become a required dependency of pandas in the next major release of pandas (pandas 3.0),\n",
      "(to allow more performant data types, such as the Arrow string type, and better interoperability with other libraries)\n",
      "but was not found to be installed on your system.\n",
      "If this would cause problems for you,\n",
      "please provide us feedback at https://github.com/pandas-dev/pandas/issues/54466\n",
      "        \n",
      "  import pandas as pd\n"
     ]
    }
   ],
   "source": [
    "import pandas as pd\n",
    "import numpy as np"
   ]
  },
  {
   "cell_type": "code",
   "outputs": [],
   "source": [
    "# Load data\n",
    "df_normalized_sets = pd.read_csv(\"../data/raw/workout_2024-02-05.csv\")"
   ],
   "metadata": {
    "collapsed": false,
    "ExecuteTime": {
     "end_time": "2024-02-05T20:02:58.840564Z",
     "start_time": "2024-02-05T20:02:58.824327Z"
    }
   },
   "id": "c1e21bb09ad0868e",
   "execution_count": 34
  },
  {
   "cell_type": "code",
   "outputs": [
    {
     "data": {
      "text/plain": "            DATE WORKOUT                           EXERCISE MUSCLE  SET  \\\n0     2023-03-27    Legs                      Barbell Squat   Legs    1   \n1     2023-03-27    Legs                      Barbell Squat   Legs    2   \n2     2023-03-27    Legs                      Barbell Squat   Legs    3   \n3     2023-03-27    Legs                      Barbell Squat   Legs    4   \n4     2023-03-27    Legs                          Leg Press   Legs    1   \n...          ...     ...                                ...    ...  ...   \n1719  2024-02-04    Legs                     Leg Extensions   Legs    2   \n1720  2024-02-04    Legs                     Leg Extensions   Legs    3   \n1721  2024-02-04    Legs  Smith machine standing calf raise   Legs    1   \n1722  2024-02-04    Legs  Smith machine standing calf raise   Legs    2   \n1723  2024-02-04    Legs  Smith machine standing calf raise   Legs    3   \n\n      NB_REPS  WEIGHT  \n0          10    40.0  \n1           8    50.0  \n2           8    60.0  \n3           8    50.0  \n4          10    60.0  \n...       ...     ...  \n1719        8    89.0  \n1720        7    89.0  \n1721       12   110.0  \n1722       11   110.0  \n1723       10   110.0  \n\n[1724 rows x 7 columns]",
      "text/html": "<div>\n<style scoped>\n    .dataframe tbody tr th:only-of-type {\n        vertical-align: middle;\n    }\n\n    .dataframe tbody tr th {\n        vertical-align: top;\n    }\n\n    .dataframe thead th {\n        text-align: right;\n    }\n</style>\n<table border=\"1\" class=\"dataframe\">\n  <thead>\n    <tr style=\"text-align: right;\">\n      <th></th>\n      <th>DATE</th>\n      <th>WORKOUT</th>\n      <th>EXERCISE</th>\n      <th>MUSCLE</th>\n      <th>SET</th>\n      <th>NB_REPS</th>\n      <th>WEIGHT</th>\n    </tr>\n  </thead>\n  <tbody>\n    <tr>\n      <th>0</th>\n      <td>2023-03-27</td>\n      <td>Legs</td>\n      <td>Barbell Squat</td>\n      <td>Legs</td>\n      <td>1</td>\n      <td>10</td>\n      <td>40.0</td>\n    </tr>\n    <tr>\n      <th>1</th>\n      <td>2023-03-27</td>\n      <td>Legs</td>\n      <td>Barbell Squat</td>\n      <td>Legs</td>\n      <td>2</td>\n      <td>8</td>\n      <td>50.0</td>\n    </tr>\n    <tr>\n      <th>2</th>\n      <td>2023-03-27</td>\n      <td>Legs</td>\n      <td>Barbell Squat</td>\n      <td>Legs</td>\n      <td>3</td>\n      <td>8</td>\n      <td>60.0</td>\n    </tr>\n    <tr>\n      <th>3</th>\n      <td>2023-03-27</td>\n      <td>Legs</td>\n      <td>Barbell Squat</td>\n      <td>Legs</td>\n      <td>4</td>\n      <td>8</td>\n      <td>50.0</td>\n    </tr>\n    <tr>\n      <th>4</th>\n      <td>2023-03-27</td>\n      <td>Legs</td>\n      <td>Leg Press</td>\n      <td>Legs</td>\n      <td>1</td>\n      <td>10</td>\n      <td>60.0</td>\n    </tr>\n    <tr>\n      <th>...</th>\n      <td>...</td>\n      <td>...</td>\n      <td>...</td>\n      <td>...</td>\n      <td>...</td>\n      <td>...</td>\n      <td>...</td>\n    </tr>\n    <tr>\n      <th>1719</th>\n      <td>2024-02-04</td>\n      <td>Legs</td>\n      <td>Leg Extensions</td>\n      <td>Legs</td>\n      <td>2</td>\n      <td>8</td>\n      <td>89.0</td>\n    </tr>\n    <tr>\n      <th>1720</th>\n      <td>2024-02-04</td>\n      <td>Legs</td>\n      <td>Leg Extensions</td>\n      <td>Legs</td>\n      <td>3</td>\n      <td>7</td>\n      <td>89.0</td>\n    </tr>\n    <tr>\n      <th>1721</th>\n      <td>2024-02-04</td>\n      <td>Legs</td>\n      <td>Smith machine standing calf raise</td>\n      <td>Legs</td>\n      <td>1</td>\n      <td>12</td>\n      <td>110.0</td>\n    </tr>\n    <tr>\n      <th>1722</th>\n      <td>2024-02-04</td>\n      <td>Legs</td>\n      <td>Smith machine standing calf raise</td>\n      <td>Legs</td>\n      <td>2</td>\n      <td>11</td>\n      <td>110.0</td>\n    </tr>\n    <tr>\n      <th>1723</th>\n      <td>2024-02-04</td>\n      <td>Legs</td>\n      <td>Smith machine standing calf raise</td>\n      <td>Legs</td>\n      <td>3</td>\n      <td>10</td>\n      <td>110.0</td>\n    </tr>\n  </tbody>\n</table>\n<p>1724 rows × 7 columns</p>\n</div>"
     },
     "execution_count": 35,
     "metadata": {},
     "output_type": "execute_result"
    }
   ],
   "source": [
    "df_normalized_sets"
   ],
   "metadata": {
    "collapsed": false,
    "ExecuteTime": {
     "end_time": "2024-02-05T20:03:01.012043Z",
     "start_time": "2024-02-05T20:03:00.998649Z"
    }
   },
   "id": "47419eebf55ea801",
   "execution_count": 35
  },
  {
   "cell_type": "code",
   "outputs": [],
   "source": [
    "def weighted_mean(x):\n",
    "    return np.average(x, weights=df_normalized_sets.loc[x.index, \"NB_REPS\"])"
   ],
   "metadata": {
    "collapsed": false,
    "ExecuteTime": {
     "end_time": "2024-02-05T20:03:08.921363Z",
     "start_time": "2024-02-05T20:03:08.917328Z"
    }
   },
   "id": "42baec4509020594",
   "execution_count": 36
  },
  {
   "cell_type": "code",
   "outputs": [],
   "source": [
    "# Workout days dataframe\n",
    "df_workout_days = df_normalized_sets \\\n",
    "    .groupby([\"DATE\", \"WORKOUT\", \"EXERCISE\"], sort=False) \\\n",
    "    .agg(SETS=(\"SET\", len)) \\\n",
    "    .reset_index()"
   ],
   "metadata": {
    "collapsed": false,
    "ExecuteTime": {
     "end_time": "2024-02-05T20:03:09.323275Z",
     "start_time": "2024-02-05T20:03:09.303245Z"
    }
   },
   "id": "b9bac88ca7fa25dd",
   "execution_count": 37
  },
  {
   "cell_type": "code",
   "outputs": [
    {
     "data": {
      "text/plain": "           DATE           WORKOUT                           EXERCISE  SETS\n0    2023-03-27              Legs                      Barbell Squat     4\n1    2023-03-27              Legs                          Leg Press     4\n2    2023-03-27              Legs                     Leg Extensions     4\n3    2023-03-28  Back / Shoulders                      Lat pull-down     4\n4    2023-03-28  Back / Shoulders                            Pull-up     1\n..          ...               ...                                ...   ...\n547  2024-02-04              Legs                      Barbell Squat     3\n548  2024-02-04              Legs                          Leg Press     3\n549  2024-02-04              Legs                    Seated Leg Curl     3\n550  2024-02-04              Legs                     Leg Extensions     3\n551  2024-02-04              Legs  Smith machine standing calf raise     3\n\n[552 rows x 4 columns]",
      "text/html": "<div>\n<style scoped>\n    .dataframe tbody tr th:only-of-type {\n        vertical-align: middle;\n    }\n\n    .dataframe tbody tr th {\n        vertical-align: top;\n    }\n\n    .dataframe thead th {\n        text-align: right;\n    }\n</style>\n<table border=\"1\" class=\"dataframe\">\n  <thead>\n    <tr style=\"text-align: right;\">\n      <th></th>\n      <th>DATE</th>\n      <th>WORKOUT</th>\n      <th>EXERCISE</th>\n      <th>SETS</th>\n    </tr>\n  </thead>\n  <tbody>\n    <tr>\n      <th>0</th>\n      <td>2023-03-27</td>\n      <td>Legs</td>\n      <td>Barbell Squat</td>\n      <td>4</td>\n    </tr>\n    <tr>\n      <th>1</th>\n      <td>2023-03-27</td>\n      <td>Legs</td>\n      <td>Leg Press</td>\n      <td>4</td>\n    </tr>\n    <tr>\n      <th>2</th>\n      <td>2023-03-27</td>\n      <td>Legs</td>\n      <td>Leg Extensions</td>\n      <td>4</td>\n    </tr>\n    <tr>\n      <th>3</th>\n      <td>2023-03-28</td>\n      <td>Back / Shoulders</td>\n      <td>Lat pull-down</td>\n      <td>4</td>\n    </tr>\n    <tr>\n      <th>4</th>\n      <td>2023-03-28</td>\n      <td>Back / Shoulders</td>\n      <td>Pull-up</td>\n      <td>1</td>\n    </tr>\n    <tr>\n      <th>...</th>\n      <td>...</td>\n      <td>...</td>\n      <td>...</td>\n      <td>...</td>\n    </tr>\n    <tr>\n      <th>547</th>\n      <td>2024-02-04</td>\n      <td>Legs</td>\n      <td>Barbell Squat</td>\n      <td>3</td>\n    </tr>\n    <tr>\n      <th>548</th>\n      <td>2024-02-04</td>\n      <td>Legs</td>\n      <td>Leg Press</td>\n      <td>3</td>\n    </tr>\n    <tr>\n      <th>549</th>\n      <td>2024-02-04</td>\n      <td>Legs</td>\n      <td>Seated Leg Curl</td>\n      <td>3</td>\n    </tr>\n    <tr>\n      <th>550</th>\n      <td>2024-02-04</td>\n      <td>Legs</td>\n      <td>Leg Extensions</td>\n      <td>3</td>\n    </tr>\n    <tr>\n      <th>551</th>\n      <td>2024-02-04</td>\n      <td>Legs</td>\n      <td>Smith machine standing calf raise</td>\n      <td>3</td>\n    </tr>\n  </tbody>\n</table>\n<p>552 rows × 4 columns</p>\n</div>"
     },
     "execution_count": 38,
     "metadata": {},
     "output_type": "execute_result"
    }
   ],
   "source": [
    "df_workout_days"
   ],
   "metadata": {
    "collapsed": false,
    "ExecuteTime": {
     "end_time": "2024-02-05T20:03:10.172179Z",
     "start_time": "2024-02-05T20:03:10.162304Z"
    }
   },
   "id": "62b9d47288497bae",
   "execution_count": 38
  },
  {
   "cell_type": "code",
   "outputs": [],
   "source": [
    "# Exercises dataframe\n",
    "df_exercises = df_normalized_sets.groupby(\"EXERCISE\").agg(MUSCLE=(\"MUSCLE\", 'first'),\n",
    "                                                          AVERAGE_REPS=(\"NB_REPS\", \"mean\"),\n",
    "                                                          MAX_WEIGHT=(\"WEIGHT\", \"max\"),\n",
    "                                                          AVERAGE_WEIGHT=(\"WEIGHT\", weighted_mean)).reset_index()"
   ],
   "metadata": {
    "collapsed": false,
    "ExecuteTime": {
     "end_time": "2024-02-05T20:03:11.650780Z",
     "start_time": "2024-02-05T20:03:11.636646Z"
    }
   },
   "id": "4bd2002756fb6af0",
   "execution_count": 39
  },
  {
   "cell_type": "code",
   "outputs": [
    {
     "data": {
      "text/plain": "                                EXERCISE     MUSCLE  AVERAGE_REPS  MAX_WEIGHT  \\\n0                           Barbell Curl     Biceps      8.250000        30.0   \n1                          Barbell Squat       Legs      7.743243       105.0   \n2           Behind-the-head skullcrusher    Triceps      8.800000        35.0   \n3                            Bench press      Chest      7.916667        65.0   \n4                  Bent Over Barbell Row       Back      8.942308        65.0   \n5       Bent-over dumbbell rear delt fly  Shoulders     10.888889         8.0   \n6                       Cable cross-over      Chest      9.379310        23.0   \n7       Cable overhead triceps extension    Triceps      7.933333        29.0   \n8                 Cable rope hammer curl     Biceps     10.111111        41.0   \n9                 Close-grip bench press    Triceps      9.333333        50.0   \n10                                Crunch        Abs      7.000000         0.0   \n11           Decline barbell bench press      Chest      7.800000        48.0   \n12                  Dumbbell Bench Press      Chest      8.360000        32.0   \n13                   Dumbbell Bicep Curl     Biceps      7.250000        14.0   \n14        Dumbbell Bulgarian split squat       Legs      7.750000        18.0   \n15                Dumbbell bent-over row       Back     14.857143        22.0   \n16                Dumbbell lateral raise  Shoulders      8.825243        14.0   \n17                 Dumbbell skullcrusher    Triceps      7.666667        10.0   \n18                          Hammer Curls     Biceps      8.247059        16.0   \n19                     Hanging leg raise        Abs     12.333333         0.0   \n20           Incline EZ-bar skullcrusher    Triceps     12.000000        25.0   \n21                   Incline bench press      Chest      7.814815        55.0   \n22               Incline cable chest fly      Chest      9.000000        18.0   \n23          Incline dumbbell bench press      Chest      7.839286        30.0   \n24          Incline dumbbell biceps curl     Biceps      7.646465        12.0   \n25                  Incline dumbbell row  Shoulders     10.357143        14.0   \n26                         Lat pull-down       Back      9.392157        73.0   \n27                        Leg Extensions       Legs      9.125000        89.0   \n28                             Leg Press       Legs      8.877193       145.0   \n29                  Leverage Chest Press      Chest      7.888889        40.0   \n30                  Low-cable cross-over      Chest      9.849057        18.0   \n31                       Lying Leg Curls       Legs      9.142857        59.0   \n32                      Negative pull-up       Back      7.000000         0.0   \n33                         Preacher Curl     Biceps      8.833333        30.0   \n34                               Pull-up       Back      7.413462        15.0   \n35                   Reverse Barbell Row       Back      9.296296        69.0   \n36      Romanian Deadlift With Dumbbells       Legs     10.625000        48.0   \n37                     Seated Cable Rows       Back      9.488372        86.0   \n38                       Seated Leg Curl       Legs      9.193548        81.0   \n39        Seated dumbbell shoulder press  Shoulders      7.666667        24.0   \n40        Single-arm cable lateral raise  Shoulders      8.333333        16.0   \n41    Single-arm cable triceps extension    Triceps      6.090909        14.0   \n42               Single-arm dumbbell row       Back      9.000000        18.0   \n43     Smith Machine Incline Bench Press      Chest      7.722222        55.0   \n44             Smith machine bench press      Chest      7.222222        65.0   \n45     Smith machine standing calf raise       Legs     11.479167       110.0   \n46  Standing crossed-cable rear delt fly  Shoulders     10.179487        16.0   \n47               Standing dumbbell shrug       Back     16.166667        22.0   \n48          Straight-arm cable pull-over       Back     10.179487        45.0   \n49                        Thigh adductor       Legs      7.000000        66.0   \n50              Tricep Dumbbell Kickback    Triceps      7.300000         6.0   \n51                      Triceps Pushdown    Triceps      8.461538        36.0   \n52                           Triceps dip    Triceps      8.428571        10.0   \n\n    AVERAGE_WEIGHT  \n0        23.919192  \n1        78.094241  \n2        23.518939  \n3        55.326316  \n4        56.163441  \n5         6.938776  \n6        16.893382  \n7        25.453782  \n8        37.509158  \n9        47.380952  \n10        0.000000  \n11       43.615385  \n12       26.440191  \n13       11.816092  \n14       14.774194  \n15       22.000000  \n16       11.387239  \n17       10.000000  \n18       12.171184  \n19        0.000000  \n20       22.500000  \n21       49.549763  \n22       15.777778  \n23       22.123007  \n24        9.270806  \n25       10.924138  \n26       52.453027  \n27       60.362035  \n28      105.553360  \n29       30.915493  \n30       13.362069  \n31       40.289062  \n32        0.000000  \n33       25.273585  \n34        4.501946  \n35       63.968127  \n36       27.847059  \n37       57.598039  \n38       63.782456  \n39       18.173913  \n40       13.346667  \n41       14.000000  \n42       15.777778  \n43       53.021583  \n44       64.192308  \n45       84.441016  \n46       12.604534  \n47       22.000000  \n48       33.400504  \n49       61.000000  \n50        6.000000  \n51       24.763636  \n52        3.728814  ",
      "text/html": "<div>\n<style scoped>\n    .dataframe tbody tr th:only-of-type {\n        vertical-align: middle;\n    }\n\n    .dataframe tbody tr th {\n        vertical-align: top;\n    }\n\n    .dataframe thead th {\n        text-align: right;\n    }\n</style>\n<table border=\"1\" class=\"dataframe\">\n  <thead>\n    <tr style=\"text-align: right;\">\n      <th></th>\n      <th>EXERCISE</th>\n      <th>MUSCLE</th>\n      <th>AVERAGE_REPS</th>\n      <th>MAX_WEIGHT</th>\n      <th>AVERAGE_WEIGHT</th>\n    </tr>\n  </thead>\n  <tbody>\n    <tr>\n      <th>0</th>\n      <td>Barbell Curl</td>\n      <td>Biceps</td>\n      <td>8.250000</td>\n      <td>30.0</td>\n      <td>23.919192</td>\n    </tr>\n    <tr>\n      <th>1</th>\n      <td>Barbell Squat</td>\n      <td>Legs</td>\n      <td>7.743243</td>\n      <td>105.0</td>\n      <td>78.094241</td>\n    </tr>\n    <tr>\n      <th>2</th>\n      <td>Behind-the-head skullcrusher</td>\n      <td>Triceps</td>\n      <td>8.800000</td>\n      <td>35.0</td>\n      <td>23.518939</td>\n    </tr>\n    <tr>\n      <th>3</th>\n      <td>Bench press</td>\n      <td>Chest</td>\n      <td>7.916667</td>\n      <td>65.0</td>\n      <td>55.326316</td>\n    </tr>\n    <tr>\n      <th>4</th>\n      <td>Bent Over Barbell Row</td>\n      <td>Back</td>\n      <td>8.942308</td>\n      <td>65.0</td>\n      <td>56.163441</td>\n    </tr>\n    <tr>\n      <th>5</th>\n      <td>Bent-over dumbbell rear delt fly</td>\n      <td>Shoulders</td>\n      <td>10.888889</td>\n      <td>8.0</td>\n      <td>6.938776</td>\n    </tr>\n    <tr>\n      <th>6</th>\n      <td>Cable cross-over</td>\n      <td>Chest</td>\n      <td>9.379310</td>\n      <td>23.0</td>\n      <td>16.893382</td>\n    </tr>\n    <tr>\n      <th>7</th>\n      <td>Cable overhead triceps extension</td>\n      <td>Triceps</td>\n      <td>7.933333</td>\n      <td>29.0</td>\n      <td>25.453782</td>\n    </tr>\n    <tr>\n      <th>8</th>\n      <td>Cable rope hammer curl</td>\n      <td>Biceps</td>\n      <td>10.111111</td>\n      <td>41.0</td>\n      <td>37.509158</td>\n    </tr>\n    <tr>\n      <th>9</th>\n      <td>Close-grip bench press</td>\n      <td>Triceps</td>\n      <td>9.333333</td>\n      <td>50.0</td>\n      <td>47.380952</td>\n    </tr>\n    <tr>\n      <th>10</th>\n      <td>Crunch</td>\n      <td>Abs</td>\n      <td>7.000000</td>\n      <td>0.0</td>\n      <td>0.000000</td>\n    </tr>\n    <tr>\n      <th>11</th>\n      <td>Decline barbell bench press</td>\n      <td>Chest</td>\n      <td>7.800000</td>\n      <td>48.0</td>\n      <td>43.615385</td>\n    </tr>\n    <tr>\n      <th>12</th>\n      <td>Dumbbell Bench Press</td>\n      <td>Chest</td>\n      <td>8.360000</td>\n      <td>32.0</td>\n      <td>26.440191</td>\n    </tr>\n    <tr>\n      <th>13</th>\n      <td>Dumbbell Bicep Curl</td>\n      <td>Biceps</td>\n      <td>7.250000</td>\n      <td>14.0</td>\n      <td>11.816092</td>\n    </tr>\n    <tr>\n      <th>14</th>\n      <td>Dumbbell Bulgarian split squat</td>\n      <td>Legs</td>\n      <td>7.750000</td>\n      <td>18.0</td>\n      <td>14.774194</td>\n    </tr>\n    <tr>\n      <th>15</th>\n      <td>Dumbbell bent-over row</td>\n      <td>Back</td>\n      <td>14.857143</td>\n      <td>22.0</td>\n      <td>22.000000</td>\n    </tr>\n    <tr>\n      <th>16</th>\n      <td>Dumbbell lateral raise</td>\n      <td>Shoulders</td>\n      <td>8.825243</td>\n      <td>14.0</td>\n      <td>11.387239</td>\n    </tr>\n    <tr>\n      <th>17</th>\n      <td>Dumbbell skullcrusher</td>\n      <td>Triceps</td>\n      <td>7.666667</td>\n      <td>10.0</td>\n      <td>10.000000</td>\n    </tr>\n    <tr>\n      <th>18</th>\n      <td>Hammer Curls</td>\n      <td>Biceps</td>\n      <td>8.247059</td>\n      <td>16.0</td>\n      <td>12.171184</td>\n    </tr>\n    <tr>\n      <th>19</th>\n      <td>Hanging leg raise</td>\n      <td>Abs</td>\n      <td>12.333333</td>\n      <td>0.0</td>\n      <td>0.000000</td>\n    </tr>\n    <tr>\n      <th>20</th>\n      <td>Incline EZ-bar skullcrusher</td>\n      <td>Triceps</td>\n      <td>12.000000</td>\n      <td>25.0</td>\n      <td>22.500000</td>\n    </tr>\n    <tr>\n      <th>21</th>\n      <td>Incline bench press</td>\n      <td>Chest</td>\n      <td>7.814815</td>\n      <td>55.0</td>\n      <td>49.549763</td>\n    </tr>\n    <tr>\n      <th>22</th>\n      <td>Incline cable chest fly</td>\n      <td>Chest</td>\n      <td>9.000000</td>\n      <td>18.0</td>\n      <td>15.777778</td>\n    </tr>\n    <tr>\n      <th>23</th>\n      <td>Incline dumbbell bench press</td>\n      <td>Chest</td>\n      <td>7.839286</td>\n      <td>30.0</td>\n      <td>22.123007</td>\n    </tr>\n    <tr>\n      <th>24</th>\n      <td>Incline dumbbell biceps curl</td>\n      <td>Biceps</td>\n      <td>7.646465</td>\n      <td>12.0</td>\n      <td>9.270806</td>\n    </tr>\n    <tr>\n      <th>25</th>\n      <td>Incline dumbbell row</td>\n      <td>Shoulders</td>\n      <td>10.357143</td>\n      <td>14.0</td>\n      <td>10.924138</td>\n    </tr>\n    <tr>\n      <th>26</th>\n      <td>Lat pull-down</td>\n      <td>Back</td>\n      <td>9.392157</td>\n      <td>73.0</td>\n      <td>52.453027</td>\n    </tr>\n    <tr>\n      <th>27</th>\n      <td>Leg Extensions</td>\n      <td>Legs</td>\n      <td>9.125000</td>\n      <td>89.0</td>\n      <td>60.362035</td>\n    </tr>\n    <tr>\n      <th>28</th>\n      <td>Leg Press</td>\n      <td>Legs</td>\n      <td>8.877193</td>\n      <td>145.0</td>\n      <td>105.553360</td>\n    </tr>\n    <tr>\n      <th>29</th>\n      <td>Leverage Chest Press</td>\n      <td>Chest</td>\n      <td>7.888889</td>\n      <td>40.0</td>\n      <td>30.915493</td>\n    </tr>\n    <tr>\n      <th>30</th>\n      <td>Low-cable cross-over</td>\n      <td>Chest</td>\n      <td>9.849057</td>\n      <td>18.0</td>\n      <td>13.362069</td>\n    </tr>\n    <tr>\n      <th>31</th>\n      <td>Lying Leg Curls</td>\n      <td>Legs</td>\n      <td>9.142857</td>\n      <td>59.0</td>\n      <td>40.289062</td>\n    </tr>\n    <tr>\n      <th>32</th>\n      <td>Negative pull-up</td>\n      <td>Back</td>\n      <td>7.000000</td>\n      <td>0.0</td>\n      <td>0.000000</td>\n    </tr>\n    <tr>\n      <th>33</th>\n      <td>Preacher Curl</td>\n      <td>Biceps</td>\n      <td>8.833333</td>\n      <td>30.0</td>\n      <td>25.273585</td>\n    </tr>\n    <tr>\n      <th>34</th>\n      <td>Pull-up</td>\n      <td>Back</td>\n      <td>7.413462</td>\n      <td>15.0</td>\n      <td>4.501946</td>\n    </tr>\n    <tr>\n      <th>35</th>\n      <td>Reverse Barbell Row</td>\n      <td>Back</td>\n      <td>9.296296</td>\n      <td>69.0</td>\n      <td>63.968127</td>\n    </tr>\n    <tr>\n      <th>36</th>\n      <td>Romanian Deadlift With Dumbbells</td>\n      <td>Legs</td>\n      <td>10.625000</td>\n      <td>48.0</td>\n      <td>27.847059</td>\n    </tr>\n    <tr>\n      <th>37</th>\n      <td>Seated Cable Rows</td>\n      <td>Back</td>\n      <td>9.488372</td>\n      <td>86.0</td>\n      <td>57.598039</td>\n    </tr>\n    <tr>\n      <th>38</th>\n      <td>Seated Leg Curl</td>\n      <td>Legs</td>\n      <td>9.193548</td>\n      <td>81.0</td>\n      <td>63.782456</td>\n    </tr>\n    <tr>\n      <th>39</th>\n      <td>Seated dumbbell shoulder press</td>\n      <td>Shoulders</td>\n      <td>7.666667</td>\n      <td>24.0</td>\n      <td>18.173913</td>\n    </tr>\n    <tr>\n      <th>40</th>\n      <td>Single-arm cable lateral raise</td>\n      <td>Shoulders</td>\n      <td>8.333333</td>\n      <td>16.0</td>\n      <td>13.346667</td>\n    </tr>\n    <tr>\n      <th>41</th>\n      <td>Single-arm cable triceps extension</td>\n      <td>Triceps</td>\n      <td>6.090909</td>\n      <td>14.0</td>\n      <td>14.000000</td>\n    </tr>\n    <tr>\n      <th>42</th>\n      <td>Single-arm dumbbell row</td>\n      <td>Back</td>\n      <td>9.000000</td>\n      <td>18.0</td>\n      <td>15.777778</td>\n    </tr>\n    <tr>\n      <th>43</th>\n      <td>Smith Machine Incline Bench Press</td>\n      <td>Chest</td>\n      <td>7.722222</td>\n      <td>55.0</td>\n      <td>53.021583</td>\n    </tr>\n    <tr>\n      <th>44</th>\n      <td>Smith machine bench press</td>\n      <td>Chest</td>\n      <td>7.222222</td>\n      <td>65.0</td>\n      <td>64.192308</td>\n    </tr>\n    <tr>\n      <th>45</th>\n      <td>Smith machine standing calf raise</td>\n      <td>Legs</td>\n      <td>11.479167</td>\n      <td>110.0</td>\n      <td>84.441016</td>\n    </tr>\n    <tr>\n      <th>46</th>\n      <td>Standing crossed-cable rear delt fly</td>\n      <td>Shoulders</td>\n      <td>10.179487</td>\n      <td>16.0</td>\n      <td>12.604534</td>\n    </tr>\n    <tr>\n      <th>47</th>\n      <td>Standing dumbbell shrug</td>\n      <td>Back</td>\n      <td>16.166667</td>\n      <td>22.0</td>\n      <td>22.000000</td>\n    </tr>\n    <tr>\n      <th>48</th>\n      <td>Straight-arm cable pull-over</td>\n      <td>Back</td>\n      <td>10.179487</td>\n      <td>45.0</td>\n      <td>33.400504</td>\n    </tr>\n    <tr>\n      <th>49</th>\n      <td>Thigh adductor</td>\n      <td>Legs</td>\n      <td>7.000000</td>\n      <td>66.0</td>\n      <td>61.000000</td>\n    </tr>\n    <tr>\n      <th>50</th>\n      <td>Tricep Dumbbell Kickback</td>\n      <td>Triceps</td>\n      <td>7.300000</td>\n      <td>6.0</td>\n      <td>6.000000</td>\n    </tr>\n    <tr>\n      <th>51</th>\n      <td>Triceps Pushdown</td>\n      <td>Triceps</td>\n      <td>8.461538</td>\n      <td>36.0</td>\n      <td>24.763636</td>\n    </tr>\n    <tr>\n      <th>52</th>\n      <td>Triceps dip</td>\n      <td>Triceps</td>\n      <td>8.428571</td>\n      <td>10.0</td>\n      <td>3.728814</td>\n    </tr>\n  </tbody>\n</table>\n</div>"
     },
     "execution_count": 40,
     "metadata": {},
     "output_type": "execute_result"
    }
   ],
   "source": [
    "df_exercises"
   ],
   "metadata": {
    "collapsed": false,
    "ExecuteTime": {
     "end_time": "2024-02-05T20:03:13.994718Z",
     "start_time": "2024-02-05T20:03:13.984178Z"
    }
   },
   "id": "2d38dfba7c6bb43",
   "execution_count": 40
  },
  {
   "cell_type": "code",
   "outputs": [],
   "source": [
    "# Sets dataframe\n",
    "df_sets = df_normalized_sets.groupby([\"EXERCISE\", \"SET\"]).agg(MAX_REPS=(\"NB_REPS\", \"max\"),\n",
    "                                                              AVERAGE_REPS=(\"NB_REPS\", \"mean\"),\n",
    "                                                              MAX_WEIGHT=(\"WEIGHT\", \"max\"),\n",
    "                                                              AVERAGE_WEIGHT=(\"WEIGHT\", weighted_mean)).reset_index()"
   ],
   "metadata": {
    "collapsed": false,
    "ExecuteTime": {
     "end_time": "2024-02-05T20:03:14.125274Z",
     "start_time": "2024-02-05T20:03:14.096639Z"
    }
   },
   "id": "5ee7c1d2dec83b0c",
   "execution_count": 41
  },
  {
   "cell_type": "code",
   "outputs": [
    {
     "data": {
      "text/plain": "             EXERCISE  SET  MAX_REPS  AVERAGE_REPS  MAX_WEIGHT  AVERAGE_WEIGHT\n0        Barbell Curl    1        14     10.000000        26.0       22.866667\n1        Barbell Curl    2        10      8.500000        30.0       27.529412\n2        Barbell Curl    3        10      9.500000        30.0       25.789474\n3        Barbell Curl    4         3      3.000000        26.0       26.000000\n4        Barbell Curl    5        10     10.000000        18.0       18.000000\n..                ...  ...       ...           ...         ...             ...\n182  Triceps Pushdown    3         9      7.764706        36.0       24.121212\n183       Triceps dip    1        12      9.500000        10.0        4.210526\n184       Triceps dip    2        11      8.750000        10.0        4.000000\n185       Triceps dip    3        10      7.750000        10.0        4.516129\n186       Triceps dip    4         8      7.000000         0.0        0.000000\n\n[187 rows x 6 columns]",
      "text/html": "<div>\n<style scoped>\n    .dataframe tbody tr th:only-of-type {\n        vertical-align: middle;\n    }\n\n    .dataframe tbody tr th {\n        vertical-align: top;\n    }\n\n    .dataframe thead th {\n        text-align: right;\n    }\n</style>\n<table border=\"1\" class=\"dataframe\">\n  <thead>\n    <tr style=\"text-align: right;\">\n      <th></th>\n      <th>EXERCISE</th>\n      <th>SET</th>\n      <th>MAX_REPS</th>\n      <th>AVERAGE_REPS</th>\n      <th>MAX_WEIGHT</th>\n      <th>AVERAGE_WEIGHT</th>\n    </tr>\n  </thead>\n  <tbody>\n    <tr>\n      <th>0</th>\n      <td>Barbell Curl</td>\n      <td>1</td>\n      <td>14</td>\n      <td>10.000000</td>\n      <td>26.0</td>\n      <td>22.866667</td>\n    </tr>\n    <tr>\n      <th>1</th>\n      <td>Barbell Curl</td>\n      <td>2</td>\n      <td>10</td>\n      <td>8.500000</td>\n      <td>30.0</td>\n      <td>27.529412</td>\n    </tr>\n    <tr>\n      <th>2</th>\n      <td>Barbell Curl</td>\n      <td>3</td>\n      <td>10</td>\n      <td>9.500000</td>\n      <td>30.0</td>\n      <td>25.789474</td>\n    </tr>\n    <tr>\n      <th>3</th>\n      <td>Barbell Curl</td>\n      <td>4</td>\n      <td>3</td>\n      <td>3.000000</td>\n      <td>26.0</td>\n      <td>26.000000</td>\n    </tr>\n    <tr>\n      <th>4</th>\n      <td>Barbell Curl</td>\n      <td>5</td>\n      <td>10</td>\n      <td>10.000000</td>\n      <td>18.0</td>\n      <td>18.000000</td>\n    </tr>\n    <tr>\n      <th>...</th>\n      <td>...</td>\n      <td>...</td>\n      <td>...</td>\n      <td>...</td>\n      <td>...</td>\n      <td>...</td>\n    </tr>\n    <tr>\n      <th>182</th>\n      <td>Triceps Pushdown</td>\n      <td>3</td>\n      <td>9</td>\n      <td>7.764706</td>\n      <td>36.0</td>\n      <td>24.121212</td>\n    </tr>\n    <tr>\n      <th>183</th>\n      <td>Triceps dip</td>\n      <td>1</td>\n      <td>12</td>\n      <td>9.500000</td>\n      <td>10.0</td>\n      <td>4.210526</td>\n    </tr>\n    <tr>\n      <th>184</th>\n      <td>Triceps dip</td>\n      <td>2</td>\n      <td>11</td>\n      <td>8.750000</td>\n      <td>10.0</td>\n      <td>4.000000</td>\n    </tr>\n    <tr>\n      <th>185</th>\n      <td>Triceps dip</td>\n      <td>3</td>\n      <td>10</td>\n      <td>7.750000</td>\n      <td>10.0</td>\n      <td>4.516129</td>\n    </tr>\n    <tr>\n      <th>186</th>\n      <td>Triceps dip</td>\n      <td>4</td>\n      <td>8</td>\n      <td>7.000000</td>\n      <td>0.0</td>\n      <td>0.000000</td>\n    </tr>\n  </tbody>\n</table>\n<p>187 rows × 6 columns</p>\n</div>"
     },
     "execution_count": 42,
     "metadata": {},
     "output_type": "execute_result"
    }
   ],
   "source": [
    "df_sets"
   ],
   "metadata": {
    "collapsed": false,
    "ExecuteTime": {
     "end_time": "2024-02-05T20:03:19.418992Z",
     "start_time": "2024-02-05T20:03:19.411516Z"
    }
   },
   "id": "e4c94b08cd474fd8",
   "execution_count": 42
  },
  {
   "cell_type": "code",
   "outputs": [],
   "source": [
    "# Workouts per date dataframe\n",
    "workouts_by_date = df_normalized_sets.groupby(\"DATE\")[\"WORKOUT\"].first()"
   ],
   "metadata": {
    "collapsed": false,
    "ExecuteTime": {
     "end_time": "2024-02-05T20:03:22.743389Z",
     "start_time": "2024-02-05T20:03:22.738142Z"
    }
   },
   "id": "d312411fdf129dce",
   "execution_count": 43
  },
  {
   "cell_type": "code",
   "outputs": [
    {
     "data": {
      "text/plain": "DATE\n2023-03-27                           Legs\n2023-03-28               Back / Shoulders\n2023-04-03              Chest / Shoulders\n2023-04-04               Back / Shoulders\n2023-04-06                           Legs\n                         ...             \n2024-01-27    Chest / Shoulders / Triceps\n2024-01-28                           Legs\n2024-02-02                  Back / Biceps\n2024-02-03    Chest / Shoulders / Triceps\n2024-02-04                           Legs\nName: WORKOUT, Length: 103, dtype: object"
     },
     "execution_count": 44,
     "metadata": {},
     "output_type": "execute_result"
    }
   ],
   "source": [
    "workouts_by_date"
   ],
   "metadata": {
    "collapsed": false,
    "ExecuteTime": {
     "end_time": "2024-02-05T20:03:23.629436Z",
     "start_time": "2024-02-05T20:03:23.625107Z"
    }
   },
   "id": "a8338a4be0cbd57e",
   "execution_count": 44
  },
  {
   "cell_type": "code",
   "outputs": [],
   "source": [
    "# Number of workout per workout dataframe\n",
    "workout_occurrences = workouts_by_date.reset_index().groupby(\"WORKOUT\").agg(OCCURRENCES=(\"DATE\", len))\n",
    "workout_occurrences = workout_occurrences.sort_values(by=\"OCCURRENCES\", ascending=False).reset_index()"
   ],
   "metadata": {
    "collapsed": false,
    "ExecuteTime": {
     "end_time": "2024-02-05T20:03:40.454514Z",
     "start_time": "2024-02-05T20:03:40.445830Z"
    }
   },
   "id": "45a54dd0c3044d72",
   "execution_count": 45
  },
  {
   "cell_type": "code",
   "outputs": [
    {
     "data": {
      "text/plain": "                       WORKOUT  OCCURRENCES\n0  Chest / Shoulders / Triceps           34\n1                         Legs           23\n2    Back / Shoulders / Biceps           18\n3                Back / Biceps           13\n4                         Arms            4\n5             Back / Shoulders            4\n6            Chest / Shoulders            4\n7             Arms / Shoulders            1\n8                 Biceps / Abs            1\n9                        Chest            1",
      "text/html": "<div>\n<style scoped>\n    .dataframe tbody tr th:only-of-type {\n        vertical-align: middle;\n    }\n\n    .dataframe tbody tr th {\n        vertical-align: top;\n    }\n\n    .dataframe thead th {\n        text-align: right;\n    }\n</style>\n<table border=\"1\" class=\"dataframe\">\n  <thead>\n    <tr style=\"text-align: right;\">\n      <th></th>\n      <th>WORKOUT</th>\n      <th>OCCURRENCES</th>\n    </tr>\n  </thead>\n  <tbody>\n    <tr>\n      <th>0</th>\n      <td>Chest / Shoulders / Triceps</td>\n      <td>34</td>\n    </tr>\n    <tr>\n      <th>1</th>\n      <td>Legs</td>\n      <td>23</td>\n    </tr>\n    <tr>\n      <th>2</th>\n      <td>Back / Shoulders / Biceps</td>\n      <td>18</td>\n    </tr>\n    <tr>\n      <th>3</th>\n      <td>Back / Biceps</td>\n      <td>13</td>\n    </tr>\n    <tr>\n      <th>4</th>\n      <td>Arms</td>\n      <td>4</td>\n    </tr>\n    <tr>\n      <th>5</th>\n      <td>Back / Shoulders</td>\n      <td>4</td>\n    </tr>\n    <tr>\n      <th>6</th>\n      <td>Chest / Shoulders</td>\n      <td>4</td>\n    </tr>\n    <tr>\n      <th>7</th>\n      <td>Arms / Shoulders</td>\n      <td>1</td>\n    </tr>\n    <tr>\n      <th>8</th>\n      <td>Biceps / Abs</td>\n      <td>1</td>\n    </tr>\n    <tr>\n      <th>9</th>\n      <td>Chest</td>\n      <td>1</td>\n    </tr>\n  </tbody>\n</table>\n</div>"
     },
     "execution_count": 46,
     "metadata": {},
     "output_type": "execute_result"
    }
   ],
   "source": [
    "workout_occurrences"
   ],
   "metadata": {
    "collapsed": false,
    "ExecuteTime": {
     "end_time": "2024-02-05T20:03:40.844379Z",
     "start_time": "2024-02-05T20:03:40.840761Z"
    }
   },
   "id": "9f9d9aa6cb93dfd2",
   "execution_count": 46
  },
  {
   "cell_type": "code",
   "outputs": [],
   "source": [],
   "metadata": {
    "collapsed": false
   },
   "id": "c1f7548c431b952"
  },
  {
   "cell_type": "code",
   "outputs": [],
   "source": [],
   "metadata": {
    "collapsed": false
   },
   "id": "a9b66a48f23bcaad"
  }
 ],
 "metadata": {
  "kernelspec": {
   "display_name": "Python 3",
   "language": "python",
   "name": "python3"
  },
  "language_info": {
   "codemirror_mode": {
    "name": "ipython",
    "version": 2
   },
   "file_extension": ".py",
   "mimetype": "text/x-python",
   "name": "python",
   "nbconvert_exporter": "python",
   "pygments_lexer": "ipython2",
   "version": "2.7.6"
  }
 },
 "nbformat": 4,
 "nbformat_minor": 5
}

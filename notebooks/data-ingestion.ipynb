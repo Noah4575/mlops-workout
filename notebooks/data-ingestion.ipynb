{
 "cells": [
  {
   "cell_type": "code",
   "execution_count": 2,
   "id": "initial_id",
   "metadata": {
    "collapsed": true,
    "ExecuteTime": {
     "end_time": "2024-02-05T22:08:07.889479Z",
     "start_time": "2024-02-05T22:08:07.877231Z"
    }
   },
   "outputs": [],
   "source": [
    "import pandas as pd\n",
    "import os\n",
    "import re"
   ]
  },
  {
   "cell_type": "code",
   "outputs": [],
   "source": [
    "# Get a list of all workout files in the data/workout directory\n",
    "csv_files = sorted(f for f in os.listdir('../data/workouts') if re.match(r'workout_\\d{4}-\\d{2}-\\d{2}.csv', f))\n",
    "\n",
    "# Initialize an empty list to hold the dataframes\n",
    "dfs = []\n",
    "\n",
    "# Loop through the files\n",
    "for csv_file in csv_files:\n",
    "    # Read each file into a DataFrame and append it to the list\n",
    "    df = pd.read_csv(f\"../data/workouts/{csv_file}\")\n",
    "    if not df.empty:\n",
    "        dfs.append(df)\n",
    "\n",
    "# Concatenate all the dataframes in the list into a single dataframe\n",
    "df = pd.concat(dfs, ignore_index=True)"
   ],
   "metadata": {
    "collapsed": false,
    "ExecuteTime": {
     "end_time": "2024-02-06T08:50:23.145275Z",
     "start_time": "2024-02-06T08:50:23.109480Z"
    }
   },
   "id": "59ad8bd4378e5219",
   "execution_count": 19
  },
  {
   "cell_type": "code",
   "outputs": [],
   "source": [
    "# Read the exercise data\n",
    "exercises = pd.read_csv('../data/kaggle/megaGymDataset.csv', header=0, index_col=0)"
   ],
   "metadata": {
    "collapsed": false,
    "ExecuteTime": {
     "end_time": "2024-02-06T08:50:23.371135Z",
     "start_time": "2024-02-06T08:50:23.360366Z"
    }
   },
   "id": "9823b2baad2ae242",
   "execution_count": 20
  },
  {
   "cell_type": "code",
   "outputs": [],
   "source": [
    "# Add the exercise data to the workout data\n",
    "df = df.merge(exercises, left_on='EXERCISE', right_on='Title', how='left').drop(columns=['Title'])"
   ],
   "metadata": {
    "collapsed": false,
    "ExecuteTime": {
     "end_time": "2024-02-06T08:50:23.814277Z",
     "start_time": "2024-02-06T08:50:23.806985Z"
    }
   },
   "id": "bb64c9c9b1d214bf",
   "execution_count": 21
  },
  {
   "cell_type": "code",
   "outputs": [
    {
     "data": {
      "text/plain": "            DATE WORKOUT                           EXERCISE MUSCLE  SET  \\\n0     2023-03-27    Legs                      Barbell Squat   Legs    1   \n1     2023-03-27    Legs                      Barbell Squat   Legs    2   \n2     2023-03-27    Legs                      Barbell Squat   Legs    3   \n3     2023-03-27    Legs                      Barbell Squat   Legs    4   \n4     2023-03-27    Legs                          Leg Press   Legs    1   \n...          ...     ...                                ...    ...  ...   \n1805  2024-02-04    Legs                     Leg Extensions   Legs    2   \n1806  2024-02-04    Legs                     Leg Extensions   Legs    3   \n1807  2024-02-04    Legs  Smith machine standing calf raise   Legs    1   \n1808  2024-02-04    Legs  Smith machine standing calf raise   Legs    2   \n1809  2024-02-04    Legs  Smith machine standing calf raise   Legs    3   \n\n      NB_REPS  WEIGHT                                               Desc  \\\n0          10    40.0  The barbell back squat is a popular compound m...   \n1           8    50.0  The barbell back squat is a popular compound m...   \n2           8    60.0  The barbell back squat is a popular compound m...   \n3           8    50.0  The barbell back squat is a popular compound m...   \n4          10    60.0  The leg press is a machine exercise targeting ...   \n...       ...     ...                                                ...   \n1805        8    89.0  The leg extension is an isolation exercise for...   \n1806        7    89.0  The leg extension is an isolation exercise for...   \n1807       12   110.0  The Smith machine standing calf raise is a mac...   \n1808       11   110.0  The Smith machine standing calf raise is a mac...   \n1809       10   110.0  The Smith machine standing calf raise is a mac...   \n\n          Type    BodyPart Equipment         Level  Rating RatingDesc  \n0     Strength  Quadriceps   Barbell  Intermediate     8.9    Average  \n1     Strength  Quadriceps   Barbell  Intermediate     8.9    Average  \n2     Strength  Quadriceps   Barbell  Intermediate     8.9    Average  \n3     Strength  Quadriceps   Barbell  Intermediate     8.9    Average  \n4     Strength  Quadriceps   Machine  Intermediate     8.8    Average  \n...        ...         ...       ...           ...     ...        ...  \n1805  Strength  Quadriceps   Machine  Intermediate     8.5    Average  \n1806  Strength  Quadriceps   Machine  Intermediate     8.5    Average  \n1807  Strength      Calves   Barbell  Intermediate     NaN        NaN  \n1808  Strength      Calves   Barbell  Intermediate     NaN        NaN  \n1809  Strength      Calves   Barbell  Intermediate     NaN        NaN  \n\n[1810 rows x 14 columns]",
      "text/html": "<div>\n<style scoped>\n    .dataframe tbody tr th:only-of-type {\n        vertical-align: middle;\n    }\n\n    .dataframe tbody tr th {\n        vertical-align: top;\n    }\n\n    .dataframe thead th {\n        text-align: right;\n    }\n</style>\n<table border=\"1\" class=\"dataframe\">\n  <thead>\n    <tr style=\"text-align: right;\">\n      <th></th>\n      <th>DATE</th>\n      <th>WORKOUT</th>\n      <th>EXERCISE</th>\n      <th>MUSCLE</th>\n      <th>SET</th>\n      <th>NB_REPS</th>\n      <th>WEIGHT</th>\n      <th>Desc</th>\n      <th>Type</th>\n      <th>BodyPart</th>\n      <th>Equipment</th>\n      <th>Level</th>\n      <th>Rating</th>\n      <th>RatingDesc</th>\n    </tr>\n  </thead>\n  <tbody>\n    <tr>\n      <th>0</th>\n      <td>2023-03-27</td>\n      <td>Legs</td>\n      <td>Barbell Squat</td>\n      <td>Legs</td>\n      <td>1</td>\n      <td>10</td>\n      <td>40.0</td>\n      <td>The barbell back squat is a popular compound m...</td>\n      <td>Strength</td>\n      <td>Quadriceps</td>\n      <td>Barbell</td>\n      <td>Intermediate</td>\n      <td>8.9</td>\n      <td>Average</td>\n    </tr>\n    <tr>\n      <th>1</th>\n      <td>2023-03-27</td>\n      <td>Legs</td>\n      <td>Barbell Squat</td>\n      <td>Legs</td>\n      <td>2</td>\n      <td>8</td>\n      <td>50.0</td>\n      <td>The barbell back squat is a popular compound m...</td>\n      <td>Strength</td>\n      <td>Quadriceps</td>\n      <td>Barbell</td>\n      <td>Intermediate</td>\n      <td>8.9</td>\n      <td>Average</td>\n    </tr>\n    <tr>\n      <th>2</th>\n      <td>2023-03-27</td>\n      <td>Legs</td>\n      <td>Barbell Squat</td>\n      <td>Legs</td>\n      <td>3</td>\n      <td>8</td>\n      <td>60.0</td>\n      <td>The barbell back squat is a popular compound m...</td>\n      <td>Strength</td>\n      <td>Quadriceps</td>\n      <td>Barbell</td>\n      <td>Intermediate</td>\n      <td>8.9</td>\n      <td>Average</td>\n    </tr>\n    <tr>\n      <th>3</th>\n      <td>2023-03-27</td>\n      <td>Legs</td>\n      <td>Barbell Squat</td>\n      <td>Legs</td>\n      <td>4</td>\n      <td>8</td>\n      <td>50.0</td>\n      <td>The barbell back squat is a popular compound m...</td>\n      <td>Strength</td>\n      <td>Quadriceps</td>\n      <td>Barbell</td>\n      <td>Intermediate</td>\n      <td>8.9</td>\n      <td>Average</td>\n    </tr>\n    <tr>\n      <th>4</th>\n      <td>2023-03-27</td>\n      <td>Legs</td>\n      <td>Leg Press</td>\n      <td>Legs</td>\n      <td>1</td>\n      <td>10</td>\n      <td>60.0</td>\n      <td>The leg press is a machine exercise targeting ...</td>\n      <td>Strength</td>\n      <td>Quadriceps</td>\n      <td>Machine</td>\n      <td>Intermediate</td>\n      <td>8.8</td>\n      <td>Average</td>\n    </tr>\n    <tr>\n      <th>...</th>\n      <td>...</td>\n      <td>...</td>\n      <td>...</td>\n      <td>...</td>\n      <td>...</td>\n      <td>...</td>\n      <td>...</td>\n      <td>...</td>\n      <td>...</td>\n      <td>...</td>\n      <td>...</td>\n      <td>...</td>\n      <td>...</td>\n      <td>...</td>\n    </tr>\n    <tr>\n      <th>1805</th>\n      <td>2024-02-04</td>\n      <td>Legs</td>\n      <td>Leg Extensions</td>\n      <td>Legs</td>\n      <td>2</td>\n      <td>8</td>\n      <td>89.0</td>\n      <td>The leg extension is an isolation exercise for...</td>\n      <td>Strength</td>\n      <td>Quadriceps</td>\n      <td>Machine</td>\n      <td>Intermediate</td>\n      <td>8.5</td>\n      <td>Average</td>\n    </tr>\n    <tr>\n      <th>1806</th>\n      <td>2024-02-04</td>\n      <td>Legs</td>\n      <td>Leg Extensions</td>\n      <td>Legs</td>\n      <td>3</td>\n      <td>7</td>\n      <td>89.0</td>\n      <td>The leg extension is an isolation exercise for...</td>\n      <td>Strength</td>\n      <td>Quadriceps</td>\n      <td>Machine</td>\n      <td>Intermediate</td>\n      <td>8.5</td>\n      <td>Average</td>\n    </tr>\n    <tr>\n      <th>1807</th>\n      <td>2024-02-04</td>\n      <td>Legs</td>\n      <td>Smith machine standing calf raise</td>\n      <td>Legs</td>\n      <td>1</td>\n      <td>12</td>\n      <td>110.0</td>\n      <td>The Smith machine standing calf raise is a mac...</td>\n      <td>Strength</td>\n      <td>Calves</td>\n      <td>Barbell</td>\n      <td>Intermediate</td>\n      <td>NaN</td>\n      <td>NaN</td>\n    </tr>\n    <tr>\n      <th>1808</th>\n      <td>2024-02-04</td>\n      <td>Legs</td>\n      <td>Smith machine standing calf raise</td>\n      <td>Legs</td>\n      <td>2</td>\n      <td>11</td>\n      <td>110.0</td>\n      <td>The Smith machine standing calf raise is a mac...</td>\n      <td>Strength</td>\n      <td>Calves</td>\n      <td>Barbell</td>\n      <td>Intermediate</td>\n      <td>NaN</td>\n      <td>NaN</td>\n    </tr>\n    <tr>\n      <th>1809</th>\n      <td>2024-02-04</td>\n      <td>Legs</td>\n      <td>Smith machine standing calf raise</td>\n      <td>Legs</td>\n      <td>3</td>\n      <td>10</td>\n      <td>110.0</td>\n      <td>The Smith machine standing calf raise is a mac...</td>\n      <td>Strength</td>\n      <td>Calves</td>\n      <td>Barbell</td>\n      <td>Intermediate</td>\n      <td>NaN</td>\n      <td>NaN</td>\n    </tr>\n  </tbody>\n</table>\n<p>1810 rows × 14 columns</p>\n</div>"
     },
     "execution_count": 22,
     "metadata": {},
     "output_type": "execute_result"
    }
   ],
   "source": [
    "df"
   ],
   "metadata": {
    "collapsed": false,
    "ExecuteTime": {
     "end_time": "2024-02-06T08:50:25.965718Z",
     "start_time": "2024-02-06T08:50:25.944785Z"
    }
   },
   "id": "5cceacef6afab197",
   "execution_count": 22
  },
  {
   "cell_type": "code",
   "outputs": [],
   "source": [
    "# Filter the exercise data to only include the exercises in the workout data\n",
    "filtered_exercises = exercises[exercises['Title'].isin(df['EXERCISE'])].drop_duplicates(ignore_index=True)"
   ],
   "metadata": {
    "collapsed": false,
    "ExecuteTime": {
     "end_time": "2024-02-06T09:01:36.791256Z",
     "start_time": "2024-02-06T09:01:36.788076Z"
    }
   },
   "id": "422270cee1c3cb42",
   "execution_count": 34
  },
  {
   "cell_type": "code",
   "outputs": [
    {
     "name": "stdout",
     "output_type": "stream",
     "text": [
      "<class 'pandas.core.frame.DataFrame'>\n",
      "RangeIndex: 53 entries, 0 to 52\n",
      "Data columns (total 8 columns):\n",
      " #   Column      Non-Null Count  Dtype  \n",
      "---  ------      --------------  -----  \n",
      " 0   Title       53 non-null     object \n",
      " 1   Desc        52 non-null     object \n",
      " 2   Type        53 non-null     object \n",
      " 3   BodyPart    53 non-null     object \n",
      " 4   Equipment   53 non-null     object \n",
      " 5   Level       53 non-null     object \n",
      " 6   Rating      41 non-null     float64\n",
      " 7   RatingDesc  41 non-null     object \n",
      "dtypes: float64(1), object(7)\n",
      "memory usage: 3.4+ KB\n"
     ]
    }
   ],
   "source": [
    "filtered_exercises.info()"
   ],
   "metadata": {
    "collapsed": false,
    "ExecuteTime": {
     "end_time": "2024-02-06T09:02:02.515193Z",
     "start_time": "2024-02-06T09:02:02.510866Z"
    }
   },
   "id": "6b2902ffe2407ccd",
   "execution_count": 38
  }
 ],
 "metadata": {
  "kernelspec": {
   "display_name": "Python 3",
   "language": "python",
   "name": "python3"
  },
  "language_info": {
   "codemirror_mode": {
    "name": "ipython",
    "version": 2
   },
   "file_extension": ".py",
   "mimetype": "text/x-python",
   "name": "python",
   "nbconvert_exporter": "python",
   "pygments_lexer": "ipython2",
   "version": "2.7.6"
  }
 },
 "nbformat": 4,
 "nbformat_minor": 5
}

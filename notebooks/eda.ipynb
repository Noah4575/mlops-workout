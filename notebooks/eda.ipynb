{
 "cells": [
  {
   "cell_type": "code",
   "execution_count": 9,
   "id": "initial_id",
   "metadata": {
    "collapsed": true,
    "ExecuteTime": {
     "end_time": "2024-02-05T14:58:25.457760Z",
     "start_time": "2024-02-05T14:58:25.450078Z"
    }
   },
   "outputs": [],
   "source": [
    "import pandas as pd\n",
    "import numpy as np"
   ]
  },
  {
   "cell_type": "code",
   "outputs": [],
   "source": [
    "# Load data\n",
    "df_normalized_sets = pd.read_csv(\"../data/raw/workout_2024-02-05.csv\")"
   ],
   "metadata": {
    "collapsed": false,
    "ExecuteTime": {
     "end_time": "2024-02-05T15:17:03.518079Z",
     "start_time": "2024-02-05T15:17:03.493397Z"
    }
   },
   "id": "c1e21bb09ad0868e",
   "execution_count": 31
  },
  {
   "cell_type": "code",
   "outputs": [
    {
     "data": {
      "text/plain": "            DATE WORKOUT                 EXERCISE MUSCLE  SET  NB_REPS  WEIGHT\n0     2023-03-27    Legs                    Squat   Legs    1       10    40.0\n1     2023-03-27    Legs                    Squat   Legs    2        8    50.0\n2     2023-03-27    Legs                    Squat   Legs    3        8    60.0\n3     2023-03-27    Legs                    Squat   Legs    4        8    50.0\n4     2023-03-27    Legs         Presse à cuisses   Legs    1       10    60.0\n...          ...     ...                      ...    ...  ...      ...     ...\n1719  2024-02-04    Legs            Leg extension   Legs    2        8    89.0\n1720  2024-02-04    Legs            Leg extension   Legs    3        7    89.0\n1721  2024-02-04    Legs  Extension mollet debout   Legs    1       12   110.0\n1722  2024-02-04    Legs  Extension mollet debout   Legs    2       11   110.0\n1723  2024-02-04    Legs  Extension mollet debout   Legs    3       10   110.0\n\n[1724 rows x 7 columns]",
      "text/html": "<div>\n<style scoped>\n    .dataframe tbody tr th:only-of-type {\n        vertical-align: middle;\n    }\n\n    .dataframe tbody tr th {\n        vertical-align: top;\n    }\n\n    .dataframe thead th {\n        text-align: right;\n    }\n</style>\n<table border=\"1\" class=\"dataframe\">\n  <thead>\n    <tr style=\"text-align: right;\">\n      <th></th>\n      <th>DATE</th>\n      <th>WORKOUT</th>\n      <th>EXERCISE</th>\n      <th>MUSCLE</th>\n      <th>SET</th>\n      <th>NB_REPS</th>\n      <th>WEIGHT</th>\n    </tr>\n  </thead>\n  <tbody>\n    <tr>\n      <th>0</th>\n      <td>2023-03-27</td>\n      <td>Legs</td>\n      <td>Squat</td>\n      <td>Legs</td>\n      <td>1</td>\n      <td>10</td>\n      <td>40.0</td>\n    </tr>\n    <tr>\n      <th>1</th>\n      <td>2023-03-27</td>\n      <td>Legs</td>\n      <td>Squat</td>\n      <td>Legs</td>\n      <td>2</td>\n      <td>8</td>\n      <td>50.0</td>\n    </tr>\n    <tr>\n      <th>2</th>\n      <td>2023-03-27</td>\n      <td>Legs</td>\n      <td>Squat</td>\n      <td>Legs</td>\n      <td>3</td>\n      <td>8</td>\n      <td>60.0</td>\n    </tr>\n    <tr>\n      <th>3</th>\n      <td>2023-03-27</td>\n      <td>Legs</td>\n      <td>Squat</td>\n      <td>Legs</td>\n      <td>4</td>\n      <td>8</td>\n      <td>50.0</td>\n    </tr>\n    <tr>\n      <th>4</th>\n      <td>2023-03-27</td>\n      <td>Legs</td>\n      <td>Presse à cuisses</td>\n      <td>Legs</td>\n      <td>1</td>\n      <td>10</td>\n      <td>60.0</td>\n    </tr>\n    <tr>\n      <th>...</th>\n      <td>...</td>\n      <td>...</td>\n      <td>...</td>\n      <td>...</td>\n      <td>...</td>\n      <td>...</td>\n      <td>...</td>\n    </tr>\n    <tr>\n      <th>1719</th>\n      <td>2024-02-04</td>\n      <td>Legs</td>\n      <td>Leg extension</td>\n      <td>Legs</td>\n      <td>2</td>\n      <td>8</td>\n      <td>89.0</td>\n    </tr>\n    <tr>\n      <th>1720</th>\n      <td>2024-02-04</td>\n      <td>Legs</td>\n      <td>Leg extension</td>\n      <td>Legs</td>\n      <td>3</td>\n      <td>7</td>\n      <td>89.0</td>\n    </tr>\n    <tr>\n      <th>1721</th>\n      <td>2024-02-04</td>\n      <td>Legs</td>\n      <td>Extension mollet debout</td>\n      <td>Legs</td>\n      <td>1</td>\n      <td>12</td>\n      <td>110.0</td>\n    </tr>\n    <tr>\n      <th>1722</th>\n      <td>2024-02-04</td>\n      <td>Legs</td>\n      <td>Extension mollet debout</td>\n      <td>Legs</td>\n      <td>2</td>\n      <td>11</td>\n      <td>110.0</td>\n    </tr>\n    <tr>\n      <th>1723</th>\n      <td>2024-02-04</td>\n      <td>Legs</td>\n      <td>Extension mollet debout</td>\n      <td>Legs</td>\n      <td>3</td>\n      <td>10</td>\n      <td>110.0</td>\n    </tr>\n  </tbody>\n</table>\n<p>1724 rows × 7 columns</p>\n</div>"
     },
     "execution_count": 32,
     "metadata": {},
     "output_type": "execute_result"
    }
   ],
   "source": [
    "df_normalized_sets"
   ],
   "metadata": {
    "collapsed": false,
    "ExecuteTime": {
     "end_time": "2024-02-05T15:17:08.548734Z",
     "start_time": "2024-02-05T15:17:08.543390Z"
    }
   },
   "id": "47419eebf55ea801",
   "execution_count": 32
  },
  {
   "cell_type": "code",
   "outputs": [],
   "source": [
    "def weighted_mean(x):\n",
    "    return np.average(x, weights=df_normalized_sets.loc[x.index, \"NB_REPS\"])"
   ],
   "metadata": {
    "collapsed": false,
    "ExecuteTime": {
     "end_time": "2024-02-05T15:08:16.241024Z",
     "start_time": "2024-02-05T15:08:16.237482Z"
    }
   },
   "id": "42baec4509020594",
   "execution_count": 29
  },
  {
   "cell_type": "code",
   "outputs": [],
   "source": [
    "# Workout days dataframe\n",
    "df_workout_days = df_normalized_sets \\\n",
    "    .groupby([\"DATE\", \"WORKOUT\", \"EXERCISE\"], sort=False) \\\n",
    "    .agg(SETS=(\"SET\", len)) \\\n",
    "    .reset_index()"
   ],
   "metadata": {
    "collapsed": false,
    "ExecuteTime": {
     "end_time": "2024-02-05T14:59:42.575384Z",
     "start_time": "2024-02-05T14:59:42.563618Z"
    }
   },
   "id": "b9bac88ca7fa25dd",
   "execution_count": 12
  },
  {
   "cell_type": "code",
   "outputs": [
    {
     "data": {
      "text/plain": "           DATE           WORKOUT                 EXERCISE  SETS\n0    2023-03-27              Legs                    Squat     4\n1    2023-03-27              Legs         Presse à cuisses     4\n2    2023-03-27              Legs            Leg extension     4\n3    2023-03-28  Back / Shoulders          Tirage vertical     4\n4    2023-03-28  Back / Shoulders      Tractions pronation     1\n..          ...               ...                      ...   ...\n548  2024-02-04              Legs                    Squat     3\n549  2024-02-04              Legs         Presse à cuisses     3\n550  2024-02-04              Legs          Leg curl replié     3\n551  2024-02-04              Legs            Leg extension     3\n552  2024-02-04              Legs  Extension mollet debout     3\n\n[553 rows x 4 columns]",
      "text/html": "<div>\n<style scoped>\n    .dataframe tbody tr th:only-of-type {\n        vertical-align: middle;\n    }\n\n    .dataframe tbody tr th {\n        vertical-align: top;\n    }\n\n    .dataframe thead th {\n        text-align: right;\n    }\n</style>\n<table border=\"1\" class=\"dataframe\">\n  <thead>\n    <tr style=\"text-align: right;\">\n      <th></th>\n      <th>DATE</th>\n      <th>WORKOUT</th>\n      <th>EXERCISE</th>\n      <th>SETS</th>\n    </tr>\n  </thead>\n  <tbody>\n    <tr>\n      <th>0</th>\n      <td>2023-03-27</td>\n      <td>Legs</td>\n      <td>Squat</td>\n      <td>4</td>\n    </tr>\n    <tr>\n      <th>1</th>\n      <td>2023-03-27</td>\n      <td>Legs</td>\n      <td>Presse à cuisses</td>\n      <td>4</td>\n    </tr>\n    <tr>\n      <th>2</th>\n      <td>2023-03-27</td>\n      <td>Legs</td>\n      <td>Leg extension</td>\n      <td>4</td>\n    </tr>\n    <tr>\n      <th>3</th>\n      <td>2023-03-28</td>\n      <td>Back / Shoulders</td>\n      <td>Tirage vertical</td>\n      <td>4</td>\n    </tr>\n    <tr>\n      <th>4</th>\n      <td>2023-03-28</td>\n      <td>Back / Shoulders</td>\n      <td>Tractions pronation</td>\n      <td>1</td>\n    </tr>\n    <tr>\n      <th>...</th>\n      <td>...</td>\n      <td>...</td>\n      <td>...</td>\n      <td>...</td>\n    </tr>\n    <tr>\n      <th>548</th>\n      <td>2024-02-04</td>\n      <td>Legs</td>\n      <td>Squat</td>\n      <td>3</td>\n    </tr>\n    <tr>\n      <th>549</th>\n      <td>2024-02-04</td>\n      <td>Legs</td>\n      <td>Presse à cuisses</td>\n      <td>3</td>\n    </tr>\n    <tr>\n      <th>550</th>\n      <td>2024-02-04</td>\n      <td>Legs</td>\n      <td>Leg curl replié</td>\n      <td>3</td>\n    </tr>\n    <tr>\n      <th>551</th>\n      <td>2024-02-04</td>\n      <td>Legs</td>\n      <td>Leg extension</td>\n      <td>3</td>\n    </tr>\n    <tr>\n      <th>552</th>\n      <td>2024-02-04</td>\n      <td>Legs</td>\n      <td>Extension mollet debout</td>\n      <td>3</td>\n    </tr>\n  </tbody>\n</table>\n<p>553 rows × 4 columns</p>\n</div>"
     },
     "execution_count": 13,
     "metadata": {},
     "output_type": "execute_result"
    }
   ],
   "source": [
    "df_workout_days"
   ],
   "metadata": {
    "collapsed": false,
    "ExecuteTime": {
     "end_time": "2024-02-05T14:59:45.427617Z",
     "start_time": "2024-02-05T14:59:45.424602Z"
    }
   },
   "id": "62b9d47288497bae",
   "execution_count": 13
  },
  {
   "cell_type": "code",
   "outputs": [],
   "source": [
    "# Exercises dataframe\n",
    "df_exercises = df_normalized_sets.groupby(\"EXERCISE\").agg(MUSCLE=(\"MUSCLE\", 'first'),\n",
    "                                                          AVERAGE_REPS=(\"NB_REPS\", \"mean\"),\n",
    "                                                          MAX_WEIGHT=(\"WEIGHT\", \"max\"),\n",
    "                                                          AVERAGE_WEIGHT=(\"WEIGHT\", weighted_mean)).reset_index()"
   ],
   "metadata": {
    "collapsed": false,
    "ExecuteTime": {
     "end_time": "2024-02-05T15:01:23.742652Z",
     "start_time": "2024-02-05T15:01:23.720535Z"
    }
   },
   "id": "4bd2002756fb6af0",
   "execution_count": 16
  },
  {
   "cell_type": "code",
   "outputs": [
    {
     "data": {
      "text/plain": "                                     EXERCISE     MUSCLE  AVERAGE_REPS  \\\n0                                  Adducteurs       Legs      7.000000   \n1             Barre au front derriere la tête    Triceps      8.800000   \n2     Barre au front derrière la tête incliné    Triceps     12.000000   \n3                           Cable chest flies      Chest      9.000000   \n4                             Cable crossover      Chest      9.379310   \n5                         Cable lat pullovers       Back     10.179487   \n6                         Cable rear delt fly  Shoulders     10.179487   \n7                                      Crunch        Abs      7.000000   \n8                                  Curl barre     Biceps      8.250000   \n9                               Curl haltères     Biceps      7.250000   \n10                      Curl incliné haltères     Biceps      7.646465   \n11                               Curl marteau     Biceps      8.247059   \n12             Curl marteau à la poulie basse     Biceps     10.111111   \n13                               Curl pupitre     Biceps      8.833333   \n14                                       Dips    Triceps      8.428571   \n15                       Dumbbell incline row  Shoulders     10.357143   \n16                     Dumbbell rear delt fly  Shoulders     10.888889   \n17                 Dumbbell romanian deadlift       Legs     10.625000   \n18                               Dumbbell row       Back     14.857143   \n19                           Développé couché      Chest      7.916667   \n20             Développé couché avec haltères      Chest      8.360000   \n21              Développé couché barre guidée      Chest      7.222222   \n22              Développé couché prise serrée    Triceps      9.333333   \n23              Développé couché à la machine      Chest      7.888889   \n24                          Développé décliné      Chest      7.800000   \n25                          Développé incliné      Chest      7.814815   \n26            Développé incliné avec haltères      Chest      7.839286   \n27             Développé incliné barre guidée      Chest      7.722222   \n28               Développé militaire haltères  Shoulders      7.666667   \n29                        Ecarté poulie basse      Chest      9.849057   \n30                    Extension mollet debout       Legs     11.479167   \n31            Extension triceps double poulie    Triceps      5.875000   \n32                   Extension triceps poulie    Triceps      8.461538   \n33  Extensions triceps couché avec un haltère    Triceps      8.000000   \n34        Extention triceps poulie unilatéral    Triceps      6.666667   \n35                      Fentes avant haltères       Legs      7.750000   \n36                          Haltères au front    Triceps      7.500000   \n37                  Incline dumbbell kickback    Triceps     12.000000   \n38                                   Kickback    Triceps      6.777778   \n39                                   Leg curl       Legs      9.120000   \n40                           Leg curl allongé       Legs      9.142857   \n41                            Leg curl replié       Legs      9.500000   \n42                              Leg extension       Legs      9.125000   \n43                 Overhead triceps extension    Triceps      7.933333   \n44                           Presse à cuisses       Legs      8.877193   \n45                           Relevé de jambes        Abs     12.333333   \n46                               Rowing barre       Back      8.942308   \n47                    Rowing barre supination       Back      9.296296   \n48                        Shrug avec haltères       Back     16.166667   \n49                    Single-arm dumbbell row       Back      9.000000   \n50                                      Squat       Legs      7.743243   \n51                          Tirage horizontal       Back      9.488372   \n52                            Tirage vertical       Back      9.392157   \n53                     Tractions excentriques       Back      7.000000   \n54                        Tractions pronation       Back      7.413462   \n55             Élévation latérale à la poulie  Shoulders      8.333333   \n56                       Élévations latérales  Shoulders      8.825243   \n\n    MAX_WEIGHT  AVERAGE_WEIGHT  \n0         66.0       61.000000  \n1         35.0       23.518939  \n2         25.0       22.500000  \n3         18.0       15.777778  \n4         23.0       16.893382  \n5         45.0       33.400504  \n6         16.0       12.604534  \n7          0.0        0.000000  \n8         30.0       23.919192  \n9         14.0       11.816092  \n10        12.0        9.270806  \n11        16.0       12.171184  \n12        41.0       37.509158  \n13        30.0       25.273585  \n14        10.0        3.728814  \n15        14.0       10.924138  \n16         8.0        6.938776  \n17        48.0       27.847059  \n18        22.0       22.000000  \n19        65.0       55.326316  \n20        32.0       26.440191  \n21        65.0       64.192308  \n22        50.0       47.380952  \n23        40.0       30.915493  \n24        48.0       43.615385  \n25        55.0       49.549763  \n26        30.0       22.123007  \n27        55.0       53.021583  \n28        24.0       18.173913  \n29        18.0       13.362069  \n30       110.0       84.441016  \n31        14.0       14.000000  \n32        36.0       24.763636  \n33        10.0       10.000000  \n34        14.0       14.000000  \n35        18.0       14.774194  \n36        10.0       10.000000  \n37         6.0        6.000000  \n38         6.0        6.000000  \n39        81.0       64.780702  \n40        59.0       40.289062  \n41        66.0       59.789474  \n42        89.0       60.362035  \n43        29.0       25.453782  \n44       145.0      105.553360  \n45         0.0        0.000000  \n46        65.0       56.163441  \n47        69.0       63.968127  \n48        22.0       22.000000  \n49        18.0       15.777778  \n50       105.0       78.094241  \n51        86.0       57.598039  \n52        73.0       52.453027  \n53         0.0        0.000000  \n54        15.0        4.501946  \n55        16.0       13.346667  \n56        14.0       11.387239  ",
      "text/html": "<div>\n<style scoped>\n    .dataframe tbody tr th:only-of-type {\n        vertical-align: middle;\n    }\n\n    .dataframe tbody tr th {\n        vertical-align: top;\n    }\n\n    .dataframe thead th {\n        text-align: right;\n    }\n</style>\n<table border=\"1\" class=\"dataframe\">\n  <thead>\n    <tr style=\"text-align: right;\">\n      <th></th>\n      <th>EXERCISE</th>\n      <th>MUSCLE</th>\n      <th>AVERAGE_REPS</th>\n      <th>MAX_WEIGHT</th>\n      <th>AVERAGE_WEIGHT</th>\n    </tr>\n  </thead>\n  <tbody>\n    <tr>\n      <th>0</th>\n      <td>Adducteurs</td>\n      <td>Legs</td>\n      <td>7.000000</td>\n      <td>66.0</td>\n      <td>61.000000</td>\n    </tr>\n    <tr>\n      <th>1</th>\n      <td>Barre au front derriere la tête</td>\n      <td>Triceps</td>\n      <td>8.800000</td>\n      <td>35.0</td>\n      <td>23.518939</td>\n    </tr>\n    <tr>\n      <th>2</th>\n      <td>Barre au front derrière la tête incliné</td>\n      <td>Triceps</td>\n      <td>12.000000</td>\n      <td>25.0</td>\n      <td>22.500000</td>\n    </tr>\n    <tr>\n      <th>3</th>\n      <td>Cable chest flies</td>\n      <td>Chest</td>\n      <td>9.000000</td>\n      <td>18.0</td>\n      <td>15.777778</td>\n    </tr>\n    <tr>\n      <th>4</th>\n      <td>Cable crossover</td>\n      <td>Chest</td>\n      <td>9.379310</td>\n      <td>23.0</td>\n      <td>16.893382</td>\n    </tr>\n    <tr>\n      <th>5</th>\n      <td>Cable lat pullovers</td>\n      <td>Back</td>\n      <td>10.179487</td>\n      <td>45.0</td>\n      <td>33.400504</td>\n    </tr>\n    <tr>\n      <th>6</th>\n      <td>Cable rear delt fly</td>\n      <td>Shoulders</td>\n      <td>10.179487</td>\n      <td>16.0</td>\n      <td>12.604534</td>\n    </tr>\n    <tr>\n      <th>7</th>\n      <td>Crunch</td>\n      <td>Abs</td>\n      <td>7.000000</td>\n      <td>0.0</td>\n      <td>0.000000</td>\n    </tr>\n    <tr>\n      <th>8</th>\n      <td>Curl barre</td>\n      <td>Biceps</td>\n      <td>8.250000</td>\n      <td>30.0</td>\n      <td>23.919192</td>\n    </tr>\n    <tr>\n      <th>9</th>\n      <td>Curl haltères</td>\n      <td>Biceps</td>\n      <td>7.250000</td>\n      <td>14.0</td>\n      <td>11.816092</td>\n    </tr>\n    <tr>\n      <th>10</th>\n      <td>Curl incliné haltères</td>\n      <td>Biceps</td>\n      <td>7.646465</td>\n      <td>12.0</td>\n      <td>9.270806</td>\n    </tr>\n    <tr>\n      <th>11</th>\n      <td>Curl marteau</td>\n      <td>Biceps</td>\n      <td>8.247059</td>\n      <td>16.0</td>\n      <td>12.171184</td>\n    </tr>\n    <tr>\n      <th>12</th>\n      <td>Curl marteau à la poulie basse</td>\n      <td>Biceps</td>\n      <td>10.111111</td>\n      <td>41.0</td>\n      <td>37.509158</td>\n    </tr>\n    <tr>\n      <th>13</th>\n      <td>Curl pupitre</td>\n      <td>Biceps</td>\n      <td>8.833333</td>\n      <td>30.0</td>\n      <td>25.273585</td>\n    </tr>\n    <tr>\n      <th>14</th>\n      <td>Dips</td>\n      <td>Triceps</td>\n      <td>8.428571</td>\n      <td>10.0</td>\n      <td>3.728814</td>\n    </tr>\n    <tr>\n      <th>15</th>\n      <td>Dumbbell incline row</td>\n      <td>Shoulders</td>\n      <td>10.357143</td>\n      <td>14.0</td>\n      <td>10.924138</td>\n    </tr>\n    <tr>\n      <th>16</th>\n      <td>Dumbbell rear delt fly</td>\n      <td>Shoulders</td>\n      <td>10.888889</td>\n      <td>8.0</td>\n      <td>6.938776</td>\n    </tr>\n    <tr>\n      <th>17</th>\n      <td>Dumbbell romanian deadlift</td>\n      <td>Legs</td>\n      <td>10.625000</td>\n      <td>48.0</td>\n      <td>27.847059</td>\n    </tr>\n    <tr>\n      <th>18</th>\n      <td>Dumbbell row</td>\n      <td>Back</td>\n      <td>14.857143</td>\n      <td>22.0</td>\n      <td>22.000000</td>\n    </tr>\n    <tr>\n      <th>19</th>\n      <td>Développé couché</td>\n      <td>Chest</td>\n      <td>7.916667</td>\n      <td>65.0</td>\n      <td>55.326316</td>\n    </tr>\n    <tr>\n      <th>20</th>\n      <td>Développé couché avec haltères</td>\n      <td>Chest</td>\n      <td>8.360000</td>\n      <td>32.0</td>\n      <td>26.440191</td>\n    </tr>\n    <tr>\n      <th>21</th>\n      <td>Développé couché barre guidée</td>\n      <td>Chest</td>\n      <td>7.222222</td>\n      <td>65.0</td>\n      <td>64.192308</td>\n    </tr>\n    <tr>\n      <th>22</th>\n      <td>Développé couché prise serrée</td>\n      <td>Triceps</td>\n      <td>9.333333</td>\n      <td>50.0</td>\n      <td>47.380952</td>\n    </tr>\n    <tr>\n      <th>23</th>\n      <td>Développé couché à la machine</td>\n      <td>Chest</td>\n      <td>7.888889</td>\n      <td>40.0</td>\n      <td>30.915493</td>\n    </tr>\n    <tr>\n      <th>24</th>\n      <td>Développé décliné</td>\n      <td>Chest</td>\n      <td>7.800000</td>\n      <td>48.0</td>\n      <td>43.615385</td>\n    </tr>\n    <tr>\n      <th>25</th>\n      <td>Développé incliné</td>\n      <td>Chest</td>\n      <td>7.814815</td>\n      <td>55.0</td>\n      <td>49.549763</td>\n    </tr>\n    <tr>\n      <th>26</th>\n      <td>Développé incliné avec haltères</td>\n      <td>Chest</td>\n      <td>7.839286</td>\n      <td>30.0</td>\n      <td>22.123007</td>\n    </tr>\n    <tr>\n      <th>27</th>\n      <td>Développé incliné barre guidée</td>\n      <td>Chest</td>\n      <td>7.722222</td>\n      <td>55.0</td>\n      <td>53.021583</td>\n    </tr>\n    <tr>\n      <th>28</th>\n      <td>Développé militaire haltères</td>\n      <td>Shoulders</td>\n      <td>7.666667</td>\n      <td>24.0</td>\n      <td>18.173913</td>\n    </tr>\n    <tr>\n      <th>29</th>\n      <td>Ecarté poulie basse</td>\n      <td>Chest</td>\n      <td>9.849057</td>\n      <td>18.0</td>\n      <td>13.362069</td>\n    </tr>\n    <tr>\n      <th>30</th>\n      <td>Extension mollet debout</td>\n      <td>Legs</td>\n      <td>11.479167</td>\n      <td>110.0</td>\n      <td>84.441016</td>\n    </tr>\n    <tr>\n      <th>31</th>\n      <td>Extension triceps double poulie</td>\n      <td>Triceps</td>\n      <td>5.875000</td>\n      <td>14.0</td>\n      <td>14.000000</td>\n    </tr>\n    <tr>\n      <th>32</th>\n      <td>Extension triceps poulie</td>\n      <td>Triceps</td>\n      <td>8.461538</td>\n      <td>36.0</td>\n      <td>24.763636</td>\n    </tr>\n    <tr>\n      <th>33</th>\n      <td>Extensions triceps couché avec un haltère</td>\n      <td>Triceps</td>\n      <td>8.000000</td>\n      <td>10.0</td>\n      <td>10.000000</td>\n    </tr>\n    <tr>\n      <th>34</th>\n      <td>Extention triceps poulie unilatéral</td>\n      <td>Triceps</td>\n      <td>6.666667</td>\n      <td>14.0</td>\n      <td>14.000000</td>\n    </tr>\n    <tr>\n      <th>35</th>\n      <td>Fentes avant haltères</td>\n      <td>Legs</td>\n      <td>7.750000</td>\n      <td>18.0</td>\n      <td>14.774194</td>\n    </tr>\n    <tr>\n      <th>36</th>\n      <td>Haltères au front</td>\n      <td>Triceps</td>\n      <td>7.500000</td>\n      <td>10.0</td>\n      <td>10.000000</td>\n    </tr>\n    <tr>\n      <th>37</th>\n      <td>Incline dumbbell kickback</td>\n      <td>Triceps</td>\n      <td>12.000000</td>\n      <td>6.0</td>\n      <td>6.000000</td>\n    </tr>\n    <tr>\n      <th>38</th>\n      <td>Kickback</td>\n      <td>Triceps</td>\n      <td>6.777778</td>\n      <td>6.0</td>\n      <td>6.000000</td>\n    </tr>\n    <tr>\n      <th>39</th>\n      <td>Leg curl</td>\n      <td>Legs</td>\n      <td>9.120000</td>\n      <td>81.0</td>\n      <td>64.780702</td>\n    </tr>\n    <tr>\n      <th>40</th>\n      <td>Leg curl allongé</td>\n      <td>Legs</td>\n      <td>9.142857</td>\n      <td>59.0</td>\n      <td>40.289062</td>\n    </tr>\n    <tr>\n      <th>41</th>\n      <td>Leg curl replié</td>\n      <td>Legs</td>\n      <td>9.500000</td>\n      <td>66.0</td>\n      <td>59.789474</td>\n    </tr>\n    <tr>\n      <th>42</th>\n      <td>Leg extension</td>\n      <td>Legs</td>\n      <td>9.125000</td>\n      <td>89.0</td>\n      <td>60.362035</td>\n    </tr>\n    <tr>\n      <th>43</th>\n      <td>Overhead triceps extension</td>\n      <td>Triceps</td>\n      <td>7.933333</td>\n      <td>29.0</td>\n      <td>25.453782</td>\n    </tr>\n    <tr>\n      <th>44</th>\n      <td>Presse à cuisses</td>\n      <td>Legs</td>\n      <td>8.877193</td>\n      <td>145.0</td>\n      <td>105.553360</td>\n    </tr>\n    <tr>\n      <th>45</th>\n      <td>Relevé de jambes</td>\n      <td>Abs</td>\n      <td>12.333333</td>\n      <td>0.0</td>\n      <td>0.000000</td>\n    </tr>\n    <tr>\n      <th>46</th>\n      <td>Rowing barre</td>\n      <td>Back</td>\n      <td>8.942308</td>\n      <td>65.0</td>\n      <td>56.163441</td>\n    </tr>\n    <tr>\n      <th>47</th>\n      <td>Rowing barre supination</td>\n      <td>Back</td>\n      <td>9.296296</td>\n      <td>69.0</td>\n      <td>63.968127</td>\n    </tr>\n    <tr>\n      <th>48</th>\n      <td>Shrug avec haltères</td>\n      <td>Back</td>\n      <td>16.166667</td>\n      <td>22.0</td>\n      <td>22.000000</td>\n    </tr>\n    <tr>\n      <th>49</th>\n      <td>Single-arm dumbbell row</td>\n      <td>Back</td>\n      <td>9.000000</td>\n      <td>18.0</td>\n      <td>15.777778</td>\n    </tr>\n    <tr>\n      <th>50</th>\n      <td>Squat</td>\n      <td>Legs</td>\n      <td>7.743243</td>\n      <td>105.0</td>\n      <td>78.094241</td>\n    </tr>\n    <tr>\n      <th>51</th>\n      <td>Tirage horizontal</td>\n      <td>Back</td>\n      <td>9.488372</td>\n      <td>86.0</td>\n      <td>57.598039</td>\n    </tr>\n    <tr>\n      <th>52</th>\n      <td>Tirage vertical</td>\n      <td>Back</td>\n      <td>9.392157</td>\n      <td>73.0</td>\n      <td>52.453027</td>\n    </tr>\n    <tr>\n      <th>53</th>\n      <td>Tractions excentriques</td>\n      <td>Back</td>\n      <td>7.000000</td>\n      <td>0.0</td>\n      <td>0.000000</td>\n    </tr>\n    <tr>\n      <th>54</th>\n      <td>Tractions pronation</td>\n      <td>Back</td>\n      <td>7.413462</td>\n      <td>15.0</td>\n      <td>4.501946</td>\n    </tr>\n    <tr>\n      <th>55</th>\n      <td>Élévation latérale à la poulie</td>\n      <td>Shoulders</td>\n      <td>8.333333</td>\n      <td>16.0</td>\n      <td>13.346667</td>\n    </tr>\n    <tr>\n      <th>56</th>\n      <td>Élévations latérales</td>\n      <td>Shoulders</td>\n      <td>8.825243</td>\n      <td>14.0</td>\n      <td>11.387239</td>\n    </tr>\n  </tbody>\n</table>\n</div>"
     },
     "execution_count": 17,
     "metadata": {},
     "output_type": "execute_result"
    }
   ],
   "source": [
    "df_exercises"
   ],
   "metadata": {
    "collapsed": false,
    "ExecuteTime": {
     "end_time": "2024-02-05T15:01:29.609822Z",
     "start_time": "2024-02-05T15:01:29.604920Z"
    }
   },
   "id": "2d38dfba7c6bb43",
   "execution_count": 17
  },
  {
   "cell_type": "code",
   "outputs": [],
   "source": [
    "# Sets dataframe\n",
    "df_sets = df_normalized_sets.groupby([\"EXERCISE\", \"SET\"]).agg(MAX_REPS=(\"NB_REPS\", \"max\"),\n",
    "                                                              AVERAGE_REPS=(\"NB_REPS\", \"mean\"),\n",
    "                                                              MAX_WEIGHT=(\"WEIGHT\", \"max\"),\n",
    "                                                              AVERAGE_WEIGHT=(\"WEIGHT\", weighted_mean)).reset_index()"
   ],
   "metadata": {
    "collapsed": false,
    "ExecuteTime": {
     "end_time": "2024-02-05T15:02:19.146349Z",
     "start_time": "2024-02-05T15:02:19.118065Z"
    }
   },
   "id": "5ee7c1d2dec83b0c",
   "execution_count": 19
  },
  {
   "cell_type": "code",
   "outputs": [
    {
     "data": {
      "text/plain": "                            EXERCISE SET  MAX_REPS  AVERAGE_REPS  MAX_WEIGHT  \\\n0                         Adducteurs   1        10     10.000000        59.0   \n1                         Adducteurs   2         4      4.000000        66.0   \n2    Barre au front derriere la tête   1        16     10.300000        35.0   \n3    Barre au front derriere la tête   2        14      8.482759        35.0   \n4    Barre au front derriere la tête   3        10      7.620690        35.0   \n..                               ...  ..       ...           ...         ...   \n192   Élévation latérale à la poulie   3         8      7.166667        16.0   \n193             Élévations latérales   1        14     10.750000        14.0   \n194             Élévations latérales   2        11      8.718750        14.0   \n195             Élévations latérales   3        10      7.406250        14.0   \n196             Élévations latérales   4         8      7.000000        12.0   \n\n     AVERAGE_WEIGHT  \n0         59.000000  \n1         66.000000  \n2         23.148867  \n3         23.743902  \n4         24.321267  \n..              ...  \n192       13.418605  \n193       11.383721  \n194       11.566308  \n195       11.510549  \n196        9.795918  \n\n[197 rows x 6 columns]",
      "text/html": "<div>\n<style scoped>\n    .dataframe tbody tr th:only-of-type {\n        vertical-align: middle;\n    }\n\n    .dataframe tbody tr th {\n        vertical-align: top;\n    }\n\n    .dataframe thead th {\n        text-align: right;\n    }\n</style>\n<table border=\"1\" class=\"dataframe\">\n  <thead>\n    <tr style=\"text-align: right;\">\n      <th></th>\n      <th>EXERCISE</th>\n      <th>SET</th>\n      <th>MAX_REPS</th>\n      <th>AVERAGE_REPS</th>\n      <th>MAX_WEIGHT</th>\n      <th>AVERAGE_WEIGHT</th>\n    </tr>\n  </thead>\n  <tbody>\n    <tr>\n      <th>0</th>\n      <td>Adducteurs</td>\n      <td>1</td>\n      <td>10</td>\n      <td>10.000000</td>\n      <td>59.0</td>\n      <td>59.000000</td>\n    </tr>\n    <tr>\n      <th>1</th>\n      <td>Adducteurs</td>\n      <td>2</td>\n      <td>4</td>\n      <td>4.000000</td>\n      <td>66.0</td>\n      <td>66.000000</td>\n    </tr>\n    <tr>\n      <th>2</th>\n      <td>Barre au front derriere la tête</td>\n      <td>1</td>\n      <td>16</td>\n      <td>10.300000</td>\n      <td>35.0</td>\n      <td>23.148867</td>\n    </tr>\n    <tr>\n      <th>3</th>\n      <td>Barre au front derriere la tête</td>\n      <td>2</td>\n      <td>14</td>\n      <td>8.482759</td>\n      <td>35.0</td>\n      <td>23.743902</td>\n    </tr>\n    <tr>\n      <th>4</th>\n      <td>Barre au front derriere la tête</td>\n      <td>3</td>\n      <td>10</td>\n      <td>7.620690</td>\n      <td>35.0</td>\n      <td>24.321267</td>\n    </tr>\n    <tr>\n      <th>...</th>\n      <td>...</td>\n      <td>...</td>\n      <td>...</td>\n      <td>...</td>\n      <td>...</td>\n      <td>...</td>\n    </tr>\n    <tr>\n      <th>192</th>\n      <td>Élévation latérale à la poulie</td>\n      <td>3</td>\n      <td>8</td>\n      <td>7.166667</td>\n      <td>16.0</td>\n      <td>13.418605</td>\n    </tr>\n    <tr>\n      <th>193</th>\n      <td>Élévations latérales</td>\n      <td>1</td>\n      <td>14</td>\n      <td>10.750000</td>\n      <td>14.0</td>\n      <td>11.383721</td>\n    </tr>\n    <tr>\n      <th>194</th>\n      <td>Élévations latérales</td>\n      <td>2</td>\n      <td>11</td>\n      <td>8.718750</td>\n      <td>14.0</td>\n      <td>11.566308</td>\n    </tr>\n    <tr>\n      <th>195</th>\n      <td>Élévations latérales</td>\n      <td>3</td>\n      <td>10</td>\n      <td>7.406250</td>\n      <td>14.0</td>\n      <td>11.510549</td>\n    </tr>\n    <tr>\n      <th>196</th>\n      <td>Élévations latérales</td>\n      <td>4</td>\n      <td>8</td>\n      <td>7.000000</td>\n      <td>12.0</td>\n      <td>9.795918</td>\n    </tr>\n  </tbody>\n</table>\n<p>197 rows × 6 columns</p>\n</div>"
     },
     "execution_count": 20,
     "metadata": {},
     "output_type": "execute_result"
    }
   ],
   "source": [
    "df_sets"
   ],
   "metadata": {
    "collapsed": false,
    "ExecuteTime": {
     "end_time": "2024-02-05T15:02:23.586101Z",
     "start_time": "2024-02-05T15:02:23.581655Z"
    }
   },
   "id": "e4c94b08cd474fd8",
   "execution_count": 20
  },
  {
   "cell_type": "code",
   "outputs": [],
   "source": [
    "# Workouts per date dataframe\n",
    "workouts_by_date = df_normalized_sets.groupby(\"DATE\")[\"WORKOUT\"].first()"
   ],
   "metadata": {
    "collapsed": false,
    "ExecuteTime": {
     "end_time": "2024-02-05T15:06:00.828769Z",
     "start_time": "2024-02-05T15:06:00.825247Z"
    }
   },
   "id": "d312411fdf129dce",
   "execution_count": 25
  },
  {
   "cell_type": "code",
   "outputs": [
    {
     "data": {
      "text/plain": "DATE\n2023-03-27                           Legs\n2023-03-28               Back / Shoulders\n2023-04-03              Chest / Shoulders\n2023-04-04               Back / Shoulders\n2023-04-06                           Legs\n                         ...             \n2024-01-27    Chest / Shoulders / Triceps\n2024-01-28                           Legs\n2024-02-02                  Back / Biceps\n2024-02-03    Chest / Shoulders / Triceps\n2024-02-04                           Legs\nName: WORKOUT, Length: 103, dtype: object"
     },
     "execution_count": 26,
     "metadata": {},
     "output_type": "execute_result"
    }
   ],
   "source": [
    "workouts_by_date"
   ],
   "metadata": {
    "collapsed": false,
    "ExecuteTime": {
     "end_time": "2024-02-05T15:06:01.718275Z",
     "start_time": "2024-02-05T15:06:01.715348Z"
    }
   },
   "id": "a8338a4be0cbd57e",
   "execution_count": 26
  },
  {
   "cell_type": "code",
   "outputs": [],
   "source": [
    "# Number of workout per workout dataframe\n",
    "workout_occurrences = workouts_by_date.reset_index().groupby(\"WORKOUT\").agg(OCCURRENCES=(\"DATE\", len))\n",
    "workout_occurrences = workout_occurrences.sort_values(by=\"OCCURRENCES\", ascending=False).reset_index()"
   ],
   "metadata": {
    "collapsed": false,
    "ExecuteTime": {
     "end_time": "2024-02-05T15:06:02.953173Z",
     "start_time": "2024-02-05T15:06:02.945133Z"
    }
   },
   "id": "45a54dd0c3044d72",
   "execution_count": 27
  },
  {
   "cell_type": "code",
   "outputs": [
    {
     "data": {
      "text/plain": "                       WORKOUT  OCCURRENCES\n0  Chest / Shoulders / Triceps           34\n1                         Legs           23\n2    Back / Shoulders / Biceps           18\n3                Back / Biceps           13\n4                         Arms            4\n5             Back / Shoulders            4\n6            Chest / Shoulders            4\n7             Arms / Shoulders            1\n8                 Biceps / Abs            1\n9                        Chest            1",
      "text/html": "<div>\n<style scoped>\n    .dataframe tbody tr th:only-of-type {\n        vertical-align: middle;\n    }\n\n    .dataframe tbody tr th {\n        vertical-align: top;\n    }\n\n    .dataframe thead th {\n        text-align: right;\n    }\n</style>\n<table border=\"1\" class=\"dataframe\">\n  <thead>\n    <tr style=\"text-align: right;\">\n      <th></th>\n      <th>WORKOUT</th>\n      <th>OCCURRENCES</th>\n    </tr>\n  </thead>\n  <tbody>\n    <tr>\n      <th>0</th>\n      <td>Chest / Shoulders / Triceps</td>\n      <td>34</td>\n    </tr>\n    <tr>\n      <th>1</th>\n      <td>Legs</td>\n      <td>23</td>\n    </tr>\n    <tr>\n      <th>2</th>\n      <td>Back / Shoulders / Biceps</td>\n      <td>18</td>\n    </tr>\n    <tr>\n      <th>3</th>\n      <td>Back / Biceps</td>\n      <td>13</td>\n    </tr>\n    <tr>\n      <th>4</th>\n      <td>Arms</td>\n      <td>4</td>\n    </tr>\n    <tr>\n      <th>5</th>\n      <td>Back / Shoulders</td>\n      <td>4</td>\n    </tr>\n    <tr>\n      <th>6</th>\n      <td>Chest / Shoulders</td>\n      <td>4</td>\n    </tr>\n    <tr>\n      <th>7</th>\n      <td>Arms / Shoulders</td>\n      <td>1</td>\n    </tr>\n    <tr>\n      <th>8</th>\n      <td>Biceps / Abs</td>\n      <td>1</td>\n    </tr>\n    <tr>\n      <th>9</th>\n      <td>Chest</td>\n      <td>1</td>\n    </tr>\n  </tbody>\n</table>\n</div>"
     },
     "execution_count": 28,
     "metadata": {},
     "output_type": "execute_result"
    }
   ],
   "source": [
    "workout_occurrences"
   ],
   "metadata": {
    "collapsed": false,
    "ExecuteTime": {
     "end_time": "2024-02-05T15:06:03.241674Z",
     "start_time": "2024-02-05T15:06:03.226187Z"
    }
   },
   "id": "9f9d9aa6cb93dfd2",
   "execution_count": 28
  }
 ],
 "metadata": {
  "kernelspec": {
   "display_name": "Python 3",
   "language": "python",
   "name": "python3"
  },
  "language_info": {
   "codemirror_mode": {
    "name": "ipython",
    "version": 2
   },
   "file_extension": ".py",
   "mimetype": "text/x-python",
   "name": "python",
   "nbconvert_exporter": "python",
   "pygments_lexer": "ipython2",
   "version": "2.7.6"
  }
 },
 "nbformat": 4,
 "nbformat_minor": 5
}

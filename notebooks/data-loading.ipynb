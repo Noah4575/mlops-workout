{
 "cells": [
  {
   "cell_type": "code",
   "execution_count": 39,
   "id": "initial_id",
   "metadata": {
    "collapsed": true,
    "ExecuteTime": {
     "end_time": "2024-02-06T18:43:26.660359Z",
     "start_time": "2024-02-06T18:43:26.652154Z"
    }
   },
   "outputs": [],
   "source": [
    "import pandas as pd\n",
    "import plotly.express as px"
   ]
  },
  {
   "cell_type": "code",
   "outputs": [
    {
     "data": {
      "text/plain": "            DATE WORKOUT                           EXERCISE MUSCLE  SET  \\\n0     2023-03-27    Legs                      Barbell Squat   Legs    1   \n1     2023-03-27    Legs                      Barbell Squat   Legs    2   \n2     2023-03-27    Legs                      Barbell Squat   Legs    3   \n3     2023-03-27    Legs                      Barbell Squat   Legs    4   \n4     2023-03-27    Legs                          Leg Press   Legs    1   \n...          ...     ...                                ...    ...  ...   \n1719  2024-02-04    Legs                     Leg Extensions   Legs    2   \n1720  2024-02-04    Legs                     Leg Extensions   Legs    3   \n1721  2024-02-04    Legs  Smith machine standing calf raise   Legs    1   \n1722  2024-02-04    Legs  Smith machine standing calf raise   Legs    2   \n1723  2024-02-04    Legs  Smith machine standing calf raise   Legs    3   \n\n      NB_REPS  WEIGHT  \n0          10    40.0  \n1           8    50.0  \n2           8    60.0  \n3           8    50.0  \n4          10    60.0  \n...       ...     ...  \n1719        8    89.0  \n1720        7    89.0  \n1721       12   110.0  \n1722       11   110.0  \n1723       10   110.0  \n\n[1724 rows x 7 columns]",
      "text/html": "<div>\n<style scoped>\n    .dataframe tbody tr th:only-of-type {\n        vertical-align: middle;\n    }\n\n    .dataframe tbody tr th {\n        vertical-align: top;\n    }\n\n    .dataframe thead th {\n        text-align: right;\n    }\n</style>\n<table border=\"1\" class=\"dataframe\">\n  <thead>\n    <tr style=\"text-align: right;\">\n      <th></th>\n      <th>DATE</th>\n      <th>WORKOUT</th>\n      <th>EXERCISE</th>\n      <th>MUSCLE</th>\n      <th>SET</th>\n      <th>NB_REPS</th>\n      <th>WEIGHT</th>\n    </tr>\n  </thead>\n  <tbody>\n    <tr>\n      <th>0</th>\n      <td>2023-03-27</td>\n      <td>Legs</td>\n      <td>Barbell Squat</td>\n      <td>Legs</td>\n      <td>1</td>\n      <td>10</td>\n      <td>40.0</td>\n    </tr>\n    <tr>\n      <th>1</th>\n      <td>2023-03-27</td>\n      <td>Legs</td>\n      <td>Barbell Squat</td>\n      <td>Legs</td>\n      <td>2</td>\n      <td>8</td>\n      <td>50.0</td>\n    </tr>\n    <tr>\n      <th>2</th>\n      <td>2023-03-27</td>\n      <td>Legs</td>\n      <td>Barbell Squat</td>\n      <td>Legs</td>\n      <td>3</td>\n      <td>8</td>\n      <td>60.0</td>\n    </tr>\n    <tr>\n      <th>3</th>\n      <td>2023-03-27</td>\n      <td>Legs</td>\n      <td>Barbell Squat</td>\n      <td>Legs</td>\n      <td>4</td>\n      <td>8</td>\n      <td>50.0</td>\n    </tr>\n    <tr>\n      <th>4</th>\n      <td>2023-03-27</td>\n      <td>Legs</td>\n      <td>Leg Press</td>\n      <td>Legs</td>\n      <td>1</td>\n      <td>10</td>\n      <td>60.0</td>\n    </tr>\n    <tr>\n      <th>...</th>\n      <td>...</td>\n      <td>...</td>\n      <td>...</td>\n      <td>...</td>\n      <td>...</td>\n      <td>...</td>\n      <td>...</td>\n    </tr>\n    <tr>\n      <th>1719</th>\n      <td>2024-02-04</td>\n      <td>Legs</td>\n      <td>Leg Extensions</td>\n      <td>Legs</td>\n      <td>2</td>\n      <td>8</td>\n      <td>89.0</td>\n    </tr>\n    <tr>\n      <th>1720</th>\n      <td>2024-02-04</td>\n      <td>Legs</td>\n      <td>Leg Extensions</td>\n      <td>Legs</td>\n      <td>3</td>\n      <td>7</td>\n      <td>89.0</td>\n    </tr>\n    <tr>\n      <th>1721</th>\n      <td>2024-02-04</td>\n      <td>Legs</td>\n      <td>Smith machine standing calf raise</td>\n      <td>Legs</td>\n      <td>1</td>\n      <td>12</td>\n      <td>110.0</td>\n    </tr>\n    <tr>\n      <th>1722</th>\n      <td>2024-02-04</td>\n      <td>Legs</td>\n      <td>Smith machine standing calf raise</td>\n      <td>Legs</td>\n      <td>2</td>\n      <td>11</td>\n      <td>110.0</td>\n    </tr>\n    <tr>\n      <th>1723</th>\n      <td>2024-02-04</td>\n      <td>Legs</td>\n      <td>Smith machine standing calf raise</td>\n      <td>Legs</td>\n      <td>3</td>\n      <td>10</td>\n      <td>110.0</td>\n    </tr>\n  </tbody>\n</table>\n<p>1724 rows × 7 columns</p>\n</div>"
     },
     "execution_count": 73,
     "metadata": {},
     "output_type": "execute_result"
    }
   ],
   "source": [
    "workout_data = pd.read_csv('../data/current/workout_data.csv')\n",
    "workout_data"
   ],
   "metadata": {
    "collapsed": false,
    "ExecuteTime": {
     "end_time": "2024-02-06T20:59:10.521981Z",
     "start_time": "2024-02-06T20:59:10.497001Z"
    }
   },
   "id": "db48250689f1699b",
   "execution_count": 73
  },
  {
   "cell_type": "code",
   "outputs": [
    {
     "data": {
      "text/plain": "            DATE WORKOUT                           EXERCISE MUSCLE  SET  \\\n0     2023-03-27    Legs                      Barbell Squat   Legs    1   \n1     2023-03-27    Legs                      Barbell Squat   Legs    2   \n2     2023-03-27    Legs                      Barbell Squat   Legs    3   \n3     2023-03-27    Legs                      Barbell Squat   Legs    4   \n4     2023-03-27    Legs                          Leg Press   Legs    1   \n...          ...     ...                                ...    ...  ...   \n1719  2024-02-04    Legs                     Leg Extensions   Legs    2   \n1720  2024-02-04    Legs                     Leg Extensions   Legs    3   \n1721  2024-02-04    Legs  Smith machine standing calf raise   Legs    1   \n1722  2024-02-04    Legs  Smith machine standing calf raise   Legs    2   \n1723  2024-02-04    Legs  Smith machine standing calf raise   Legs    3   \n\n      NB_REPS  WEIGHT      Type    BodyPart Equipment         Level  Rating  \n0          10    40.0  Strength  Quadriceps   Barbell  Intermediate     8.9  \n1           8    50.0  Strength  Quadriceps   Barbell  Intermediate     8.9  \n2           8    60.0  Strength  Quadriceps   Barbell  Intermediate     8.9  \n3           8    50.0  Strength  Quadriceps   Barbell  Intermediate     8.9  \n4          10    60.0  Strength  Quadriceps   Machine  Intermediate     8.8  \n...       ...     ...       ...         ...       ...           ...     ...  \n1719        8    89.0  Strength  Quadriceps   Machine  Intermediate     8.5  \n1720        7    89.0  Strength  Quadriceps   Machine  Intermediate     8.5  \n1721       12   110.0  Strength      Calves   Barbell  Intermediate     NaN  \n1722       11   110.0  Strength      Calves   Barbell  Intermediate     NaN  \n1723       10   110.0  Strength      Calves   Barbell  Intermediate     NaN  \n\n[1724 rows x 12 columns]",
      "text/html": "<div>\n<style scoped>\n    .dataframe tbody tr th:only-of-type {\n        vertical-align: middle;\n    }\n\n    .dataframe tbody tr th {\n        vertical-align: top;\n    }\n\n    .dataframe thead th {\n        text-align: right;\n    }\n</style>\n<table border=\"1\" class=\"dataframe\">\n  <thead>\n    <tr style=\"text-align: right;\">\n      <th></th>\n      <th>DATE</th>\n      <th>WORKOUT</th>\n      <th>EXERCISE</th>\n      <th>MUSCLE</th>\n      <th>SET</th>\n      <th>NB_REPS</th>\n      <th>WEIGHT</th>\n      <th>Type</th>\n      <th>BodyPart</th>\n      <th>Equipment</th>\n      <th>Level</th>\n      <th>Rating</th>\n    </tr>\n  </thead>\n  <tbody>\n    <tr>\n      <th>0</th>\n      <td>2023-03-27</td>\n      <td>Legs</td>\n      <td>Barbell Squat</td>\n      <td>Legs</td>\n      <td>1</td>\n      <td>10</td>\n      <td>40.0</td>\n      <td>Strength</td>\n      <td>Quadriceps</td>\n      <td>Barbell</td>\n      <td>Intermediate</td>\n      <td>8.9</td>\n    </tr>\n    <tr>\n      <th>1</th>\n      <td>2023-03-27</td>\n      <td>Legs</td>\n      <td>Barbell Squat</td>\n      <td>Legs</td>\n      <td>2</td>\n      <td>8</td>\n      <td>50.0</td>\n      <td>Strength</td>\n      <td>Quadriceps</td>\n      <td>Barbell</td>\n      <td>Intermediate</td>\n      <td>8.9</td>\n    </tr>\n    <tr>\n      <th>2</th>\n      <td>2023-03-27</td>\n      <td>Legs</td>\n      <td>Barbell Squat</td>\n      <td>Legs</td>\n      <td>3</td>\n      <td>8</td>\n      <td>60.0</td>\n      <td>Strength</td>\n      <td>Quadriceps</td>\n      <td>Barbell</td>\n      <td>Intermediate</td>\n      <td>8.9</td>\n    </tr>\n    <tr>\n      <th>3</th>\n      <td>2023-03-27</td>\n      <td>Legs</td>\n      <td>Barbell Squat</td>\n      <td>Legs</td>\n      <td>4</td>\n      <td>8</td>\n      <td>50.0</td>\n      <td>Strength</td>\n      <td>Quadriceps</td>\n      <td>Barbell</td>\n      <td>Intermediate</td>\n      <td>8.9</td>\n    </tr>\n    <tr>\n      <th>4</th>\n      <td>2023-03-27</td>\n      <td>Legs</td>\n      <td>Leg Press</td>\n      <td>Legs</td>\n      <td>1</td>\n      <td>10</td>\n      <td>60.0</td>\n      <td>Strength</td>\n      <td>Quadriceps</td>\n      <td>Machine</td>\n      <td>Intermediate</td>\n      <td>8.8</td>\n    </tr>\n    <tr>\n      <th>...</th>\n      <td>...</td>\n      <td>...</td>\n      <td>...</td>\n      <td>...</td>\n      <td>...</td>\n      <td>...</td>\n      <td>...</td>\n      <td>...</td>\n      <td>...</td>\n      <td>...</td>\n      <td>...</td>\n      <td>...</td>\n    </tr>\n    <tr>\n      <th>1719</th>\n      <td>2024-02-04</td>\n      <td>Legs</td>\n      <td>Leg Extensions</td>\n      <td>Legs</td>\n      <td>2</td>\n      <td>8</td>\n      <td>89.0</td>\n      <td>Strength</td>\n      <td>Quadriceps</td>\n      <td>Machine</td>\n      <td>Intermediate</td>\n      <td>8.5</td>\n    </tr>\n    <tr>\n      <th>1720</th>\n      <td>2024-02-04</td>\n      <td>Legs</td>\n      <td>Leg Extensions</td>\n      <td>Legs</td>\n      <td>3</td>\n      <td>7</td>\n      <td>89.0</td>\n      <td>Strength</td>\n      <td>Quadriceps</td>\n      <td>Machine</td>\n      <td>Intermediate</td>\n      <td>8.5</td>\n    </tr>\n    <tr>\n      <th>1721</th>\n      <td>2024-02-04</td>\n      <td>Legs</td>\n      <td>Smith machine standing calf raise</td>\n      <td>Legs</td>\n      <td>1</td>\n      <td>12</td>\n      <td>110.0</td>\n      <td>Strength</td>\n      <td>Calves</td>\n      <td>Barbell</td>\n      <td>Intermediate</td>\n      <td>NaN</td>\n    </tr>\n    <tr>\n      <th>1722</th>\n      <td>2024-02-04</td>\n      <td>Legs</td>\n      <td>Smith machine standing calf raise</td>\n      <td>Legs</td>\n      <td>2</td>\n      <td>11</td>\n      <td>110.0</td>\n      <td>Strength</td>\n      <td>Calves</td>\n      <td>Barbell</td>\n      <td>Intermediate</td>\n      <td>NaN</td>\n    </tr>\n    <tr>\n      <th>1723</th>\n      <td>2024-02-04</td>\n      <td>Legs</td>\n      <td>Smith machine standing calf raise</td>\n      <td>Legs</td>\n      <td>3</td>\n      <td>10</td>\n      <td>110.0</td>\n      <td>Strength</td>\n      <td>Calves</td>\n      <td>Barbell</td>\n      <td>Intermediate</td>\n      <td>NaN</td>\n    </tr>\n  </tbody>\n</table>\n<p>1724 rows × 12 columns</p>\n</div>"
     },
     "execution_count": 137,
     "metadata": {},
     "output_type": "execute_result"
    }
   ],
   "source": [
    "enriched_workout_data = pd.read_csv('../data/current/enriched_workout_data.csv')\n",
    "enriched_workout_data"
   ],
   "metadata": {
    "collapsed": false,
    "ExecuteTime": {
     "end_time": "2024-02-06T22:44:06.305220Z",
     "start_time": "2024-02-06T22:44:06.295054Z"
    }
   },
   "id": "274958593f54ba84",
   "execution_count": 137
  },
  {
   "cell_type": "code",
   "outputs": [
    {
     "data": {
      "text/plain": "           DATE           WORKOUT                           EXERCISE  \\\n0    2023-03-27              Legs                      Barbell Squat   \n1    2023-03-27              Legs                          Leg Press   \n2    2023-03-27              Legs                     Leg Extensions   \n3    2023-03-28  Back / Shoulders                      Lat pull-down   \n4    2023-03-28  Back / Shoulders                            Pull-up   \n..          ...               ...                                ...   \n547  2024-02-04              Legs                      Barbell Squat   \n548  2024-02-04              Legs                          Leg Press   \n549  2024-02-04              Legs                    Seated Leg Curl   \n550  2024-02-04              Legs                     Leg Extensions   \n551  2024-02-04              Legs  Smith machine standing calf raise   \n\n         Type    BodyPart  Equipment         Level  Rating  NB_SETS  \\\n0    Strength  Quadriceps    Barbell  Intermediate     8.9        4   \n1    Strength  Quadriceps    Machine  Intermediate     8.8        4   \n2    Strength  Quadriceps    Machine  Intermediate     8.5        4   \n3    Strength        Lats      Cable  Intermediate     8.6        4   \n4    Strength        Lats  Body Only      Beginner     8.9        1   \n..        ...         ...        ...           ...     ...      ...   \n547  Strength  Quadriceps    Barbell  Intermediate     8.9        3   \n548  Strength  Quadriceps    Machine  Intermediate     8.8        3   \n549  Strength  Hamstrings    Machine  Intermediate     7.9        3   \n550  Strength  Quadriceps    Machine  Intermediate     8.5        3   \n551  Strength      Calves    Barbell  Intermediate     NaN        3   \n\n     AVERAGE_REPS  AVERAGE_WEIGHT  MAX_WEIGHT  \n0        8.500000       49.411765        60.0  \n1        9.500000       69.473684        80.0  \n2        8.250000       22.121212        25.0  \n3        7.750000       46.903226        59.0  \n4        5.000000        0.000000         0.0  \n..            ...             ...         ...  \n547      7.333333      105.000000       105.0  \n548      7.333333      145.000000       145.0  \n549      9.000000       63.777778        66.0  \n550      8.000000       89.000000        89.0  \n551     11.000000      110.000000       110.0  \n\n[552 rows x 12 columns]",
      "text/html": "<div>\n<style scoped>\n    .dataframe tbody tr th:only-of-type {\n        vertical-align: middle;\n    }\n\n    .dataframe tbody tr th {\n        vertical-align: top;\n    }\n\n    .dataframe thead th {\n        text-align: right;\n    }\n</style>\n<table border=\"1\" class=\"dataframe\">\n  <thead>\n    <tr style=\"text-align: right;\">\n      <th></th>\n      <th>DATE</th>\n      <th>WORKOUT</th>\n      <th>EXERCISE</th>\n      <th>Type</th>\n      <th>BodyPart</th>\n      <th>Equipment</th>\n      <th>Level</th>\n      <th>Rating</th>\n      <th>NB_SETS</th>\n      <th>AVERAGE_REPS</th>\n      <th>AVERAGE_WEIGHT</th>\n      <th>MAX_WEIGHT</th>\n    </tr>\n  </thead>\n  <tbody>\n    <tr>\n      <th>0</th>\n      <td>2023-03-27</td>\n      <td>Legs</td>\n      <td>Barbell Squat</td>\n      <td>Strength</td>\n      <td>Quadriceps</td>\n      <td>Barbell</td>\n      <td>Intermediate</td>\n      <td>8.9</td>\n      <td>4</td>\n      <td>8.500000</td>\n      <td>49.411765</td>\n      <td>60.0</td>\n    </tr>\n    <tr>\n      <th>1</th>\n      <td>2023-03-27</td>\n      <td>Legs</td>\n      <td>Leg Press</td>\n      <td>Strength</td>\n      <td>Quadriceps</td>\n      <td>Machine</td>\n      <td>Intermediate</td>\n      <td>8.8</td>\n      <td>4</td>\n      <td>9.500000</td>\n      <td>69.473684</td>\n      <td>80.0</td>\n    </tr>\n    <tr>\n      <th>2</th>\n      <td>2023-03-27</td>\n      <td>Legs</td>\n      <td>Leg Extensions</td>\n      <td>Strength</td>\n      <td>Quadriceps</td>\n      <td>Machine</td>\n      <td>Intermediate</td>\n      <td>8.5</td>\n      <td>4</td>\n      <td>8.250000</td>\n      <td>22.121212</td>\n      <td>25.0</td>\n    </tr>\n    <tr>\n      <th>3</th>\n      <td>2023-03-28</td>\n      <td>Back / Shoulders</td>\n      <td>Lat pull-down</td>\n      <td>Strength</td>\n      <td>Lats</td>\n      <td>Cable</td>\n      <td>Intermediate</td>\n      <td>8.6</td>\n      <td>4</td>\n      <td>7.750000</td>\n      <td>46.903226</td>\n      <td>59.0</td>\n    </tr>\n    <tr>\n      <th>4</th>\n      <td>2023-03-28</td>\n      <td>Back / Shoulders</td>\n      <td>Pull-up</td>\n      <td>Strength</td>\n      <td>Lats</td>\n      <td>Body Only</td>\n      <td>Beginner</td>\n      <td>8.9</td>\n      <td>1</td>\n      <td>5.000000</td>\n      <td>0.000000</td>\n      <td>0.0</td>\n    </tr>\n    <tr>\n      <th>...</th>\n      <td>...</td>\n      <td>...</td>\n      <td>...</td>\n      <td>...</td>\n      <td>...</td>\n      <td>...</td>\n      <td>...</td>\n      <td>...</td>\n      <td>...</td>\n      <td>...</td>\n      <td>...</td>\n      <td>...</td>\n    </tr>\n    <tr>\n      <th>547</th>\n      <td>2024-02-04</td>\n      <td>Legs</td>\n      <td>Barbell Squat</td>\n      <td>Strength</td>\n      <td>Quadriceps</td>\n      <td>Barbell</td>\n      <td>Intermediate</td>\n      <td>8.9</td>\n      <td>3</td>\n      <td>7.333333</td>\n      <td>105.000000</td>\n      <td>105.0</td>\n    </tr>\n    <tr>\n      <th>548</th>\n      <td>2024-02-04</td>\n      <td>Legs</td>\n      <td>Leg Press</td>\n      <td>Strength</td>\n      <td>Quadriceps</td>\n      <td>Machine</td>\n      <td>Intermediate</td>\n      <td>8.8</td>\n      <td>3</td>\n      <td>7.333333</td>\n      <td>145.000000</td>\n      <td>145.0</td>\n    </tr>\n    <tr>\n      <th>549</th>\n      <td>2024-02-04</td>\n      <td>Legs</td>\n      <td>Seated Leg Curl</td>\n      <td>Strength</td>\n      <td>Hamstrings</td>\n      <td>Machine</td>\n      <td>Intermediate</td>\n      <td>7.9</td>\n      <td>3</td>\n      <td>9.000000</td>\n      <td>63.777778</td>\n      <td>66.0</td>\n    </tr>\n    <tr>\n      <th>550</th>\n      <td>2024-02-04</td>\n      <td>Legs</td>\n      <td>Leg Extensions</td>\n      <td>Strength</td>\n      <td>Quadriceps</td>\n      <td>Machine</td>\n      <td>Intermediate</td>\n      <td>8.5</td>\n      <td>3</td>\n      <td>8.000000</td>\n      <td>89.000000</td>\n      <td>89.0</td>\n    </tr>\n    <tr>\n      <th>551</th>\n      <td>2024-02-04</td>\n      <td>Legs</td>\n      <td>Smith machine standing calf raise</td>\n      <td>Strength</td>\n      <td>Calves</td>\n      <td>Barbell</td>\n      <td>Intermediate</td>\n      <td>NaN</td>\n      <td>3</td>\n      <td>11.000000</td>\n      <td>110.000000</td>\n      <td>110.0</td>\n    </tr>\n  </tbody>\n</table>\n<p>552 rows × 12 columns</p>\n</div>"
     },
     "execution_count": 135,
     "metadata": {},
     "output_type": "execute_result"
    }
   ],
   "source": [
    "workout_day_exercises = pd.read_csv('../data/current/workout_day_exercises.csv')\n",
    "workout_day_exercises"
   ],
   "metadata": {
    "collapsed": false,
    "ExecuteTime": {
     "end_time": "2024-02-06T22:43:39.118195Z",
     "start_time": "2024-02-06T22:43:39.104540Z"
    }
   },
   "id": "853b82a1fe763765",
   "execution_count": 135
  },
  {
   "cell_type": "code",
   "outputs": [
    {
     "data": {
      "text/plain": "           DATE                      WORKOUT  NB_EXERCISES  NB_SETS\n0    2023-03-27                         Legs             3       12\n1    2023-03-28             Back / Shoulders             5       16\n2    2023-04-03            Chest / Shoulders             4       16\n3    2023-04-04             Back / Shoulders             4       16\n4    2023-04-06                         Legs             4       16\n..          ...                          ...           ...      ...\n98   2024-01-27  Chest / Shoulders / Triceps             7       19\n99   2024-01-28                         Legs             5       15\n100  2024-02-02                Back / Biceps             4       15\n101  2024-02-03  Chest / Shoulders / Triceps             7       19\n102  2024-02-04                         Legs             5       15\n\n[103 rows x 4 columns]",
      "text/html": "<div>\n<style scoped>\n    .dataframe tbody tr th:only-of-type {\n        vertical-align: middle;\n    }\n\n    .dataframe tbody tr th {\n        vertical-align: top;\n    }\n\n    .dataframe thead th {\n        text-align: right;\n    }\n</style>\n<table border=\"1\" class=\"dataframe\">\n  <thead>\n    <tr style=\"text-align: right;\">\n      <th></th>\n      <th>DATE</th>\n      <th>WORKOUT</th>\n      <th>NB_EXERCISES</th>\n      <th>NB_SETS</th>\n    </tr>\n  </thead>\n  <tbody>\n    <tr>\n      <th>0</th>\n      <td>2023-03-27</td>\n      <td>Legs</td>\n      <td>3</td>\n      <td>12</td>\n    </tr>\n    <tr>\n      <th>1</th>\n      <td>2023-03-28</td>\n      <td>Back / Shoulders</td>\n      <td>5</td>\n      <td>16</td>\n    </tr>\n    <tr>\n      <th>2</th>\n      <td>2023-04-03</td>\n      <td>Chest / Shoulders</td>\n      <td>4</td>\n      <td>16</td>\n    </tr>\n    <tr>\n      <th>3</th>\n      <td>2023-04-04</td>\n      <td>Back / Shoulders</td>\n      <td>4</td>\n      <td>16</td>\n    </tr>\n    <tr>\n      <th>4</th>\n      <td>2023-04-06</td>\n      <td>Legs</td>\n      <td>4</td>\n      <td>16</td>\n    </tr>\n    <tr>\n      <th>...</th>\n      <td>...</td>\n      <td>...</td>\n      <td>...</td>\n      <td>...</td>\n    </tr>\n    <tr>\n      <th>98</th>\n      <td>2024-01-27</td>\n      <td>Chest / Shoulders / Triceps</td>\n      <td>7</td>\n      <td>19</td>\n    </tr>\n    <tr>\n      <th>99</th>\n      <td>2024-01-28</td>\n      <td>Legs</td>\n      <td>5</td>\n      <td>15</td>\n    </tr>\n    <tr>\n      <th>100</th>\n      <td>2024-02-02</td>\n      <td>Back / Biceps</td>\n      <td>4</td>\n      <td>15</td>\n    </tr>\n    <tr>\n      <th>101</th>\n      <td>2024-02-03</td>\n      <td>Chest / Shoulders / Triceps</td>\n      <td>7</td>\n      <td>19</td>\n    </tr>\n    <tr>\n      <th>102</th>\n      <td>2024-02-04</td>\n      <td>Legs</td>\n      <td>5</td>\n      <td>15</td>\n    </tr>\n  </tbody>\n</table>\n<p>103 rows × 4 columns</p>\n</div>"
     },
     "execution_count": 136,
     "metadata": {},
     "output_type": "execute_result"
    }
   ],
   "source": [
    "workout_days = pd.read_csv('../data/current/workout_days.csv')\n",
    "workout_days"
   ],
   "metadata": {
    "collapsed": false,
    "ExecuteTime": {
     "end_time": "2024-02-06T22:43:52.783543Z",
     "start_time": "2024-02-06T22:43:52.770111Z"
    }
   },
   "id": "6574eede3d53238e",
   "execution_count": 136
  },
  {
   "cell_type": "code",
   "outputs": [
    {
     "data": {
      "text/plain": "                                   Title  \\\n0                                 Crunch   \n1                      Hanging leg raise   \n2                         Thigh adductor   \n3           Incline dumbbell biceps curl   \n4                           Barbell Curl   \n5                          Preacher Curl   \n6                           Hammer Curls   \n7                    Dumbbell Bicep Curl   \n8                 Cable rope hammer curl   \n9      Smith machine standing calf raise   \n10                Close-grip bench press   \n11           Decline barbell bench press   \n12                   Incline bench press   \n13                           Bench press   \n14                  Leverage Chest Press   \n15             Smith machine bench press   \n16     Smith Machine Incline Bench Press   \n17                  Low-cable cross-over   \n18               Incline cable chest fly   \n19                      Cable cross-over   \n20                  Dumbbell Bench Press   \n21          Incline dumbbell bench press   \n22      Romanian Deadlift With Dumbbells   \n23                       Lying Leg Curls   \n24                       Seated Leg Curl   \n25                   Reverse Barbell Row   \n26      Bent-over dumbbell rear delt fly   \n27                         Lat pull-down   \n28          Straight-arm cable pull-over   \n29                               Pull-up   \n30                      Negative pull-up   \n31                 Bent Over Barbell Row   \n32                  Incline dumbbell row   \n33                Dumbbell bent-over row   \n34                     Seated Cable Rows   \n35               Standing dumbbell shrug   \n36               Single-arm dumbbell row   \n37                         Barbell Squat   \n38        Dumbbell Bulgarian split squat   \n39                             Leg Press   \n40                        Leg Extensions   \n41        Seated dumbbell shoulder press   \n42                Dumbbell lateral raise   \n43  Standing crossed-cable rear delt fly   \n44        Single-arm cable lateral raise   \n45           Incline EZ-bar skullcrusher   \n46          Behind-the-head skullcrusher   \n47              Tricep Dumbbell Kickback   \n48                 Dumbbell skullcrusher   \n49    Single-arm cable triceps extension   \n50                      Triceps Pushdown   \n51      Cable overhead triceps extension   \n52                           Triceps dip   \n\n                                                 Desc      Type     BodyPart  \\\n0   The crunch is a popular core exercise targetin...  Strength   Abdominals   \n1   The hanging leg raise is an exercise targeting...  Strength   Abdominals   \n2   The thigh adductor machine is a lower-body exe...  Strength    Adductors   \n3   The incline dumbbell biceps curl is an exercis...  Strength       Biceps   \n4   The barbell curl is an arm exercise that is al...  Strength       Biceps   \n5   The EZ-bar preacher curl is a classic exercise...  Strength       Biceps   \n6   This curl is performed simultaneously with dum...  Strength       Biceps   \n7   The dumbbell biceps curl is a single-joint exe...  Strength       Biceps   \n8   The cable rope hammer curl is a popular arm-fo...  Strength       Biceps   \n9   The Smith machine standing calf raise is a mac...  Strength       Calves   \n10  The close-grip bench press is a popular exerci...  Strength        Chest   \n11  The decline barbell bench press is a popular u...  Strength        Chest   \n12  The incline bench press is a popular barbell e...  Strength        Chest   \n13  The bench press is a popular barbell exercise ...  Strength        Chest   \n14  The machine chest press is an upper body exerc...  Strength        Chest   \n15  The Smith machine bench press is a machine-bas...  Strength        Chest   \n16  The Smith machine incline bench press is a mac...  Strength        Chest   \n17  The low-cable cross-over is an isolation movem...  Strength        Chest   \n18  The incline cable chest fly is an isolation mo...  Strength        Chest   \n19  The cable cross-over is an isolation movement ...  Strength        Chest   \n20  The dumbbell bench press is a mainstay of work...  Strength        Chest   \n21  The incline dumbbell bench press is a popular ...  Strength        Chest   \n22  The dumbbell stiff-legged deadlift targets the...  Strength   Hamstrings   \n23  The lying leg curl is a popular machine-based ...  Strength   Hamstrings   \n24  The leg curl is a popular machine-based exerci...  Strength   Hamstrings   \n25                                                NaN  Strength         Lats   \n26  The bent-over dumbbell rear delt fly is a popu...  Strength         Lats   \n27  The lat pull-down is a cable-based exercise th...  Strength         Lats   \n28  The straight-arm cable pull-over is an exercis...  Strength         Lats   \n29  The pull-up is a multijoint bodyweight exercis...  Strength         Lats   \n30  The negative pull-up is a multijoint bodyweigh...  Strength         Lats   \n31  The barbell bent-over row is a compound exerci...  Strength  Middle Back   \n32  The incline dumbbell row is an upper-body exer...  Strength  Middle Back   \n33  The dumbbell bent-over row is a popular exerci...  Strength  Middle Back   \n34  The cable seated row is a popular exercise to ...  Strength  Middle Back   \n35  The standing dumbbell shrug is a popular movem...  Strength        Traps   \n36  The single-arm dumbbell row is a popular exerc...  Strength        Traps   \n37  The barbell back squat is a popular compound m...  Strength   Quadriceps   \n38  The dumbbell Bulgarian split squat is a single...  Strength   Quadriceps   \n39  The leg press is a machine exercise targeting ...  Strength   Quadriceps   \n40  The leg extension is an isolation exercise for...  Strength   Quadriceps   \n41  The seated dumbbell shoulder press is a popula...  Strength    Shoulders   \n42  The dumbbell lateral raise is a shoulder exerc...  Strength    Shoulders   \n43  The standing crossed-cable rear delt fly is an...  Strength    Shoulders   \n44  The single-arm cable lateral raise is an isola...  Strength    Shoulders   \n45  The incline EZ-bar skullcrusher is a popular e...  Strength      Triceps   \n46  The behind-the-head skullcrusher is a variatio...  Strength      Triceps   \n47  The single-arm triceps kick-back is an isolati...  Strength      Triceps   \n48  The dumbbell skullcrusher is a triceps exercis...  Strength      Triceps   \n49  The single-arm cable triceps extension is a si...  Strength      Triceps   \n50  The cable V-bar push-down is a popular gym exe...  Strength      Triceps   \n51  The cable overhead triceps extension is a cabl...  Strength      Triceps   \n52  The triceps dip is a bodyweight exercise perfo...  Strength      Triceps   \n\n    Equipment         Level  Rating RatingDesc  \n0       Bands  Intermediate     NaN        NaN  \n1   Body Only  Intermediate     8.9    Average  \n2     Machine  Intermediate     9.0    Average  \n3       Bands  Intermediate     NaN        NaN  \n4     Barbell  Intermediate     9.0    Average  \n5     Barbell  Intermediate     8.8    Average  \n6    Dumbbell  Intermediate     9.1    Average  \n7    Dumbbell  Intermediate     8.9    Average  \n8       Cable  Intermediate     8.2    Average  \n9     Barbell  Intermediate     NaN        NaN  \n10    Barbell  Intermediate     9.1    Average  \n11    Barbell  Intermediate     8.9    Average  \n12    Barbell  Intermediate     NaN        NaN  \n13    Barbell  Intermediate     NaN        NaN  \n14    Machine      Beginner     8.5    Average  \n15    Machine  Intermediate     8.3    Average  \n16    Machine  Intermediate     8.0    Average  \n17      Cable  Intermediate     9.1    Average  \n18      Cable  Intermediate     9.0    Average  \n19      Cable      Beginner     8.4    Average  \n20   Dumbbell  Intermediate     9.2    Average  \n21   Dumbbell  Intermediate     9.1    Average  \n22   Dumbbell      Beginner     9.4    Average  \n23    Machine      Beginner     8.9    Average  \n24    Machine  Intermediate     7.9    Average  \n25    Barbell  Intermediate     NaN        NaN  \n26   Dumbbell  Intermediate     NaN        NaN  \n27      Cable  Intermediate     8.6    Average  \n28      Cable  Intermediate     NaN        NaN  \n29  Body Only      Beginner     8.9    Average  \n30  Body Only  Intermediate     0.0    Average  \n31    Barbell  Intermediate     8.7    Average  \n32   Dumbbell  Intermediate     8.8    Average  \n33   Dumbbell  Intermediate     8.3    Average  \n34      Cable  Intermediate     8.8    Average  \n35   Dumbbell  Intermediate     8.7    Average  \n36   Dumbbell  Intermediate     NaN        NaN  \n37    Barbell  Intermediate     8.9    Average  \n38      Other  Intermediate     NaN        NaN  \n39    Machine  Intermediate     8.8    Average  \n40    Machine  Intermediate     8.5    Average  \n41   Dumbbell  Intermediate     9.0    Average  \n42   Dumbbell  Intermediate     NaN        NaN  \n43      Cable  Intermediate     8.2    Average  \n44      Cable  Intermediate     NaN        NaN  \n45    Barbell  Intermediate     8.9    Average  \n46    Barbell  Intermediate     8.7    Average  \n47   Dumbbell  Intermediate     8.8    Average  \n48   Dumbbell  Intermediate     8.4    Average  \n49      Cable  Intermediate     8.9    Average  \n50      Cable  Intermediate     8.6    Average  \n51      Cable  Intermediate     8.1    Average  \n52  Body Only  Intermediate     9.4    Average  ",
      "text/html": "<div>\n<style scoped>\n    .dataframe tbody tr th:only-of-type {\n        vertical-align: middle;\n    }\n\n    .dataframe tbody tr th {\n        vertical-align: top;\n    }\n\n    .dataframe thead th {\n        text-align: right;\n    }\n</style>\n<table border=\"1\" class=\"dataframe\">\n  <thead>\n    <tr style=\"text-align: right;\">\n      <th></th>\n      <th>Title</th>\n      <th>Desc</th>\n      <th>Type</th>\n      <th>BodyPart</th>\n      <th>Equipment</th>\n      <th>Level</th>\n      <th>Rating</th>\n      <th>RatingDesc</th>\n    </tr>\n  </thead>\n  <tbody>\n    <tr>\n      <th>0</th>\n      <td>Crunch</td>\n      <td>The crunch is a popular core exercise targetin...</td>\n      <td>Strength</td>\n      <td>Abdominals</td>\n      <td>Bands</td>\n      <td>Intermediate</td>\n      <td>NaN</td>\n      <td>NaN</td>\n    </tr>\n    <tr>\n      <th>1</th>\n      <td>Hanging leg raise</td>\n      <td>The hanging leg raise is an exercise targeting...</td>\n      <td>Strength</td>\n      <td>Abdominals</td>\n      <td>Body Only</td>\n      <td>Intermediate</td>\n      <td>8.9</td>\n      <td>Average</td>\n    </tr>\n    <tr>\n      <th>2</th>\n      <td>Thigh adductor</td>\n      <td>The thigh adductor machine is a lower-body exe...</td>\n      <td>Strength</td>\n      <td>Adductors</td>\n      <td>Machine</td>\n      <td>Intermediate</td>\n      <td>9.0</td>\n      <td>Average</td>\n    </tr>\n    <tr>\n      <th>3</th>\n      <td>Incline dumbbell biceps curl</td>\n      <td>The incline dumbbell biceps curl is an exercis...</td>\n      <td>Strength</td>\n      <td>Biceps</td>\n      <td>Bands</td>\n      <td>Intermediate</td>\n      <td>NaN</td>\n      <td>NaN</td>\n    </tr>\n    <tr>\n      <th>4</th>\n      <td>Barbell Curl</td>\n      <td>The barbell curl is an arm exercise that is al...</td>\n      <td>Strength</td>\n      <td>Biceps</td>\n      <td>Barbell</td>\n      <td>Intermediate</td>\n      <td>9.0</td>\n      <td>Average</td>\n    </tr>\n    <tr>\n      <th>5</th>\n      <td>Preacher Curl</td>\n      <td>The EZ-bar preacher curl is a classic exercise...</td>\n      <td>Strength</td>\n      <td>Biceps</td>\n      <td>Barbell</td>\n      <td>Intermediate</td>\n      <td>8.8</td>\n      <td>Average</td>\n    </tr>\n    <tr>\n      <th>6</th>\n      <td>Hammer Curls</td>\n      <td>This curl is performed simultaneously with dum...</td>\n      <td>Strength</td>\n      <td>Biceps</td>\n      <td>Dumbbell</td>\n      <td>Intermediate</td>\n      <td>9.1</td>\n      <td>Average</td>\n    </tr>\n    <tr>\n      <th>7</th>\n      <td>Dumbbell Bicep Curl</td>\n      <td>The dumbbell biceps curl is a single-joint exe...</td>\n      <td>Strength</td>\n      <td>Biceps</td>\n      <td>Dumbbell</td>\n      <td>Intermediate</td>\n      <td>8.9</td>\n      <td>Average</td>\n    </tr>\n    <tr>\n      <th>8</th>\n      <td>Cable rope hammer curl</td>\n      <td>The cable rope hammer curl is a popular arm-fo...</td>\n      <td>Strength</td>\n      <td>Biceps</td>\n      <td>Cable</td>\n      <td>Intermediate</td>\n      <td>8.2</td>\n      <td>Average</td>\n    </tr>\n    <tr>\n      <th>9</th>\n      <td>Smith machine standing calf raise</td>\n      <td>The Smith machine standing calf raise is a mac...</td>\n      <td>Strength</td>\n      <td>Calves</td>\n      <td>Barbell</td>\n      <td>Intermediate</td>\n      <td>NaN</td>\n      <td>NaN</td>\n    </tr>\n    <tr>\n      <th>10</th>\n      <td>Close-grip bench press</td>\n      <td>The close-grip bench press is a popular exerci...</td>\n      <td>Strength</td>\n      <td>Chest</td>\n      <td>Barbell</td>\n      <td>Intermediate</td>\n      <td>9.1</td>\n      <td>Average</td>\n    </tr>\n    <tr>\n      <th>11</th>\n      <td>Decline barbell bench press</td>\n      <td>The decline barbell bench press is a popular u...</td>\n      <td>Strength</td>\n      <td>Chest</td>\n      <td>Barbell</td>\n      <td>Intermediate</td>\n      <td>8.9</td>\n      <td>Average</td>\n    </tr>\n    <tr>\n      <th>12</th>\n      <td>Incline bench press</td>\n      <td>The incline bench press is a popular barbell e...</td>\n      <td>Strength</td>\n      <td>Chest</td>\n      <td>Barbell</td>\n      <td>Intermediate</td>\n      <td>NaN</td>\n      <td>NaN</td>\n    </tr>\n    <tr>\n      <th>13</th>\n      <td>Bench press</td>\n      <td>The bench press is a popular barbell exercise ...</td>\n      <td>Strength</td>\n      <td>Chest</td>\n      <td>Barbell</td>\n      <td>Intermediate</td>\n      <td>NaN</td>\n      <td>NaN</td>\n    </tr>\n    <tr>\n      <th>14</th>\n      <td>Leverage Chest Press</td>\n      <td>The machine chest press is an upper body exerc...</td>\n      <td>Strength</td>\n      <td>Chest</td>\n      <td>Machine</td>\n      <td>Beginner</td>\n      <td>8.5</td>\n      <td>Average</td>\n    </tr>\n    <tr>\n      <th>15</th>\n      <td>Smith machine bench press</td>\n      <td>The Smith machine bench press is a machine-bas...</td>\n      <td>Strength</td>\n      <td>Chest</td>\n      <td>Machine</td>\n      <td>Intermediate</td>\n      <td>8.3</td>\n      <td>Average</td>\n    </tr>\n    <tr>\n      <th>16</th>\n      <td>Smith Machine Incline Bench Press</td>\n      <td>The Smith machine incline bench press is a mac...</td>\n      <td>Strength</td>\n      <td>Chest</td>\n      <td>Machine</td>\n      <td>Intermediate</td>\n      <td>8.0</td>\n      <td>Average</td>\n    </tr>\n    <tr>\n      <th>17</th>\n      <td>Low-cable cross-over</td>\n      <td>The low-cable cross-over is an isolation movem...</td>\n      <td>Strength</td>\n      <td>Chest</td>\n      <td>Cable</td>\n      <td>Intermediate</td>\n      <td>9.1</td>\n      <td>Average</td>\n    </tr>\n    <tr>\n      <th>18</th>\n      <td>Incline cable chest fly</td>\n      <td>The incline cable chest fly is an isolation mo...</td>\n      <td>Strength</td>\n      <td>Chest</td>\n      <td>Cable</td>\n      <td>Intermediate</td>\n      <td>9.0</td>\n      <td>Average</td>\n    </tr>\n    <tr>\n      <th>19</th>\n      <td>Cable cross-over</td>\n      <td>The cable cross-over is an isolation movement ...</td>\n      <td>Strength</td>\n      <td>Chest</td>\n      <td>Cable</td>\n      <td>Beginner</td>\n      <td>8.4</td>\n      <td>Average</td>\n    </tr>\n    <tr>\n      <th>20</th>\n      <td>Dumbbell Bench Press</td>\n      <td>The dumbbell bench press is a mainstay of work...</td>\n      <td>Strength</td>\n      <td>Chest</td>\n      <td>Dumbbell</td>\n      <td>Intermediate</td>\n      <td>9.2</td>\n      <td>Average</td>\n    </tr>\n    <tr>\n      <th>21</th>\n      <td>Incline dumbbell bench press</td>\n      <td>The incline dumbbell bench press is a popular ...</td>\n      <td>Strength</td>\n      <td>Chest</td>\n      <td>Dumbbell</td>\n      <td>Intermediate</td>\n      <td>9.1</td>\n      <td>Average</td>\n    </tr>\n    <tr>\n      <th>22</th>\n      <td>Romanian Deadlift With Dumbbells</td>\n      <td>The dumbbell stiff-legged deadlift targets the...</td>\n      <td>Strength</td>\n      <td>Hamstrings</td>\n      <td>Dumbbell</td>\n      <td>Beginner</td>\n      <td>9.4</td>\n      <td>Average</td>\n    </tr>\n    <tr>\n      <th>23</th>\n      <td>Lying Leg Curls</td>\n      <td>The lying leg curl is a popular machine-based ...</td>\n      <td>Strength</td>\n      <td>Hamstrings</td>\n      <td>Machine</td>\n      <td>Beginner</td>\n      <td>8.9</td>\n      <td>Average</td>\n    </tr>\n    <tr>\n      <th>24</th>\n      <td>Seated Leg Curl</td>\n      <td>The leg curl is a popular machine-based exerci...</td>\n      <td>Strength</td>\n      <td>Hamstrings</td>\n      <td>Machine</td>\n      <td>Intermediate</td>\n      <td>7.9</td>\n      <td>Average</td>\n    </tr>\n    <tr>\n      <th>25</th>\n      <td>Reverse Barbell Row</td>\n      <td>NaN</td>\n      <td>Strength</td>\n      <td>Lats</td>\n      <td>Barbell</td>\n      <td>Intermediate</td>\n      <td>NaN</td>\n      <td>NaN</td>\n    </tr>\n    <tr>\n      <th>26</th>\n      <td>Bent-over dumbbell rear delt fly</td>\n      <td>The bent-over dumbbell rear delt fly is a popu...</td>\n      <td>Strength</td>\n      <td>Lats</td>\n      <td>Dumbbell</td>\n      <td>Intermediate</td>\n      <td>NaN</td>\n      <td>NaN</td>\n    </tr>\n    <tr>\n      <th>27</th>\n      <td>Lat pull-down</td>\n      <td>The lat pull-down is a cable-based exercise th...</td>\n      <td>Strength</td>\n      <td>Lats</td>\n      <td>Cable</td>\n      <td>Intermediate</td>\n      <td>8.6</td>\n      <td>Average</td>\n    </tr>\n    <tr>\n      <th>28</th>\n      <td>Straight-arm cable pull-over</td>\n      <td>The straight-arm cable pull-over is an exercis...</td>\n      <td>Strength</td>\n      <td>Lats</td>\n      <td>Cable</td>\n      <td>Intermediate</td>\n      <td>NaN</td>\n      <td>NaN</td>\n    </tr>\n    <tr>\n      <th>29</th>\n      <td>Pull-up</td>\n      <td>The pull-up is a multijoint bodyweight exercis...</td>\n      <td>Strength</td>\n      <td>Lats</td>\n      <td>Body Only</td>\n      <td>Beginner</td>\n      <td>8.9</td>\n      <td>Average</td>\n    </tr>\n    <tr>\n      <th>30</th>\n      <td>Negative pull-up</td>\n      <td>The negative pull-up is a multijoint bodyweigh...</td>\n      <td>Strength</td>\n      <td>Lats</td>\n      <td>Body Only</td>\n      <td>Intermediate</td>\n      <td>0.0</td>\n      <td>Average</td>\n    </tr>\n    <tr>\n      <th>31</th>\n      <td>Bent Over Barbell Row</td>\n      <td>The barbell bent-over row is a compound exerci...</td>\n      <td>Strength</td>\n      <td>Middle Back</td>\n      <td>Barbell</td>\n      <td>Intermediate</td>\n      <td>8.7</td>\n      <td>Average</td>\n    </tr>\n    <tr>\n      <th>32</th>\n      <td>Incline dumbbell row</td>\n      <td>The incline dumbbell row is an upper-body exer...</td>\n      <td>Strength</td>\n      <td>Middle Back</td>\n      <td>Dumbbell</td>\n      <td>Intermediate</td>\n      <td>8.8</td>\n      <td>Average</td>\n    </tr>\n    <tr>\n      <th>33</th>\n      <td>Dumbbell bent-over row</td>\n      <td>The dumbbell bent-over row is a popular exerci...</td>\n      <td>Strength</td>\n      <td>Middle Back</td>\n      <td>Dumbbell</td>\n      <td>Intermediate</td>\n      <td>8.3</td>\n      <td>Average</td>\n    </tr>\n    <tr>\n      <th>34</th>\n      <td>Seated Cable Rows</td>\n      <td>The cable seated row is a popular exercise to ...</td>\n      <td>Strength</td>\n      <td>Middle Back</td>\n      <td>Cable</td>\n      <td>Intermediate</td>\n      <td>8.8</td>\n      <td>Average</td>\n    </tr>\n    <tr>\n      <th>35</th>\n      <td>Standing dumbbell shrug</td>\n      <td>The standing dumbbell shrug is a popular movem...</td>\n      <td>Strength</td>\n      <td>Traps</td>\n      <td>Dumbbell</td>\n      <td>Intermediate</td>\n      <td>8.7</td>\n      <td>Average</td>\n    </tr>\n    <tr>\n      <th>36</th>\n      <td>Single-arm dumbbell row</td>\n      <td>The single-arm dumbbell row is a popular exerc...</td>\n      <td>Strength</td>\n      <td>Traps</td>\n      <td>Dumbbell</td>\n      <td>Intermediate</td>\n      <td>NaN</td>\n      <td>NaN</td>\n    </tr>\n    <tr>\n      <th>37</th>\n      <td>Barbell Squat</td>\n      <td>The barbell back squat is a popular compound m...</td>\n      <td>Strength</td>\n      <td>Quadriceps</td>\n      <td>Barbell</td>\n      <td>Intermediate</td>\n      <td>8.9</td>\n      <td>Average</td>\n    </tr>\n    <tr>\n      <th>38</th>\n      <td>Dumbbell Bulgarian split squat</td>\n      <td>The dumbbell Bulgarian split squat is a single...</td>\n      <td>Strength</td>\n      <td>Quadriceps</td>\n      <td>Other</td>\n      <td>Intermediate</td>\n      <td>NaN</td>\n      <td>NaN</td>\n    </tr>\n    <tr>\n      <th>39</th>\n      <td>Leg Press</td>\n      <td>The leg press is a machine exercise targeting ...</td>\n      <td>Strength</td>\n      <td>Quadriceps</td>\n      <td>Machine</td>\n      <td>Intermediate</td>\n      <td>8.8</td>\n      <td>Average</td>\n    </tr>\n    <tr>\n      <th>40</th>\n      <td>Leg Extensions</td>\n      <td>The leg extension is an isolation exercise for...</td>\n      <td>Strength</td>\n      <td>Quadriceps</td>\n      <td>Machine</td>\n      <td>Intermediate</td>\n      <td>8.5</td>\n      <td>Average</td>\n    </tr>\n    <tr>\n      <th>41</th>\n      <td>Seated dumbbell shoulder press</td>\n      <td>The seated dumbbell shoulder press is a popula...</td>\n      <td>Strength</td>\n      <td>Shoulders</td>\n      <td>Dumbbell</td>\n      <td>Intermediate</td>\n      <td>9.0</td>\n      <td>Average</td>\n    </tr>\n    <tr>\n      <th>42</th>\n      <td>Dumbbell lateral raise</td>\n      <td>The dumbbell lateral raise is a shoulder exerc...</td>\n      <td>Strength</td>\n      <td>Shoulders</td>\n      <td>Dumbbell</td>\n      <td>Intermediate</td>\n      <td>NaN</td>\n      <td>NaN</td>\n    </tr>\n    <tr>\n      <th>43</th>\n      <td>Standing crossed-cable rear delt fly</td>\n      <td>The standing crossed-cable rear delt fly is an...</td>\n      <td>Strength</td>\n      <td>Shoulders</td>\n      <td>Cable</td>\n      <td>Intermediate</td>\n      <td>8.2</td>\n      <td>Average</td>\n    </tr>\n    <tr>\n      <th>44</th>\n      <td>Single-arm cable lateral raise</td>\n      <td>The single-arm cable lateral raise is an isola...</td>\n      <td>Strength</td>\n      <td>Shoulders</td>\n      <td>Cable</td>\n      <td>Intermediate</td>\n      <td>NaN</td>\n      <td>NaN</td>\n    </tr>\n    <tr>\n      <th>45</th>\n      <td>Incline EZ-bar skullcrusher</td>\n      <td>The incline EZ-bar skullcrusher is a popular e...</td>\n      <td>Strength</td>\n      <td>Triceps</td>\n      <td>Barbell</td>\n      <td>Intermediate</td>\n      <td>8.9</td>\n      <td>Average</td>\n    </tr>\n    <tr>\n      <th>46</th>\n      <td>Behind-the-head skullcrusher</td>\n      <td>The behind-the-head skullcrusher is a variatio...</td>\n      <td>Strength</td>\n      <td>Triceps</td>\n      <td>Barbell</td>\n      <td>Intermediate</td>\n      <td>8.7</td>\n      <td>Average</td>\n    </tr>\n    <tr>\n      <th>47</th>\n      <td>Tricep Dumbbell Kickback</td>\n      <td>The single-arm triceps kick-back is an isolati...</td>\n      <td>Strength</td>\n      <td>Triceps</td>\n      <td>Dumbbell</td>\n      <td>Intermediate</td>\n      <td>8.8</td>\n      <td>Average</td>\n    </tr>\n    <tr>\n      <th>48</th>\n      <td>Dumbbell skullcrusher</td>\n      <td>The dumbbell skullcrusher is a triceps exercis...</td>\n      <td>Strength</td>\n      <td>Triceps</td>\n      <td>Dumbbell</td>\n      <td>Intermediate</td>\n      <td>8.4</td>\n      <td>Average</td>\n    </tr>\n    <tr>\n      <th>49</th>\n      <td>Single-arm cable triceps extension</td>\n      <td>The single-arm cable triceps extension is a si...</td>\n      <td>Strength</td>\n      <td>Triceps</td>\n      <td>Cable</td>\n      <td>Intermediate</td>\n      <td>8.9</td>\n      <td>Average</td>\n    </tr>\n    <tr>\n      <th>50</th>\n      <td>Triceps Pushdown</td>\n      <td>The cable V-bar push-down is a popular gym exe...</td>\n      <td>Strength</td>\n      <td>Triceps</td>\n      <td>Cable</td>\n      <td>Intermediate</td>\n      <td>8.6</td>\n      <td>Average</td>\n    </tr>\n    <tr>\n      <th>51</th>\n      <td>Cable overhead triceps extension</td>\n      <td>The cable overhead triceps extension is a cabl...</td>\n      <td>Strength</td>\n      <td>Triceps</td>\n      <td>Cable</td>\n      <td>Intermediate</td>\n      <td>8.1</td>\n      <td>Average</td>\n    </tr>\n    <tr>\n      <th>52</th>\n      <td>Triceps dip</td>\n      <td>The triceps dip is a bodyweight exercise perfo...</td>\n      <td>Strength</td>\n      <td>Triceps</td>\n      <td>Body Only</td>\n      <td>Intermediate</td>\n      <td>9.4</td>\n      <td>Average</td>\n    </tr>\n  </tbody>\n</table>\n</div>"
     },
     "execution_count": 19,
     "metadata": {},
     "output_type": "execute_result"
    }
   ],
   "source": [
    "workout_exercises = pd.read_csv('../data/current/workout_exercises.csv')\n",
    "workout_exercises"
   ],
   "metadata": {
    "collapsed": false,
    "ExecuteTime": {
     "end_time": "2024-02-06T18:25:44.600149Z",
     "start_time": "2024-02-06T18:25:44.582165Z"
    }
   },
   "id": "57e2623bb57dfff8",
   "execution_count": 19
  },
  {
   "cell_type": "markdown",
   "source": [
    "# Distributions of workout_exercises columns"
   ],
   "metadata": {
    "collapsed": false
   },
   "id": "943a1a292da485ab"
  },
  {
   "cell_type": "code",
   "outputs": [
    {
     "data": {
      "application/vnd.plotly.v1+json": {
       "data": [
        {
         "alignmentgroup": "True",
         "bingroup": "x",
         "hovertemplate": "Type=%{x}<br>count=%{y}<extra></extra>",
         "legendgroup": "",
         "marker": {
          "color": "#636efa",
          "pattern": {
           "shape": ""
          }
         },
         "name": "",
         "offsetgroup": "",
         "orientation": "v",
         "showlegend": false,
         "x": [
          "Strength",
          "Strength",
          "Strength",
          "Strength",
          "Strength",
          "Strength",
          "Strength",
          "Strength",
          "Strength",
          "Strength",
          "Strength",
          "Strength",
          "Strength",
          "Strength",
          "Strength",
          "Strength",
          "Strength",
          "Strength",
          "Strength",
          "Strength",
          "Strength",
          "Strength",
          "Strength",
          "Strength",
          "Strength",
          "Strength",
          "Strength",
          "Strength",
          "Strength",
          "Strength",
          "Strength",
          "Strength",
          "Strength",
          "Strength",
          "Strength",
          "Strength",
          "Strength",
          "Strength",
          "Strength",
          "Strength",
          "Strength",
          "Strength",
          "Strength",
          "Strength",
          "Strength",
          "Strength",
          "Strength",
          "Strength",
          "Strength",
          "Strength",
          "Strength",
          "Strength",
          "Strength"
         ],
         "xaxis": "x",
         "yaxis": "y",
         "type": "histogram"
        }
       ],
       "layout": {
        "template": {
         "data": {
          "histogram2dcontour": [
           {
            "type": "histogram2dcontour",
            "colorbar": {
             "outlinewidth": 0,
             "ticks": ""
            },
            "colorscale": [
             [
              0.0,
              "#0d0887"
             ],
             [
              0.1111111111111111,
              "#46039f"
             ],
             [
              0.2222222222222222,
              "#7201a8"
             ],
             [
              0.3333333333333333,
              "#9c179e"
             ],
             [
              0.4444444444444444,
              "#bd3786"
             ],
             [
              0.5555555555555556,
              "#d8576b"
             ],
             [
              0.6666666666666666,
              "#ed7953"
             ],
             [
              0.7777777777777778,
              "#fb9f3a"
             ],
             [
              0.8888888888888888,
              "#fdca26"
             ],
             [
              1.0,
              "#f0f921"
             ]
            ]
           }
          ],
          "choropleth": [
           {
            "type": "choropleth",
            "colorbar": {
             "outlinewidth": 0,
             "ticks": ""
            }
           }
          ],
          "histogram2d": [
           {
            "type": "histogram2d",
            "colorbar": {
             "outlinewidth": 0,
             "ticks": ""
            },
            "colorscale": [
             [
              0.0,
              "#0d0887"
             ],
             [
              0.1111111111111111,
              "#46039f"
             ],
             [
              0.2222222222222222,
              "#7201a8"
             ],
             [
              0.3333333333333333,
              "#9c179e"
             ],
             [
              0.4444444444444444,
              "#bd3786"
             ],
             [
              0.5555555555555556,
              "#d8576b"
             ],
             [
              0.6666666666666666,
              "#ed7953"
             ],
             [
              0.7777777777777778,
              "#fb9f3a"
             ],
             [
              0.8888888888888888,
              "#fdca26"
             ],
             [
              1.0,
              "#f0f921"
             ]
            ]
           }
          ],
          "heatmap": [
           {
            "type": "heatmap",
            "colorbar": {
             "outlinewidth": 0,
             "ticks": ""
            },
            "colorscale": [
             [
              0.0,
              "#0d0887"
             ],
             [
              0.1111111111111111,
              "#46039f"
             ],
             [
              0.2222222222222222,
              "#7201a8"
             ],
             [
              0.3333333333333333,
              "#9c179e"
             ],
             [
              0.4444444444444444,
              "#bd3786"
             ],
             [
              0.5555555555555556,
              "#d8576b"
             ],
             [
              0.6666666666666666,
              "#ed7953"
             ],
             [
              0.7777777777777778,
              "#fb9f3a"
             ],
             [
              0.8888888888888888,
              "#fdca26"
             ],
             [
              1.0,
              "#f0f921"
             ]
            ]
           }
          ],
          "heatmapgl": [
           {
            "type": "heatmapgl",
            "colorbar": {
             "outlinewidth": 0,
             "ticks": ""
            },
            "colorscale": [
             [
              0.0,
              "#0d0887"
             ],
             [
              0.1111111111111111,
              "#46039f"
             ],
             [
              0.2222222222222222,
              "#7201a8"
             ],
             [
              0.3333333333333333,
              "#9c179e"
             ],
             [
              0.4444444444444444,
              "#bd3786"
             ],
             [
              0.5555555555555556,
              "#d8576b"
             ],
             [
              0.6666666666666666,
              "#ed7953"
             ],
             [
              0.7777777777777778,
              "#fb9f3a"
             ],
             [
              0.8888888888888888,
              "#fdca26"
             ],
             [
              1.0,
              "#f0f921"
             ]
            ]
           }
          ],
          "contourcarpet": [
           {
            "type": "contourcarpet",
            "colorbar": {
             "outlinewidth": 0,
             "ticks": ""
            }
           }
          ],
          "contour": [
           {
            "type": "contour",
            "colorbar": {
             "outlinewidth": 0,
             "ticks": ""
            },
            "colorscale": [
             [
              0.0,
              "#0d0887"
             ],
             [
              0.1111111111111111,
              "#46039f"
             ],
             [
              0.2222222222222222,
              "#7201a8"
             ],
             [
              0.3333333333333333,
              "#9c179e"
             ],
             [
              0.4444444444444444,
              "#bd3786"
             ],
             [
              0.5555555555555556,
              "#d8576b"
             ],
             [
              0.6666666666666666,
              "#ed7953"
             ],
             [
              0.7777777777777778,
              "#fb9f3a"
             ],
             [
              0.8888888888888888,
              "#fdca26"
             ],
             [
              1.0,
              "#f0f921"
             ]
            ]
           }
          ],
          "surface": [
           {
            "type": "surface",
            "colorbar": {
             "outlinewidth": 0,
             "ticks": ""
            },
            "colorscale": [
             [
              0.0,
              "#0d0887"
             ],
             [
              0.1111111111111111,
              "#46039f"
             ],
             [
              0.2222222222222222,
              "#7201a8"
             ],
             [
              0.3333333333333333,
              "#9c179e"
             ],
             [
              0.4444444444444444,
              "#bd3786"
             ],
             [
              0.5555555555555556,
              "#d8576b"
             ],
             [
              0.6666666666666666,
              "#ed7953"
             ],
             [
              0.7777777777777778,
              "#fb9f3a"
             ],
             [
              0.8888888888888888,
              "#fdca26"
             ],
             [
              1.0,
              "#f0f921"
             ]
            ]
           }
          ],
          "mesh3d": [
           {
            "type": "mesh3d",
            "colorbar": {
             "outlinewidth": 0,
             "ticks": ""
            }
           }
          ],
          "scatter": [
           {
            "fillpattern": {
             "fillmode": "overlay",
             "size": 10,
             "solidity": 0.2
            },
            "type": "scatter"
           }
          ],
          "parcoords": [
           {
            "type": "parcoords",
            "line": {
             "colorbar": {
              "outlinewidth": 0,
              "ticks": ""
             }
            }
           }
          ],
          "scatterpolargl": [
           {
            "type": "scatterpolargl",
            "marker": {
             "colorbar": {
              "outlinewidth": 0,
              "ticks": ""
             }
            }
           }
          ],
          "bar": [
           {
            "error_x": {
             "color": "#2a3f5f"
            },
            "error_y": {
             "color": "#2a3f5f"
            },
            "marker": {
             "line": {
              "color": "#E5ECF6",
              "width": 0.5
             },
             "pattern": {
              "fillmode": "overlay",
              "size": 10,
              "solidity": 0.2
             }
            },
            "type": "bar"
           }
          ],
          "scattergeo": [
           {
            "type": "scattergeo",
            "marker": {
             "colorbar": {
              "outlinewidth": 0,
              "ticks": ""
             }
            }
           }
          ],
          "scatterpolar": [
           {
            "type": "scatterpolar",
            "marker": {
             "colorbar": {
              "outlinewidth": 0,
              "ticks": ""
             }
            }
           }
          ],
          "histogram": [
           {
            "marker": {
             "pattern": {
              "fillmode": "overlay",
              "size": 10,
              "solidity": 0.2
             }
            },
            "type": "histogram"
           }
          ],
          "scattergl": [
           {
            "type": "scattergl",
            "marker": {
             "colorbar": {
              "outlinewidth": 0,
              "ticks": ""
             }
            }
           }
          ],
          "scatter3d": [
           {
            "type": "scatter3d",
            "line": {
             "colorbar": {
              "outlinewidth": 0,
              "ticks": ""
             }
            },
            "marker": {
             "colorbar": {
              "outlinewidth": 0,
              "ticks": ""
             }
            }
           }
          ],
          "scattermapbox": [
           {
            "type": "scattermapbox",
            "marker": {
             "colorbar": {
              "outlinewidth": 0,
              "ticks": ""
             }
            }
           }
          ],
          "scatterternary": [
           {
            "type": "scatterternary",
            "marker": {
             "colorbar": {
              "outlinewidth": 0,
              "ticks": ""
             }
            }
           }
          ],
          "scattercarpet": [
           {
            "type": "scattercarpet",
            "marker": {
             "colorbar": {
              "outlinewidth": 0,
              "ticks": ""
             }
            }
           }
          ],
          "carpet": [
           {
            "aaxis": {
             "endlinecolor": "#2a3f5f",
             "gridcolor": "white",
             "linecolor": "white",
             "minorgridcolor": "white",
             "startlinecolor": "#2a3f5f"
            },
            "baxis": {
             "endlinecolor": "#2a3f5f",
             "gridcolor": "white",
             "linecolor": "white",
             "minorgridcolor": "white",
             "startlinecolor": "#2a3f5f"
            },
            "type": "carpet"
           }
          ],
          "table": [
           {
            "cells": {
             "fill": {
              "color": "#EBF0F8"
             },
             "line": {
              "color": "white"
             }
            },
            "header": {
             "fill": {
              "color": "#C8D4E3"
             },
             "line": {
              "color": "white"
             }
            },
            "type": "table"
           }
          ],
          "barpolar": [
           {
            "marker": {
             "line": {
              "color": "#E5ECF6",
              "width": 0.5
             },
             "pattern": {
              "fillmode": "overlay",
              "size": 10,
              "solidity": 0.2
             }
            },
            "type": "barpolar"
           }
          ],
          "pie": [
           {
            "automargin": true,
            "type": "pie"
           }
          ]
         },
         "layout": {
          "autotypenumbers": "strict",
          "colorway": [
           "#636efa",
           "#EF553B",
           "#00cc96",
           "#ab63fa",
           "#FFA15A",
           "#19d3f3",
           "#FF6692",
           "#B6E880",
           "#FF97FF",
           "#FECB52"
          ],
          "font": {
           "color": "#2a3f5f"
          },
          "hovermode": "closest",
          "hoverlabel": {
           "align": "left"
          },
          "paper_bgcolor": "white",
          "plot_bgcolor": "#E5ECF6",
          "polar": {
           "bgcolor": "#E5ECF6",
           "angularaxis": {
            "gridcolor": "white",
            "linecolor": "white",
            "ticks": ""
           },
           "radialaxis": {
            "gridcolor": "white",
            "linecolor": "white",
            "ticks": ""
           }
          },
          "ternary": {
           "bgcolor": "#E5ECF6",
           "aaxis": {
            "gridcolor": "white",
            "linecolor": "white",
            "ticks": ""
           },
           "baxis": {
            "gridcolor": "white",
            "linecolor": "white",
            "ticks": ""
           },
           "caxis": {
            "gridcolor": "white",
            "linecolor": "white",
            "ticks": ""
           }
          },
          "coloraxis": {
           "colorbar": {
            "outlinewidth": 0,
            "ticks": ""
           }
          },
          "colorscale": {
           "sequential": [
            [
             0.0,
             "#0d0887"
            ],
            [
             0.1111111111111111,
             "#46039f"
            ],
            [
             0.2222222222222222,
             "#7201a8"
            ],
            [
             0.3333333333333333,
             "#9c179e"
            ],
            [
             0.4444444444444444,
             "#bd3786"
            ],
            [
             0.5555555555555556,
             "#d8576b"
            ],
            [
             0.6666666666666666,
             "#ed7953"
            ],
            [
             0.7777777777777778,
             "#fb9f3a"
            ],
            [
             0.8888888888888888,
             "#fdca26"
            ],
            [
             1.0,
             "#f0f921"
            ]
           ],
           "sequentialminus": [
            [
             0.0,
             "#0d0887"
            ],
            [
             0.1111111111111111,
             "#46039f"
            ],
            [
             0.2222222222222222,
             "#7201a8"
            ],
            [
             0.3333333333333333,
             "#9c179e"
            ],
            [
             0.4444444444444444,
             "#bd3786"
            ],
            [
             0.5555555555555556,
             "#d8576b"
            ],
            [
             0.6666666666666666,
             "#ed7953"
            ],
            [
             0.7777777777777778,
             "#fb9f3a"
            ],
            [
             0.8888888888888888,
             "#fdca26"
            ],
            [
             1.0,
             "#f0f921"
            ]
           ],
           "diverging": [
            [
             0,
             "#8e0152"
            ],
            [
             0.1,
             "#c51b7d"
            ],
            [
             0.2,
             "#de77ae"
            ],
            [
             0.3,
             "#f1b6da"
            ],
            [
             0.4,
             "#fde0ef"
            ],
            [
             0.5,
             "#f7f7f7"
            ],
            [
             0.6,
             "#e6f5d0"
            ],
            [
             0.7,
             "#b8e186"
            ],
            [
             0.8,
             "#7fbc41"
            ],
            [
             0.9,
             "#4d9221"
            ],
            [
             1,
             "#276419"
            ]
           ]
          },
          "xaxis": {
           "gridcolor": "white",
           "linecolor": "white",
           "ticks": "",
           "title": {
            "standoff": 15
           },
           "zerolinecolor": "white",
           "automargin": true,
           "zerolinewidth": 2
          },
          "yaxis": {
           "gridcolor": "white",
           "linecolor": "white",
           "ticks": "",
           "title": {
            "standoff": 15
           },
           "zerolinecolor": "white",
           "automargin": true,
           "zerolinewidth": 2
          },
          "scene": {
           "xaxis": {
            "backgroundcolor": "#E5ECF6",
            "gridcolor": "white",
            "linecolor": "white",
            "showbackground": true,
            "ticks": "",
            "zerolinecolor": "white",
            "gridwidth": 2
           },
           "yaxis": {
            "backgroundcolor": "#E5ECF6",
            "gridcolor": "white",
            "linecolor": "white",
            "showbackground": true,
            "ticks": "",
            "zerolinecolor": "white",
            "gridwidth": 2
           },
           "zaxis": {
            "backgroundcolor": "#E5ECF6",
            "gridcolor": "white",
            "linecolor": "white",
            "showbackground": true,
            "ticks": "",
            "zerolinecolor": "white",
            "gridwidth": 2
           }
          },
          "shapedefaults": {
           "line": {
            "color": "#2a3f5f"
           }
          },
          "annotationdefaults": {
           "arrowcolor": "#2a3f5f",
           "arrowhead": 0,
           "arrowwidth": 1
          },
          "geo": {
           "bgcolor": "white",
           "landcolor": "#E5ECF6",
           "subunitcolor": "white",
           "showland": true,
           "showlakes": true,
           "lakecolor": "white"
          },
          "title": {
           "x": 0.05
          },
          "mapbox": {
           "style": "light"
          }
         }
        },
        "xaxis": {
         "anchor": "y",
         "domain": [
          0.0,
          1.0
         ],
         "title": {
          "text": "Type"
         }
        },
        "yaxis": {
         "anchor": "x",
         "domain": [
          0.0,
          1.0
         ],
         "title": {
          "text": "count"
         }
        },
        "legend": {
         "tracegroupgap": 0
        },
        "margin": {
         "t": 60
        },
        "barmode": "relative"
       },
       "config": {
        "plotlyServerURL": "https://plot.ly"
       }
      },
      "text/html": "<div>                            <div id=\"193b6e44-0a58-4938-8f30-b257e53a7a98\" class=\"plotly-graph-div\" style=\"height:525px; width:100%;\"></div>            <script type=\"text/javascript\">                require([\"plotly\"], function(Plotly) {                    window.PLOTLYENV=window.PLOTLYENV || {};                                    if (document.getElementById(\"193b6e44-0a58-4938-8f30-b257e53a7a98\")) {                    Plotly.newPlot(                        \"193b6e44-0a58-4938-8f30-b257e53a7a98\",                        [{\"alignmentgroup\":\"True\",\"bingroup\":\"x\",\"hovertemplate\":\"Type=%{x}\\u003cbr\\u003ecount=%{y}\\u003cextra\\u003e\\u003c\\u002fextra\\u003e\",\"legendgroup\":\"\",\"marker\":{\"color\":\"#636efa\",\"pattern\":{\"shape\":\"\"}},\"name\":\"\",\"offsetgroup\":\"\",\"orientation\":\"v\",\"showlegend\":false,\"x\":[\"Strength\",\"Strength\",\"Strength\",\"Strength\",\"Strength\",\"Strength\",\"Strength\",\"Strength\",\"Strength\",\"Strength\",\"Strength\",\"Strength\",\"Strength\",\"Strength\",\"Strength\",\"Strength\",\"Strength\",\"Strength\",\"Strength\",\"Strength\",\"Strength\",\"Strength\",\"Strength\",\"Strength\",\"Strength\",\"Strength\",\"Strength\",\"Strength\",\"Strength\",\"Strength\",\"Strength\",\"Strength\",\"Strength\",\"Strength\",\"Strength\",\"Strength\",\"Strength\",\"Strength\",\"Strength\",\"Strength\",\"Strength\",\"Strength\",\"Strength\",\"Strength\",\"Strength\",\"Strength\",\"Strength\",\"Strength\",\"Strength\",\"Strength\",\"Strength\",\"Strength\",\"Strength\"],\"xaxis\":\"x\",\"yaxis\":\"y\",\"type\":\"histogram\"}],                        {\"template\":{\"data\":{\"histogram2dcontour\":[{\"type\":\"histogram2dcontour\",\"colorbar\":{\"outlinewidth\":0,\"ticks\":\"\"},\"colorscale\":[[0.0,\"#0d0887\"],[0.1111111111111111,\"#46039f\"],[0.2222222222222222,\"#7201a8\"],[0.3333333333333333,\"#9c179e\"],[0.4444444444444444,\"#bd3786\"],[0.5555555555555556,\"#d8576b\"],[0.6666666666666666,\"#ed7953\"],[0.7777777777777778,\"#fb9f3a\"],[0.8888888888888888,\"#fdca26\"],[1.0,\"#f0f921\"]]}],\"choropleth\":[{\"type\":\"choropleth\",\"colorbar\":{\"outlinewidth\":0,\"ticks\":\"\"}}],\"histogram2d\":[{\"type\":\"histogram2d\",\"colorbar\":{\"outlinewidth\":0,\"ticks\":\"\"},\"colorscale\":[[0.0,\"#0d0887\"],[0.1111111111111111,\"#46039f\"],[0.2222222222222222,\"#7201a8\"],[0.3333333333333333,\"#9c179e\"],[0.4444444444444444,\"#bd3786\"],[0.5555555555555556,\"#d8576b\"],[0.6666666666666666,\"#ed7953\"],[0.7777777777777778,\"#fb9f3a\"],[0.8888888888888888,\"#fdca26\"],[1.0,\"#f0f921\"]]}],\"heatmap\":[{\"type\":\"heatmap\",\"colorbar\":{\"outlinewidth\":0,\"ticks\":\"\"},\"colorscale\":[[0.0,\"#0d0887\"],[0.1111111111111111,\"#46039f\"],[0.2222222222222222,\"#7201a8\"],[0.3333333333333333,\"#9c179e\"],[0.4444444444444444,\"#bd3786\"],[0.5555555555555556,\"#d8576b\"],[0.6666666666666666,\"#ed7953\"],[0.7777777777777778,\"#fb9f3a\"],[0.8888888888888888,\"#fdca26\"],[1.0,\"#f0f921\"]]}],\"heatmapgl\":[{\"type\":\"heatmapgl\",\"colorbar\":{\"outlinewidth\":0,\"ticks\":\"\"},\"colorscale\":[[0.0,\"#0d0887\"],[0.1111111111111111,\"#46039f\"],[0.2222222222222222,\"#7201a8\"],[0.3333333333333333,\"#9c179e\"],[0.4444444444444444,\"#bd3786\"],[0.5555555555555556,\"#d8576b\"],[0.6666666666666666,\"#ed7953\"],[0.7777777777777778,\"#fb9f3a\"],[0.8888888888888888,\"#fdca26\"],[1.0,\"#f0f921\"]]}],\"contourcarpet\":[{\"type\":\"contourcarpet\",\"colorbar\":{\"outlinewidth\":0,\"ticks\":\"\"}}],\"contour\":[{\"type\":\"contour\",\"colorbar\":{\"outlinewidth\":0,\"ticks\":\"\"},\"colorscale\":[[0.0,\"#0d0887\"],[0.1111111111111111,\"#46039f\"],[0.2222222222222222,\"#7201a8\"],[0.3333333333333333,\"#9c179e\"],[0.4444444444444444,\"#bd3786\"],[0.5555555555555556,\"#d8576b\"],[0.6666666666666666,\"#ed7953\"],[0.7777777777777778,\"#fb9f3a\"],[0.8888888888888888,\"#fdca26\"],[1.0,\"#f0f921\"]]}],\"surface\":[{\"type\":\"surface\",\"colorbar\":{\"outlinewidth\":0,\"ticks\":\"\"},\"colorscale\":[[0.0,\"#0d0887\"],[0.1111111111111111,\"#46039f\"],[0.2222222222222222,\"#7201a8\"],[0.3333333333333333,\"#9c179e\"],[0.4444444444444444,\"#bd3786\"],[0.5555555555555556,\"#d8576b\"],[0.6666666666666666,\"#ed7953\"],[0.7777777777777778,\"#fb9f3a\"],[0.8888888888888888,\"#fdca26\"],[1.0,\"#f0f921\"]]}],\"mesh3d\":[{\"type\":\"mesh3d\",\"colorbar\":{\"outlinewidth\":0,\"ticks\":\"\"}}],\"scatter\":[{\"fillpattern\":{\"fillmode\":\"overlay\",\"size\":10,\"solidity\":0.2},\"type\":\"scatter\"}],\"parcoords\":[{\"type\":\"parcoords\",\"line\":{\"colorbar\":{\"outlinewidth\":0,\"ticks\":\"\"}}}],\"scatterpolargl\":[{\"type\":\"scatterpolargl\",\"marker\":{\"colorbar\":{\"outlinewidth\":0,\"ticks\":\"\"}}}],\"bar\":[{\"error_x\":{\"color\":\"#2a3f5f\"},\"error_y\":{\"color\":\"#2a3f5f\"},\"marker\":{\"line\":{\"color\":\"#E5ECF6\",\"width\":0.5},\"pattern\":{\"fillmode\":\"overlay\",\"size\":10,\"solidity\":0.2}},\"type\":\"bar\"}],\"scattergeo\":[{\"type\":\"scattergeo\",\"marker\":{\"colorbar\":{\"outlinewidth\":0,\"ticks\":\"\"}}}],\"scatterpolar\":[{\"type\":\"scatterpolar\",\"marker\":{\"colorbar\":{\"outlinewidth\":0,\"ticks\":\"\"}}}],\"histogram\":[{\"marker\":{\"pattern\":{\"fillmode\":\"overlay\",\"size\":10,\"solidity\":0.2}},\"type\":\"histogram\"}],\"scattergl\":[{\"type\":\"scattergl\",\"marker\":{\"colorbar\":{\"outlinewidth\":0,\"ticks\":\"\"}}}],\"scatter3d\":[{\"type\":\"scatter3d\",\"line\":{\"colorbar\":{\"outlinewidth\":0,\"ticks\":\"\"}},\"marker\":{\"colorbar\":{\"outlinewidth\":0,\"ticks\":\"\"}}}],\"scattermapbox\":[{\"type\":\"scattermapbox\",\"marker\":{\"colorbar\":{\"outlinewidth\":0,\"ticks\":\"\"}}}],\"scatterternary\":[{\"type\":\"scatterternary\",\"marker\":{\"colorbar\":{\"outlinewidth\":0,\"ticks\":\"\"}}}],\"scattercarpet\":[{\"type\":\"scattercarpet\",\"marker\":{\"colorbar\":{\"outlinewidth\":0,\"ticks\":\"\"}}}],\"carpet\":[{\"aaxis\":{\"endlinecolor\":\"#2a3f5f\",\"gridcolor\":\"white\",\"linecolor\":\"white\",\"minorgridcolor\":\"white\",\"startlinecolor\":\"#2a3f5f\"},\"baxis\":{\"endlinecolor\":\"#2a3f5f\",\"gridcolor\":\"white\",\"linecolor\":\"white\",\"minorgridcolor\":\"white\",\"startlinecolor\":\"#2a3f5f\"},\"type\":\"carpet\"}],\"table\":[{\"cells\":{\"fill\":{\"color\":\"#EBF0F8\"},\"line\":{\"color\":\"white\"}},\"header\":{\"fill\":{\"color\":\"#C8D4E3\"},\"line\":{\"color\":\"white\"}},\"type\":\"table\"}],\"barpolar\":[{\"marker\":{\"line\":{\"color\":\"#E5ECF6\",\"width\":0.5},\"pattern\":{\"fillmode\":\"overlay\",\"size\":10,\"solidity\":0.2}},\"type\":\"barpolar\"}],\"pie\":[{\"automargin\":true,\"type\":\"pie\"}]},\"layout\":{\"autotypenumbers\":\"strict\",\"colorway\":[\"#636efa\",\"#EF553B\",\"#00cc96\",\"#ab63fa\",\"#FFA15A\",\"#19d3f3\",\"#FF6692\",\"#B6E880\",\"#FF97FF\",\"#FECB52\"],\"font\":{\"color\":\"#2a3f5f\"},\"hovermode\":\"closest\",\"hoverlabel\":{\"align\":\"left\"},\"paper_bgcolor\":\"white\",\"plot_bgcolor\":\"#E5ECF6\",\"polar\":{\"bgcolor\":\"#E5ECF6\",\"angularaxis\":{\"gridcolor\":\"white\",\"linecolor\":\"white\",\"ticks\":\"\"},\"radialaxis\":{\"gridcolor\":\"white\",\"linecolor\":\"white\",\"ticks\":\"\"}},\"ternary\":{\"bgcolor\":\"#E5ECF6\",\"aaxis\":{\"gridcolor\":\"white\",\"linecolor\":\"white\",\"ticks\":\"\"},\"baxis\":{\"gridcolor\":\"white\",\"linecolor\":\"white\",\"ticks\":\"\"},\"caxis\":{\"gridcolor\":\"white\",\"linecolor\":\"white\",\"ticks\":\"\"}},\"coloraxis\":{\"colorbar\":{\"outlinewidth\":0,\"ticks\":\"\"}},\"colorscale\":{\"sequential\":[[0.0,\"#0d0887\"],[0.1111111111111111,\"#46039f\"],[0.2222222222222222,\"#7201a8\"],[0.3333333333333333,\"#9c179e\"],[0.4444444444444444,\"#bd3786\"],[0.5555555555555556,\"#d8576b\"],[0.6666666666666666,\"#ed7953\"],[0.7777777777777778,\"#fb9f3a\"],[0.8888888888888888,\"#fdca26\"],[1.0,\"#f0f921\"]],\"sequentialminus\":[[0.0,\"#0d0887\"],[0.1111111111111111,\"#46039f\"],[0.2222222222222222,\"#7201a8\"],[0.3333333333333333,\"#9c179e\"],[0.4444444444444444,\"#bd3786\"],[0.5555555555555556,\"#d8576b\"],[0.6666666666666666,\"#ed7953\"],[0.7777777777777778,\"#fb9f3a\"],[0.8888888888888888,\"#fdca26\"],[1.0,\"#f0f921\"]],\"diverging\":[[0,\"#8e0152\"],[0.1,\"#c51b7d\"],[0.2,\"#de77ae\"],[0.3,\"#f1b6da\"],[0.4,\"#fde0ef\"],[0.5,\"#f7f7f7\"],[0.6,\"#e6f5d0\"],[0.7,\"#b8e186\"],[0.8,\"#7fbc41\"],[0.9,\"#4d9221\"],[1,\"#276419\"]]},\"xaxis\":{\"gridcolor\":\"white\",\"linecolor\":\"white\",\"ticks\":\"\",\"title\":{\"standoff\":15},\"zerolinecolor\":\"white\",\"automargin\":true,\"zerolinewidth\":2},\"yaxis\":{\"gridcolor\":\"white\",\"linecolor\":\"white\",\"ticks\":\"\",\"title\":{\"standoff\":15},\"zerolinecolor\":\"white\",\"automargin\":true,\"zerolinewidth\":2},\"scene\":{\"xaxis\":{\"backgroundcolor\":\"#E5ECF6\",\"gridcolor\":\"white\",\"linecolor\":\"white\",\"showbackground\":true,\"ticks\":\"\",\"zerolinecolor\":\"white\",\"gridwidth\":2},\"yaxis\":{\"backgroundcolor\":\"#E5ECF6\",\"gridcolor\":\"white\",\"linecolor\":\"white\",\"showbackground\":true,\"ticks\":\"\",\"zerolinecolor\":\"white\",\"gridwidth\":2},\"zaxis\":{\"backgroundcolor\":\"#E5ECF6\",\"gridcolor\":\"white\",\"linecolor\":\"white\",\"showbackground\":true,\"ticks\":\"\",\"zerolinecolor\":\"white\",\"gridwidth\":2}},\"shapedefaults\":{\"line\":{\"color\":\"#2a3f5f\"}},\"annotationdefaults\":{\"arrowcolor\":\"#2a3f5f\",\"arrowhead\":0,\"arrowwidth\":1},\"geo\":{\"bgcolor\":\"white\",\"landcolor\":\"#E5ECF6\",\"subunitcolor\":\"white\",\"showland\":true,\"showlakes\":true,\"lakecolor\":\"white\"},\"title\":{\"x\":0.05},\"mapbox\":{\"style\":\"light\"}}},\"xaxis\":{\"anchor\":\"y\",\"domain\":[0.0,1.0],\"title\":{\"text\":\"Type\"}},\"yaxis\":{\"anchor\":\"x\",\"domain\":[0.0,1.0],\"title\":{\"text\":\"count\"}},\"legend\":{\"tracegroupgap\":0},\"margin\":{\"t\":60},\"barmode\":\"relative\"},                        {\"responsive\": true}                    ).then(function(){\n                            \nvar gd = document.getElementById('193b6e44-0a58-4938-8f30-b257e53a7a98');\nvar x = new MutationObserver(function (mutations, observer) {{\n        var display = window.getComputedStyle(gd).display;\n        if (!display || display === 'none') {{\n            console.log([gd, 'removed!']);\n            Plotly.purge(gd);\n            observer.disconnect();\n        }}\n}});\n\n// Listen for the removal of the full notebook cells\nvar notebookContainer = gd.closest('#notebook-container');\nif (notebookContainer) {{\n    x.observe(notebookContainer, {childList: true});\n}}\n\n// Listen for the clearing of the current output cell\nvar outputEl = gd.closest('.output');\nif (outputEl) {{\n    x.observe(outputEl, {childList: true});\n}}\n\n                        })                };                });            </script>        </div>"
     },
     "metadata": {},
     "output_type": "display_data"
    },
    {
     "data": {
      "application/vnd.plotly.v1+json": {
       "data": [
        {
         "alignmentgroup": "True",
         "bingroup": "x",
         "hovertemplate": "BodyPart=%{x}<br>count=%{y}<extra></extra>",
         "legendgroup": "",
         "marker": {
          "color": "#636efa",
          "pattern": {
           "shape": ""
          }
         },
         "name": "",
         "offsetgroup": "",
         "orientation": "v",
         "showlegend": false,
         "x": [
          "Abdominals",
          "Abdominals",
          "Adductors",
          "Biceps",
          "Biceps",
          "Biceps",
          "Biceps",
          "Biceps",
          "Biceps",
          "Calves",
          "Chest",
          "Chest",
          "Chest",
          "Chest",
          "Chest",
          "Chest",
          "Chest",
          "Chest",
          "Chest",
          "Chest",
          "Chest",
          "Chest",
          "Hamstrings",
          "Hamstrings",
          "Hamstrings",
          "Lats",
          "Lats",
          "Lats",
          "Lats",
          "Lats",
          "Lats",
          "Middle Back",
          "Middle Back",
          "Middle Back",
          "Middle Back",
          "Traps",
          "Traps",
          "Quadriceps",
          "Quadriceps",
          "Quadriceps",
          "Quadriceps",
          "Shoulders",
          "Shoulders",
          "Shoulders",
          "Shoulders",
          "Triceps",
          "Triceps",
          "Triceps",
          "Triceps",
          "Triceps",
          "Triceps",
          "Triceps",
          "Triceps"
         ],
         "xaxis": "x",
         "yaxis": "y",
         "type": "histogram"
        }
       ],
       "layout": {
        "template": {
         "data": {
          "histogram2dcontour": [
           {
            "type": "histogram2dcontour",
            "colorbar": {
             "outlinewidth": 0,
             "ticks": ""
            },
            "colorscale": [
             [
              0.0,
              "#0d0887"
             ],
             [
              0.1111111111111111,
              "#46039f"
             ],
             [
              0.2222222222222222,
              "#7201a8"
             ],
             [
              0.3333333333333333,
              "#9c179e"
             ],
             [
              0.4444444444444444,
              "#bd3786"
             ],
             [
              0.5555555555555556,
              "#d8576b"
             ],
             [
              0.6666666666666666,
              "#ed7953"
             ],
             [
              0.7777777777777778,
              "#fb9f3a"
             ],
             [
              0.8888888888888888,
              "#fdca26"
             ],
             [
              1.0,
              "#f0f921"
             ]
            ]
           }
          ],
          "choropleth": [
           {
            "type": "choropleth",
            "colorbar": {
             "outlinewidth": 0,
             "ticks": ""
            }
           }
          ],
          "histogram2d": [
           {
            "type": "histogram2d",
            "colorbar": {
             "outlinewidth": 0,
             "ticks": ""
            },
            "colorscale": [
             [
              0.0,
              "#0d0887"
             ],
             [
              0.1111111111111111,
              "#46039f"
             ],
             [
              0.2222222222222222,
              "#7201a8"
             ],
             [
              0.3333333333333333,
              "#9c179e"
             ],
             [
              0.4444444444444444,
              "#bd3786"
             ],
             [
              0.5555555555555556,
              "#d8576b"
             ],
             [
              0.6666666666666666,
              "#ed7953"
             ],
             [
              0.7777777777777778,
              "#fb9f3a"
             ],
             [
              0.8888888888888888,
              "#fdca26"
             ],
             [
              1.0,
              "#f0f921"
             ]
            ]
           }
          ],
          "heatmap": [
           {
            "type": "heatmap",
            "colorbar": {
             "outlinewidth": 0,
             "ticks": ""
            },
            "colorscale": [
             [
              0.0,
              "#0d0887"
             ],
             [
              0.1111111111111111,
              "#46039f"
             ],
             [
              0.2222222222222222,
              "#7201a8"
             ],
             [
              0.3333333333333333,
              "#9c179e"
             ],
             [
              0.4444444444444444,
              "#bd3786"
             ],
             [
              0.5555555555555556,
              "#d8576b"
             ],
             [
              0.6666666666666666,
              "#ed7953"
             ],
             [
              0.7777777777777778,
              "#fb9f3a"
             ],
             [
              0.8888888888888888,
              "#fdca26"
             ],
             [
              1.0,
              "#f0f921"
             ]
            ]
           }
          ],
          "heatmapgl": [
           {
            "type": "heatmapgl",
            "colorbar": {
             "outlinewidth": 0,
             "ticks": ""
            },
            "colorscale": [
             [
              0.0,
              "#0d0887"
             ],
             [
              0.1111111111111111,
              "#46039f"
             ],
             [
              0.2222222222222222,
              "#7201a8"
             ],
             [
              0.3333333333333333,
              "#9c179e"
             ],
             [
              0.4444444444444444,
              "#bd3786"
             ],
             [
              0.5555555555555556,
              "#d8576b"
             ],
             [
              0.6666666666666666,
              "#ed7953"
             ],
             [
              0.7777777777777778,
              "#fb9f3a"
             ],
             [
              0.8888888888888888,
              "#fdca26"
             ],
             [
              1.0,
              "#f0f921"
             ]
            ]
           }
          ],
          "contourcarpet": [
           {
            "type": "contourcarpet",
            "colorbar": {
             "outlinewidth": 0,
             "ticks": ""
            }
           }
          ],
          "contour": [
           {
            "type": "contour",
            "colorbar": {
             "outlinewidth": 0,
             "ticks": ""
            },
            "colorscale": [
             [
              0.0,
              "#0d0887"
             ],
             [
              0.1111111111111111,
              "#46039f"
             ],
             [
              0.2222222222222222,
              "#7201a8"
             ],
             [
              0.3333333333333333,
              "#9c179e"
             ],
             [
              0.4444444444444444,
              "#bd3786"
             ],
             [
              0.5555555555555556,
              "#d8576b"
             ],
             [
              0.6666666666666666,
              "#ed7953"
             ],
             [
              0.7777777777777778,
              "#fb9f3a"
             ],
             [
              0.8888888888888888,
              "#fdca26"
             ],
             [
              1.0,
              "#f0f921"
             ]
            ]
           }
          ],
          "surface": [
           {
            "type": "surface",
            "colorbar": {
             "outlinewidth": 0,
             "ticks": ""
            },
            "colorscale": [
             [
              0.0,
              "#0d0887"
             ],
             [
              0.1111111111111111,
              "#46039f"
             ],
             [
              0.2222222222222222,
              "#7201a8"
             ],
             [
              0.3333333333333333,
              "#9c179e"
             ],
             [
              0.4444444444444444,
              "#bd3786"
             ],
             [
              0.5555555555555556,
              "#d8576b"
             ],
             [
              0.6666666666666666,
              "#ed7953"
             ],
             [
              0.7777777777777778,
              "#fb9f3a"
             ],
             [
              0.8888888888888888,
              "#fdca26"
             ],
             [
              1.0,
              "#f0f921"
             ]
            ]
           }
          ],
          "mesh3d": [
           {
            "type": "mesh3d",
            "colorbar": {
             "outlinewidth": 0,
             "ticks": ""
            }
           }
          ],
          "scatter": [
           {
            "fillpattern": {
             "fillmode": "overlay",
             "size": 10,
             "solidity": 0.2
            },
            "type": "scatter"
           }
          ],
          "parcoords": [
           {
            "type": "parcoords",
            "line": {
             "colorbar": {
              "outlinewidth": 0,
              "ticks": ""
             }
            }
           }
          ],
          "scatterpolargl": [
           {
            "type": "scatterpolargl",
            "marker": {
             "colorbar": {
              "outlinewidth": 0,
              "ticks": ""
             }
            }
           }
          ],
          "bar": [
           {
            "error_x": {
             "color": "#2a3f5f"
            },
            "error_y": {
             "color": "#2a3f5f"
            },
            "marker": {
             "line": {
              "color": "#E5ECF6",
              "width": 0.5
             },
             "pattern": {
              "fillmode": "overlay",
              "size": 10,
              "solidity": 0.2
             }
            },
            "type": "bar"
           }
          ],
          "scattergeo": [
           {
            "type": "scattergeo",
            "marker": {
             "colorbar": {
              "outlinewidth": 0,
              "ticks": ""
             }
            }
           }
          ],
          "scatterpolar": [
           {
            "type": "scatterpolar",
            "marker": {
             "colorbar": {
              "outlinewidth": 0,
              "ticks": ""
             }
            }
           }
          ],
          "histogram": [
           {
            "marker": {
             "pattern": {
              "fillmode": "overlay",
              "size": 10,
              "solidity": 0.2
             }
            },
            "type": "histogram"
           }
          ],
          "scattergl": [
           {
            "type": "scattergl",
            "marker": {
             "colorbar": {
              "outlinewidth": 0,
              "ticks": ""
             }
            }
           }
          ],
          "scatter3d": [
           {
            "type": "scatter3d",
            "line": {
             "colorbar": {
              "outlinewidth": 0,
              "ticks": ""
             }
            },
            "marker": {
             "colorbar": {
              "outlinewidth": 0,
              "ticks": ""
             }
            }
           }
          ],
          "scattermapbox": [
           {
            "type": "scattermapbox",
            "marker": {
             "colorbar": {
              "outlinewidth": 0,
              "ticks": ""
             }
            }
           }
          ],
          "scatterternary": [
           {
            "type": "scatterternary",
            "marker": {
             "colorbar": {
              "outlinewidth": 0,
              "ticks": ""
             }
            }
           }
          ],
          "scattercarpet": [
           {
            "type": "scattercarpet",
            "marker": {
             "colorbar": {
              "outlinewidth": 0,
              "ticks": ""
             }
            }
           }
          ],
          "carpet": [
           {
            "aaxis": {
             "endlinecolor": "#2a3f5f",
             "gridcolor": "white",
             "linecolor": "white",
             "minorgridcolor": "white",
             "startlinecolor": "#2a3f5f"
            },
            "baxis": {
             "endlinecolor": "#2a3f5f",
             "gridcolor": "white",
             "linecolor": "white",
             "minorgridcolor": "white",
             "startlinecolor": "#2a3f5f"
            },
            "type": "carpet"
           }
          ],
          "table": [
           {
            "cells": {
             "fill": {
              "color": "#EBF0F8"
             },
             "line": {
              "color": "white"
             }
            },
            "header": {
             "fill": {
              "color": "#C8D4E3"
             },
             "line": {
              "color": "white"
             }
            },
            "type": "table"
           }
          ],
          "barpolar": [
           {
            "marker": {
             "line": {
              "color": "#E5ECF6",
              "width": 0.5
             },
             "pattern": {
              "fillmode": "overlay",
              "size": 10,
              "solidity": 0.2
             }
            },
            "type": "barpolar"
           }
          ],
          "pie": [
           {
            "automargin": true,
            "type": "pie"
           }
          ]
         },
         "layout": {
          "autotypenumbers": "strict",
          "colorway": [
           "#636efa",
           "#EF553B",
           "#00cc96",
           "#ab63fa",
           "#FFA15A",
           "#19d3f3",
           "#FF6692",
           "#B6E880",
           "#FF97FF",
           "#FECB52"
          ],
          "font": {
           "color": "#2a3f5f"
          },
          "hovermode": "closest",
          "hoverlabel": {
           "align": "left"
          },
          "paper_bgcolor": "white",
          "plot_bgcolor": "#E5ECF6",
          "polar": {
           "bgcolor": "#E5ECF6",
           "angularaxis": {
            "gridcolor": "white",
            "linecolor": "white",
            "ticks": ""
           },
           "radialaxis": {
            "gridcolor": "white",
            "linecolor": "white",
            "ticks": ""
           }
          },
          "ternary": {
           "bgcolor": "#E5ECF6",
           "aaxis": {
            "gridcolor": "white",
            "linecolor": "white",
            "ticks": ""
           },
           "baxis": {
            "gridcolor": "white",
            "linecolor": "white",
            "ticks": ""
           },
           "caxis": {
            "gridcolor": "white",
            "linecolor": "white",
            "ticks": ""
           }
          },
          "coloraxis": {
           "colorbar": {
            "outlinewidth": 0,
            "ticks": ""
           }
          },
          "colorscale": {
           "sequential": [
            [
             0.0,
             "#0d0887"
            ],
            [
             0.1111111111111111,
             "#46039f"
            ],
            [
             0.2222222222222222,
             "#7201a8"
            ],
            [
             0.3333333333333333,
             "#9c179e"
            ],
            [
             0.4444444444444444,
             "#bd3786"
            ],
            [
             0.5555555555555556,
             "#d8576b"
            ],
            [
             0.6666666666666666,
             "#ed7953"
            ],
            [
             0.7777777777777778,
             "#fb9f3a"
            ],
            [
             0.8888888888888888,
             "#fdca26"
            ],
            [
             1.0,
             "#f0f921"
            ]
           ],
           "sequentialminus": [
            [
             0.0,
             "#0d0887"
            ],
            [
             0.1111111111111111,
             "#46039f"
            ],
            [
             0.2222222222222222,
             "#7201a8"
            ],
            [
             0.3333333333333333,
             "#9c179e"
            ],
            [
             0.4444444444444444,
             "#bd3786"
            ],
            [
             0.5555555555555556,
             "#d8576b"
            ],
            [
             0.6666666666666666,
             "#ed7953"
            ],
            [
             0.7777777777777778,
             "#fb9f3a"
            ],
            [
             0.8888888888888888,
             "#fdca26"
            ],
            [
             1.0,
             "#f0f921"
            ]
           ],
           "diverging": [
            [
             0,
             "#8e0152"
            ],
            [
             0.1,
             "#c51b7d"
            ],
            [
             0.2,
             "#de77ae"
            ],
            [
             0.3,
             "#f1b6da"
            ],
            [
             0.4,
             "#fde0ef"
            ],
            [
             0.5,
             "#f7f7f7"
            ],
            [
             0.6,
             "#e6f5d0"
            ],
            [
             0.7,
             "#b8e186"
            ],
            [
             0.8,
             "#7fbc41"
            ],
            [
             0.9,
             "#4d9221"
            ],
            [
             1,
             "#276419"
            ]
           ]
          },
          "xaxis": {
           "gridcolor": "white",
           "linecolor": "white",
           "ticks": "",
           "title": {
            "standoff": 15
           },
           "zerolinecolor": "white",
           "automargin": true,
           "zerolinewidth": 2
          },
          "yaxis": {
           "gridcolor": "white",
           "linecolor": "white",
           "ticks": "",
           "title": {
            "standoff": 15
           },
           "zerolinecolor": "white",
           "automargin": true,
           "zerolinewidth": 2
          },
          "scene": {
           "xaxis": {
            "backgroundcolor": "#E5ECF6",
            "gridcolor": "white",
            "linecolor": "white",
            "showbackground": true,
            "ticks": "",
            "zerolinecolor": "white",
            "gridwidth": 2
           },
           "yaxis": {
            "backgroundcolor": "#E5ECF6",
            "gridcolor": "white",
            "linecolor": "white",
            "showbackground": true,
            "ticks": "",
            "zerolinecolor": "white",
            "gridwidth": 2
           },
           "zaxis": {
            "backgroundcolor": "#E5ECF6",
            "gridcolor": "white",
            "linecolor": "white",
            "showbackground": true,
            "ticks": "",
            "zerolinecolor": "white",
            "gridwidth": 2
           }
          },
          "shapedefaults": {
           "line": {
            "color": "#2a3f5f"
           }
          },
          "annotationdefaults": {
           "arrowcolor": "#2a3f5f",
           "arrowhead": 0,
           "arrowwidth": 1
          },
          "geo": {
           "bgcolor": "white",
           "landcolor": "#E5ECF6",
           "subunitcolor": "white",
           "showland": true,
           "showlakes": true,
           "lakecolor": "white"
          },
          "title": {
           "x": 0.05
          },
          "mapbox": {
           "style": "light"
          }
         }
        },
        "xaxis": {
         "anchor": "y",
         "domain": [
          0.0,
          1.0
         ],
         "title": {
          "text": "BodyPart"
         }
        },
        "yaxis": {
         "anchor": "x",
         "domain": [
          0.0,
          1.0
         ],
         "title": {
          "text": "count"
         }
        },
        "legend": {
         "tracegroupgap": 0
        },
        "margin": {
         "t": 60
        },
        "barmode": "relative"
       },
       "config": {
        "plotlyServerURL": "https://plot.ly"
       }
      },
      "text/html": "<div>                            <div id=\"7a1b0fce-cac2-483e-a15d-f3d6a7462ba0\" class=\"plotly-graph-div\" style=\"height:525px; width:100%;\"></div>            <script type=\"text/javascript\">                require([\"plotly\"], function(Plotly) {                    window.PLOTLYENV=window.PLOTLYENV || {};                                    if (document.getElementById(\"7a1b0fce-cac2-483e-a15d-f3d6a7462ba0\")) {                    Plotly.newPlot(                        \"7a1b0fce-cac2-483e-a15d-f3d6a7462ba0\",                        [{\"alignmentgroup\":\"True\",\"bingroup\":\"x\",\"hovertemplate\":\"BodyPart=%{x}\\u003cbr\\u003ecount=%{y}\\u003cextra\\u003e\\u003c\\u002fextra\\u003e\",\"legendgroup\":\"\",\"marker\":{\"color\":\"#636efa\",\"pattern\":{\"shape\":\"\"}},\"name\":\"\",\"offsetgroup\":\"\",\"orientation\":\"v\",\"showlegend\":false,\"x\":[\"Abdominals\",\"Abdominals\",\"Adductors\",\"Biceps\",\"Biceps\",\"Biceps\",\"Biceps\",\"Biceps\",\"Biceps\",\"Calves\",\"Chest\",\"Chest\",\"Chest\",\"Chest\",\"Chest\",\"Chest\",\"Chest\",\"Chest\",\"Chest\",\"Chest\",\"Chest\",\"Chest\",\"Hamstrings\",\"Hamstrings\",\"Hamstrings\",\"Lats\",\"Lats\",\"Lats\",\"Lats\",\"Lats\",\"Lats\",\"Middle Back\",\"Middle Back\",\"Middle Back\",\"Middle Back\",\"Traps\",\"Traps\",\"Quadriceps\",\"Quadriceps\",\"Quadriceps\",\"Quadriceps\",\"Shoulders\",\"Shoulders\",\"Shoulders\",\"Shoulders\",\"Triceps\",\"Triceps\",\"Triceps\",\"Triceps\",\"Triceps\",\"Triceps\",\"Triceps\",\"Triceps\"],\"xaxis\":\"x\",\"yaxis\":\"y\",\"type\":\"histogram\"}],                        {\"template\":{\"data\":{\"histogram2dcontour\":[{\"type\":\"histogram2dcontour\",\"colorbar\":{\"outlinewidth\":0,\"ticks\":\"\"},\"colorscale\":[[0.0,\"#0d0887\"],[0.1111111111111111,\"#46039f\"],[0.2222222222222222,\"#7201a8\"],[0.3333333333333333,\"#9c179e\"],[0.4444444444444444,\"#bd3786\"],[0.5555555555555556,\"#d8576b\"],[0.6666666666666666,\"#ed7953\"],[0.7777777777777778,\"#fb9f3a\"],[0.8888888888888888,\"#fdca26\"],[1.0,\"#f0f921\"]]}],\"choropleth\":[{\"type\":\"choropleth\",\"colorbar\":{\"outlinewidth\":0,\"ticks\":\"\"}}],\"histogram2d\":[{\"type\":\"histogram2d\",\"colorbar\":{\"outlinewidth\":0,\"ticks\":\"\"},\"colorscale\":[[0.0,\"#0d0887\"],[0.1111111111111111,\"#46039f\"],[0.2222222222222222,\"#7201a8\"],[0.3333333333333333,\"#9c179e\"],[0.4444444444444444,\"#bd3786\"],[0.5555555555555556,\"#d8576b\"],[0.6666666666666666,\"#ed7953\"],[0.7777777777777778,\"#fb9f3a\"],[0.8888888888888888,\"#fdca26\"],[1.0,\"#f0f921\"]]}],\"heatmap\":[{\"type\":\"heatmap\",\"colorbar\":{\"outlinewidth\":0,\"ticks\":\"\"},\"colorscale\":[[0.0,\"#0d0887\"],[0.1111111111111111,\"#46039f\"],[0.2222222222222222,\"#7201a8\"],[0.3333333333333333,\"#9c179e\"],[0.4444444444444444,\"#bd3786\"],[0.5555555555555556,\"#d8576b\"],[0.6666666666666666,\"#ed7953\"],[0.7777777777777778,\"#fb9f3a\"],[0.8888888888888888,\"#fdca26\"],[1.0,\"#f0f921\"]]}],\"heatmapgl\":[{\"type\":\"heatmapgl\",\"colorbar\":{\"outlinewidth\":0,\"ticks\":\"\"},\"colorscale\":[[0.0,\"#0d0887\"],[0.1111111111111111,\"#46039f\"],[0.2222222222222222,\"#7201a8\"],[0.3333333333333333,\"#9c179e\"],[0.4444444444444444,\"#bd3786\"],[0.5555555555555556,\"#d8576b\"],[0.6666666666666666,\"#ed7953\"],[0.7777777777777778,\"#fb9f3a\"],[0.8888888888888888,\"#fdca26\"],[1.0,\"#f0f921\"]]}],\"contourcarpet\":[{\"type\":\"contourcarpet\",\"colorbar\":{\"outlinewidth\":0,\"ticks\":\"\"}}],\"contour\":[{\"type\":\"contour\",\"colorbar\":{\"outlinewidth\":0,\"ticks\":\"\"},\"colorscale\":[[0.0,\"#0d0887\"],[0.1111111111111111,\"#46039f\"],[0.2222222222222222,\"#7201a8\"],[0.3333333333333333,\"#9c179e\"],[0.4444444444444444,\"#bd3786\"],[0.5555555555555556,\"#d8576b\"],[0.6666666666666666,\"#ed7953\"],[0.7777777777777778,\"#fb9f3a\"],[0.8888888888888888,\"#fdca26\"],[1.0,\"#f0f921\"]]}],\"surface\":[{\"type\":\"surface\",\"colorbar\":{\"outlinewidth\":0,\"ticks\":\"\"},\"colorscale\":[[0.0,\"#0d0887\"],[0.1111111111111111,\"#46039f\"],[0.2222222222222222,\"#7201a8\"],[0.3333333333333333,\"#9c179e\"],[0.4444444444444444,\"#bd3786\"],[0.5555555555555556,\"#d8576b\"],[0.6666666666666666,\"#ed7953\"],[0.7777777777777778,\"#fb9f3a\"],[0.8888888888888888,\"#fdca26\"],[1.0,\"#f0f921\"]]}],\"mesh3d\":[{\"type\":\"mesh3d\",\"colorbar\":{\"outlinewidth\":0,\"ticks\":\"\"}}],\"scatter\":[{\"fillpattern\":{\"fillmode\":\"overlay\",\"size\":10,\"solidity\":0.2},\"type\":\"scatter\"}],\"parcoords\":[{\"type\":\"parcoords\",\"line\":{\"colorbar\":{\"outlinewidth\":0,\"ticks\":\"\"}}}],\"scatterpolargl\":[{\"type\":\"scatterpolargl\",\"marker\":{\"colorbar\":{\"outlinewidth\":0,\"ticks\":\"\"}}}],\"bar\":[{\"error_x\":{\"color\":\"#2a3f5f\"},\"error_y\":{\"color\":\"#2a3f5f\"},\"marker\":{\"line\":{\"color\":\"#E5ECF6\",\"width\":0.5},\"pattern\":{\"fillmode\":\"overlay\",\"size\":10,\"solidity\":0.2}},\"type\":\"bar\"}],\"scattergeo\":[{\"type\":\"scattergeo\",\"marker\":{\"colorbar\":{\"outlinewidth\":0,\"ticks\":\"\"}}}],\"scatterpolar\":[{\"type\":\"scatterpolar\",\"marker\":{\"colorbar\":{\"outlinewidth\":0,\"ticks\":\"\"}}}],\"histogram\":[{\"marker\":{\"pattern\":{\"fillmode\":\"overlay\",\"size\":10,\"solidity\":0.2}},\"type\":\"histogram\"}],\"scattergl\":[{\"type\":\"scattergl\",\"marker\":{\"colorbar\":{\"outlinewidth\":0,\"ticks\":\"\"}}}],\"scatter3d\":[{\"type\":\"scatter3d\",\"line\":{\"colorbar\":{\"outlinewidth\":0,\"ticks\":\"\"}},\"marker\":{\"colorbar\":{\"outlinewidth\":0,\"ticks\":\"\"}}}],\"scattermapbox\":[{\"type\":\"scattermapbox\",\"marker\":{\"colorbar\":{\"outlinewidth\":0,\"ticks\":\"\"}}}],\"scatterternary\":[{\"type\":\"scatterternary\",\"marker\":{\"colorbar\":{\"outlinewidth\":0,\"ticks\":\"\"}}}],\"scattercarpet\":[{\"type\":\"scattercarpet\",\"marker\":{\"colorbar\":{\"outlinewidth\":0,\"ticks\":\"\"}}}],\"carpet\":[{\"aaxis\":{\"endlinecolor\":\"#2a3f5f\",\"gridcolor\":\"white\",\"linecolor\":\"white\",\"minorgridcolor\":\"white\",\"startlinecolor\":\"#2a3f5f\"},\"baxis\":{\"endlinecolor\":\"#2a3f5f\",\"gridcolor\":\"white\",\"linecolor\":\"white\",\"minorgridcolor\":\"white\",\"startlinecolor\":\"#2a3f5f\"},\"type\":\"carpet\"}],\"table\":[{\"cells\":{\"fill\":{\"color\":\"#EBF0F8\"},\"line\":{\"color\":\"white\"}},\"header\":{\"fill\":{\"color\":\"#C8D4E3\"},\"line\":{\"color\":\"white\"}},\"type\":\"table\"}],\"barpolar\":[{\"marker\":{\"line\":{\"color\":\"#E5ECF6\",\"width\":0.5},\"pattern\":{\"fillmode\":\"overlay\",\"size\":10,\"solidity\":0.2}},\"type\":\"barpolar\"}],\"pie\":[{\"automargin\":true,\"type\":\"pie\"}]},\"layout\":{\"autotypenumbers\":\"strict\",\"colorway\":[\"#636efa\",\"#EF553B\",\"#00cc96\",\"#ab63fa\",\"#FFA15A\",\"#19d3f3\",\"#FF6692\",\"#B6E880\",\"#FF97FF\",\"#FECB52\"],\"font\":{\"color\":\"#2a3f5f\"},\"hovermode\":\"closest\",\"hoverlabel\":{\"align\":\"left\"},\"paper_bgcolor\":\"white\",\"plot_bgcolor\":\"#E5ECF6\",\"polar\":{\"bgcolor\":\"#E5ECF6\",\"angularaxis\":{\"gridcolor\":\"white\",\"linecolor\":\"white\",\"ticks\":\"\"},\"radialaxis\":{\"gridcolor\":\"white\",\"linecolor\":\"white\",\"ticks\":\"\"}},\"ternary\":{\"bgcolor\":\"#E5ECF6\",\"aaxis\":{\"gridcolor\":\"white\",\"linecolor\":\"white\",\"ticks\":\"\"},\"baxis\":{\"gridcolor\":\"white\",\"linecolor\":\"white\",\"ticks\":\"\"},\"caxis\":{\"gridcolor\":\"white\",\"linecolor\":\"white\",\"ticks\":\"\"}},\"coloraxis\":{\"colorbar\":{\"outlinewidth\":0,\"ticks\":\"\"}},\"colorscale\":{\"sequential\":[[0.0,\"#0d0887\"],[0.1111111111111111,\"#46039f\"],[0.2222222222222222,\"#7201a8\"],[0.3333333333333333,\"#9c179e\"],[0.4444444444444444,\"#bd3786\"],[0.5555555555555556,\"#d8576b\"],[0.6666666666666666,\"#ed7953\"],[0.7777777777777778,\"#fb9f3a\"],[0.8888888888888888,\"#fdca26\"],[1.0,\"#f0f921\"]],\"sequentialminus\":[[0.0,\"#0d0887\"],[0.1111111111111111,\"#46039f\"],[0.2222222222222222,\"#7201a8\"],[0.3333333333333333,\"#9c179e\"],[0.4444444444444444,\"#bd3786\"],[0.5555555555555556,\"#d8576b\"],[0.6666666666666666,\"#ed7953\"],[0.7777777777777778,\"#fb9f3a\"],[0.8888888888888888,\"#fdca26\"],[1.0,\"#f0f921\"]],\"diverging\":[[0,\"#8e0152\"],[0.1,\"#c51b7d\"],[0.2,\"#de77ae\"],[0.3,\"#f1b6da\"],[0.4,\"#fde0ef\"],[0.5,\"#f7f7f7\"],[0.6,\"#e6f5d0\"],[0.7,\"#b8e186\"],[0.8,\"#7fbc41\"],[0.9,\"#4d9221\"],[1,\"#276419\"]]},\"xaxis\":{\"gridcolor\":\"white\",\"linecolor\":\"white\",\"ticks\":\"\",\"title\":{\"standoff\":15},\"zerolinecolor\":\"white\",\"automargin\":true,\"zerolinewidth\":2},\"yaxis\":{\"gridcolor\":\"white\",\"linecolor\":\"white\",\"ticks\":\"\",\"title\":{\"standoff\":15},\"zerolinecolor\":\"white\",\"automargin\":true,\"zerolinewidth\":2},\"scene\":{\"xaxis\":{\"backgroundcolor\":\"#E5ECF6\",\"gridcolor\":\"white\",\"linecolor\":\"white\",\"showbackground\":true,\"ticks\":\"\",\"zerolinecolor\":\"white\",\"gridwidth\":2},\"yaxis\":{\"backgroundcolor\":\"#E5ECF6\",\"gridcolor\":\"white\",\"linecolor\":\"white\",\"showbackground\":true,\"ticks\":\"\",\"zerolinecolor\":\"white\",\"gridwidth\":2},\"zaxis\":{\"backgroundcolor\":\"#E5ECF6\",\"gridcolor\":\"white\",\"linecolor\":\"white\",\"showbackground\":true,\"ticks\":\"\",\"zerolinecolor\":\"white\",\"gridwidth\":2}},\"shapedefaults\":{\"line\":{\"color\":\"#2a3f5f\"}},\"annotationdefaults\":{\"arrowcolor\":\"#2a3f5f\",\"arrowhead\":0,\"arrowwidth\":1},\"geo\":{\"bgcolor\":\"white\",\"landcolor\":\"#E5ECF6\",\"subunitcolor\":\"white\",\"showland\":true,\"showlakes\":true,\"lakecolor\":\"white\"},\"title\":{\"x\":0.05},\"mapbox\":{\"style\":\"light\"}}},\"xaxis\":{\"anchor\":\"y\",\"domain\":[0.0,1.0],\"title\":{\"text\":\"BodyPart\"}},\"yaxis\":{\"anchor\":\"x\",\"domain\":[0.0,1.0],\"title\":{\"text\":\"count\"}},\"legend\":{\"tracegroupgap\":0},\"margin\":{\"t\":60},\"barmode\":\"relative\"},                        {\"responsive\": true}                    ).then(function(){\n                            \nvar gd = document.getElementById('7a1b0fce-cac2-483e-a15d-f3d6a7462ba0');\nvar x = new MutationObserver(function (mutations, observer) {{\n        var display = window.getComputedStyle(gd).display;\n        if (!display || display === 'none') {{\n            console.log([gd, 'removed!']);\n            Plotly.purge(gd);\n            observer.disconnect();\n        }}\n}});\n\n// Listen for the removal of the full notebook cells\nvar notebookContainer = gd.closest('#notebook-container');\nif (notebookContainer) {{\n    x.observe(notebookContainer, {childList: true});\n}}\n\n// Listen for the clearing of the current output cell\nvar outputEl = gd.closest('.output');\nif (outputEl) {{\n    x.observe(outputEl, {childList: true});\n}}\n\n                        })                };                });            </script>        </div>"
     },
     "metadata": {},
     "output_type": "display_data"
    },
    {
     "data": {
      "application/vnd.plotly.v1+json": {
       "data": [
        {
         "alignmentgroup": "True",
         "bingroup": "x",
         "hovertemplate": "Equipment=%{x}<br>count=%{y}<extra></extra>",
         "legendgroup": "",
         "marker": {
          "color": "#636efa",
          "pattern": {
           "shape": ""
          }
         },
         "name": "",
         "offsetgroup": "",
         "orientation": "v",
         "showlegend": false,
         "x": [
          "Bands",
          "Body Only",
          "Machine",
          "Bands",
          "Barbell",
          "Barbell",
          "Dumbbell",
          "Dumbbell",
          "Cable",
          "Barbell",
          "Barbell",
          "Barbell",
          "Barbell",
          "Barbell",
          "Machine",
          "Machine",
          "Machine",
          "Cable",
          "Cable",
          "Cable",
          "Dumbbell",
          "Dumbbell",
          "Dumbbell",
          "Machine",
          "Machine",
          "Barbell",
          "Dumbbell",
          "Cable",
          "Cable",
          "Body Only",
          "Body Only",
          "Barbell",
          "Dumbbell",
          "Dumbbell",
          "Cable",
          "Dumbbell",
          "Dumbbell",
          "Barbell",
          "Other",
          "Machine",
          "Machine",
          "Dumbbell",
          "Dumbbell",
          "Cable",
          "Cable",
          "Barbell",
          "Barbell",
          "Dumbbell",
          "Dumbbell",
          "Cable",
          "Cable",
          "Cable",
          "Body Only"
         ],
         "xaxis": "x",
         "yaxis": "y",
         "type": "histogram"
        }
       ],
       "layout": {
        "template": {
         "data": {
          "histogram2dcontour": [
           {
            "type": "histogram2dcontour",
            "colorbar": {
             "outlinewidth": 0,
             "ticks": ""
            },
            "colorscale": [
             [
              0.0,
              "#0d0887"
             ],
             [
              0.1111111111111111,
              "#46039f"
             ],
             [
              0.2222222222222222,
              "#7201a8"
             ],
             [
              0.3333333333333333,
              "#9c179e"
             ],
             [
              0.4444444444444444,
              "#bd3786"
             ],
             [
              0.5555555555555556,
              "#d8576b"
             ],
             [
              0.6666666666666666,
              "#ed7953"
             ],
             [
              0.7777777777777778,
              "#fb9f3a"
             ],
             [
              0.8888888888888888,
              "#fdca26"
             ],
             [
              1.0,
              "#f0f921"
             ]
            ]
           }
          ],
          "choropleth": [
           {
            "type": "choropleth",
            "colorbar": {
             "outlinewidth": 0,
             "ticks": ""
            }
           }
          ],
          "histogram2d": [
           {
            "type": "histogram2d",
            "colorbar": {
             "outlinewidth": 0,
             "ticks": ""
            },
            "colorscale": [
             [
              0.0,
              "#0d0887"
             ],
             [
              0.1111111111111111,
              "#46039f"
             ],
             [
              0.2222222222222222,
              "#7201a8"
             ],
             [
              0.3333333333333333,
              "#9c179e"
             ],
             [
              0.4444444444444444,
              "#bd3786"
             ],
             [
              0.5555555555555556,
              "#d8576b"
             ],
             [
              0.6666666666666666,
              "#ed7953"
             ],
             [
              0.7777777777777778,
              "#fb9f3a"
             ],
             [
              0.8888888888888888,
              "#fdca26"
             ],
             [
              1.0,
              "#f0f921"
             ]
            ]
           }
          ],
          "heatmap": [
           {
            "type": "heatmap",
            "colorbar": {
             "outlinewidth": 0,
             "ticks": ""
            },
            "colorscale": [
             [
              0.0,
              "#0d0887"
             ],
             [
              0.1111111111111111,
              "#46039f"
             ],
             [
              0.2222222222222222,
              "#7201a8"
             ],
             [
              0.3333333333333333,
              "#9c179e"
             ],
             [
              0.4444444444444444,
              "#bd3786"
             ],
             [
              0.5555555555555556,
              "#d8576b"
             ],
             [
              0.6666666666666666,
              "#ed7953"
             ],
             [
              0.7777777777777778,
              "#fb9f3a"
             ],
             [
              0.8888888888888888,
              "#fdca26"
             ],
             [
              1.0,
              "#f0f921"
             ]
            ]
           }
          ],
          "heatmapgl": [
           {
            "type": "heatmapgl",
            "colorbar": {
             "outlinewidth": 0,
             "ticks": ""
            },
            "colorscale": [
             [
              0.0,
              "#0d0887"
             ],
             [
              0.1111111111111111,
              "#46039f"
             ],
             [
              0.2222222222222222,
              "#7201a8"
             ],
             [
              0.3333333333333333,
              "#9c179e"
             ],
             [
              0.4444444444444444,
              "#bd3786"
             ],
             [
              0.5555555555555556,
              "#d8576b"
             ],
             [
              0.6666666666666666,
              "#ed7953"
             ],
             [
              0.7777777777777778,
              "#fb9f3a"
             ],
             [
              0.8888888888888888,
              "#fdca26"
             ],
             [
              1.0,
              "#f0f921"
             ]
            ]
           }
          ],
          "contourcarpet": [
           {
            "type": "contourcarpet",
            "colorbar": {
             "outlinewidth": 0,
             "ticks": ""
            }
           }
          ],
          "contour": [
           {
            "type": "contour",
            "colorbar": {
             "outlinewidth": 0,
             "ticks": ""
            },
            "colorscale": [
             [
              0.0,
              "#0d0887"
             ],
             [
              0.1111111111111111,
              "#46039f"
             ],
             [
              0.2222222222222222,
              "#7201a8"
             ],
             [
              0.3333333333333333,
              "#9c179e"
             ],
             [
              0.4444444444444444,
              "#bd3786"
             ],
             [
              0.5555555555555556,
              "#d8576b"
             ],
             [
              0.6666666666666666,
              "#ed7953"
             ],
             [
              0.7777777777777778,
              "#fb9f3a"
             ],
             [
              0.8888888888888888,
              "#fdca26"
             ],
             [
              1.0,
              "#f0f921"
             ]
            ]
           }
          ],
          "surface": [
           {
            "type": "surface",
            "colorbar": {
             "outlinewidth": 0,
             "ticks": ""
            },
            "colorscale": [
             [
              0.0,
              "#0d0887"
             ],
             [
              0.1111111111111111,
              "#46039f"
             ],
             [
              0.2222222222222222,
              "#7201a8"
             ],
             [
              0.3333333333333333,
              "#9c179e"
             ],
             [
              0.4444444444444444,
              "#bd3786"
             ],
             [
              0.5555555555555556,
              "#d8576b"
             ],
             [
              0.6666666666666666,
              "#ed7953"
             ],
             [
              0.7777777777777778,
              "#fb9f3a"
             ],
             [
              0.8888888888888888,
              "#fdca26"
             ],
             [
              1.0,
              "#f0f921"
             ]
            ]
           }
          ],
          "mesh3d": [
           {
            "type": "mesh3d",
            "colorbar": {
             "outlinewidth": 0,
             "ticks": ""
            }
           }
          ],
          "scatter": [
           {
            "fillpattern": {
             "fillmode": "overlay",
             "size": 10,
             "solidity": 0.2
            },
            "type": "scatter"
           }
          ],
          "parcoords": [
           {
            "type": "parcoords",
            "line": {
             "colorbar": {
              "outlinewidth": 0,
              "ticks": ""
             }
            }
           }
          ],
          "scatterpolargl": [
           {
            "type": "scatterpolargl",
            "marker": {
             "colorbar": {
              "outlinewidth": 0,
              "ticks": ""
             }
            }
           }
          ],
          "bar": [
           {
            "error_x": {
             "color": "#2a3f5f"
            },
            "error_y": {
             "color": "#2a3f5f"
            },
            "marker": {
             "line": {
              "color": "#E5ECF6",
              "width": 0.5
             },
             "pattern": {
              "fillmode": "overlay",
              "size": 10,
              "solidity": 0.2
             }
            },
            "type": "bar"
           }
          ],
          "scattergeo": [
           {
            "type": "scattergeo",
            "marker": {
             "colorbar": {
              "outlinewidth": 0,
              "ticks": ""
             }
            }
           }
          ],
          "scatterpolar": [
           {
            "type": "scatterpolar",
            "marker": {
             "colorbar": {
              "outlinewidth": 0,
              "ticks": ""
             }
            }
           }
          ],
          "histogram": [
           {
            "marker": {
             "pattern": {
              "fillmode": "overlay",
              "size": 10,
              "solidity": 0.2
             }
            },
            "type": "histogram"
           }
          ],
          "scattergl": [
           {
            "type": "scattergl",
            "marker": {
             "colorbar": {
              "outlinewidth": 0,
              "ticks": ""
             }
            }
           }
          ],
          "scatter3d": [
           {
            "type": "scatter3d",
            "line": {
             "colorbar": {
              "outlinewidth": 0,
              "ticks": ""
             }
            },
            "marker": {
             "colorbar": {
              "outlinewidth": 0,
              "ticks": ""
             }
            }
           }
          ],
          "scattermapbox": [
           {
            "type": "scattermapbox",
            "marker": {
             "colorbar": {
              "outlinewidth": 0,
              "ticks": ""
             }
            }
           }
          ],
          "scatterternary": [
           {
            "type": "scatterternary",
            "marker": {
             "colorbar": {
              "outlinewidth": 0,
              "ticks": ""
             }
            }
           }
          ],
          "scattercarpet": [
           {
            "type": "scattercarpet",
            "marker": {
             "colorbar": {
              "outlinewidth": 0,
              "ticks": ""
             }
            }
           }
          ],
          "carpet": [
           {
            "aaxis": {
             "endlinecolor": "#2a3f5f",
             "gridcolor": "white",
             "linecolor": "white",
             "minorgridcolor": "white",
             "startlinecolor": "#2a3f5f"
            },
            "baxis": {
             "endlinecolor": "#2a3f5f",
             "gridcolor": "white",
             "linecolor": "white",
             "minorgridcolor": "white",
             "startlinecolor": "#2a3f5f"
            },
            "type": "carpet"
           }
          ],
          "table": [
           {
            "cells": {
             "fill": {
              "color": "#EBF0F8"
             },
             "line": {
              "color": "white"
             }
            },
            "header": {
             "fill": {
              "color": "#C8D4E3"
             },
             "line": {
              "color": "white"
             }
            },
            "type": "table"
           }
          ],
          "barpolar": [
           {
            "marker": {
             "line": {
              "color": "#E5ECF6",
              "width": 0.5
             },
             "pattern": {
              "fillmode": "overlay",
              "size": 10,
              "solidity": 0.2
             }
            },
            "type": "barpolar"
           }
          ],
          "pie": [
           {
            "automargin": true,
            "type": "pie"
           }
          ]
         },
         "layout": {
          "autotypenumbers": "strict",
          "colorway": [
           "#636efa",
           "#EF553B",
           "#00cc96",
           "#ab63fa",
           "#FFA15A",
           "#19d3f3",
           "#FF6692",
           "#B6E880",
           "#FF97FF",
           "#FECB52"
          ],
          "font": {
           "color": "#2a3f5f"
          },
          "hovermode": "closest",
          "hoverlabel": {
           "align": "left"
          },
          "paper_bgcolor": "white",
          "plot_bgcolor": "#E5ECF6",
          "polar": {
           "bgcolor": "#E5ECF6",
           "angularaxis": {
            "gridcolor": "white",
            "linecolor": "white",
            "ticks": ""
           },
           "radialaxis": {
            "gridcolor": "white",
            "linecolor": "white",
            "ticks": ""
           }
          },
          "ternary": {
           "bgcolor": "#E5ECF6",
           "aaxis": {
            "gridcolor": "white",
            "linecolor": "white",
            "ticks": ""
           },
           "baxis": {
            "gridcolor": "white",
            "linecolor": "white",
            "ticks": ""
           },
           "caxis": {
            "gridcolor": "white",
            "linecolor": "white",
            "ticks": ""
           }
          },
          "coloraxis": {
           "colorbar": {
            "outlinewidth": 0,
            "ticks": ""
           }
          },
          "colorscale": {
           "sequential": [
            [
             0.0,
             "#0d0887"
            ],
            [
             0.1111111111111111,
             "#46039f"
            ],
            [
             0.2222222222222222,
             "#7201a8"
            ],
            [
             0.3333333333333333,
             "#9c179e"
            ],
            [
             0.4444444444444444,
             "#bd3786"
            ],
            [
             0.5555555555555556,
             "#d8576b"
            ],
            [
             0.6666666666666666,
             "#ed7953"
            ],
            [
             0.7777777777777778,
             "#fb9f3a"
            ],
            [
             0.8888888888888888,
             "#fdca26"
            ],
            [
             1.0,
             "#f0f921"
            ]
           ],
           "sequentialminus": [
            [
             0.0,
             "#0d0887"
            ],
            [
             0.1111111111111111,
             "#46039f"
            ],
            [
             0.2222222222222222,
             "#7201a8"
            ],
            [
             0.3333333333333333,
             "#9c179e"
            ],
            [
             0.4444444444444444,
             "#bd3786"
            ],
            [
             0.5555555555555556,
             "#d8576b"
            ],
            [
             0.6666666666666666,
             "#ed7953"
            ],
            [
             0.7777777777777778,
             "#fb9f3a"
            ],
            [
             0.8888888888888888,
             "#fdca26"
            ],
            [
             1.0,
             "#f0f921"
            ]
           ],
           "diverging": [
            [
             0,
             "#8e0152"
            ],
            [
             0.1,
             "#c51b7d"
            ],
            [
             0.2,
             "#de77ae"
            ],
            [
             0.3,
             "#f1b6da"
            ],
            [
             0.4,
             "#fde0ef"
            ],
            [
             0.5,
             "#f7f7f7"
            ],
            [
             0.6,
             "#e6f5d0"
            ],
            [
             0.7,
             "#b8e186"
            ],
            [
             0.8,
             "#7fbc41"
            ],
            [
             0.9,
             "#4d9221"
            ],
            [
             1,
             "#276419"
            ]
           ]
          },
          "xaxis": {
           "gridcolor": "white",
           "linecolor": "white",
           "ticks": "",
           "title": {
            "standoff": 15
           },
           "zerolinecolor": "white",
           "automargin": true,
           "zerolinewidth": 2
          },
          "yaxis": {
           "gridcolor": "white",
           "linecolor": "white",
           "ticks": "",
           "title": {
            "standoff": 15
           },
           "zerolinecolor": "white",
           "automargin": true,
           "zerolinewidth": 2
          },
          "scene": {
           "xaxis": {
            "backgroundcolor": "#E5ECF6",
            "gridcolor": "white",
            "linecolor": "white",
            "showbackground": true,
            "ticks": "",
            "zerolinecolor": "white",
            "gridwidth": 2
           },
           "yaxis": {
            "backgroundcolor": "#E5ECF6",
            "gridcolor": "white",
            "linecolor": "white",
            "showbackground": true,
            "ticks": "",
            "zerolinecolor": "white",
            "gridwidth": 2
           },
           "zaxis": {
            "backgroundcolor": "#E5ECF6",
            "gridcolor": "white",
            "linecolor": "white",
            "showbackground": true,
            "ticks": "",
            "zerolinecolor": "white",
            "gridwidth": 2
           }
          },
          "shapedefaults": {
           "line": {
            "color": "#2a3f5f"
           }
          },
          "annotationdefaults": {
           "arrowcolor": "#2a3f5f",
           "arrowhead": 0,
           "arrowwidth": 1
          },
          "geo": {
           "bgcolor": "white",
           "landcolor": "#E5ECF6",
           "subunitcolor": "white",
           "showland": true,
           "showlakes": true,
           "lakecolor": "white"
          },
          "title": {
           "x": 0.05
          },
          "mapbox": {
           "style": "light"
          }
         }
        },
        "xaxis": {
         "anchor": "y",
         "domain": [
          0.0,
          1.0
         ],
         "title": {
          "text": "Equipment"
         }
        },
        "yaxis": {
         "anchor": "x",
         "domain": [
          0.0,
          1.0
         ],
         "title": {
          "text": "count"
         }
        },
        "legend": {
         "tracegroupgap": 0
        },
        "margin": {
         "t": 60
        },
        "barmode": "relative"
       },
       "config": {
        "plotlyServerURL": "https://plot.ly"
       }
      },
      "text/html": "<div>                            <div id=\"4efed6e9-3ed9-4763-be6c-9a0bee28199b\" class=\"plotly-graph-div\" style=\"height:525px; width:100%;\"></div>            <script type=\"text/javascript\">                require([\"plotly\"], function(Plotly) {                    window.PLOTLYENV=window.PLOTLYENV || {};                                    if (document.getElementById(\"4efed6e9-3ed9-4763-be6c-9a0bee28199b\")) {                    Plotly.newPlot(                        \"4efed6e9-3ed9-4763-be6c-9a0bee28199b\",                        [{\"alignmentgroup\":\"True\",\"bingroup\":\"x\",\"hovertemplate\":\"Equipment=%{x}\\u003cbr\\u003ecount=%{y}\\u003cextra\\u003e\\u003c\\u002fextra\\u003e\",\"legendgroup\":\"\",\"marker\":{\"color\":\"#636efa\",\"pattern\":{\"shape\":\"\"}},\"name\":\"\",\"offsetgroup\":\"\",\"orientation\":\"v\",\"showlegend\":false,\"x\":[\"Bands\",\"Body Only\",\"Machine\",\"Bands\",\"Barbell\",\"Barbell\",\"Dumbbell\",\"Dumbbell\",\"Cable\",\"Barbell\",\"Barbell\",\"Barbell\",\"Barbell\",\"Barbell\",\"Machine\",\"Machine\",\"Machine\",\"Cable\",\"Cable\",\"Cable\",\"Dumbbell\",\"Dumbbell\",\"Dumbbell\",\"Machine\",\"Machine\",\"Barbell\",\"Dumbbell\",\"Cable\",\"Cable\",\"Body Only\",\"Body Only\",\"Barbell\",\"Dumbbell\",\"Dumbbell\",\"Cable\",\"Dumbbell\",\"Dumbbell\",\"Barbell\",\"Other\",\"Machine\",\"Machine\",\"Dumbbell\",\"Dumbbell\",\"Cable\",\"Cable\",\"Barbell\",\"Barbell\",\"Dumbbell\",\"Dumbbell\",\"Cable\",\"Cable\",\"Cable\",\"Body Only\"],\"xaxis\":\"x\",\"yaxis\":\"y\",\"type\":\"histogram\"}],                        {\"template\":{\"data\":{\"histogram2dcontour\":[{\"type\":\"histogram2dcontour\",\"colorbar\":{\"outlinewidth\":0,\"ticks\":\"\"},\"colorscale\":[[0.0,\"#0d0887\"],[0.1111111111111111,\"#46039f\"],[0.2222222222222222,\"#7201a8\"],[0.3333333333333333,\"#9c179e\"],[0.4444444444444444,\"#bd3786\"],[0.5555555555555556,\"#d8576b\"],[0.6666666666666666,\"#ed7953\"],[0.7777777777777778,\"#fb9f3a\"],[0.8888888888888888,\"#fdca26\"],[1.0,\"#f0f921\"]]}],\"choropleth\":[{\"type\":\"choropleth\",\"colorbar\":{\"outlinewidth\":0,\"ticks\":\"\"}}],\"histogram2d\":[{\"type\":\"histogram2d\",\"colorbar\":{\"outlinewidth\":0,\"ticks\":\"\"},\"colorscale\":[[0.0,\"#0d0887\"],[0.1111111111111111,\"#46039f\"],[0.2222222222222222,\"#7201a8\"],[0.3333333333333333,\"#9c179e\"],[0.4444444444444444,\"#bd3786\"],[0.5555555555555556,\"#d8576b\"],[0.6666666666666666,\"#ed7953\"],[0.7777777777777778,\"#fb9f3a\"],[0.8888888888888888,\"#fdca26\"],[1.0,\"#f0f921\"]]}],\"heatmap\":[{\"type\":\"heatmap\",\"colorbar\":{\"outlinewidth\":0,\"ticks\":\"\"},\"colorscale\":[[0.0,\"#0d0887\"],[0.1111111111111111,\"#46039f\"],[0.2222222222222222,\"#7201a8\"],[0.3333333333333333,\"#9c179e\"],[0.4444444444444444,\"#bd3786\"],[0.5555555555555556,\"#d8576b\"],[0.6666666666666666,\"#ed7953\"],[0.7777777777777778,\"#fb9f3a\"],[0.8888888888888888,\"#fdca26\"],[1.0,\"#f0f921\"]]}],\"heatmapgl\":[{\"type\":\"heatmapgl\",\"colorbar\":{\"outlinewidth\":0,\"ticks\":\"\"},\"colorscale\":[[0.0,\"#0d0887\"],[0.1111111111111111,\"#46039f\"],[0.2222222222222222,\"#7201a8\"],[0.3333333333333333,\"#9c179e\"],[0.4444444444444444,\"#bd3786\"],[0.5555555555555556,\"#d8576b\"],[0.6666666666666666,\"#ed7953\"],[0.7777777777777778,\"#fb9f3a\"],[0.8888888888888888,\"#fdca26\"],[1.0,\"#f0f921\"]]}],\"contourcarpet\":[{\"type\":\"contourcarpet\",\"colorbar\":{\"outlinewidth\":0,\"ticks\":\"\"}}],\"contour\":[{\"type\":\"contour\",\"colorbar\":{\"outlinewidth\":0,\"ticks\":\"\"},\"colorscale\":[[0.0,\"#0d0887\"],[0.1111111111111111,\"#46039f\"],[0.2222222222222222,\"#7201a8\"],[0.3333333333333333,\"#9c179e\"],[0.4444444444444444,\"#bd3786\"],[0.5555555555555556,\"#d8576b\"],[0.6666666666666666,\"#ed7953\"],[0.7777777777777778,\"#fb9f3a\"],[0.8888888888888888,\"#fdca26\"],[1.0,\"#f0f921\"]]}],\"surface\":[{\"type\":\"surface\",\"colorbar\":{\"outlinewidth\":0,\"ticks\":\"\"},\"colorscale\":[[0.0,\"#0d0887\"],[0.1111111111111111,\"#46039f\"],[0.2222222222222222,\"#7201a8\"],[0.3333333333333333,\"#9c179e\"],[0.4444444444444444,\"#bd3786\"],[0.5555555555555556,\"#d8576b\"],[0.6666666666666666,\"#ed7953\"],[0.7777777777777778,\"#fb9f3a\"],[0.8888888888888888,\"#fdca26\"],[1.0,\"#f0f921\"]]}],\"mesh3d\":[{\"type\":\"mesh3d\",\"colorbar\":{\"outlinewidth\":0,\"ticks\":\"\"}}],\"scatter\":[{\"fillpattern\":{\"fillmode\":\"overlay\",\"size\":10,\"solidity\":0.2},\"type\":\"scatter\"}],\"parcoords\":[{\"type\":\"parcoords\",\"line\":{\"colorbar\":{\"outlinewidth\":0,\"ticks\":\"\"}}}],\"scatterpolargl\":[{\"type\":\"scatterpolargl\",\"marker\":{\"colorbar\":{\"outlinewidth\":0,\"ticks\":\"\"}}}],\"bar\":[{\"error_x\":{\"color\":\"#2a3f5f\"},\"error_y\":{\"color\":\"#2a3f5f\"},\"marker\":{\"line\":{\"color\":\"#E5ECF6\",\"width\":0.5},\"pattern\":{\"fillmode\":\"overlay\",\"size\":10,\"solidity\":0.2}},\"type\":\"bar\"}],\"scattergeo\":[{\"type\":\"scattergeo\",\"marker\":{\"colorbar\":{\"outlinewidth\":0,\"ticks\":\"\"}}}],\"scatterpolar\":[{\"type\":\"scatterpolar\",\"marker\":{\"colorbar\":{\"outlinewidth\":0,\"ticks\":\"\"}}}],\"histogram\":[{\"marker\":{\"pattern\":{\"fillmode\":\"overlay\",\"size\":10,\"solidity\":0.2}},\"type\":\"histogram\"}],\"scattergl\":[{\"type\":\"scattergl\",\"marker\":{\"colorbar\":{\"outlinewidth\":0,\"ticks\":\"\"}}}],\"scatter3d\":[{\"type\":\"scatter3d\",\"line\":{\"colorbar\":{\"outlinewidth\":0,\"ticks\":\"\"}},\"marker\":{\"colorbar\":{\"outlinewidth\":0,\"ticks\":\"\"}}}],\"scattermapbox\":[{\"type\":\"scattermapbox\",\"marker\":{\"colorbar\":{\"outlinewidth\":0,\"ticks\":\"\"}}}],\"scatterternary\":[{\"type\":\"scatterternary\",\"marker\":{\"colorbar\":{\"outlinewidth\":0,\"ticks\":\"\"}}}],\"scattercarpet\":[{\"type\":\"scattercarpet\",\"marker\":{\"colorbar\":{\"outlinewidth\":0,\"ticks\":\"\"}}}],\"carpet\":[{\"aaxis\":{\"endlinecolor\":\"#2a3f5f\",\"gridcolor\":\"white\",\"linecolor\":\"white\",\"minorgridcolor\":\"white\",\"startlinecolor\":\"#2a3f5f\"},\"baxis\":{\"endlinecolor\":\"#2a3f5f\",\"gridcolor\":\"white\",\"linecolor\":\"white\",\"minorgridcolor\":\"white\",\"startlinecolor\":\"#2a3f5f\"},\"type\":\"carpet\"}],\"table\":[{\"cells\":{\"fill\":{\"color\":\"#EBF0F8\"},\"line\":{\"color\":\"white\"}},\"header\":{\"fill\":{\"color\":\"#C8D4E3\"},\"line\":{\"color\":\"white\"}},\"type\":\"table\"}],\"barpolar\":[{\"marker\":{\"line\":{\"color\":\"#E5ECF6\",\"width\":0.5},\"pattern\":{\"fillmode\":\"overlay\",\"size\":10,\"solidity\":0.2}},\"type\":\"barpolar\"}],\"pie\":[{\"automargin\":true,\"type\":\"pie\"}]},\"layout\":{\"autotypenumbers\":\"strict\",\"colorway\":[\"#636efa\",\"#EF553B\",\"#00cc96\",\"#ab63fa\",\"#FFA15A\",\"#19d3f3\",\"#FF6692\",\"#B6E880\",\"#FF97FF\",\"#FECB52\"],\"font\":{\"color\":\"#2a3f5f\"},\"hovermode\":\"closest\",\"hoverlabel\":{\"align\":\"left\"},\"paper_bgcolor\":\"white\",\"plot_bgcolor\":\"#E5ECF6\",\"polar\":{\"bgcolor\":\"#E5ECF6\",\"angularaxis\":{\"gridcolor\":\"white\",\"linecolor\":\"white\",\"ticks\":\"\"},\"radialaxis\":{\"gridcolor\":\"white\",\"linecolor\":\"white\",\"ticks\":\"\"}},\"ternary\":{\"bgcolor\":\"#E5ECF6\",\"aaxis\":{\"gridcolor\":\"white\",\"linecolor\":\"white\",\"ticks\":\"\"},\"baxis\":{\"gridcolor\":\"white\",\"linecolor\":\"white\",\"ticks\":\"\"},\"caxis\":{\"gridcolor\":\"white\",\"linecolor\":\"white\",\"ticks\":\"\"}},\"coloraxis\":{\"colorbar\":{\"outlinewidth\":0,\"ticks\":\"\"}},\"colorscale\":{\"sequential\":[[0.0,\"#0d0887\"],[0.1111111111111111,\"#46039f\"],[0.2222222222222222,\"#7201a8\"],[0.3333333333333333,\"#9c179e\"],[0.4444444444444444,\"#bd3786\"],[0.5555555555555556,\"#d8576b\"],[0.6666666666666666,\"#ed7953\"],[0.7777777777777778,\"#fb9f3a\"],[0.8888888888888888,\"#fdca26\"],[1.0,\"#f0f921\"]],\"sequentialminus\":[[0.0,\"#0d0887\"],[0.1111111111111111,\"#46039f\"],[0.2222222222222222,\"#7201a8\"],[0.3333333333333333,\"#9c179e\"],[0.4444444444444444,\"#bd3786\"],[0.5555555555555556,\"#d8576b\"],[0.6666666666666666,\"#ed7953\"],[0.7777777777777778,\"#fb9f3a\"],[0.8888888888888888,\"#fdca26\"],[1.0,\"#f0f921\"]],\"diverging\":[[0,\"#8e0152\"],[0.1,\"#c51b7d\"],[0.2,\"#de77ae\"],[0.3,\"#f1b6da\"],[0.4,\"#fde0ef\"],[0.5,\"#f7f7f7\"],[0.6,\"#e6f5d0\"],[0.7,\"#b8e186\"],[0.8,\"#7fbc41\"],[0.9,\"#4d9221\"],[1,\"#276419\"]]},\"xaxis\":{\"gridcolor\":\"white\",\"linecolor\":\"white\",\"ticks\":\"\",\"title\":{\"standoff\":15},\"zerolinecolor\":\"white\",\"automargin\":true,\"zerolinewidth\":2},\"yaxis\":{\"gridcolor\":\"white\",\"linecolor\":\"white\",\"ticks\":\"\",\"title\":{\"standoff\":15},\"zerolinecolor\":\"white\",\"automargin\":true,\"zerolinewidth\":2},\"scene\":{\"xaxis\":{\"backgroundcolor\":\"#E5ECF6\",\"gridcolor\":\"white\",\"linecolor\":\"white\",\"showbackground\":true,\"ticks\":\"\",\"zerolinecolor\":\"white\",\"gridwidth\":2},\"yaxis\":{\"backgroundcolor\":\"#E5ECF6\",\"gridcolor\":\"white\",\"linecolor\":\"white\",\"showbackground\":true,\"ticks\":\"\",\"zerolinecolor\":\"white\",\"gridwidth\":2},\"zaxis\":{\"backgroundcolor\":\"#E5ECF6\",\"gridcolor\":\"white\",\"linecolor\":\"white\",\"showbackground\":true,\"ticks\":\"\",\"zerolinecolor\":\"white\",\"gridwidth\":2}},\"shapedefaults\":{\"line\":{\"color\":\"#2a3f5f\"}},\"annotationdefaults\":{\"arrowcolor\":\"#2a3f5f\",\"arrowhead\":0,\"arrowwidth\":1},\"geo\":{\"bgcolor\":\"white\",\"landcolor\":\"#E5ECF6\",\"subunitcolor\":\"white\",\"showland\":true,\"showlakes\":true,\"lakecolor\":\"white\"},\"title\":{\"x\":0.05},\"mapbox\":{\"style\":\"light\"}}},\"xaxis\":{\"anchor\":\"y\",\"domain\":[0.0,1.0],\"title\":{\"text\":\"Equipment\"}},\"yaxis\":{\"anchor\":\"x\",\"domain\":[0.0,1.0],\"title\":{\"text\":\"count\"}},\"legend\":{\"tracegroupgap\":0},\"margin\":{\"t\":60},\"barmode\":\"relative\"},                        {\"responsive\": true}                    ).then(function(){\n                            \nvar gd = document.getElementById('4efed6e9-3ed9-4763-be6c-9a0bee28199b');\nvar x = new MutationObserver(function (mutations, observer) {{\n        var display = window.getComputedStyle(gd).display;\n        if (!display || display === 'none') {{\n            console.log([gd, 'removed!']);\n            Plotly.purge(gd);\n            observer.disconnect();\n        }}\n}});\n\n// Listen for the removal of the full notebook cells\nvar notebookContainer = gd.closest('#notebook-container');\nif (notebookContainer) {{\n    x.observe(notebookContainer, {childList: true});\n}}\n\n// Listen for the clearing of the current output cell\nvar outputEl = gd.closest('.output');\nif (outputEl) {{\n    x.observe(outputEl, {childList: true});\n}}\n\n                        })                };                });            </script>        </div>"
     },
     "metadata": {},
     "output_type": "display_data"
    },
    {
     "data": {
      "application/vnd.plotly.v1+json": {
       "data": [
        {
         "alignmentgroup": "True",
         "bingroup": "x",
         "hovertemplate": "Level=%{x}<br>count=%{y}<extra></extra>",
         "legendgroup": "",
         "marker": {
          "color": "#636efa",
          "pattern": {
           "shape": ""
          }
         },
         "name": "",
         "offsetgroup": "",
         "orientation": "v",
         "showlegend": false,
         "x": [
          "Intermediate",
          "Intermediate",
          "Intermediate",
          "Intermediate",
          "Intermediate",
          "Intermediate",
          "Intermediate",
          "Intermediate",
          "Intermediate",
          "Intermediate",
          "Intermediate",
          "Intermediate",
          "Intermediate",
          "Intermediate",
          "Beginner",
          "Intermediate",
          "Intermediate",
          "Intermediate",
          "Intermediate",
          "Beginner",
          "Intermediate",
          "Intermediate",
          "Beginner",
          "Beginner",
          "Intermediate",
          "Intermediate",
          "Intermediate",
          "Intermediate",
          "Intermediate",
          "Beginner",
          "Intermediate",
          "Intermediate",
          "Intermediate",
          "Intermediate",
          "Intermediate",
          "Intermediate",
          "Intermediate",
          "Intermediate",
          "Intermediate",
          "Intermediate",
          "Intermediate",
          "Intermediate",
          "Intermediate",
          "Intermediate",
          "Intermediate",
          "Intermediate",
          "Intermediate",
          "Intermediate",
          "Intermediate",
          "Intermediate",
          "Intermediate",
          "Intermediate",
          "Intermediate"
         ],
         "xaxis": "x",
         "yaxis": "y",
         "type": "histogram"
        }
       ],
       "layout": {
        "template": {
         "data": {
          "histogram2dcontour": [
           {
            "type": "histogram2dcontour",
            "colorbar": {
             "outlinewidth": 0,
             "ticks": ""
            },
            "colorscale": [
             [
              0.0,
              "#0d0887"
             ],
             [
              0.1111111111111111,
              "#46039f"
             ],
             [
              0.2222222222222222,
              "#7201a8"
             ],
             [
              0.3333333333333333,
              "#9c179e"
             ],
             [
              0.4444444444444444,
              "#bd3786"
             ],
             [
              0.5555555555555556,
              "#d8576b"
             ],
             [
              0.6666666666666666,
              "#ed7953"
             ],
             [
              0.7777777777777778,
              "#fb9f3a"
             ],
             [
              0.8888888888888888,
              "#fdca26"
             ],
             [
              1.0,
              "#f0f921"
             ]
            ]
           }
          ],
          "choropleth": [
           {
            "type": "choropleth",
            "colorbar": {
             "outlinewidth": 0,
             "ticks": ""
            }
           }
          ],
          "histogram2d": [
           {
            "type": "histogram2d",
            "colorbar": {
             "outlinewidth": 0,
             "ticks": ""
            },
            "colorscale": [
             [
              0.0,
              "#0d0887"
             ],
             [
              0.1111111111111111,
              "#46039f"
             ],
             [
              0.2222222222222222,
              "#7201a8"
             ],
             [
              0.3333333333333333,
              "#9c179e"
             ],
             [
              0.4444444444444444,
              "#bd3786"
             ],
             [
              0.5555555555555556,
              "#d8576b"
             ],
             [
              0.6666666666666666,
              "#ed7953"
             ],
             [
              0.7777777777777778,
              "#fb9f3a"
             ],
             [
              0.8888888888888888,
              "#fdca26"
             ],
             [
              1.0,
              "#f0f921"
             ]
            ]
           }
          ],
          "heatmap": [
           {
            "type": "heatmap",
            "colorbar": {
             "outlinewidth": 0,
             "ticks": ""
            },
            "colorscale": [
             [
              0.0,
              "#0d0887"
             ],
             [
              0.1111111111111111,
              "#46039f"
             ],
             [
              0.2222222222222222,
              "#7201a8"
             ],
             [
              0.3333333333333333,
              "#9c179e"
             ],
             [
              0.4444444444444444,
              "#bd3786"
             ],
             [
              0.5555555555555556,
              "#d8576b"
             ],
             [
              0.6666666666666666,
              "#ed7953"
             ],
             [
              0.7777777777777778,
              "#fb9f3a"
             ],
             [
              0.8888888888888888,
              "#fdca26"
             ],
             [
              1.0,
              "#f0f921"
             ]
            ]
           }
          ],
          "heatmapgl": [
           {
            "type": "heatmapgl",
            "colorbar": {
             "outlinewidth": 0,
             "ticks": ""
            },
            "colorscale": [
             [
              0.0,
              "#0d0887"
             ],
             [
              0.1111111111111111,
              "#46039f"
             ],
             [
              0.2222222222222222,
              "#7201a8"
             ],
             [
              0.3333333333333333,
              "#9c179e"
             ],
             [
              0.4444444444444444,
              "#bd3786"
             ],
             [
              0.5555555555555556,
              "#d8576b"
             ],
             [
              0.6666666666666666,
              "#ed7953"
             ],
             [
              0.7777777777777778,
              "#fb9f3a"
             ],
             [
              0.8888888888888888,
              "#fdca26"
             ],
             [
              1.0,
              "#f0f921"
             ]
            ]
           }
          ],
          "contourcarpet": [
           {
            "type": "contourcarpet",
            "colorbar": {
             "outlinewidth": 0,
             "ticks": ""
            }
           }
          ],
          "contour": [
           {
            "type": "contour",
            "colorbar": {
             "outlinewidth": 0,
             "ticks": ""
            },
            "colorscale": [
             [
              0.0,
              "#0d0887"
             ],
             [
              0.1111111111111111,
              "#46039f"
             ],
             [
              0.2222222222222222,
              "#7201a8"
             ],
             [
              0.3333333333333333,
              "#9c179e"
             ],
             [
              0.4444444444444444,
              "#bd3786"
             ],
             [
              0.5555555555555556,
              "#d8576b"
             ],
             [
              0.6666666666666666,
              "#ed7953"
             ],
             [
              0.7777777777777778,
              "#fb9f3a"
             ],
             [
              0.8888888888888888,
              "#fdca26"
             ],
             [
              1.0,
              "#f0f921"
             ]
            ]
           }
          ],
          "surface": [
           {
            "type": "surface",
            "colorbar": {
             "outlinewidth": 0,
             "ticks": ""
            },
            "colorscale": [
             [
              0.0,
              "#0d0887"
             ],
             [
              0.1111111111111111,
              "#46039f"
             ],
             [
              0.2222222222222222,
              "#7201a8"
             ],
             [
              0.3333333333333333,
              "#9c179e"
             ],
             [
              0.4444444444444444,
              "#bd3786"
             ],
             [
              0.5555555555555556,
              "#d8576b"
             ],
             [
              0.6666666666666666,
              "#ed7953"
             ],
             [
              0.7777777777777778,
              "#fb9f3a"
             ],
             [
              0.8888888888888888,
              "#fdca26"
             ],
             [
              1.0,
              "#f0f921"
             ]
            ]
           }
          ],
          "mesh3d": [
           {
            "type": "mesh3d",
            "colorbar": {
             "outlinewidth": 0,
             "ticks": ""
            }
           }
          ],
          "scatter": [
           {
            "fillpattern": {
             "fillmode": "overlay",
             "size": 10,
             "solidity": 0.2
            },
            "type": "scatter"
           }
          ],
          "parcoords": [
           {
            "type": "parcoords",
            "line": {
             "colorbar": {
              "outlinewidth": 0,
              "ticks": ""
             }
            }
           }
          ],
          "scatterpolargl": [
           {
            "type": "scatterpolargl",
            "marker": {
             "colorbar": {
              "outlinewidth": 0,
              "ticks": ""
             }
            }
           }
          ],
          "bar": [
           {
            "error_x": {
             "color": "#2a3f5f"
            },
            "error_y": {
             "color": "#2a3f5f"
            },
            "marker": {
             "line": {
              "color": "#E5ECF6",
              "width": 0.5
             },
             "pattern": {
              "fillmode": "overlay",
              "size": 10,
              "solidity": 0.2
             }
            },
            "type": "bar"
           }
          ],
          "scattergeo": [
           {
            "type": "scattergeo",
            "marker": {
             "colorbar": {
              "outlinewidth": 0,
              "ticks": ""
             }
            }
           }
          ],
          "scatterpolar": [
           {
            "type": "scatterpolar",
            "marker": {
             "colorbar": {
              "outlinewidth": 0,
              "ticks": ""
             }
            }
           }
          ],
          "histogram": [
           {
            "marker": {
             "pattern": {
              "fillmode": "overlay",
              "size": 10,
              "solidity": 0.2
             }
            },
            "type": "histogram"
           }
          ],
          "scattergl": [
           {
            "type": "scattergl",
            "marker": {
             "colorbar": {
              "outlinewidth": 0,
              "ticks": ""
             }
            }
           }
          ],
          "scatter3d": [
           {
            "type": "scatter3d",
            "line": {
             "colorbar": {
              "outlinewidth": 0,
              "ticks": ""
             }
            },
            "marker": {
             "colorbar": {
              "outlinewidth": 0,
              "ticks": ""
             }
            }
           }
          ],
          "scattermapbox": [
           {
            "type": "scattermapbox",
            "marker": {
             "colorbar": {
              "outlinewidth": 0,
              "ticks": ""
             }
            }
           }
          ],
          "scatterternary": [
           {
            "type": "scatterternary",
            "marker": {
             "colorbar": {
              "outlinewidth": 0,
              "ticks": ""
             }
            }
           }
          ],
          "scattercarpet": [
           {
            "type": "scattercarpet",
            "marker": {
             "colorbar": {
              "outlinewidth": 0,
              "ticks": ""
             }
            }
           }
          ],
          "carpet": [
           {
            "aaxis": {
             "endlinecolor": "#2a3f5f",
             "gridcolor": "white",
             "linecolor": "white",
             "minorgridcolor": "white",
             "startlinecolor": "#2a3f5f"
            },
            "baxis": {
             "endlinecolor": "#2a3f5f",
             "gridcolor": "white",
             "linecolor": "white",
             "minorgridcolor": "white",
             "startlinecolor": "#2a3f5f"
            },
            "type": "carpet"
           }
          ],
          "table": [
           {
            "cells": {
             "fill": {
              "color": "#EBF0F8"
             },
             "line": {
              "color": "white"
             }
            },
            "header": {
             "fill": {
              "color": "#C8D4E3"
             },
             "line": {
              "color": "white"
             }
            },
            "type": "table"
           }
          ],
          "barpolar": [
           {
            "marker": {
             "line": {
              "color": "#E5ECF6",
              "width": 0.5
             },
             "pattern": {
              "fillmode": "overlay",
              "size": 10,
              "solidity": 0.2
             }
            },
            "type": "barpolar"
           }
          ],
          "pie": [
           {
            "automargin": true,
            "type": "pie"
           }
          ]
         },
         "layout": {
          "autotypenumbers": "strict",
          "colorway": [
           "#636efa",
           "#EF553B",
           "#00cc96",
           "#ab63fa",
           "#FFA15A",
           "#19d3f3",
           "#FF6692",
           "#B6E880",
           "#FF97FF",
           "#FECB52"
          ],
          "font": {
           "color": "#2a3f5f"
          },
          "hovermode": "closest",
          "hoverlabel": {
           "align": "left"
          },
          "paper_bgcolor": "white",
          "plot_bgcolor": "#E5ECF6",
          "polar": {
           "bgcolor": "#E5ECF6",
           "angularaxis": {
            "gridcolor": "white",
            "linecolor": "white",
            "ticks": ""
           },
           "radialaxis": {
            "gridcolor": "white",
            "linecolor": "white",
            "ticks": ""
           }
          },
          "ternary": {
           "bgcolor": "#E5ECF6",
           "aaxis": {
            "gridcolor": "white",
            "linecolor": "white",
            "ticks": ""
           },
           "baxis": {
            "gridcolor": "white",
            "linecolor": "white",
            "ticks": ""
           },
           "caxis": {
            "gridcolor": "white",
            "linecolor": "white",
            "ticks": ""
           }
          },
          "coloraxis": {
           "colorbar": {
            "outlinewidth": 0,
            "ticks": ""
           }
          },
          "colorscale": {
           "sequential": [
            [
             0.0,
             "#0d0887"
            ],
            [
             0.1111111111111111,
             "#46039f"
            ],
            [
             0.2222222222222222,
             "#7201a8"
            ],
            [
             0.3333333333333333,
             "#9c179e"
            ],
            [
             0.4444444444444444,
             "#bd3786"
            ],
            [
             0.5555555555555556,
             "#d8576b"
            ],
            [
             0.6666666666666666,
             "#ed7953"
            ],
            [
             0.7777777777777778,
             "#fb9f3a"
            ],
            [
             0.8888888888888888,
             "#fdca26"
            ],
            [
             1.0,
             "#f0f921"
            ]
           ],
           "sequentialminus": [
            [
             0.0,
             "#0d0887"
            ],
            [
             0.1111111111111111,
             "#46039f"
            ],
            [
             0.2222222222222222,
             "#7201a8"
            ],
            [
             0.3333333333333333,
             "#9c179e"
            ],
            [
             0.4444444444444444,
             "#bd3786"
            ],
            [
             0.5555555555555556,
             "#d8576b"
            ],
            [
             0.6666666666666666,
             "#ed7953"
            ],
            [
             0.7777777777777778,
             "#fb9f3a"
            ],
            [
             0.8888888888888888,
             "#fdca26"
            ],
            [
             1.0,
             "#f0f921"
            ]
           ],
           "diverging": [
            [
             0,
             "#8e0152"
            ],
            [
             0.1,
             "#c51b7d"
            ],
            [
             0.2,
             "#de77ae"
            ],
            [
             0.3,
             "#f1b6da"
            ],
            [
             0.4,
             "#fde0ef"
            ],
            [
             0.5,
             "#f7f7f7"
            ],
            [
             0.6,
             "#e6f5d0"
            ],
            [
             0.7,
             "#b8e186"
            ],
            [
             0.8,
             "#7fbc41"
            ],
            [
             0.9,
             "#4d9221"
            ],
            [
             1,
             "#276419"
            ]
           ]
          },
          "xaxis": {
           "gridcolor": "white",
           "linecolor": "white",
           "ticks": "",
           "title": {
            "standoff": 15
           },
           "zerolinecolor": "white",
           "automargin": true,
           "zerolinewidth": 2
          },
          "yaxis": {
           "gridcolor": "white",
           "linecolor": "white",
           "ticks": "",
           "title": {
            "standoff": 15
           },
           "zerolinecolor": "white",
           "automargin": true,
           "zerolinewidth": 2
          },
          "scene": {
           "xaxis": {
            "backgroundcolor": "#E5ECF6",
            "gridcolor": "white",
            "linecolor": "white",
            "showbackground": true,
            "ticks": "",
            "zerolinecolor": "white",
            "gridwidth": 2
           },
           "yaxis": {
            "backgroundcolor": "#E5ECF6",
            "gridcolor": "white",
            "linecolor": "white",
            "showbackground": true,
            "ticks": "",
            "zerolinecolor": "white",
            "gridwidth": 2
           },
           "zaxis": {
            "backgroundcolor": "#E5ECF6",
            "gridcolor": "white",
            "linecolor": "white",
            "showbackground": true,
            "ticks": "",
            "zerolinecolor": "white",
            "gridwidth": 2
           }
          },
          "shapedefaults": {
           "line": {
            "color": "#2a3f5f"
           }
          },
          "annotationdefaults": {
           "arrowcolor": "#2a3f5f",
           "arrowhead": 0,
           "arrowwidth": 1
          },
          "geo": {
           "bgcolor": "white",
           "landcolor": "#E5ECF6",
           "subunitcolor": "white",
           "showland": true,
           "showlakes": true,
           "lakecolor": "white"
          },
          "title": {
           "x": 0.05
          },
          "mapbox": {
           "style": "light"
          }
         }
        },
        "xaxis": {
         "anchor": "y",
         "domain": [
          0.0,
          1.0
         ],
         "title": {
          "text": "Level"
         }
        },
        "yaxis": {
         "anchor": "x",
         "domain": [
          0.0,
          1.0
         ],
         "title": {
          "text": "count"
         }
        },
        "legend": {
         "tracegroupgap": 0
        },
        "margin": {
         "t": 60
        },
        "barmode": "relative"
       },
       "config": {
        "plotlyServerURL": "https://plot.ly"
       }
      },
      "text/html": "<div>                            <div id=\"d4e3938e-ce36-40a8-a9d2-ccd98789da3e\" class=\"plotly-graph-div\" style=\"height:525px; width:100%;\"></div>            <script type=\"text/javascript\">                require([\"plotly\"], function(Plotly) {                    window.PLOTLYENV=window.PLOTLYENV || {};                                    if (document.getElementById(\"d4e3938e-ce36-40a8-a9d2-ccd98789da3e\")) {                    Plotly.newPlot(                        \"d4e3938e-ce36-40a8-a9d2-ccd98789da3e\",                        [{\"alignmentgroup\":\"True\",\"bingroup\":\"x\",\"hovertemplate\":\"Level=%{x}\\u003cbr\\u003ecount=%{y}\\u003cextra\\u003e\\u003c\\u002fextra\\u003e\",\"legendgroup\":\"\",\"marker\":{\"color\":\"#636efa\",\"pattern\":{\"shape\":\"\"}},\"name\":\"\",\"offsetgroup\":\"\",\"orientation\":\"v\",\"showlegend\":false,\"x\":[\"Intermediate\",\"Intermediate\",\"Intermediate\",\"Intermediate\",\"Intermediate\",\"Intermediate\",\"Intermediate\",\"Intermediate\",\"Intermediate\",\"Intermediate\",\"Intermediate\",\"Intermediate\",\"Intermediate\",\"Intermediate\",\"Beginner\",\"Intermediate\",\"Intermediate\",\"Intermediate\",\"Intermediate\",\"Beginner\",\"Intermediate\",\"Intermediate\",\"Beginner\",\"Beginner\",\"Intermediate\",\"Intermediate\",\"Intermediate\",\"Intermediate\",\"Intermediate\",\"Beginner\",\"Intermediate\",\"Intermediate\",\"Intermediate\",\"Intermediate\",\"Intermediate\",\"Intermediate\",\"Intermediate\",\"Intermediate\",\"Intermediate\",\"Intermediate\",\"Intermediate\",\"Intermediate\",\"Intermediate\",\"Intermediate\",\"Intermediate\",\"Intermediate\",\"Intermediate\",\"Intermediate\",\"Intermediate\",\"Intermediate\",\"Intermediate\",\"Intermediate\",\"Intermediate\"],\"xaxis\":\"x\",\"yaxis\":\"y\",\"type\":\"histogram\"}],                        {\"template\":{\"data\":{\"histogram2dcontour\":[{\"type\":\"histogram2dcontour\",\"colorbar\":{\"outlinewidth\":0,\"ticks\":\"\"},\"colorscale\":[[0.0,\"#0d0887\"],[0.1111111111111111,\"#46039f\"],[0.2222222222222222,\"#7201a8\"],[0.3333333333333333,\"#9c179e\"],[0.4444444444444444,\"#bd3786\"],[0.5555555555555556,\"#d8576b\"],[0.6666666666666666,\"#ed7953\"],[0.7777777777777778,\"#fb9f3a\"],[0.8888888888888888,\"#fdca26\"],[1.0,\"#f0f921\"]]}],\"choropleth\":[{\"type\":\"choropleth\",\"colorbar\":{\"outlinewidth\":0,\"ticks\":\"\"}}],\"histogram2d\":[{\"type\":\"histogram2d\",\"colorbar\":{\"outlinewidth\":0,\"ticks\":\"\"},\"colorscale\":[[0.0,\"#0d0887\"],[0.1111111111111111,\"#46039f\"],[0.2222222222222222,\"#7201a8\"],[0.3333333333333333,\"#9c179e\"],[0.4444444444444444,\"#bd3786\"],[0.5555555555555556,\"#d8576b\"],[0.6666666666666666,\"#ed7953\"],[0.7777777777777778,\"#fb9f3a\"],[0.8888888888888888,\"#fdca26\"],[1.0,\"#f0f921\"]]}],\"heatmap\":[{\"type\":\"heatmap\",\"colorbar\":{\"outlinewidth\":0,\"ticks\":\"\"},\"colorscale\":[[0.0,\"#0d0887\"],[0.1111111111111111,\"#46039f\"],[0.2222222222222222,\"#7201a8\"],[0.3333333333333333,\"#9c179e\"],[0.4444444444444444,\"#bd3786\"],[0.5555555555555556,\"#d8576b\"],[0.6666666666666666,\"#ed7953\"],[0.7777777777777778,\"#fb9f3a\"],[0.8888888888888888,\"#fdca26\"],[1.0,\"#f0f921\"]]}],\"heatmapgl\":[{\"type\":\"heatmapgl\",\"colorbar\":{\"outlinewidth\":0,\"ticks\":\"\"},\"colorscale\":[[0.0,\"#0d0887\"],[0.1111111111111111,\"#46039f\"],[0.2222222222222222,\"#7201a8\"],[0.3333333333333333,\"#9c179e\"],[0.4444444444444444,\"#bd3786\"],[0.5555555555555556,\"#d8576b\"],[0.6666666666666666,\"#ed7953\"],[0.7777777777777778,\"#fb9f3a\"],[0.8888888888888888,\"#fdca26\"],[1.0,\"#f0f921\"]]}],\"contourcarpet\":[{\"type\":\"contourcarpet\",\"colorbar\":{\"outlinewidth\":0,\"ticks\":\"\"}}],\"contour\":[{\"type\":\"contour\",\"colorbar\":{\"outlinewidth\":0,\"ticks\":\"\"},\"colorscale\":[[0.0,\"#0d0887\"],[0.1111111111111111,\"#46039f\"],[0.2222222222222222,\"#7201a8\"],[0.3333333333333333,\"#9c179e\"],[0.4444444444444444,\"#bd3786\"],[0.5555555555555556,\"#d8576b\"],[0.6666666666666666,\"#ed7953\"],[0.7777777777777778,\"#fb9f3a\"],[0.8888888888888888,\"#fdca26\"],[1.0,\"#f0f921\"]]}],\"surface\":[{\"type\":\"surface\",\"colorbar\":{\"outlinewidth\":0,\"ticks\":\"\"},\"colorscale\":[[0.0,\"#0d0887\"],[0.1111111111111111,\"#46039f\"],[0.2222222222222222,\"#7201a8\"],[0.3333333333333333,\"#9c179e\"],[0.4444444444444444,\"#bd3786\"],[0.5555555555555556,\"#d8576b\"],[0.6666666666666666,\"#ed7953\"],[0.7777777777777778,\"#fb9f3a\"],[0.8888888888888888,\"#fdca26\"],[1.0,\"#f0f921\"]]}],\"mesh3d\":[{\"type\":\"mesh3d\",\"colorbar\":{\"outlinewidth\":0,\"ticks\":\"\"}}],\"scatter\":[{\"fillpattern\":{\"fillmode\":\"overlay\",\"size\":10,\"solidity\":0.2},\"type\":\"scatter\"}],\"parcoords\":[{\"type\":\"parcoords\",\"line\":{\"colorbar\":{\"outlinewidth\":0,\"ticks\":\"\"}}}],\"scatterpolargl\":[{\"type\":\"scatterpolargl\",\"marker\":{\"colorbar\":{\"outlinewidth\":0,\"ticks\":\"\"}}}],\"bar\":[{\"error_x\":{\"color\":\"#2a3f5f\"},\"error_y\":{\"color\":\"#2a3f5f\"},\"marker\":{\"line\":{\"color\":\"#E5ECF6\",\"width\":0.5},\"pattern\":{\"fillmode\":\"overlay\",\"size\":10,\"solidity\":0.2}},\"type\":\"bar\"}],\"scattergeo\":[{\"type\":\"scattergeo\",\"marker\":{\"colorbar\":{\"outlinewidth\":0,\"ticks\":\"\"}}}],\"scatterpolar\":[{\"type\":\"scatterpolar\",\"marker\":{\"colorbar\":{\"outlinewidth\":0,\"ticks\":\"\"}}}],\"histogram\":[{\"marker\":{\"pattern\":{\"fillmode\":\"overlay\",\"size\":10,\"solidity\":0.2}},\"type\":\"histogram\"}],\"scattergl\":[{\"type\":\"scattergl\",\"marker\":{\"colorbar\":{\"outlinewidth\":0,\"ticks\":\"\"}}}],\"scatter3d\":[{\"type\":\"scatter3d\",\"line\":{\"colorbar\":{\"outlinewidth\":0,\"ticks\":\"\"}},\"marker\":{\"colorbar\":{\"outlinewidth\":0,\"ticks\":\"\"}}}],\"scattermapbox\":[{\"type\":\"scattermapbox\",\"marker\":{\"colorbar\":{\"outlinewidth\":0,\"ticks\":\"\"}}}],\"scatterternary\":[{\"type\":\"scatterternary\",\"marker\":{\"colorbar\":{\"outlinewidth\":0,\"ticks\":\"\"}}}],\"scattercarpet\":[{\"type\":\"scattercarpet\",\"marker\":{\"colorbar\":{\"outlinewidth\":0,\"ticks\":\"\"}}}],\"carpet\":[{\"aaxis\":{\"endlinecolor\":\"#2a3f5f\",\"gridcolor\":\"white\",\"linecolor\":\"white\",\"minorgridcolor\":\"white\",\"startlinecolor\":\"#2a3f5f\"},\"baxis\":{\"endlinecolor\":\"#2a3f5f\",\"gridcolor\":\"white\",\"linecolor\":\"white\",\"minorgridcolor\":\"white\",\"startlinecolor\":\"#2a3f5f\"},\"type\":\"carpet\"}],\"table\":[{\"cells\":{\"fill\":{\"color\":\"#EBF0F8\"},\"line\":{\"color\":\"white\"}},\"header\":{\"fill\":{\"color\":\"#C8D4E3\"},\"line\":{\"color\":\"white\"}},\"type\":\"table\"}],\"barpolar\":[{\"marker\":{\"line\":{\"color\":\"#E5ECF6\",\"width\":0.5},\"pattern\":{\"fillmode\":\"overlay\",\"size\":10,\"solidity\":0.2}},\"type\":\"barpolar\"}],\"pie\":[{\"automargin\":true,\"type\":\"pie\"}]},\"layout\":{\"autotypenumbers\":\"strict\",\"colorway\":[\"#636efa\",\"#EF553B\",\"#00cc96\",\"#ab63fa\",\"#FFA15A\",\"#19d3f3\",\"#FF6692\",\"#B6E880\",\"#FF97FF\",\"#FECB52\"],\"font\":{\"color\":\"#2a3f5f\"},\"hovermode\":\"closest\",\"hoverlabel\":{\"align\":\"left\"},\"paper_bgcolor\":\"white\",\"plot_bgcolor\":\"#E5ECF6\",\"polar\":{\"bgcolor\":\"#E5ECF6\",\"angularaxis\":{\"gridcolor\":\"white\",\"linecolor\":\"white\",\"ticks\":\"\"},\"radialaxis\":{\"gridcolor\":\"white\",\"linecolor\":\"white\",\"ticks\":\"\"}},\"ternary\":{\"bgcolor\":\"#E5ECF6\",\"aaxis\":{\"gridcolor\":\"white\",\"linecolor\":\"white\",\"ticks\":\"\"},\"baxis\":{\"gridcolor\":\"white\",\"linecolor\":\"white\",\"ticks\":\"\"},\"caxis\":{\"gridcolor\":\"white\",\"linecolor\":\"white\",\"ticks\":\"\"}},\"coloraxis\":{\"colorbar\":{\"outlinewidth\":0,\"ticks\":\"\"}},\"colorscale\":{\"sequential\":[[0.0,\"#0d0887\"],[0.1111111111111111,\"#46039f\"],[0.2222222222222222,\"#7201a8\"],[0.3333333333333333,\"#9c179e\"],[0.4444444444444444,\"#bd3786\"],[0.5555555555555556,\"#d8576b\"],[0.6666666666666666,\"#ed7953\"],[0.7777777777777778,\"#fb9f3a\"],[0.8888888888888888,\"#fdca26\"],[1.0,\"#f0f921\"]],\"sequentialminus\":[[0.0,\"#0d0887\"],[0.1111111111111111,\"#46039f\"],[0.2222222222222222,\"#7201a8\"],[0.3333333333333333,\"#9c179e\"],[0.4444444444444444,\"#bd3786\"],[0.5555555555555556,\"#d8576b\"],[0.6666666666666666,\"#ed7953\"],[0.7777777777777778,\"#fb9f3a\"],[0.8888888888888888,\"#fdca26\"],[1.0,\"#f0f921\"]],\"diverging\":[[0,\"#8e0152\"],[0.1,\"#c51b7d\"],[0.2,\"#de77ae\"],[0.3,\"#f1b6da\"],[0.4,\"#fde0ef\"],[0.5,\"#f7f7f7\"],[0.6,\"#e6f5d0\"],[0.7,\"#b8e186\"],[0.8,\"#7fbc41\"],[0.9,\"#4d9221\"],[1,\"#276419\"]]},\"xaxis\":{\"gridcolor\":\"white\",\"linecolor\":\"white\",\"ticks\":\"\",\"title\":{\"standoff\":15},\"zerolinecolor\":\"white\",\"automargin\":true,\"zerolinewidth\":2},\"yaxis\":{\"gridcolor\":\"white\",\"linecolor\":\"white\",\"ticks\":\"\",\"title\":{\"standoff\":15},\"zerolinecolor\":\"white\",\"automargin\":true,\"zerolinewidth\":2},\"scene\":{\"xaxis\":{\"backgroundcolor\":\"#E5ECF6\",\"gridcolor\":\"white\",\"linecolor\":\"white\",\"showbackground\":true,\"ticks\":\"\",\"zerolinecolor\":\"white\",\"gridwidth\":2},\"yaxis\":{\"backgroundcolor\":\"#E5ECF6\",\"gridcolor\":\"white\",\"linecolor\":\"white\",\"showbackground\":true,\"ticks\":\"\",\"zerolinecolor\":\"white\",\"gridwidth\":2},\"zaxis\":{\"backgroundcolor\":\"#E5ECF6\",\"gridcolor\":\"white\",\"linecolor\":\"white\",\"showbackground\":true,\"ticks\":\"\",\"zerolinecolor\":\"white\",\"gridwidth\":2}},\"shapedefaults\":{\"line\":{\"color\":\"#2a3f5f\"}},\"annotationdefaults\":{\"arrowcolor\":\"#2a3f5f\",\"arrowhead\":0,\"arrowwidth\":1},\"geo\":{\"bgcolor\":\"white\",\"landcolor\":\"#E5ECF6\",\"subunitcolor\":\"white\",\"showland\":true,\"showlakes\":true,\"lakecolor\":\"white\"},\"title\":{\"x\":0.05},\"mapbox\":{\"style\":\"light\"}}},\"xaxis\":{\"anchor\":\"y\",\"domain\":[0.0,1.0],\"title\":{\"text\":\"Level\"}},\"yaxis\":{\"anchor\":\"x\",\"domain\":[0.0,1.0],\"title\":{\"text\":\"count\"}},\"legend\":{\"tracegroupgap\":0},\"margin\":{\"t\":60},\"barmode\":\"relative\"},                        {\"responsive\": true}                    ).then(function(){\n                            \nvar gd = document.getElementById('d4e3938e-ce36-40a8-a9d2-ccd98789da3e');\nvar x = new MutationObserver(function (mutations, observer) {{\n        var display = window.getComputedStyle(gd).display;\n        if (!display || display === 'none') {{\n            console.log([gd, 'removed!']);\n            Plotly.purge(gd);\n            observer.disconnect();\n        }}\n}});\n\n// Listen for the removal of the full notebook cells\nvar notebookContainer = gd.closest('#notebook-container');\nif (notebookContainer) {{\n    x.observe(notebookContainer, {childList: true});\n}}\n\n// Listen for the clearing of the current output cell\nvar outputEl = gd.closest('.output');\nif (outputEl) {{\n    x.observe(outputEl, {childList: true});\n}}\n\n                        })                };                });            </script>        </div>"
     },
     "metadata": {},
     "output_type": "display_data"
    },
    {
     "data": {
      "application/vnd.plotly.v1+json": {
       "data": [
        {
         "alignmentgroup": "True",
         "bingroup": "x",
         "hovertemplate": "Rating=%{x}<br>count=%{y}<extra></extra>",
         "legendgroup": "",
         "marker": {
          "color": "#636efa",
          "pattern": {
           "shape": ""
          }
         },
         "name": "",
         "offsetgroup": "",
         "orientation": "v",
         "showlegend": false,
         "x": [
          null,
          8.9,
          9.0,
          null,
          9.0,
          8.8,
          9.1,
          8.9,
          8.2,
          null,
          9.1,
          8.9,
          null,
          null,
          8.5,
          8.3,
          8.0,
          9.1,
          9.0,
          8.4,
          9.2,
          9.1,
          9.4,
          8.9,
          7.9,
          null,
          null,
          8.6,
          null,
          8.9,
          0.0,
          8.7,
          8.8,
          8.3,
          8.8,
          8.7,
          null,
          8.9,
          null,
          8.8,
          8.5,
          9.0,
          null,
          8.2,
          null,
          8.9,
          8.7,
          8.8,
          8.4,
          8.9,
          8.6,
          8.1,
          9.4
         ],
         "xaxis": "x",
         "yaxis": "y",
         "type": "histogram"
        }
       ],
       "layout": {
        "template": {
         "data": {
          "histogram2dcontour": [
           {
            "type": "histogram2dcontour",
            "colorbar": {
             "outlinewidth": 0,
             "ticks": ""
            },
            "colorscale": [
             [
              0.0,
              "#0d0887"
             ],
             [
              0.1111111111111111,
              "#46039f"
             ],
             [
              0.2222222222222222,
              "#7201a8"
             ],
             [
              0.3333333333333333,
              "#9c179e"
             ],
             [
              0.4444444444444444,
              "#bd3786"
             ],
             [
              0.5555555555555556,
              "#d8576b"
             ],
             [
              0.6666666666666666,
              "#ed7953"
             ],
             [
              0.7777777777777778,
              "#fb9f3a"
             ],
             [
              0.8888888888888888,
              "#fdca26"
             ],
             [
              1.0,
              "#f0f921"
             ]
            ]
           }
          ],
          "choropleth": [
           {
            "type": "choropleth",
            "colorbar": {
             "outlinewidth": 0,
             "ticks": ""
            }
           }
          ],
          "histogram2d": [
           {
            "type": "histogram2d",
            "colorbar": {
             "outlinewidth": 0,
             "ticks": ""
            },
            "colorscale": [
             [
              0.0,
              "#0d0887"
             ],
             [
              0.1111111111111111,
              "#46039f"
             ],
             [
              0.2222222222222222,
              "#7201a8"
             ],
             [
              0.3333333333333333,
              "#9c179e"
             ],
             [
              0.4444444444444444,
              "#bd3786"
             ],
             [
              0.5555555555555556,
              "#d8576b"
             ],
             [
              0.6666666666666666,
              "#ed7953"
             ],
             [
              0.7777777777777778,
              "#fb9f3a"
             ],
             [
              0.8888888888888888,
              "#fdca26"
             ],
             [
              1.0,
              "#f0f921"
             ]
            ]
           }
          ],
          "heatmap": [
           {
            "type": "heatmap",
            "colorbar": {
             "outlinewidth": 0,
             "ticks": ""
            },
            "colorscale": [
             [
              0.0,
              "#0d0887"
             ],
             [
              0.1111111111111111,
              "#46039f"
             ],
             [
              0.2222222222222222,
              "#7201a8"
             ],
             [
              0.3333333333333333,
              "#9c179e"
             ],
             [
              0.4444444444444444,
              "#bd3786"
             ],
             [
              0.5555555555555556,
              "#d8576b"
             ],
             [
              0.6666666666666666,
              "#ed7953"
             ],
             [
              0.7777777777777778,
              "#fb9f3a"
             ],
             [
              0.8888888888888888,
              "#fdca26"
             ],
             [
              1.0,
              "#f0f921"
             ]
            ]
           }
          ],
          "heatmapgl": [
           {
            "type": "heatmapgl",
            "colorbar": {
             "outlinewidth": 0,
             "ticks": ""
            },
            "colorscale": [
             [
              0.0,
              "#0d0887"
             ],
             [
              0.1111111111111111,
              "#46039f"
             ],
             [
              0.2222222222222222,
              "#7201a8"
             ],
             [
              0.3333333333333333,
              "#9c179e"
             ],
             [
              0.4444444444444444,
              "#bd3786"
             ],
             [
              0.5555555555555556,
              "#d8576b"
             ],
             [
              0.6666666666666666,
              "#ed7953"
             ],
             [
              0.7777777777777778,
              "#fb9f3a"
             ],
             [
              0.8888888888888888,
              "#fdca26"
             ],
             [
              1.0,
              "#f0f921"
             ]
            ]
           }
          ],
          "contourcarpet": [
           {
            "type": "contourcarpet",
            "colorbar": {
             "outlinewidth": 0,
             "ticks": ""
            }
           }
          ],
          "contour": [
           {
            "type": "contour",
            "colorbar": {
             "outlinewidth": 0,
             "ticks": ""
            },
            "colorscale": [
             [
              0.0,
              "#0d0887"
             ],
             [
              0.1111111111111111,
              "#46039f"
             ],
             [
              0.2222222222222222,
              "#7201a8"
             ],
             [
              0.3333333333333333,
              "#9c179e"
             ],
             [
              0.4444444444444444,
              "#bd3786"
             ],
             [
              0.5555555555555556,
              "#d8576b"
             ],
             [
              0.6666666666666666,
              "#ed7953"
             ],
             [
              0.7777777777777778,
              "#fb9f3a"
             ],
             [
              0.8888888888888888,
              "#fdca26"
             ],
             [
              1.0,
              "#f0f921"
             ]
            ]
           }
          ],
          "surface": [
           {
            "type": "surface",
            "colorbar": {
             "outlinewidth": 0,
             "ticks": ""
            },
            "colorscale": [
             [
              0.0,
              "#0d0887"
             ],
             [
              0.1111111111111111,
              "#46039f"
             ],
             [
              0.2222222222222222,
              "#7201a8"
             ],
             [
              0.3333333333333333,
              "#9c179e"
             ],
             [
              0.4444444444444444,
              "#bd3786"
             ],
             [
              0.5555555555555556,
              "#d8576b"
             ],
             [
              0.6666666666666666,
              "#ed7953"
             ],
             [
              0.7777777777777778,
              "#fb9f3a"
             ],
             [
              0.8888888888888888,
              "#fdca26"
             ],
             [
              1.0,
              "#f0f921"
             ]
            ]
           }
          ],
          "mesh3d": [
           {
            "type": "mesh3d",
            "colorbar": {
             "outlinewidth": 0,
             "ticks": ""
            }
           }
          ],
          "scatter": [
           {
            "fillpattern": {
             "fillmode": "overlay",
             "size": 10,
             "solidity": 0.2
            },
            "type": "scatter"
           }
          ],
          "parcoords": [
           {
            "type": "parcoords",
            "line": {
             "colorbar": {
              "outlinewidth": 0,
              "ticks": ""
             }
            }
           }
          ],
          "scatterpolargl": [
           {
            "type": "scatterpolargl",
            "marker": {
             "colorbar": {
              "outlinewidth": 0,
              "ticks": ""
             }
            }
           }
          ],
          "bar": [
           {
            "error_x": {
             "color": "#2a3f5f"
            },
            "error_y": {
             "color": "#2a3f5f"
            },
            "marker": {
             "line": {
              "color": "#E5ECF6",
              "width": 0.5
             },
             "pattern": {
              "fillmode": "overlay",
              "size": 10,
              "solidity": 0.2
             }
            },
            "type": "bar"
           }
          ],
          "scattergeo": [
           {
            "type": "scattergeo",
            "marker": {
             "colorbar": {
              "outlinewidth": 0,
              "ticks": ""
             }
            }
           }
          ],
          "scatterpolar": [
           {
            "type": "scatterpolar",
            "marker": {
             "colorbar": {
              "outlinewidth": 0,
              "ticks": ""
             }
            }
           }
          ],
          "histogram": [
           {
            "marker": {
             "pattern": {
              "fillmode": "overlay",
              "size": 10,
              "solidity": 0.2
             }
            },
            "type": "histogram"
           }
          ],
          "scattergl": [
           {
            "type": "scattergl",
            "marker": {
             "colorbar": {
              "outlinewidth": 0,
              "ticks": ""
             }
            }
           }
          ],
          "scatter3d": [
           {
            "type": "scatter3d",
            "line": {
             "colorbar": {
              "outlinewidth": 0,
              "ticks": ""
             }
            },
            "marker": {
             "colorbar": {
              "outlinewidth": 0,
              "ticks": ""
             }
            }
           }
          ],
          "scattermapbox": [
           {
            "type": "scattermapbox",
            "marker": {
             "colorbar": {
              "outlinewidth": 0,
              "ticks": ""
             }
            }
           }
          ],
          "scatterternary": [
           {
            "type": "scatterternary",
            "marker": {
             "colorbar": {
              "outlinewidth": 0,
              "ticks": ""
             }
            }
           }
          ],
          "scattercarpet": [
           {
            "type": "scattercarpet",
            "marker": {
             "colorbar": {
              "outlinewidth": 0,
              "ticks": ""
             }
            }
           }
          ],
          "carpet": [
           {
            "aaxis": {
             "endlinecolor": "#2a3f5f",
             "gridcolor": "white",
             "linecolor": "white",
             "minorgridcolor": "white",
             "startlinecolor": "#2a3f5f"
            },
            "baxis": {
             "endlinecolor": "#2a3f5f",
             "gridcolor": "white",
             "linecolor": "white",
             "minorgridcolor": "white",
             "startlinecolor": "#2a3f5f"
            },
            "type": "carpet"
           }
          ],
          "table": [
           {
            "cells": {
             "fill": {
              "color": "#EBF0F8"
             },
             "line": {
              "color": "white"
             }
            },
            "header": {
             "fill": {
              "color": "#C8D4E3"
             },
             "line": {
              "color": "white"
             }
            },
            "type": "table"
           }
          ],
          "barpolar": [
           {
            "marker": {
             "line": {
              "color": "#E5ECF6",
              "width": 0.5
             },
             "pattern": {
              "fillmode": "overlay",
              "size": 10,
              "solidity": 0.2
             }
            },
            "type": "barpolar"
           }
          ],
          "pie": [
           {
            "automargin": true,
            "type": "pie"
           }
          ]
         },
         "layout": {
          "autotypenumbers": "strict",
          "colorway": [
           "#636efa",
           "#EF553B",
           "#00cc96",
           "#ab63fa",
           "#FFA15A",
           "#19d3f3",
           "#FF6692",
           "#B6E880",
           "#FF97FF",
           "#FECB52"
          ],
          "font": {
           "color": "#2a3f5f"
          },
          "hovermode": "closest",
          "hoverlabel": {
           "align": "left"
          },
          "paper_bgcolor": "white",
          "plot_bgcolor": "#E5ECF6",
          "polar": {
           "bgcolor": "#E5ECF6",
           "angularaxis": {
            "gridcolor": "white",
            "linecolor": "white",
            "ticks": ""
           },
           "radialaxis": {
            "gridcolor": "white",
            "linecolor": "white",
            "ticks": ""
           }
          },
          "ternary": {
           "bgcolor": "#E5ECF6",
           "aaxis": {
            "gridcolor": "white",
            "linecolor": "white",
            "ticks": ""
           },
           "baxis": {
            "gridcolor": "white",
            "linecolor": "white",
            "ticks": ""
           },
           "caxis": {
            "gridcolor": "white",
            "linecolor": "white",
            "ticks": ""
           }
          },
          "coloraxis": {
           "colorbar": {
            "outlinewidth": 0,
            "ticks": ""
           }
          },
          "colorscale": {
           "sequential": [
            [
             0.0,
             "#0d0887"
            ],
            [
             0.1111111111111111,
             "#46039f"
            ],
            [
             0.2222222222222222,
             "#7201a8"
            ],
            [
             0.3333333333333333,
             "#9c179e"
            ],
            [
             0.4444444444444444,
             "#bd3786"
            ],
            [
             0.5555555555555556,
             "#d8576b"
            ],
            [
             0.6666666666666666,
             "#ed7953"
            ],
            [
             0.7777777777777778,
             "#fb9f3a"
            ],
            [
             0.8888888888888888,
             "#fdca26"
            ],
            [
             1.0,
             "#f0f921"
            ]
           ],
           "sequentialminus": [
            [
             0.0,
             "#0d0887"
            ],
            [
             0.1111111111111111,
             "#46039f"
            ],
            [
             0.2222222222222222,
             "#7201a8"
            ],
            [
             0.3333333333333333,
             "#9c179e"
            ],
            [
             0.4444444444444444,
             "#bd3786"
            ],
            [
             0.5555555555555556,
             "#d8576b"
            ],
            [
             0.6666666666666666,
             "#ed7953"
            ],
            [
             0.7777777777777778,
             "#fb9f3a"
            ],
            [
             0.8888888888888888,
             "#fdca26"
            ],
            [
             1.0,
             "#f0f921"
            ]
           ],
           "diverging": [
            [
             0,
             "#8e0152"
            ],
            [
             0.1,
             "#c51b7d"
            ],
            [
             0.2,
             "#de77ae"
            ],
            [
             0.3,
             "#f1b6da"
            ],
            [
             0.4,
             "#fde0ef"
            ],
            [
             0.5,
             "#f7f7f7"
            ],
            [
             0.6,
             "#e6f5d0"
            ],
            [
             0.7,
             "#b8e186"
            ],
            [
             0.8,
             "#7fbc41"
            ],
            [
             0.9,
             "#4d9221"
            ],
            [
             1,
             "#276419"
            ]
           ]
          },
          "xaxis": {
           "gridcolor": "white",
           "linecolor": "white",
           "ticks": "",
           "title": {
            "standoff": 15
           },
           "zerolinecolor": "white",
           "automargin": true,
           "zerolinewidth": 2
          },
          "yaxis": {
           "gridcolor": "white",
           "linecolor": "white",
           "ticks": "",
           "title": {
            "standoff": 15
           },
           "zerolinecolor": "white",
           "automargin": true,
           "zerolinewidth": 2
          },
          "scene": {
           "xaxis": {
            "backgroundcolor": "#E5ECF6",
            "gridcolor": "white",
            "linecolor": "white",
            "showbackground": true,
            "ticks": "",
            "zerolinecolor": "white",
            "gridwidth": 2
           },
           "yaxis": {
            "backgroundcolor": "#E5ECF6",
            "gridcolor": "white",
            "linecolor": "white",
            "showbackground": true,
            "ticks": "",
            "zerolinecolor": "white",
            "gridwidth": 2
           },
           "zaxis": {
            "backgroundcolor": "#E5ECF6",
            "gridcolor": "white",
            "linecolor": "white",
            "showbackground": true,
            "ticks": "",
            "zerolinecolor": "white",
            "gridwidth": 2
           }
          },
          "shapedefaults": {
           "line": {
            "color": "#2a3f5f"
           }
          },
          "annotationdefaults": {
           "arrowcolor": "#2a3f5f",
           "arrowhead": 0,
           "arrowwidth": 1
          },
          "geo": {
           "bgcolor": "white",
           "landcolor": "#E5ECF6",
           "subunitcolor": "white",
           "showland": true,
           "showlakes": true,
           "lakecolor": "white"
          },
          "title": {
           "x": 0.05
          },
          "mapbox": {
           "style": "light"
          }
         }
        },
        "xaxis": {
         "anchor": "y",
         "domain": [
          0.0,
          1.0
         ],
         "title": {
          "text": "Rating"
         }
        },
        "yaxis": {
         "anchor": "x",
         "domain": [
          0.0,
          1.0
         ],
         "title": {
          "text": "count"
         }
        },
        "legend": {
         "tracegroupgap": 0
        },
        "margin": {
         "t": 60
        },
        "barmode": "relative"
       },
       "config": {
        "plotlyServerURL": "https://plot.ly"
       }
      },
      "text/html": "<div>                            <div id=\"5bdf6bf0-17b9-48ae-bec3-4e3d4009e38c\" class=\"plotly-graph-div\" style=\"height:525px; width:100%;\"></div>            <script type=\"text/javascript\">                require([\"plotly\"], function(Plotly) {                    window.PLOTLYENV=window.PLOTLYENV || {};                                    if (document.getElementById(\"5bdf6bf0-17b9-48ae-bec3-4e3d4009e38c\")) {                    Plotly.newPlot(                        \"5bdf6bf0-17b9-48ae-bec3-4e3d4009e38c\",                        [{\"alignmentgroup\":\"True\",\"bingroup\":\"x\",\"hovertemplate\":\"Rating=%{x}\\u003cbr\\u003ecount=%{y}\\u003cextra\\u003e\\u003c\\u002fextra\\u003e\",\"legendgroup\":\"\",\"marker\":{\"color\":\"#636efa\",\"pattern\":{\"shape\":\"\"}},\"name\":\"\",\"offsetgroup\":\"\",\"orientation\":\"v\",\"showlegend\":false,\"x\":[null,8.9,9.0,null,9.0,8.8,9.1,8.9,8.2,null,9.1,8.9,null,null,8.5,8.3,8.0,9.1,9.0,8.4,9.2,9.1,9.4,8.9,7.9,null,null,8.6,null,8.9,0.0,8.7,8.8,8.3,8.8,8.7,null,8.9,null,8.8,8.5,9.0,null,8.2,null,8.9,8.7,8.8,8.4,8.9,8.6,8.1,9.4],\"xaxis\":\"x\",\"yaxis\":\"y\",\"type\":\"histogram\"}],                        {\"template\":{\"data\":{\"histogram2dcontour\":[{\"type\":\"histogram2dcontour\",\"colorbar\":{\"outlinewidth\":0,\"ticks\":\"\"},\"colorscale\":[[0.0,\"#0d0887\"],[0.1111111111111111,\"#46039f\"],[0.2222222222222222,\"#7201a8\"],[0.3333333333333333,\"#9c179e\"],[0.4444444444444444,\"#bd3786\"],[0.5555555555555556,\"#d8576b\"],[0.6666666666666666,\"#ed7953\"],[0.7777777777777778,\"#fb9f3a\"],[0.8888888888888888,\"#fdca26\"],[1.0,\"#f0f921\"]]}],\"choropleth\":[{\"type\":\"choropleth\",\"colorbar\":{\"outlinewidth\":0,\"ticks\":\"\"}}],\"histogram2d\":[{\"type\":\"histogram2d\",\"colorbar\":{\"outlinewidth\":0,\"ticks\":\"\"},\"colorscale\":[[0.0,\"#0d0887\"],[0.1111111111111111,\"#46039f\"],[0.2222222222222222,\"#7201a8\"],[0.3333333333333333,\"#9c179e\"],[0.4444444444444444,\"#bd3786\"],[0.5555555555555556,\"#d8576b\"],[0.6666666666666666,\"#ed7953\"],[0.7777777777777778,\"#fb9f3a\"],[0.8888888888888888,\"#fdca26\"],[1.0,\"#f0f921\"]]}],\"heatmap\":[{\"type\":\"heatmap\",\"colorbar\":{\"outlinewidth\":0,\"ticks\":\"\"},\"colorscale\":[[0.0,\"#0d0887\"],[0.1111111111111111,\"#46039f\"],[0.2222222222222222,\"#7201a8\"],[0.3333333333333333,\"#9c179e\"],[0.4444444444444444,\"#bd3786\"],[0.5555555555555556,\"#d8576b\"],[0.6666666666666666,\"#ed7953\"],[0.7777777777777778,\"#fb9f3a\"],[0.8888888888888888,\"#fdca26\"],[1.0,\"#f0f921\"]]}],\"heatmapgl\":[{\"type\":\"heatmapgl\",\"colorbar\":{\"outlinewidth\":0,\"ticks\":\"\"},\"colorscale\":[[0.0,\"#0d0887\"],[0.1111111111111111,\"#46039f\"],[0.2222222222222222,\"#7201a8\"],[0.3333333333333333,\"#9c179e\"],[0.4444444444444444,\"#bd3786\"],[0.5555555555555556,\"#d8576b\"],[0.6666666666666666,\"#ed7953\"],[0.7777777777777778,\"#fb9f3a\"],[0.8888888888888888,\"#fdca26\"],[1.0,\"#f0f921\"]]}],\"contourcarpet\":[{\"type\":\"contourcarpet\",\"colorbar\":{\"outlinewidth\":0,\"ticks\":\"\"}}],\"contour\":[{\"type\":\"contour\",\"colorbar\":{\"outlinewidth\":0,\"ticks\":\"\"},\"colorscale\":[[0.0,\"#0d0887\"],[0.1111111111111111,\"#46039f\"],[0.2222222222222222,\"#7201a8\"],[0.3333333333333333,\"#9c179e\"],[0.4444444444444444,\"#bd3786\"],[0.5555555555555556,\"#d8576b\"],[0.6666666666666666,\"#ed7953\"],[0.7777777777777778,\"#fb9f3a\"],[0.8888888888888888,\"#fdca26\"],[1.0,\"#f0f921\"]]}],\"surface\":[{\"type\":\"surface\",\"colorbar\":{\"outlinewidth\":0,\"ticks\":\"\"},\"colorscale\":[[0.0,\"#0d0887\"],[0.1111111111111111,\"#46039f\"],[0.2222222222222222,\"#7201a8\"],[0.3333333333333333,\"#9c179e\"],[0.4444444444444444,\"#bd3786\"],[0.5555555555555556,\"#d8576b\"],[0.6666666666666666,\"#ed7953\"],[0.7777777777777778,\"#fb9f3a\"],[0.8888888888888888,\"#fdca26\"],[1.0,\"#f0f921\"]]}],\"mesh3d\":[{\"type\":\"mesh3d\",\"colorbar\":{\"outlinewidth\":0,\"ticks\":\"\"}}],\"scatter\":[{\"fillpattern\":{\"fillmode\":\"overlay\",\"size\":10,\"solidity\":0.2},\"type\":\"scatter\"}],\"parcoords\":[{\"type\":\"parcoords\",\"line\":{\"colorbar\":{\"outlinewidth\":0,\"ticks\":\"\"}}}],\"scatterpolargl\":[{\"type\":\"scatterpolargl\",\"marker\":{\"colorbar\":{\"outlinewidth\":0,\"ticks\":\"\"}}}],\"bar\":[{\"error_x\":{\"color\":\"#2a3f5f\"},\"error_y\":{\"color\":\"#2a3f5f\"},\"marker\":{\"line\":{\"color\":\"#E5ECF6\",\"width\":0.5},\"pattern\":{\"fillmode\":\"overlay\",\"size\":10,\"solidity\":0.2}},\"type\":\"bar\"}],\"scattergeo\":[{\"type\":\"scattergeo\",\"marker\":{\"colorbar\":{\"outlinewidth\":0,\"ticks\":\"\"}}}],\"scatterpolar\":[{\"type\":\"scatterpolar\",\"marker\":{\"colorbar\":{\"outlinewidth\":0,\"ticks\":\"\"}}}],\"histogram\":[{\"marker\":{\"pattern\":{\"fillmode\":\"overlay\",\"size\":10,\"solidity\":0.2}},\"type\":\"histogram\"}],\"scattergl\":[{\"type\":\"scattergl\",\"marker\":{\"colorbar\":{\"outlinewidth\":0,\"ticks\":\"\"}}}],\"scatter3d\":[{\"type\":\"scatter3d\",\"line\":{\"colorbar\":{\"outlinewidth\":0,\"ticks\":\"\"}},\"marker\":{\"colorbar\":{\"outlinewidth\":0,\"ticks\":\"\"}}}],\"scattermapbox\":[{\"type\":\"scattermapbox\",\"marker\":{\"colorbar\":{\"outlinewidth\":0,\"ticks\":\"\"}}}],\"scatterternary\":[{\"type\":\"scatterternary\",\"marker\":{\"colorbar\":{\"outlinewidth\":0,\"ticks\":\"\"}}}],\"scattercarpet\":[{\"type\":\"scattercarpet\",\"marker\":{\"colorbar\":{\"outlinewidth\":0,\"ticks\":\"\"}}}],\"carpet\":[{\"aaxis\":{\"endlinecolor\":\"#2a3f5f\",\"gridcolor\":\"white\",\"linecolor\":\"white\",\"minorgridcolor\":\"white\",\"startlinecolor\":\"#2a3f5f\"},\"baxis\":{\"endlinecolor\":\"#2a3f5f\",\"gridcolor\":\"white\",\"linecolor\":\"white\",\"minorgridcolor\":\"white\",\"startlinecolor\":\"#2a3f5f\"},\"type\":\"carpet\"}],\"table\":[{\"cells\":{\"fill\":{\"color\":\"#EBF0F8\"},\"line\":{\"color\":\"white\"}},\"header\":{\"fill\":{\"color\":\"#C8D4E3\"},\"line\":{\"color\":\"white\"}},\"type\":\"table\"}],\"barpolar\":[{\"marker\":{\"line\":{\"color\":\"#E5ECF6\",\"width\":0.5},\"pattern\":{\"fillmode\":\"overlay\",\"size\":10,\"solidity\":0.2}},\"type\":\"barpolar\"}],\"pie\":[{\"automargin\":true,\"type\":\"pie\"}]},\"layout\":{\"autotypenumbers\":\"strict\",\"colorway\":[\"#636efa\",\"#EF553B\",\"#00cc96\",\"#ab63fa\",\"#FFA15A\",\"#19d3f3\",\"#FF6692\",\"#B6E880\",\"#FF97FF\",\"#FECB52\"],\"font\":{\"color\":\"#2a3f5f\"},\"hovermode\":\"closest\",\"hoverlabel\":{\"align\":\"left\"},\"paper_bgcolor\":\"white\",\"plot_bgcolor\":\"#E5ECF6\",\"polar\":{\"bgcolor\":\"#E5ECF6\",\"angularaxis\":{\"gridcolor\":\"white\",\"linecolor\":\"white\",\"ticks\":\"\"},\"radialaxis\":{\"gridcolor\":\"white\",\"linecolor\":\"white\",\"ticks\":\"\"}},\"ternary\":{\"bgcolor\":\"#E5ECF6\",\"aaxis\":{\"gridcolor\":\"white\",\"linecolor\":\"white\",\"ticks\":\"\"},\"baxis\":{\"gridcolor\":\"white\",\"linecolor\":\"white\",\"ticks\":\"\"},\"caxis\":{\"gridcolor\":\"white\",\"linecolor\":\"white\",\"ticks\":\"\"}},\"coloraxis\":{\"colorbar\":{\"outlinewidth\":0,\"ticks\":\"\"}},\"colorscale\":{\"sequential\":[[0.0,\"#0d0887\"],[0.1111111111111111,\"#46039f\"],[0.2222222222222222,\"#7201a8\"],[0.3333333333333333,\"#9c179e\"],[0.4444444444444444,\"#bd3786\"],[0.5555555555555556,\"#d8576b\"],[0.6666666666666666,\"#ed7953\"],[0.7777777777777778,\"#fb9f3a\"],[0.8888888888888888,\"#fdca26\"],[1.0,\"#f0f921\"]],\"sequentialminus\":[[0.0,\"#0d0887\"],[0.1111111111111111,\"#46039f\"],[0.2222222222222222,\"#7201a8\"],[0.3333333333333333,\"#9c179e\"],[0.4444444444444444,\"#bd3786\"],[0.5555555555555556,\"#d8576b\"],[0.6666666666666666,\"#ed7953\"],[0.7777777777777778,\"#fb9f3a\"],[0.8888888888888888,\"#fdca26\"],[1.0,\"#f0f921\"]],\"diverging\":[[0,\"#8e0152\"],[0.1,\"#c51b7d\"],[0.2,\"#de77ae\"],[0.3,\"#f1b6da\"],[0.4,\"#fde0ef\"],[0.5,\"#f7f7f7\"],[0.6,\"#e6f5d0\"],[0.7,\"#b8e186\"],[0.8,\"#7fbc41\"],[0.9,\"#4d9221\"],[1,\"#276419\"]]},\"xaxis\":{\"gridcolor\":\"white\",\"linecolor\":\"white\",\"ticks\":\"\",\"title\":{\"standoff\":15},\"zerolinecolor\":\"white\",\"automargin\":true,\"zerolinewidth\":2},\"yaxis\":{\"gridcolor\":\"white\",\"linecolor\":\"white\",\"ticks\":\"\",\"title\":{\"standoff\":15},\"zerolinecolor\":\"white\",\"automargin\":true,\"zerolinewidth\":2},\"scene\":{\"xaxis\":{\"backgroundcolor\":\"#E5ECF6\",\"gridcolor\":\"white\",\"linecolor\":\"white\",\"showbackground\":true,\"ticks\":\"\",\"zerolinecolor\":\"white\",\"gridwidth\":2},\"yaxis\":{\"backgroundcolor\":\"#E5ECF6\",\"gridcolor\":\"white\",\"linecolor\":\"white\",\"showbackground\":true,\"ticks\":\"\",\"zerolinecolor\":\"white\",\"gridwidth\":2},\"zaxis\":{\"backgroundcolor\":\"#E5ECF6\",\"gridcolor\":\"white\",\"linecolor\":\"white\",\"showbackground\":true,\"ticks\":\"\",\"zerolinecolor\":\"white\",\"gridwidth\":2}},\"shapedefaults\":{\"line\":{\"color\":\"#2a3f5f\"}},\"annotationdefaults\":{\"arrowcolor\":\"#2a3f5f\",\"arrowhead\":0,\"arrowwidth\":1},\"geo\":{\"bgcolor\":\"white\",\"landcolor\":\"#E5ECF6\",\"subunitcolor\":\"white\",\"showland\":true,\"showlakes\":true,\"lakecolor\":\"white\"},\"title\":{\"x\":0.05},\"mapbox\":{\"style\":\"light\"}}},\"xaxis\":{\"anchor\":\"y\",\"domain\":[0.0,1.0],\"title\":{\"text\":\"Rating\"}},\"yaxis\":{\"anchor\":\"x\",\"domain\":[0.0,1.0],\"title\":{\"text\":\"count\"}},\"legend\":{\"tracegroupgap\":0},\"margin\":{\"t\":60},\"barmode\":\"relative\"},                        {\"responsive\": true}                    ).then(function(){\n                            \nvar gd = document.getElementById('5bdf6bf0-17b9-48ae-bec3-4e3d4009e38c');\nvar x = new MutationObserver(function (mutations, observer) {{\n        var display = window.getComputedStyle(gd).display;\n        if (!display || display === 'none') {{\n            console.log([gd, 'removed!']);\n            Plotly.purge(gd);\n            observer.disconnect();\n        }}\n}});\n\n// Listen for the removal of the full notebook cells\nvar notebookContainer = gd.closest('#notebook-container');\nif (notebookContainer) {{\n    x.observe(notebookContainer, {childList: true});\n}}\n\n// Listen for the clearing of the current output cell\nvar outputEl = gd.closest('.output');\nif (outputEl) {{\n    x.observe(outputEl, {childList: true});\n}}\n\n                        })                };                });            </script>        </div>"
     },
     "metadata": {},
     "output_type": "display_data"
    }
   ],
   "source": [
    "# Distributions of columns\n",
    "for column in workout_exercises.drop(columns=[\"Desc\", \"Title\"]).columns:\n",
    "    fig = px.histogram(workout_exercises, x=column)\n",
    "    fig.show()"
   ],
   "metadata": {
    "collapsed": false,
    "ExecuteTime": {
     "end_time": "2024-02-06T18:35:31.636355Z",
     "start_time": "2024-02-06T18:35:31.517950Z"
    }
   },
   "id": "3cf54487ab663119",
   "execution_count": 26
  },
  {
   "cell_type": "code",
   "outputs": [],
   "source": [
    "# Delete column 'RatingDesc'\n",
    "workout_exercises = workout_exercises.drop(columns=['RatingDesc'])"
   ],
   "metadata": {
    "collapsed": false,
    "ExecuteTime": {
     "end_time": "2024-02-06T18:28:14.382248Z",
     "start_time": "2024-02-06T18:28:14.118273Z"
    }
   },
   "id": "702f461801603062",
   "execution_count": 23
  },
  {
   "cell_type": "markdown",
   "source": [
    "# Analytics"
   ],
   "metadata": {
    "collapsed": false
   },
   "id": "9fe5adfe6544cfbf"
  },
  {
   "cell_type": "code",
   "outputs": [
    {
     "data": {
      "application/vnd.plotly.v1+json": {
       "data": [
        {
         "alignmentgroup": "True",
         "bingroup": "x",
         "hovertemplate": "variable=MUSCLE<br>value=%{x}<br>count=%{y}<extra></extra>",
         "legendgroup": "MUSCLE",
         "marker": {
          "color": "#636efa",
          "pattern": {
           "shape": ""
          }
         },
         "name": "MUSCLE",
         "offsetgroup": "MUSCLE",
         "orientation": "v",
         "showlegend": true,
         "x": [
          "Legs",
          "Legs",
          "Legs",
          "Legs",
          "Legs",
          "Legs",
          "Legs",
          "Legs",
          "Legs",
          "Legs",
          "Legs",
          "Legs",
          "Back",
          "Back",
          "Back",
          "Back",
          "Back",
          "Back",
          "Back",
          "Back",
          "Back",
          "Back",
          "Back",
          "Back",
          "Back",
          "Shoulders",
          "Shoulders",
          "Shoulders",
          "Chest",
          "Chest",
          "Chest",
          "Chest",
          "Chest",
          "Chest",
          "Chest",
          "Chest",
          "Chest",
          "Chest",
          "Chest",
          "Chest",
          "Shoulders",
          "Shoulders",
          "Shoulders",
          "Shoulders",
          "Back",
          "Back",
          "Back",
          "Back",
          "Back",
          "Back",
          "Back",
          "Back",
          "Back",
          "Back",
          "Back",
          "Back",
          "Shoulders",
          "Shoulders",
          "Shoulders",
          "Shoulders",
          "Legs",
          "Legs",
          "Legs",
          "Legs",
          "Legs",
          "Legs",
          "Legs",
          "Legs",
          "Legs",
          "Legs",
          "Legs",
          "Legs",
          "Legs",
          "Legs",
          "Legs",
          "Legs",
          "Biceps",
          "Biceps",
          "Biceps",
          "Biceps",
          "Biceps",
          "Biceps",
          "Biceps",
          "Biceps",
          "Triceps",
          "Triceps",
          "Triceps",
          "Triceps",
          "Triceps",
          "Triceps",
          "Triceps",
          "Triceps",
          "Triceps",
          "Triceps",
          "Biceps",
          "Biceps",
          "Biceps",
          "Biceps",
          "Shoulders",
          "Shoulders",
          "Shoulders",
          "Shoulders",
          "Chest",
          "Chest",
          "Chest",
          "Chest",
          "Chest",
          "Chest",
          "Chest",
          "Chest",
          "Shoulders",
          "Shoulders",
          "Shoulders",
          "Shoulders",
          "Back",
          "Back",
          "Back",
          "Back",
          "Back",
          "Back",
          "Back",
          "Back",
          "Back",
          "Shoulders",
          "Shoulders",
          "Shoulders",
          "Shoulders",
          "Chest",
          "Chest",
          "Chest",
          "Chest",
          "Chest",
          "Chest",
          "Chest",
          "Chest",
          "Chest",
          "Chest",
          "Chest",
          "Chest",
          "Shoulders",
          "Shoulders",
          "Shoulders",
          "Shoulders",
          "Legs",
          "Legs",
          "Legs",
          "Legs",
          "Legs",
          "Legs",
          "Legs",
          "Legs",
          "Triceps",
          "Triceps",
          "Triceps",
          "Triceps",
          "Triceps",
          "Triceps",
          "Triceps",
          "Triceps",
          "Biceps",
          "Biceps",
          "Biceps",
          "Biceps",
          "Biceps",
          "Biceps",
          "Biceps",
          "Biceps",
          "Chest",
          "Chest",
          "Chest",
          "Chest",
          "Chest",
          "Chest",
          "Chest",
          "Chest",
          "Chest",
          "Chest",
          "Triceps",
          "Triceps",
          "Triceps",
          "Triceps",
          "Biceps",
          "Biceps",
          "Biceps",
          "Biceps",
          "Legs",
          "Legs",
          "Legs",
          "Legs",
          "Legs",
          "Legs",
          "Legs",
          "Legs",
          "Legs",
          "Legs",
          "Legs",
          "Legs",
          "Back",
          "Back",
          "Back",
          "Back",
          "Back",
          "Back",
          "Back",
          "Back",
          "Back",
          "Back",
          "Back",
          "Back",
          "Shoulders",
          "Shoulders",
          "Shoulders",
          "Biceps",
          "Biceps",
          "Biceps",
          "Biceps",
          "Biceps",
          "Biceps",
          "Chest",
          "Chest",
          "Chest",
          "Chest",
          "Chest",
          "Chest",
          "Chest",
          "Chest",
          "Chest",
          "Chest",
          "Chest",
          "Chest",
          "Triceps",
          "Triceps",
          "Triceps",
          "Triceps",
          "Triceps",
          "Triceps",
          "Shoulders",
          "Shoulders",
          "Shoulders",
          "Shoulders",
          "Back",
          "Back",
          "Back",
          "Back",
          "Back",
          "Back",
          "Back",
          "Back",
          "Back",
          "Back",
          "Back",
          "Back",
          "Shoulders",
          "Shoulders",
          "Shoulders",
          "Shoulders",
          "Chest",
          "Chest",
          "Chest",
          "Chest",
          "Chest",
          "Shoulders",
          "Shoulders",
          "Shoulders",
          "Chest",
          "Chest",
          "Chest",
          "Triceps",
          "Triceps",
          "Triceps",
          "Triceps",
          "Triceps",
          "Triceps",
          "Shoulders",
          "Shoulders",
          "Shoulders",
          "Shoulders",
          "Legs",
          "Legs",
          "Legs",
          "Legs",
          "Legs",
          "Legs",
          "Legs",
          "Legs",
          "Legs",
          "Legs",
          "Legs",
          "Legs",
          "Legs",
          "Legs",
          "Legs",
          "Legs",
          "Legs",
          "Back",
          "Back",
          "Back",
          "Back",
          "Back",
          "Back",
          "Back",
          "Back",
          "Back",
          "Back",
          "Back",
          "Back",
          "Shoulders",
          "Shoulders",
          "Shoulders",
          "Biceps",
          "Biceps",
          "Biceps",
          "Biceps",
          "Biceps",
          "Biceps",
          "Biceps",
          "Chest",
          "Chest",
          "Chest",
          "Chest",
          "Chest",
          "Chest",
          "Chest",
          "Chest",
          "Chest",
          "Shoulders",
          "Shoulders",
          "Shoulders",
          "Triceps",
          "Triceps",
          "Triceps",
          "Triceps",
          "Triceps",
          "Triceps",
          "Shoulders",
          "Shoulders",
          "Shoulders",
          "Back",
          "Back",
          "Back",
          "Back",
          "Back",
          "Back",
          "Back",
          "Back",
          "Shoulders",
          "Shoulders",
          "Shoulders",
          "Shoulders",
          "Biceps",
          "Biceps",
          "Biceps",
          "Biceps",
          "Biceps",
          "Biceps",
          "Biceps",
          "Biceps",
          "Chest",
          "Chest",
          "Chest",
          "Chest",
          "Chest",
          "Chest",
          "Shoulders",
          "Shoulders",
          "Shoulders",
          "Chest",
          "Chest",
          "Chest",
          "Triceps",
          "Triceps",
          "Triceps",
          "Triceps",
          "Triceps",
          "Triceps",
          "Shoulders",
          "Shoulders",
          "Shoulders",
          "Shoulders",
          "Legs",
          "Legs",
          "Legs",
          "Legs",
          "Legs",
          "Legs",
          "Legs",
          "Legs",
          "Legs",
          "Legs",
          "Legs",
          "Legs",
          "Legs",
          "Legs",
          "Legs",
          "Legs",
          "Back",
          "Back",
          "Back",
          "Back",
          "Back",
          "Back",
          "Back",
          "Back",
          "Shoulders",
          "Shoulders",
          "Shoulders",
          "Biceps",
          "Biceps",
          "Biceps",
          "Biceps",
          "Biceps",
          "Biceps",
          "Biceps",
          "Biceps",
          "Chest",
          "Chest",
          "Chest",
          "Chest",
          "Chest",
          "Chest",
          "Shoulders",
          "Shoulders",
          "Shoulders",
          "Chest",
          "Chest",
          "Chest",
          "Triceps",
          "Triceps",
          "Triceps",
          "Triceps",
          "Triceps",
          "Triceps",
          "Shoulders",
          "Shoulders",
          "Shoulders",
          "Back",
          "Back",
          "Back",
          "Back",
          "Back",
          "Back",
          "Back",
          "Back",
          "Shoulders",
          "Shoulders",
          "Shoulders",
          "Biceps",
          "Biceps",
          "Biceps",
          "Biceps",
          "Biceps",
          "Biceps",
          "Biceps",
          "Biceps",
          "Legs",
          "Legs",
          "Legs",
          "Legs",
          "Legs",
          "Legs",
          "Legs",
          "Legs",
          "Legs",
          "Legs",
          "Legs",
          "Legs",
          "Legs",
          "Legs",
          "Legs",
          "Legs",
          "Legs",
          "Legs",
          "Legs",
          "Chest",
          "Chest",
          "Chest",
          "Chest",
          "Chest",
          "Chest",
          "Chest",
          "Chest",
          "Chest",
          "Shoulders",
          "Shoulders",
          "Shoulders",
          "Triceps",
          "Triceps",
          "Triceps",
          "Triceps",
          "Shoulders",
          "Shoulders",
          "Shoulders",
          "Legs",
          "Legs",
          "Legs",
          "Legs",
          "Legs",
          "Legs",
          "Legs",
          "Legs",
          "Legs",
          "Legs",
          "Legs",
          "Legs",
          "Legs",
          "Legs",
          "Legs",
          "Legs",
          "Back",
          "Back",
          "Back",
          "Back",
          "Back",
          "Back",
          "Back",
          "Back",
          "Back",
          "Back",
          "Back",
          "Back",
          "Shoulders",
          "Shoulders",
          "Shoulders",
          "Biceps",
          "Biceps",
          "Biceps",
          "Biceps",
          "Biceps",
          "Biceps",
          "Chest",
          "Chest",
          "Chest",
          "Chest",
          "Chest",
          "Chest",
          "Chest",
          "Chest",
          "Shoulders",
          "Shoulders",
          "Shoulders",
          "Chest",
          "Chest",
          "Chest",
          "Triceps",
          "Triceps",
          "Triceps",
          "Chest",
          "Chest",
          "Triceps",
          "Triceps",
          "Triceps",
          "Shoulders",
          "Shoulders",
          "Shoulders",
          "Legs",
          "Legs",
          "Legs",
          "Legs",
          "Legs",
          "Legs",
          "Legs",
          "Legs",
          "Legs",
          "Back",
          "Back",
          "Back",
          "Back",
          "Back",
          "Back",
          "Back",
          "Back",
          "Back",
          "Back",
          "Back",
          "Back",
          "Shoulders",
          "Shoulders",
          "Shoulders",
          "Biceps",
          "Biceps",
          "Biceps",
          "Biceps",
          "Biceps",
          "Biceps",
          "Back",
          "Back",
          "Back",
          "Back",
          "Back",
          "Back",
          "Back",
          "Back",
          "Back",
          "Back",
          "Back",
          "Back",
          "Shoulders",
          "Shoulders",
          "Shoulders",
          "Biceps",
          "Biceps",
          "Biceps",
          "Biceps",
          "Biceps",
          "Biceps",
          "Chest",
          "Chest",
          "Chest",
          "Chest",
          "Chest",
          "Chest",
          "Triceps",
          "Triceps",
          "Triceps",
          "Shoulders",
          "Shoulders",
          "Shoulders",
          "Triceps",
          "Triceps",
          "Triceps",
          "Shoulders",
          "Shoulders",
          "Shoulders",
          "Back",
          "Back",
          "Back",
          "Back",
          "Back",
          "Back",
          "Back",
          "Back",
          "Back",
          "Back",
          "Back",
          "Back",
          "Shoulders",
          "Shoulders",
          "Shoulders",
          "Biceps",
          "Biceps",
          "Biceps",
          "Biceps",
          "Biceps",
          "Biceps",
          "Chest",
          "Chest",
          "Chest",
          "Chest",
          "Chest",
          "Chest",
          "Shoulders",
          "Shoulders",
          "Shoulders",
          "Chest",
          "Chest",
          "Chest",
          "Triceps",
          "Triceps",
          "Triceps",
          "Triceps",
          "Triceps",
          "Triceps",
          "Shoulders",
          "Shoulders",
          "Shoulders",
          "Shoulders",
          "Back",
          "Back",
          "Back",
          "Back",
          "Back",
          "Back",
          "Back",
          "Back",
          "Back",
          "Back",
          "Back",
          "Back",
          "Biceps",
          "Biceps",
          "Biceps",
          "Shoulders",
          "Shoulders",
          "Shoulders",
          "Biceps",
          "Biceps",
          "Biceps",
          "Biceps",
          "Legs",
          "Legs",
          "Legs",
          "Legs",
          "Legs",
          "Legs",
          "Legs",
          "Legs",
          "Legs",
          "Legs",
          "Legs",
          "Legs",
          "Chest",
          "Chest",
          "Chest",
          "Chest",
          "Chest",
          "Chest",
          "Shoulders",
          "Shoulders",
          "Shoulders",
          "Chest",
          "Chest",
          "Chest",
          "Triceps",
          "Triceps",
          "Triceps",
          "Triceps",
          "Triceps",
          "Triceps",
          "Shoulders",
          "Shoulders",
          "Shoulders",
          "Back",
          "Back",
          "Back",
          "Back",
          "Back",
          "Back",
          "Back",
          "Back",
          "Back",
          "Back",
          "Back",
          "Back",
          "Shoulders",
          "Shoulders",
          "Shoulders",
          "Biceps",
          "Biceps",
          "Biceps",
          "Biceps",
          "Biceps",
          "Biceps",
          "Chest",
          "Chest",
          "Chest",
          "Chest",
          "Chest",
          "Chest",
          "Shoulders",
          "Shoulders",
          "Shoulders",
          "Chest",
          "Chest",
          "Chest",
          "Triceps",
          "Triceps",
          "Triceps",
          "Triceps",
          "Triceps",
          "Triceps",
          "Shoulders",
          "Shoulders",
          "Shoulders",
          "Back",
          "Back",
          "Back",
          "Back",
          "Back",
          "Back",
          "Back",
          "Back",
          "Back",
          "Back",
          "Back",
          "Back",
          "Shoulders",
          "Shoulders",
          "Shoulders",
          "Biceps",
          "Biceps",
          "Biceps",
          "Biceps",
          "Biceps",
          "Biceps",
          "Biceps",
          "Chest",
          "Chest",
          "Chest",
          "Chest",
          "Chest",
          "Chest",
          "Shoulders",
          "Shoulders",
          "Shoulders",
          "Chest",
          "Chest",
          "Chest",
          "Triceps",
          "Triceps",
          "Triceps",
          "Triceps",
          "Triceps",
          "Triceps",
          "Shoulders",
          "Shoulders",
          "Shoulders",
          "Back",
          "Back",
          "Back",
          "Back",
          "Back",
          "Back",
          "Back",
          "Back",
          "Shoulders",
          "Shoulders",
          "Shoulders",
          "Biceps",
          "Biceps",
          "Biceps",
          "Biceps",
          "Biceps",
          "Biceps",
          "Biceps",
          "Biceps",
          "Biceps",
          "Biceps",
          "Chest",
          "Chest",
          "Chest",
          "Chest",
          "Chest",
          "Chest",
          "Triceps",
          "Triceps",
          "Triceps",
          "Shoulders",
          "Shoulders",
          "Triceps",
          "Triceps",
          "Triceps",
          "Shoulders",
          "Shoulders",
          "Shoulders",
          "Legs",
          "Legs",
          "Legs",
          "Legs",
          "Legs",
          "Legs",
          "Legs",
          "Legs",
          "Legs",
          "Legs",
          "Legs",
          "Chest",
          "Chest",
          "Chest",
          "Shoulders",
          "Shoulders",
          "Shoulders",
          "Triceps",
          "Triceps",
          "Triceps",
          "Triceps",
          "Triceps",
          "Triceps",
          "Shoulders",
          "Shoulders",
          "Shoulders",
          "Back",
          "Back",
          "Back",
          "Back",
          "Back",
          "Back",
          "Back",
          "Back",
          "Biceps",
          "Biceps",
          "Biceps",
          "Biceps",
          "Biceps",
          "Biceps",
          "Legs",
          "Legs",
          "Legs",
          "Legs",
          "Legs",
          "Legs",
          "Legs",
          "Legs",
          "Legs",
          "Chest",
          "Chest",
          "Chest",
          "Chest",
          "Chest",
          "Chest",
          "Chest",
          "Chest",
          "Chest",
          "Shoulders",
          "Shoulders",
          "Shoulders",
          "Shoulders",
          "Shoulders",
          "Shoulders",
          "Triceps",
          "Triceps",
          "Triceps",
          "Triceps",
          "Triceps",
          "Triceps",
          "Back",
          "Back",
          "Back",
          "Back",
          "Back",
          "Back",
          "Back",
          "Back",
          "Biceps",
          "Biceps",
          "Biceps",
          "Biceps",
          "Biceps",
          "Biceps",
          "Chest",
          "Chest",
          "Chest",
          "Chest",
          "Shoulders",
          "Shoulders",
          "Shoulders",
          "Triceps",
          "Triceps",
          "Triceps",
          "Shoulders",
          "Shoulders",
          "Shoulders",
          "Back",
          "Back",
          "Back",
          "Back",
          "Back",
          "Back",
          "Back",
          "Biceps",
          "Biceps",
          "Biceps",
          "Biceps",
          "Biceps",
          "Biceps",
          "Chest",
          "Chest",
          "Chest",
          "Chest",
          "Chest",
          "Chest",
          "Shoulders",
          "Shoulders",
          "Shoulders",
          "Chest",
          "Chest",
          "Chest",
          "Triceps",
          "Triceps",
          "Triceps",
          "Triceps",
          "Triceps",
          "Triceps",
          "Shoulders",
          "Shoulders",
          "Shoulders",
          "Chest",
          "Chest",
          "Chest",
          "Triceps",
          "Triceps",
          "Triceps",
          "Shoulders",
          "Shoulders",
          "Shoulders",
          "Triceps",
          "Triceps",
          "Triceps",
          "Shoulders",
          "Shoulders",
          "Shoulders",
          "Back",
          "Back",
          "Back",
          "Back",
          "Back",
          "Back",
          "Back",
          "Back",
          "Biceps",
          "Biceps",
          "Biceps",
          "Biceps",
          "Biceps",
          "Biceps",
          "Chest",
          "Chest",
          "Chest",
          "Triceps",
          "Triceps",
          "Triceps",
          "Shoulders",
          "Shoulders",
          "Shoulders",
          "Triceps",
          "Triceps",
          "Triceps",
          "Shoulders",
          "Shoulders",
          "Shoulders",
          "Legs",
          "Legs",
          "Legs",
          "Legs",
          "Legs",
          "Legs",
          "Legs",
          "Legs",
          "Legs",
          "Legs",
          "Legs",
          "Legs",
          "Legs",
          "Legs",
          "Legs",
          "Legs",
          "Triceps",
          "Triceps",
          "Triceps",
          "Biceps",
          "Biceps",
          "Biceps",
          "Triceps",
          "Triceps",
          "Triceps",
          "Biceps",
          "Biceps",
          "Biceps",
          "Back",
          "Back",
          "Back",
          "Back",
          "Back",
          "Back",
          "Back",
          "Back",
          "Shoulders",
          "Shoulders",
          "Shoulders",
          "Biceps",
          "Biceps",
          "Biceps",
          "Chest",
          "Chest",
          "Chest",
          "Chest",
          "Chest",
          "Chest",
          "Shoulders",
          "Shoulders",
          "Shoulders",
          "Shoulders",
          "Shoulders",
          "Shoulders",
          "Chest",
          "Chest",
          "Chest",
          "Chest",
          "Chest",
          "Chest",
          "Shoulders",
          "Chest",
          "Chest",
          "Chest",
          "Chest",
          "Triceps",
          "Triceps",
          "Triceps",
          "Triceps",
          "Triceps",
          "Triceps",
          "Shoulders",
          "Shoulders",
          "Shoulders",
          "Back",
          "Back",
          "Back",
          "Back",
          "Back",
          "Back",
          "Back",
          "Back",
          "Back",
          "Shoulders",
          "Shoulders",
          "Shoulders",
          "Biceps",
          "Biceps",
          "Biceps",
          "Biceps",
          "Biceps",
          "Biceps",
          "Triceps",
          "Triceps",
          "Triceps",
          "Triceps",
          "Triceps",
          "Triceps",
          "Biceps",
          "Biceps",
          "Biceps",
          "Biceps",
          "Biceps",
          "Biceps",
          "Chest",
          "Chest",
          "Chest",
          "Triceps",
          "Triceps",
          "Triceps",
          "Shoulders",
          "Shoulders",
          "Shoulders",
          "Shoulders",
          "Shoulders",
          "Shoulders",
          "Back",
          "Back",
          "Back",
          "Back",
          "Back",
          "Back",
          "Back",
          "Back",
          "Biceps",
          "Biceps",
          "Biceps",
          "Biceps",
          "Biceps",
          "Biceps",
          "Chest",
          "Chest",
          "Chest",
          "Chest",
          "Chest",
          "Chest",
          "Chest",
          "Chest",
          "Chest",
          "Chest",
          "Triceps",
          "Triceps",
          "Triceps",
          "Triceps",
          "Triceps",
          "Triceps",
          "Shoulders",
          "Shoulders",
          "Shoulders",
          "Legs",
          "Legs",
          "Legs",
          "Legs",
          "Legs",
          "Legs",
          "Legs",
          "Legs",
          "Legs",
          "Legs",
          "Legs",
          "Legs",
          "Legs",
          "Legs",
          "Legs",
          "Chest",
          "Chest",
          "Chest",
          "Chest",
          "Chest",
          "Chest",
          "Triceps",
          "Triceps",
          "Triceps",
          "Shoulders",
          "Shoulders",
          "Shoulders",
          "Triceps",
          "Triceps",
          "Triceps",
          "Shoulders",
          "Shoulders",
          "Shoulders",
          "Legs",
          "Legs",
          "Legs",
          "Legs",
          "Legs",
          "Legs",
          "Legs",
          "Legs",
          "Legs",
          "Legs",
          "Legs",
          "Legs",
          "Legs",
          "Legs",
          "Legs",
          "Back",
          "Back",
          "Back",
          "Back",
          "Back",
          "Back",
          "Back",
          "Back",
          "Biceps",
          "Biceps",
          "Biceps",
          "Biceps",
          "Biceps",
          "Biceps",
          "Legs",
          "Legs",
          "Legs",
          "Legs",
          "Legs",
          "Legs",
          "Legs",
          "Legs",
          "Legs",
          "Legs",
          "Legs",
          "Legs",
          "Legs",
          "Legs",
          "Legs",
          "Chest",
          "Chest",
          "Chest",
          "Chest",
          "Chest",
          "Chest",
          "Chest",
          "Chest",
          "Chest",
          "Chest",
          "Triceps",
          "Triceps",
          "Triceps",
          "Triceps",
          "Triceps",
          "Triceps",
          "Shoulders",
          "Shoulders",
          "Shoulders",
          "Back",
          "Back",
          "Back",
          "Back",
          "Back",
          "Back",
          "Back",
          "Back",
          "Back",
          "Shoulders",
          "Shoulders",
          "Shoulders",
          "Biceps",
          "Biceps",
          "Biceps",
          "Biceps",
          "Biceps",
          "Biceps",
          "Chest",
          "Chest",
          "Chest",
          "Chest",
          "Chest",
          "Chest",
          "Triceps",
          "Triceps",
          "Triceps",
          "Shoulders",
          "Shoulders",
          "Shoulders",
          "Triceps",
          "Triceps",
          "Triceps",
          "Shoulders",
          "Shoulders",
          "Shoulders",
          "Legs",
          "Legs",
          "Legs",
          "Legs",
          "Legs",
          "Legs",
          "Legs",
          "Legs",
          "Legs",
          "Legs",
          "Legs",
          "Legs",
          "Legs",
          "Legs",
          "Legs",
          "Back",
          "Back",
          "Back",
          "Back",
          "Back",
          "Back",
          "Back",
          "Back",
          "Back",
          "Shoulders",
          "Shoulders",
          "Shoulders",
          "Biceps",
          "Biceps",
          "Biceps",
          "Biceps",
          "Biceps",
          "Biceps",
          "Chest",
          "Chest",
          "Chest",
          "Chest",
          "Chest",
          "Chest",
          "Chest",
          "Chest",
          "Chest",
          "Chest",
          "Triceps",
          "Triceps",
          "Triceps",
          "Triceps",
          "Triceps",
          "Triceps",
          "Shoulders",
          "Shoulders",
          "Shoulders",
          "Legs",
          "Legs",
          "Legs",
          "Legs",
          "Legs",
          "Legs",
          "Legs",
          "Legs",
          "Legs",
          "Legs",
          "Legs",
          "Legs",
          "Legs",
          "Legs",
          "Legs",
          "Chest",
          "Chest",
          "Chest",
          "Chest",
          "Chest",
          "Shoulders",
          "Shoulders",
          "Chest",
          "Chest",
          "Chest",
          "Chest",
          "Triceps",
          "Triceps",
          "Triceps",
          "Triceps",
          "Triceps",
          "Triceps",
          "Shoulders",
          "Shoulders",
          "Shoulders",
          "Back",
          "Back",
          "Back",
          "Back",
          "Back",
          "Back",
          "Back",
          "Back",
          "Biceps",
          "Biceps",
          "Biceps",
          "Biceps",
          "Biceps",
          "Biceps",
          "Biceps",
          "Back",
          "Back",
          "Back",
          "Back",
          "Back",
          "Back",
          "Back",
          "Back",
          "Biceps",
          "Biceps",
          "Biceps",
          "Biceps",
          "Biceps",
          "Biceps",
          "Biceps",
          "Biceps",
          "Chest",
          "Chest",
          "Chest",
          "Chest",
          "Chest",
          "Chest",
          "Chest",
          "Chest",
          "Chest",
          "Chest",
          "Triceps",
          "Triceps",
          "Triceps",
          "Triceps",
          "Triceps",
          "Triceps",
          "Shoulders",
          "Shoulders",
          "Shoulders",
          "Legs",
          "Legs",
          "Legs",
          "Legs",
          "Legs",
          "Legs",
          "Legs",
          "Legs",
          "Legs",
          "Legs",
          "Legs",
          "Chest",
          "Chest",
          "Chest",
          "Chest",
          "Chest",
          "Chest",
          "Triceps",
          "Triceps",
          "Triceps",
          "Shoulders",
          "Shoulders",
          "Shoulders",
          "Triceps",
          "Triceps",
          "Triceps",
          "Shoulders",
          "Shoulders",
          "Shoulders",
          "Back",
          "Back",
          "Back",
          "Back",
          "Back",
          "Back",
          "Back",
          "Back",
          "Biceps",
          "Biceps",
          "Biceps",
          "Biceps",
          "Biceps",
          "Biceps",
          "Biceps",
          "Back",
          "Back",
          "Back",
          "Back",
          "Back",
          "Back",
          "Back",
          "Back",
          "Back",
          "Shoulders",
          "Shoulders",
          "Shoulders",
          "Biceps",
          "Biceps",
          "Biceps",
          "Biceps",
          "Biceps",
          "Biceps",
          "Chest",
          "Chest",
          "Chest",
          "Chest",
          "Chest",
          "Shoulders",
          "Shoulders",
          "Chest",
          "Chest",
          "Chest",
          "Chest",
          "Triceps",
          "Triceps",
          "Triceps",
          "Triceps",
          "Triceps",
          "Triceps",
          "Shoulders",
          "Shoulders",
          "Shoulders",
          "Legs",
          "Legs",
          "Legs",
          "Legs",
          "Legs",
          "Legs",
          "Legs",
          "Legs",
          "Legs",
          "Legs",
          "Legs",
          "Legs",
          "Back",
          "Back",
          "Back",
          "Back",
          "Back",
          "Back",
          "Back",
          "Biceps",
          "Biceps",
          "Biceps",
          "Biceps",
          "Biceps",
          "Biceps",
          "Biceps",
          "Chest",
          "Chest",
          "Chest",
          "Chest",
          "Chest",
          "Shoulders",
          "Shoulders",
          "Chest",
          "Chest",
          "Chest",
          "Chest",
          "Triceps",
          "Triceps",
          "Triceps",
          "Triceps",
          "Triceps",
          "Triceps",
          "Shoulders",
          "Shoulders",
          "Shoulders",
          "Legs",
          "Legs",
          "Legs",
          "Legs",
          "Legs",
          "Legs",
          "Legs",
          "Legs",
          "Legs",
          "Legs",
          "Legs",
          "Legs",
          "Legs",
          "Legs",
          "Legs",
          "Back",
          "Back",
          "Back",
          "Back",
          "Back",
          "Back",
          "Back",
          "Back",
          "Biceps",
          "Biceps",
          "Biceps",
          "Biceps",
          "Biceps",
          "Biceps",
          "Biceps",
          "Biceps",
          "Chest",
          "Chest",
          "Chest",
          "Chest",
          "Chest",
          "Chest",
          "Triceps",
          "Triceps",
          "Triceps",
          "Shoulders",
          "Shoulders",
          "Shoulders",
          "Triceps",
          "Triceps",
          "Triceps",
          "Shoulders",
          "Shoulders",
          "Shoulders",
          "Biceps",
          "Biceps",
          "Biceps",
          "Abs",
          "Abs",
          "Abs",
          "Biceps",
          "Biceps",
          "Biceps",
          "Abs",
          "Abs",
          "Abs",
          "Back",
          "Back",
          "Back",
          "Back",
          "Back",
          "Back",
          "Back",
          "Back",
          "Biceps",
          "Biceps",
          "Biceps",
          "Biceps",
          "Biceps",
          "Biceps",
          "Biceps",
          "Chest",
          "Chest",
          "Chest",
          "Chest",
          "Chest",
          "Chest",
          "Chest",
          "Chest",
          "Chest",
          "Chest",
          "Triceps",
          "Triceps",
          "Triceps",
          "Triceps",
          "Triceps",
          "Triceps",
          "Shoulders",
          "Shoulders",
          "Shoulders",
          "Legs",
          "Legs",
          "Legs",
          "Legs",
          "Legs",
          "Legs",
          "Legs",
          "Legs",
          "Legs",
          "Legs",
          "Legs",
          "Legs",
          "Legs",
          "Legs",
          "Legs",
          "Back",
          "Back",
          "Back",
          "Back",
          "Back",
          "Back",
          "Back",
          "Back",
          "Biceps",
          "Biceps",
          "Biceps",
          "Biceps",
          "Biceps",
          "Biceps",
          "Biceps",
          "Chest",
          "Chest",
          "Chest",
          "Chest",
          "Chest",
          "Chest",
          "Chest",
          "Chest",
          "Chest",
          "Chest",
          "Triceps",
          "Triceps",
          "Triceps",
          "Triceps",
          "Triceps",
          "Triceps",
          "Shoulders",
          "Shoulders",
          "Shoulders",
          "Legs",
          "Legs",
          "Legs",
          "Legs",
          "Legs",
          "Legs",
          "Legs",
          "Legs",
          "Legs",
          "Legs",
          "Legs",
          "Legs",
          "Legs",
          "Legs",
          "Legs"
         ],
         "xaxis": "x",
         "yaxis": "y",
         "type": "histogram"
        }
       ],
       "layout": {
        "template": {
         "data": {
          "histogram2dcontour": [
           {
            "type": "histogram2dcontour",
            "colorbar": {
             "outlinewidth": 0,
             "ticks": ""
            },
            "colorscale": [
             [
              0.0,
              "#0d0887"
             ],
             [
              0.1111111111111111,
              "#46039f"
             ],
             [
              0.2222222222222222,
              "#7201a8"
             ],
             [
              0.3333333333333333,
              "#9c179e"
             ],
             [
              0.4444444444444444,
              "#bd3786"
             ],
             [
              0.5555555555555556,
              "#d8576b"
             ],
             [
              0.6666666666666666,
              "#ed7953"
             ],
             [
              0.7777777777777778,
              "#fb9f3a"
             ],
             [
              0.8888888888888888,
              "#fdca26"
             ],
             [
              1.0,
              "#f0f921"
             ]
            ]
           }
          ],
          "choropleth": [
           {
            "type": "choropleth",
            "colorbar": {
             "outlinewidth": 0,
             "ticks": ""
            }
           }
          ],
          "histogram2d": [
           {
            "type": "histogram2d",
            "colorbar": {
             "outlinewidth": 0,
             "ticks": ""
            },
            "colorscale": [
             [
              0.0,
              "#0d0887"
             ],
             [
              0.1111111111111111,
              "#46039f"
             ],
             [
              0.2222222222222222,
              "#7201a8"
             ],
             [
              0.3333333333333333,
              "#9c179e"
             ],
             [
              0.4444444444444444,
              "#bd3786"
             ],
             [
              0.5555555555555556,
              "#d8576b"
             ],
             [
              0.6666666666666666,
              "#ed7953"
             ],
             [
              0.7777777777777778,
              "#fb9f3a"
             ],
             [
              0.8888888888888888,
              "#fdca26"
             ],
             [
              1.0,
              "#f0f921"
             ]
            ]
           }
          ],
          "heatmap": [
           {
            "type": "heatmap",
            "colorbar": {
             "outlinewidth": 0,
             "ticks": ""
            },
            "colorscale": [
             [
              0.0,
              "#0d0887"
             ],
             [
              0.1111111111111111,
              "#46039f"
             ],
             [
              0.2222222222222222,
              "#7201a8"
             ],
             [
              0.3333333333333333,
              "#9c179e"
             ],
             [
              0.4444444444444444,
              "#bd3786"
             ],
             [
              0.5555555555555556,
              "#d8576b"
             ],
             [
              0.6666666666666666,
              "#ed7953"
             ],
             [
              0.7777777777777778,
              "#fb9f3a"
             ],
             [
              0.8888888888888888,
              "#fdca26"
             ],
             [
              1.0,
              "#f0f921"
             ]
            ]
           }
          ],
          "heatmapgl": [
           {
            "type": "heatmapgl",
            "colorbar": {
             "outlinewidth": 0,
             "ticks": ""
            },
            "colorscale": [
             [
              0.0,
              "#0d0887"
             ],
             [
              0.1111111111111111,
              "#46039f"
             ],
             [
              0.2222222222222222,
              "#7201a8"
             ],
             [
              0.3333333333333333,
              "#9c179e"
             ],
             [
              0.4444444444444444,
              "#bd3786"
             ],
             [
              0.5555555555555556,
              "#d8576b"
             ],
             [
              0.6666666666666666,
              "#ed7953"
             ],
             [
              0.7777777777777778,
              "#fb9f3a"
             ],
             [
              0.8888888888888888,
              "#fdca26"
             ],
             [
              1.0,
              "#f0f921"
             ]
            ]
           }
          ],
          "contourcarpet": [
           {
            "type": "contourcarpet",
            "colorbar": {
             "outlinewidth": 0,
             "ticks": ""
            }
           }
          ],
          "contour": [
           {
            "type": "contour",
            "colorbar": {
             "outlinewidth": 0,
             "ticks": ""
            },
            "colorscale": [
             [
              0.0,
              "#0d0887"
             ],
             [
              0.1111111111111111,
              "#46039f"
             ],
             [
              0.2222222222222222,
              "#7201a8"
             ],
             [
              0.3333333333333333,
              "#9c179e"
             ],
             [
              0.4444444444444444,
              "#bd3786"
             ],
             [
              0.5555555555555556,
              "#d8576b"
             ],
             [
              0.6666666666666666,
              "#ed7953"
             ],
             [
              0.7777777777777778,
              "#fb9f3a"
             ],
             [
              0.8888888888888888,
              "#fdca26"
             ],
             [
              1.0,
              "#f0f921"
             ]
            ]
           }
          ],
          "surface": [
           {
            "type": "surface",
            "colorbar": {
             "outlinewidth": 0,
             "ticks": ""
            },
            "colorscale": [
             [
              0.0,
              "#0d0887"
             ],
             [
              0.1111111111111111,
              "#46039f"
             ],
             [
              0.2222222222222222,
              "#7201a8"
             ],
             [
              0.3333333333333333,
              "#9c179e"
             ],
             [
              0.4444444444444444,
              "#bd3786"
             ],
             [
              0.5555555555555556,
              "#d8576b"
             ],
             [
              0.6666666666666666,
              "#ed7953"
             ],
             [
              0.7777777777777778,
              "#fb9f3a"
             ],
             [
              0.8888888888888888,
              "#fdca26"
             ],
             [
              1.0,
              "#f0f921"
             ]
            ]
           }
          ],
          "mesh3d": [
           {
            "type": "mesh3d",
            "colorbar": {
             "outlinewidth": 0,
             "ticks": ""
            }
           }
          ],
          "scatter": [
           {
            "fillpattern": {
             "fillmode": "overlay",
             "size": 10,
             "solidity": 0.2
            },
            "type": "scatter"
           }
          ],
          "parcoords": [
           {
            "type": "parcoords",
            "line": {
             "colorbar": {
              "outlinewidth": 0,
              "ticks": ""
             }
            }
           }
          ],
          "scatterpolargl": [
           {
            "type": "scatterpolargl",
            "marker": {
             "colorbar": {
              "outlinewidth": 0,
              "ticks": ""
             }
            }
           }
          ],
          "bar": [
           {
            "error_x": {
             "color": "#2a3f5f"
            },
            "error_y": {
             "color": "#2a3f5f"
            },
            "marker": {
             "line": {
              "color": "#E5ECF6",
              "width": 0.5
             },
             "pattern": {
              "fillmode": "overlay",
              "size": 10,
              "solidity": 0.2
             }
            },
            "type": "bar"
           }
          ],
          "scattergeo": [
           {
            "type": "scattergeo",
            "marker": {
             "colorbar": {
              "outlinewidth": 0,
              "ticks": ""
             }
            }
           }
          ],
          "scatterpolar": [
           {
            "type": "scatterpolar",
            "marker": {
             "colorbar": {
              "outlinewidth": 0,
              "ticks": ""
             }
            }
           }
          ],
          "histogram": [
           {
            "marker": {
             "pattern": {
              "fillmode": "overlay",
              "size": 10,
              "solidity": 0.2
             }
            },
            "type": "histogram"
           }
          ],
          "scattergl": [
           {
            "type": "scattergl",
            "marker": {
             "colorbar": {
              "outlinewidth": 0,
              "ticks": ""
             }
            }
           }
          ],
          "scatter3d": [
           {
            "type": "scatter3d",
            "line": {
             "colorbar": {
              "outlinewidth": 0,
              "ticks": ""
             }
            },
            "marker": {
             "colorbar": {
              "outlinewidth": 0,
              "ticks": ""
             }
            }
           }
          ],
          "scattermapbox": [
           {
            "type": "scattermapbox",
            "marker": {
             "colorbar": {
              "outlinewidth": 0,
              "ticks": ""
             }
            }
           }
          ],
          "scatterternary": [
           {
            "type": "scatterternary",
            "marker": {
             "colorbar": {
              "outlinewidth": 0,
              "ticks": ""
             }
            }
           }
          ],
          "scattercarpet": [
           {
            "type": "scattercarpet",
            "marker": {
             "colorbar": {
              "outlinewidth": 0,
              "ticks": ""
             }
            }
           }
          ],
          "carpet": [
           {
            "aaxis": {
             "endlinecolor": "#2a3f5f",
             "gridcolor": "white",
             "linecolor": "white",
             "minorgridcolor": "white",
             "startlinecolor": "#2a3f5f"
            },
            "baxis": {
             "endlinecolor": "#2a3f5f",
             "gridcolor": "white",
             "linecolor": "white",
             "minorgridcolor": "white",
             "startlinecolor": "#2a3f5f"
            },
            "type": "carpet"
           }
          ],
          "table": [
           {
            "cells": {
             "fill": {
              "color": "#EBF0F8"
             },
             "line": {
              "color": "white"
             }
            },
            "header": {
             "fill": {
              "color": "#C8D4E3"
             },
             "line": {
              "color": "white"
             }
            },
            "type": "table"
           }
          ],
          "barpolar": [
           {
            "marker": {
             "line": {
              "color": "#E5ECF6",
              "width": 0.5
             },
             "pattern": {
              "fillmode": "overlay",
              "size": 10,
              "solidity": 0.2
             }
            },
            "type": "barpolar"
           }
          ],
          "pie": [
           {
            "automargin": true,
            "type": "pie"
           }
          ]
         },
         "layout": {
          "autotypenumbers": "strict",
          "colorway": [
           "#636efa",
           "#EF553B",
           "#00cc96",
           "#ab63fa",
           "#FFA15A",
           "#19d3f3",
           "#FF6692",
           "#B6E880",
           "#FF97FF",
           "#FECB52"
          ],
          "font": {
           "color": "#2a3f5f"
          },
          "hovermode": "closest",
          "hoverlabel": {
           "align": "left"
          },
          "paper_bgcolor": "white",
          "plot_bgcolor": "#E5ECF6",
          "polar": {
           "bgcolor": "#E5ECF6",
           "angularaxis": {
            "gridcolor": "white",
            "linecolor": "white",
            "ticks": ""
           },
           "radialaxis": {
            "gridcolor": "white",
            "linecolor": "white",
            "ticks": ""
           }
          },
          "ternary": {
           "bgcolor": "#E5ECF6",
           "aaxis": {
            "gridcolor": "white",
            "linecolor": "white",
            "ticks": ""
           },
           "baxis": {
            "gridcolor": "white",
            "linecolor": "white",
            "ticks": ""
           },
           "caxis": {
            "gridcolor": "white",
            "linecolor": "white",
            "ticks": ""
           }
          },
          "coloraxis": {
           "colorbar": {
            "outlinewidth": 0,
            "ticks": ""
           }
          },
          "colorscale": {
           "sequential": [
            [
             0.0,
             "#0d0887"
            ],
            [
             0.1111111111111111,
             "#46039f"
            ],
            [
             0.2222222222222222,
             "#7201a8"
            ],
            [
             0.3333333333333333,
             "#9c179e"
            ],
            [
             0.4444444444444444,
             "#bd3786"
            ],
            [
             0.5555555555555556,
             "#d8576b"
            ],
            [
             0.6666666666666666,
             "#ed7953"
            ],
            [
             0.7777777777777778,
             "#fb9f3a"
            ],
            [
             0.8888888888888888,
             "#fdca26"
            ],
            [
             1.0,
             "#f0f921"
            ]
           ],
           "sequentialminus": [
            [
             0.0,
             "#0d0887"
            ],
            [
             0.1111111111111111,
             "#46039f"
            ],
            [
             0.2222222222222222,
             "#7201a8"
            ],
            [
             0.3333333333333333,
             "#9c179e"
            ],
            [
             0.4444444444444444,
             "#bd3786"
            ],
            [
             0.5555555555555556,
             "#d8576b"
            ],
            [
             0.6666666666666666,
             "#ed7953"
            ],
            [
             0.7777777777777778,
             "#fb9f3a"
            ],
            [
             0.8888888888888888,
             "#fdca26"
            ],
            [
             1.0,
             "#f0f921"
            ]
           ],
           "diverging": [
            [
             0,
             "#8e0152"
            ],
            [
             0.1,
             "#c51b7d"
            ],
            [
             0.2,
             "#de77ae"
            ],
            [
             0.3,
             "#f1b6da"
            ],
            [
             0.4,
             "#fde0ef"
            ],
            [
             0.5,
             "#f7f7f7"
            ],
            [
             0.6,
             "#e6f5d0"
            ],
            [
             0.7,
             "#b8e186"
            ],
            [
             0.8,
             "#7fbc41"
            ],
            [
             0.9,
             "#4d9221"
            ],
            [
             1,
             "#276419"
            ]
           ]
          },
          "xaxis": {
           "gridcolor": "white",
           "linecolor": "white",
           "ticks": "",
           "title": {
            "standoff": 15
           },
           "zerolinecolor": "white",
           "automargin": true,
           "zerolinewidth": 2
          },
          "yaxis": {
           "gridcolor": "white",
           "linecolor": "white",
           "ticks": "",
           "title": {
            "standoff": 15
           },
           "zerolinecolor": "white",
           "automargin": true,
           "zerolinewidth": 2
          },
          "scene": {
           "xaxis": {
            "backgroundcolor": "#E5ECF6",
            "gridcolor": "white",
            "linecolor": "white",
            "showbackground": true,
            "ticks": "",
            "zerolinecolor": "white",
            "gridwidth": 2
           },
           "yaxis": {
            "backgroundcolor": "#E5ECF6",
            "gridcolor": "white",
            "linecolor": "white",
            "showbackground": true,
            "ticks": "",
            "zerolinecolor": "white",
            "gridwidth": 2
           },
           "zaxis": {
            "backgroundcolor": "#E5ECF6",
            "gridcolor": "white",
            "linecolor": "white",
            "showbackground": true,
            "ticks": "",
            "zerolinecolor": "white",
            "gridwidth": 2
           }
          },
          "shapedefaults": {
           "line": {
            "color": "#2a3f5f"
           }
          },
          "annotationdefaults": {
           "arrowcolor": "#2a3f5f",
           "arrowhead": 0,
           "arrowwidth": 1
          },
          "geo": {
           "bgcolor": "white",
           "landcolor": "#E5ECF6",
           "subunitcolor": "white",
           "showland": true,
           "showlakes": true,
           "lakecolor": "white"
          },
          "title": {
           "x": 0.05
          },
          "mapbox": {
           "style": "light"
          }
         }
        },
        "xaxis": {
         "anchor": "y",
         "domain": [
          0.0,
          1.0
         ],
         "title": {
          "text": "value"
         }
        },
        "yaxis": {
         "anchor": "x",
         "domain": [
          0.0,
          1.0
         ],
         "title": {
          "text": "count"
         }
        },
        "legend": {
         "title": {
          "text": "variable"
         },
         "tracegroupgap": 0
        },
        "margin": {
         "t": 60
        },
        "barmode": "relative"
       },
       "config": {
        "plotlyServerURL": "https://plot.ly"
       }
      },
      "text/html": "<div>                            <div id=\"24eaf603-85b2-443f-a4d2-f86a15b060e5\" class=\"plotly-graph-div\" style=\"height:525px; width:100%;\"></div>            <script type=\"text/javascript\">                require([\"plotly\"], function(Plotly) {                    window.PLOTLYENV=window.PLOTLYENV || {};                                    if (document.getElementById(\"24eaf603-85b2-443f-a4d2-f86a15b060e5\")) {                    Plotly.newPlot(                        \"24eaf603-85b2-443f-a4d2-f86a15b060e5\",                        [{\"alignmentgroup\":\"True\",\"bingroup\":\"x\",\"hovertemplate\":\"variable=MUSCLE\\u003cbr\\u003evalue=%{x}\\u003cbr\\u003ecount=%{y}\\u003cextra\\u003e\\u003c\\u002fextra\\u003e\",\"legendgroup\":\"MUSCLE\",\"marker\":{\"color\":\"#636efa\",\"pattern\":{\"shape\":\"\"}},\"name\":\"MUSCLE\",\"offsetgroup\":\"MUSCLE\",\"orientation\":\"v\",\"showlegend\":true,\"x\":[\"Legs\",\"Legs\",\"Legs\",\"Legs\",\"Legs\",\"Legs\",\"Legs\",\"Legs\",\"Legs\",\"Legs\",\"Legs\",\"Legs\",\"Back\",\"Back\",\"Back\",\"Back\",\"Back\",\"Back\",\"Back\",\"Back\",\"Back\",\"Back\",\"Back\",\"Back\",\"Back\",\"Shoulders\",\"Shoulders\",\"Shoulders\",\"Chest\",\"Chest\",\"Chest\",\"Chest\",\"Chest\",\"Chest\",\"Chest\",\"Chest\",\"Chest\",\"Chest\",\"Chest\",\"Chest\",\"Shoulders\",\"Shoulders\",\"Shoulders\",\"Shoulders\",\"Back\",\"Back\",\"Back\",\"Back\",\"Back\",\"Back\",\"Back\",\"Back\",\"Back\",\"Back\",\"Back\",\"Back\",\"Shoulders\",\"Shoulders\",\"Shoulders\",\"Shoulders\",\"Legs\",\"Legs\",\"Legs\",\"Legs\",\"Legs\",\"Legs\",\"Legs\",\"Legs\",\"Legs\",\"Legs\",\"Legs\",\"Legs\",\"Legs\",\"Legs\",\"Legs\",\"Legs\",\"Biceps\",\"Biceps\",\"Biceps\",\"Biceps\",\"Biceps\",\"Biceps\",\"Biceps\",\"Biceps\",\"Triceps\",\"Triceps\",\"Triceps\",\"Triceps\",\"Triceps\",\"Triceps\",\"Triceps\",\"Triceps\",\"Triceps\",\"Triceps\",\"Biceps\",\"Biceps\",\"Biceps\",\"Biceps\",\"Shoulders\",\"Shoulders\",\"Shoulders\",\"Shoulders\",\"Chest\",\"Chest\",\"Chest\",\"Chest\",\"Chest\",\"Chest\",\"Chest\",\"Chest\",\"Shoulders\",\"Shoulders\",\"Shoulders\",\"Shoulders\",\"Back\",\"Back\",\"Back\",\"Back\",\"Back\",\"Back\",\"Back\",\"Back\",\"Back\",\"Shoulders\",\"Shoulders\",\"Shoulders\",\"Shoulders\",\"Chest\",\"Chest\",\"Chest\",\"Chest\",\"Chest\",\"Chest\",\"Chest\",\"Chest\",\"Chest\",\"Chest\",\"Chest\",\"Chest\",\"Shoulders\",\"Shoulders\",\"Shoulders\",\"Shoulders\",\"Legs\",\"Legs\",\"Legs\",\"Legs\",\"Legs\",\"Legs\",\"Legs\",\"Legs\",\"Triceps\",\"Triceps\",\"Triceps\",\"Triceps\",\"Triceps\",\"Triceps\",\"Triceps\",\"Triceps\",\"Biceps\",\"Biceps\",\"Biceps\",\"Biceps\",\"Biceps\",\"Biceps\",\"Biceps\",\"Biceps\",\"Chest\",\"Chest\",\"Chest\",\"Chest\",\"Chest\",\"Chest\",\"Chest\",\"Chest\",\"Chest\",\"Chest\",\"Triceps\",\"Triceps\",\"Triceps\",\"Triceps\",\"Biceps\",\"Biceps\",\"Biceps\",\"Biceps\",\"Legs\",\"Legs\",\"Legs\",\"Legs\",\"Legs\",\"Legs\",\"Legs\",\"Legs\",\"Legs\",\"Legs\",\"Legs\",\"Legs\",\"Back\",\"Back\",\"Back\",\"Back\",\"Back\",\"Back\",\"Back\",\"Back\",\"Back\",\"Back\",\"Back\",\"Back\",\"Shoulders\",\"Shoulders\",\"Shoulders\",\"Biceps\",\"Biceps\",\"Biceps\",\"Biceps\",\"Biceps\",\"Biceps\",\"Chest\",\"Chest\",\"Chest\",\"Chest\",\"Chest\",\"Chest\",\"Chest\",\"Chest\",\"Chest\",\"Chest\",\"Chest\",\"Chest\",\"Triceps\",\"Triceps\",\"Triceps\",\"Triceps\",\"Triceps\",\"Triceps\",\"Shoulders\",\"Shoulders\",\"Shoulders\",\"Shoulders\",\"Back\",\"Back\",\"Back\",\"Back\",\"Back\",\"Back\",\"Back\",\"Back\",\"Back\",\"Back\",\"Back\",\"Back\",\"Shoulders\",\"Shoulders\",\"Shoulders\",\"Shoulders\",\"Chest\",\"Chest\",\"Chest\",\"Chest\",\"Chest\",\"Shoulders\",\"Shoulders\",\"Shoulders\",\"Chest\",\"Chest\",\"Chest\",\"Triceps\",\"Triceps\",\"Triceps\",\"Triceps\",\"Triceps\",\"Triceps\",\"Shoulders\",\"Shoulders\",\"Shoulders\",\"Shoulders\",\"Legs\",\"Legs\",\"Legs\",\"Legs\",\"Legs\",\"Legs\",\"Legs\",\"Legs\",\"Legs\",\"Legs\",\"Legs\",\"Legs\",\"Legs\",\"Legs\",\"Legs\",\"Legs\",\"Legs\",\"Back\",\"Back\",\"Back\",\"Back\",\"Back\",\"Back\",\"Back\",\"Back\",\"Back\",\"Back\",\"Back\",\"Back\",\"Shoulders\",\"Shoulders\",\"Shoulders\",\"Biceps\",\"Biceps\",\"Biceps\",\"Biceps\",\"Biceps\",\"Biceps\",\"Biceps\",\"Chest\",\"Chest\",\"Chest\",\"Chest\",\"Chest\",\"Chest\",\"Chest\",\"Chest\",\"Chest\",\"Shoulders\",\"Shoulders\",\"Shoulders\",\"Triceps\",\"Triceps\",\"Triceps\",\"Triceps\",\"Triceps\",\"Triceps\",\"Shoulders\",\"Shoulders\",\"Shoulders\",\"Back\",\"Back\",\"Back\",\"Back\",\"Back\",\"Back\",\"Back\",\"Back\",\"Shoulders\",\"Shoulders\",\"Shoulders\",\"Shoulders\",\"Biceps\",\"Biceps\",\"Biceps\",\"Biceps\",\"Biceps\",\"Biceps\",\"Biceps\",\"Biceps\",\"Chest\",\"Chest\",\"Chest\",\"Chest\",\"Chest\",\"Chest\",\"Shoulders\",\"Shoulders\",\"Shoulders\",\"Chest\",\"Chest\",\"Chest\",\"Triceps\",\"Triceps\",\"Triceps\",\"Triceps\",\"Triceps\",\"Triceps\",\"Shoulders\",\"Shoulders\",\"Shoulders\",\"Shoulders\",\"Legs\",\"Legs\",\"Legs\",\"Legs\",\"Legs\",\"Legs\",\"Legs\",\"Legs\",\"Legs\",\"Legs\",\"Legs\",\"Legs\",\"Legs\",\"Legs\",\"Legs\",\"Legs\",\"Back\",\"Back\",\"Back\",\"Back\",\"Back\",\"Back\",\"Back\",\"Back\",\"Shoulders\",\"Shoulders\",\"Shoulders\",\"Biceps\",\"Biceps\",\"Biceps\",\"Biceps\",\"Biceps\",\"Biceps\",\"Biceps\",\"Biceps\",\"Chest\",\"Chest\",\"Chest\",\"Chest\",\"Chest\",\"Chest\",\"Shoulders\",\"Shoulders\",\"Shoulders\",\"Chest\",\"Chest\",\"Chest\",\"Triceps\",\"Triceps\",\"Triceps\",\"Triceps\",\"Triceps\",\"Triceps\",\"Shoulders\",\"Shoulders\",\"Shoulders\",\"Back\",\"Back\",\"Back\",\"Back\",\"Back\",\"Back\",\"Back\",\"Back\",\"Shoulders\",\"Shoulders\",\"Shoulders\",\"Biceps\",\"Biceps\",\"Biceps\",\"Biceps\",\"Biceps\",\"Biceps\",\"Biceps\",\"Biceps\",\"Legs\",\"Legs\",\"Legs\",\"Legs\",\"Legs\",\"Legs\",\"Legs\",\"Legs\",\"Legs\",\"Legs\",\"Legs\",\"Legs\",\"Legs\",\"Legs\",\"Legs\",\"Legs\",\"Legs\",\"Legs\",\"Legs\",\"Chest\",\"Chest\",\"Chest\",\"Chest\",\"Chest\",\"Chest\",\"Chest\",\"Chest\",\"Chest\",\"Shoulders\",\"Shoulders\",\"Shoulders\",\"Triceps\",\"Triceps\",\"Triceps\",\"Triceps\",\"Shoulders\",\"Shoulders\",\"Shoulders\",\"Legs\",\"Legs\",\"Legs\",\"Legs\",\"Legs\",\"Legs\",\"Legs\",\"Legs\",\"Legs\",\"Legs\",\"Legs\",\"Legs\",\"Legs\",\"Legs\",\"Legs\",\"Legs\",\"Back\",\"Back\",\"Back\",\"Back\",\"Back\",\"Back\",\"Back\",\"Back\",\"Back\",\"Back\",\"Back\",\"Back\",\"Shoulders\",\"Shoulders\",\"Shoulders\",\"Biceps\",\"Biceps\",\"Biceps\",\"Biceps\",\"Biceps\",\"Biceps\",\"Chest\",\"Chest\",\"Chest\",\"Chest\",\"Chest\",\"Chest\",\"Chest\",\"Chest\",\"Shoulders\",\"Shoulders\",\"Shoulders\",\"Chest\",\"Chest\",\"Chest\",\"Triceps\",\"Triceps\",\"Triceps\",\"Chest\",\"Chest\",\"Triceps\",\"Triceps\",\"Triceps\",\"Shoulders\",\"Shoulders\",\"Shoulders\",\"Legs\",\"Legs\",\"Legs\",\"Legs\",\"Legs\",\"Legs\",\"Legs\",\"Legs\",\"Legs\",\"Back\",\"Back\",\"Back\",\"Back\",\"Back\",\"Back\",\"Back\",\"Back\",\"Back\",\"Back\",\"Back\",\"Back\",\"Shoulders\",\"Shoulders\",\"Shoulders\",\"Biceps\",\"Biceps\",\"Biceps\",\"Biceps\",\"Biceps\",\"Biceps\",\"Back\",\"Back\",\"Back\",\"Back\",\"Back\",\"Back\",\"Back\",\"Back\",\"Back\",\"Back\",\"Back\",\"Back\",\"Shoulders\",\"Shoulders\",\"Shoulders\",\"Biceps\",\"Biceps\",\"Biceps\",\"Biceps\",\"Biceps\",\"Biceps\",\"Chest\",\"Chest\",\"Chest\",\"Chest\",\"Chest\",\"Chest\",\"Triceps\",\"Triceps\",\"Triceps\",\"Shoulders\",\"Shoulders\",\"Shoulders\",\"Triceps\",\"Triceps\",\"Triceps\",\"Shoulders\",\"Shoulders\",\"Shoulders\",\"Back\",\"Back\",\"Back\",\"Back\",\"Back\",\"Back\",\"Back\",\"Back\",\"Back\",\"Back\",\"Back\",\"Back\",\"Shoulders\",\"Shoulders\",\"Shoulders\",\"Biceps\",\"Biceps\",\"Biceps\",\"Biceps\",\"Biceps\",\"Biceps\",\"Chest\",\"Chest\",\"Chest\",\"Chest\",\"Chest\",\"Chest\",\"Shoulders\",\"Shoulders\",\"Shoulders\",\"Chest\",\"Chest\",\"Chest\",\"Triceps\",\"Triceps\",\"Triceps\",\"Triceps\",\"Triceps\",\"Triceps\",\"Shoulders\",\"Shoulders\",\"Shoulders\",\"Shoulders\",\"Back\",\"Back\",\"Back\",\"Back\",\"Back\",\"Back\",\"Back\",\"Back\",\"Back\",\"Back\",\"Back\",\"Back\",\"Biceps\",\"Biceps\",\"Biceps\",\"Shoulders\",\"Shoulders\",\"Shoulders\",\"Biceps\",\"Biceps\",\"Biceps\",\"Biceps\",\"Legs\",\"Legs\",\"Legs\",\"Legs\",\"Legs\",\"Legs\",\"Legs\",\"Legs\",\"Legs\",\"Legs\",\"Legs\",\"Legs\",\"Chest\",\"Chest\",\"Chest\",\"Chest\",\"Chest\",\"Chest\",\"Shoulders\",\"Shoulders\",\"Shoulders\",\"Chest\",\"Chest\",\"Chest\",\"Triceps\",\"Triceps\",\"Triceps\",\"Triceps\",\"Triceps\",\"Triceps\",\"Shoulders\",\"Shoulders\",\"Shoulders\",\"Back\",\"Back\",\"Back\",\"Back\",\"Back\",\"Back\",\"Back\",\"Back\",\"Back\",\"Back\",\"Back\",\"Back\",\"Shoulders\",\"Shoulders\",\"Shoulders\",\"Biceps\",\"Biceps\",\"Biceps\",\"Biceps\",\"Biceps\",\"Biceps\",\"Chest\",\"Chest\",\"Chest\",\"Chest\",\"Chest\",\"Chest\",\"Shoulders\",\"Shoulders\",\"Shoulders\",\"Chest\",\"Chest\",\"Chest\",\"Triceps\",\"Triceps\",\"Triceps\",\"Triceps\",\"Triceps\",\"Triceps\",\"Shoulders\",\"Shoulders\",\"Shoulders\",\"Back\",\"Back\",\"Back\",\"Back\",\"Back\",\"Back\",\"Back\",\"Back\",\"Back\",\"Back\",\"Back\",\"Back\",\"Shoulders\",\"Shoulders\",\"Shoulders\",\"Biceps\",\"Biceps\",\"Biceps\",\"Biceps\",\"Biceps\",\"Biceps\",\"Biceps\",\"Chest\",\"Chest\",\"Chest\",\"Chest\",\"Chest\",\"Chest\",\"Shoulders\",\"Shoulders\",\"Shoulders\",\"Chest\",\"Chest\",\"Chest\",\"Triceps\",\"Triceps\",\"Triceps\",\"Triceps\",\"Triceps\",\"Triceps\",\"Shoulders\",\"Shoulders\",\"Shoulders\",\"Back\",\"Back\",\"Back\",\"Back\",\"Back\",\"Back\",\"Back\",\"Back\",\"Shoulders\",\"Shoulders\",\"Shoulders\",\"Biceps\",\"Biceps\",\"Biceps\",\"Biceps\",\"Biceps\",\"Biceps\",\"Biceps\",\"Biceps\",\"Biceps\",\"Biceps\",\"Chest\",\"Chest\",\"Chest\",\"Chest\",\"Chest\",\"Chest\",\"Triceps\",\"Triceps\",\"Triceps\",\"Shoulders\",\"Shoulders\",\"Triceps\",\"Triceps\",\"Triceps\",\"Shoulders\",\"Shoulders\",\"Shoulders\",\"Legs\",\"Legs\",\"Legs\",\"Legs\",\"Legs\",\"Legs\",\"Legs\",\"Legs\",\"Legs\",\"Legs\",\"Legs\",\"Chest\",\"Chest\",\"Chest\",\"Shoulders\",\"Shoulders\",\"Shoulders\",\"Triceps\",\"Triceps\",\"Triceps\",\"Triceps\",\"Triceps\",\"Triceps\",\"Shoulders\",\"Shoulders\",\"Shoulders\",\"Back\",\"Back\",\"Back\",\"Back\",\"Back\",\"Back\",\"Back\",\"Back\",\"Biceps\",\"Biceps\",\"Biceps\",\"Biceps\",\"Biceps\",\"Biceps\",\"Legs\",\"Legs\",\"Legs\",\"Legs\",\"Legs\",\"Legs\",\"Legs\",\"Legs\",\"Legs\",\"Chest\",\"Chest\",\"Chest\",\"Chest\",\"Chest\",\"Chest\",\"Chest\",\"Chest\",\"Chest\",\"Shoulders\",\"Shoulders\",\"Shoulders\",\"Shoulders\",\"Shoulders\",\"Shoulders\",\"Triceps\",\"Triceps\",\"Triceps\",\"Triceps\",\"Triceps\",\"Triceps\",\"Back\",\"Back\",\"Back\",\"Back\",\"Back\",\"Back\",\"Back\",\"Back\",\"Biceps\",\"Biceps\",\"Biceps\",\"Biceps\",\"Biceps\",\"Biceps\",\"Chest\",\"Chest\",\"Chest\",\"Chest\",\"Shoulders\",\"Shoulders\",\"Shoulders\",\"Triceps\",\"Triceps\",\"Triceps\",\"Shoulders\",\"Shoulders\",\"Shoulders\",\"Back\",\"Back\",\"Back\",\"Back\",\"Back\",\"Back\",\"Back\",\"Biceps\",\"Biceps\",\"Biceps\",\"Biceps\",\"Biceps\",\"Biceps\",\"Chest\",\"Chest\",\"Chest\",\"Chest\",\"Chest\",\"Chest\",\"Shoulders\",\"Shoulders\",\"Shoulders\",\"Chest\",\"Chest\",\"Chest\",\"Triceps\",\"Triceps\",\"Triceps\",\"Triceps\",\"Triceps\",\"Triceps\",\"Shoulders\",\"Shoulders\",\"Shoulders\",\"Chest\",\"Chest\",\"Chest\",\"Triceps\",\"Triceps\",\"Triceps\",\"Shoulders\",\"Shoulders\",\"Shoulders\",\"Triceps\",\"Triceps\",\"Triceps\",\"Shoulders\",\"Shoulders\",\"Shoulders\",\"Back\",\"Back\",\"Back\",\"Back\",\"Back\",\"Back\",\"Back\",\"Back\",\"Biceps\",\"Biceps\",\"Biceps\",\"Biceps\",\"Biceps\",\"Biceps\",\"Chest\",\"Chest\",\"Chest\",\"Triceps\",\"Triceps\",\"Triceps\",\"Shoulders\",\"Shoulders\",\"Shoulders\",\"Triceps\",\"Triceps\",\"Triceps\",\"Shoulders\",\"Shoulders\",\"Shoulders\",\"Legs\",\"Legs\",\"Legs\",\"Legs\",\"Legs\",\"Legs\",\"Legs\",\"Legs\",\"Legs\",\"Legs\",\"Legs\",\"Legs\",\"Legs\",\"Legs\",\"Legs\",\"Legs\",\"Triceps\",\"Triceps\",\"Triceps\",\"Biceps\",\"Biceps\",\"Biceps\",\"Triceps\",\"Triceps\",\"Triceps\",\"Biceps\",\"Biceps\",\"Biceps\",\"Back\",\"Back\",\"Back\",\"Back\",\"Back\",\"Back\",\"Back\",\"Back\",\"Shoulders\",\"Shoulders\",\"Shoulders\",\"Biceps\",\"Biceps\",\"Biceps\",\"Chest\",\"Chest\",\"Chest\",\"Chest\",\"Chest\",\"Chest\",\"Shoulders\",\"Shoulders\",\"Shoulders\",\"Shoulders\",\"Shoulders\",\"Shoulders\",\"Chest\",\"Chest\",\"Chest\",\"Chest\",\"Chest\",\"Chest\",\"Shoulders\",\"Chest\",\"Chest\",\"Chest\",\"Chest\",\"Triceps\",\"Triceps\",\"Triceps\",\"Triceps\",\"Triceps\",\"Triceps\",\"Shoulders\",\"Shoulders\",\"Shoulders\",\"Back\",\"Back\",\"Back\",\"Back\",\"Back\",\"Back\",\"Back\",\"Back\",\"Back\",\"Shoulders\",\"Shoulders\",\"Shoulders\",\"Biceps\",\"Biceps\",\"Biceps\",\"Biceps\",\"Biceps\",\"Biceps\",\"Triceps\",\"Triceps\",\"Triceps\",\"Triceps\",\"Triceps\",\"Triceps\",\"Biceps\",\"Biceps\",\"Biceps\",\"Biceps\",\"Biceps\",\"Biceps\",\"Chest\",\"Chest\",\"Chest\",\"Triceps\",\"Triceps\",\"Triceps\",\"Shoulders\",\"Shoulders\",\"Shoulders\",\"Shoulders\",\"Shoulders\",\"Shoulders\",\"Back\",\"Back\",\"Back\",\"Back\",\"Back\",\"Back\",\"Back\",\"Back\",\"Biceps\",\"Biceps\",\"Biceps\",\"Biceps\",\"Biceps\",\"Biceps\",\"Chest\",\"Chest\",\"Chest\",\"Chest\",\"Chest\",\"Chest\",\"Chest\",\"Chest\",\"Chest\",\"Chest\",\"Triceps\",\"Triceps\",\"Triceps\",\"Triceps\",\"Triceps\",\"Triceps\",\"Shoulders\",\"Shoulders\",\"Shoulders\",\"Legs\",\"Legs\",\"Legs\",\"Legs\",\"Legs\",\"Legs\",\"Legs\",\"Legs\",\"Legs\",\"Legs\",\"Legs\",\"Legs\",\"Legs\",\"Legs\",\"Legs\",\"Chest\",\"Chest\",\"Chest\",\"Chest\",\"Chest\",\"Chest\",\"Triceps\",\"Triceps\",\"Triceps\",\"Shoulders\",\"Shoulders\",\"Shoulders\",\"Triceps\",\"Triceps\",\"Triceps\",\"Shoulders\",\"Shoulders\",\"Shoulders\",\"Legs\",\"Legs\",\"Legs\",\"Legs\",\"Legs\",\"Legs\",\"Legs\",\"Legs\",\"Legs\",\"Legs\",\"Legs\",\"Legs\",\"Legs\",\"Legs\",\"Legs\",\"Back\",\"Back\",\"Back\",\"Back\",\"Back\",\"Back\",\"Back\",\"Back\",\"Biceps\",\"Biceps\",\"Biceps\",\"Biceps\",\"Biceps\",\"Biceps\",\"Legs\",\"Legs\",\"Legs\",\"Legs\",\"Legs\",\"Legs\",\"Legs\",\"Legs\",\"Legs\",\"Legs\",\"Legs\",\"Legs\",\"Legs\",\"Legs\",\"Legs\",\"Chest\",\"Chest\",\"Chest\",\"Chest\",\"Chest\",\"Chest\",\"Chest\",\"Chest\",\"Chest\",\"Chest\",\"Triceps\",\"Triceps\",\"Triceps\",\"Triceps\",\"Triceps\",\"Triceps\",\"Shoulders\",\"Shoulders\",\"Shoulders\",\"Back\",\"Back\",\"Back\",\"Back\",\"Back\",\"Back\",\"Back\",\"Back\",\"Back\",\"Shoulders\",\"Shoulders\",\"Shoulders\",\"Biceps\",\"Biceps\",\"Biceps\",\"Biceps\",\"Biceps\",\"Biceps\",\"Chest\",\"Chest\",\"Chest\",\"Chest\",\"Chest\",\"Chest\",\"Triceps\",\"Triceps\",\"Triceps\",\"Shoulders\",\"Shoulders\",\"Shoulders\",\"Triceps\",\"Triceps\",\"Triceps\",\"Shoulders\",\"Shoulders\",\"Shoulders\",\"Legs\",\"Legs\",\"Legs\",\"Legs\",\"Legs\",\"Legs\",\"Legs\",\"Legs\",\"Legs\",\"Legs\",\"Legs\",\"Legs\",\"Legs\",\"Legs\",\"Legs\",\"Back\",\"Back\",\"Back\",\"Back\",\"Back\",\"Back\",\"Back\",\"Back\",\"Back\",\"Shoulders\",\"Shoulders\",\"Shoulders\",\"Biceps\",\"Biceps\",\"Biceps\",\"Biceps\",\"Biceps\",\"Biceps\",\"Chest\",\"Chest\",\"Chest\",\"Chest\",\"Chest\",\"Chest\",\"Chest\",\"Chest\",\"Chest\",\"Chest\",\"Triceps\",\"Triceps\",\"Triceps\",\"Triceps\",\"Triceps\",\"Triceps\",\"Shoulders\",\"Shoulders\",\"Shoulders\",\"Legs\",\"Legs\",\"Legs\",\"Legs\",\"Legs\",\"Legs\",\"Legs\",\"Legs\",\"Legs\",\"Legs\",\"Legs\",\"Legs\",\"Legs\",\"Legs\",\"Legs\",\"Chest\",\"Chest\",\"Chest\",\"Chest\",\"Chest\",\"Shoulders\",\"Shoulders\",\"Chest\",\"Chest\",\"Chest\",\"Chest\",\"Triceps\",\"Triceps\",\"Triceps\",\"Triceps\",\"Triceps\",\"Triceps\",\"Shoulders\",\"Shoulders\",\"Shoulders\",\"Back\",\"Back\",\"Back\",\"Back\",\"Back\",\"Back\",\"Back\",\"Back\",\"Biceps\",\"Biceps\",\"Biceps\",\"Biceps\",\"Biceps\",\"Biceps\",\"Biceps\",\"Back\",\"Back\",\"Back\",\"Back\",\"Back\",\"Back\",\"Back\",\"Back\",\"Biceps\",\"Biceps\",\"Biceps\",\"Biceps\",\"Biceps\",\"Biceps\",\"Biceps\",\"Biceps\",\"Chest\",\"Chest\",\"Chest\",\"Chest\",\"Chest\",\"Chest\",\"Chest\",\"Chest\",\"Chest\",\"Chest\",\"Triceps\",\"Triceps\",\"Triceps\",\"Triceps\",\"Triceps\",\"Triceps\",\"Shoulders\",\"Shoulders\",\"Shoulders\",\"Legs\",\"Legs\",\"Legs\",\"Legs\",\"Legs\",\"Legs\",\"Legs\",\"Legs\",\"Legs\",\"Legs\",\"Legs\",\"Chest\",\"Chest\",\"Chest\",\"Chest\",\"Chest\",\"Chest\",\"Triceps\",\"Triceps\",\"Triceps\",\"Shoulders\",\"Shoulders\",\"Shoulders\",\"Triceps\",\"Triceps\",\"Triceps\",\"Shoulders\",\"Shoulders\",\"Shoulders\",\"Back\",\"Back\",\"Back\",\"Back\",\"Back\",\"Back\",\"Back\",\"Back\",\"Biceps\",\"Biceps\",\"Biceps\",\"Biceps\",\"Biceps\",\"Biceps\",\"Biceps\",\"Back\",\"Back\",\"Back\",\"Back\",\"Back\",\"Back\",\"Back\",\"Back\",\"Back\",\"Shoulders\",\"Shoulders\",\"Shoulders\",\"Biceps\",\"Biceps\",\"Biceps\",\"Biceps\",\"Biceps\",\"Biceps\",\"Chest\",\"Chest\",\"Chest\",\"Chest\",\"Chest\",\"Shoulders\",\"Shoulders\",\"Chest\",\"Chest\",\"Chest\",\"Chest\",\"Triceps\",\"Triceps\",\"Triceps\",\"Triceps\",\"Triceps\",\"Triceps\",\"Shoulders\",\"Shoulders\",\"Shoulders\",\"Legs\",\"Legs\",\"Legs\",\"Legs\",\"Legs\",\"Legs\",\"Legs\",\"Legs\",\"Legs\",\"Legs\",\"Legs\",\"Legs\",\"Back\",\"Back\",\"Back\",\"Back\",\"Back\",\"Back\",\"Back\",\"Biceps\",\"Biceps\",\"Biceps\",\"Biceps\",\"Biceps\",\"Biceps\",\"Biceps\",\"Chest\",\"Chest\",\"Chest\",\"Chest\",\"Chest\",\"Shoulders\",\"Shoulders\",\"Chest\",\"Chest\",\"Chest\",\"Chest\",\"Triceps\",\"Triceps\",\"Triceps\",\"Triceps\",\"Triceps\",\"Triceps\",\"Shoulders\",\"Shoulders\",\"Shoulders\",\"Legs\",\"Legs\",\"Legs\",\"Legs\",\"Legs\",\"Legs\",\"Legs\",\"Legs\",\"Legs\",\"Legs\",\"Legs\",\"Legs\",\"Legs\",\"Legs\",\"Legs\",\"Back\",\"Back\",\"Back\",\"Back\",\"Back\",\"Back\",\"Back\",\"Back\",\"Biceps\",\"Biceps\",\"Biceps\",\"Biceps\",\"Biceps\",\"Biceps\",\"Biceps\",\"Biceps\",\"Chest\",\"Chest\",\"Chest\",\"Chest\",\"Chest\",\"Chest\",\"Triceps\",\"Triceps\",\"Triceps\",\"Shoulders\",\"Shoulders\",\"Shoulders\",\"Triceps\",\"Triceps\",\"Triceps\",\"Shoulders\",\"Shoulders\",\"Shoulders\",\"Biceps\",\"Biceps\",\"Biceps\",\"Abs\",\"Abs\",\"Abs\",\"Biceps\",\"Biceps\",\"Biceps\",\"Abs\",\"Abs\",\"Abs\",\"Back\",\"Back\",\"Back\",\"Back\",\"Back\",\"Back\",\"Back\",\"Back\",\"Biceps\",\"Biceps\",\"Biceps\",\"Biceps\",\"Biceps\",\"Biceps\",\"Biceps\",\"Chest\",\"Chest\",\"Chest\",\"Chest\",\"Chest\",\"Chest\",\"Chest\",\"Chest\",\"Chest\",\"Chest\",\"Triceps\",\"Triceps\",\"Triceps\",\"Triceps\",\"Triceps\",\"Triceps\",\"Shoulders\",\"Shoulders\",\"Shoulders\",\"Legs\",\"Legs\",\"Legs\",\"Legs\",\"Legs\",\"Legs\",\"Legs\",\"Legs\",\"Legs\",\"Legs\",\"Legs\",\"Legs\",\"Legs\",\"Legs\",\"Legs\",\"Back\",\"Back\",\"Back\",\"Back\",\"Back\",\"Back\",\"Back\",\"Back\",\"Biceps\",\"Biceps\",\"Biceps\",\"Biceps\",\"Biceps\",\"Biceps\",\"Biceps\",\"Chest\",\"Chest\",\"Chest\",\"Chest\",\"Chest\",\"Chest\",\"Chest\",\"Chest\",\"Chest\",\"Chest\",\"Triceps\",\"Triceps\",\"Triceps\",\"Triceps\",\"Triceps\",\"Triceps\",\"Shoulders\",\"Shoulders\",\"Shoulders\",\"Legs\",\"Legs\",\"Legs\",\"Legs\",\"Legs\",\"Legs\",\"Legs\",\"Legs\",\"Legs\",\"Legs\",\"Legs\",\"Legs\",\"Legs\",\"Legs\",\"Legs\"],\"xaxis\":\"x\",\"yaxis\":\"y\",\"type\":\"histogram\"}],                        {\"template\":{\"data\":{\"histogram2dcontour\":[{\"type\":\"histogram2dcontour\",\"colorbar\":{\"outlinewidth\":0,\"ticks\":\"\"},\"colorscale\":[[0.0,\"#0d0887\"],[0.1111111111111111,\"#46039f\"],[0.2222222222222222,\"#7201a8\"],[0.3333333333333333,\"#9c179e\"],[0.4444444444444444,\"#bd3786\"],[0.5555555555555556,\"#d8576b\"],[0.6666666666666666,\"#ed7953\"],[0.7777777777777778,\"#fb9f3a\"],[0.8888888888888888,\"#fdca26\"],[1.0,\"#f0f921\"]]}],\"choropleth\":[{\"type\":\"choropleth\",\"colorbar\":{\"outlinewidth\":0,\"ticks\":\"\"}}],\"histogram2d\":[{\"type\":\"histogram2d\",\"colorbar\":{\"outlinewidth\":0,\"ticks\":\"\"},\"colorscale\":[[0.0,\"#0d0887\"],[0.1111111111111111,\"#46039f\"],[0.2222222222222222,\"#7201a8\"],[0.3333333333333333,\"#9c179e\"],[0.4444444444444444,\"#bd3786\"],[0.5555555555555556,\"#d8576b\"],[0.6666666666666666,\"#ed7953\"],[0.7777777777777778,\"#fb9f3a\"],[0.8888888888888888,\"#fdca26\"],[1.0,\"#f0f921\"]]}],\"heatmap\":[{\"type\":\"heatmap\",\"colorbar\":{\"outlinewidth\":0,\"ticks\":\"\"},\"colorscale\":[[0.0,\"#0d0887\"],[0.1111111111111111,\"#46039f\"],[0.2222222222222222,\"#7201a8\"],[0.3333333333333333,\"#9c179e\"],[0.4444444444444444,\"#bd3786\"],[0.5555555555555556,\"#d8576b\"],[0.6666666666666666,\"#ed7953\"],[0.7777777777777778,\"#fb9f3a\"],[0.8888888888888888,\"#fdca26\"],[1.0,\"#f0f921\"]]}],\"heatmapgl\":[{\"type\":\"heatmapgl\",\"colorbar\":{\"outlinewidth\":0,\"ticks\":\"\"},\"colorscale\":[[0.0,\"#0d0887\"],[0.1111111111111111,\"#46039f\"],[0.2222222222222222,\"#7201a8\"],[0.3333333333333333,\"#9c179e\"],[0.4444444444444444,\"#bd3786\"],[0.5555555555555556,\"#d8576b\"],[0.6666666666666666,\"#ed7953\"],[0.7777777777777778,\"#fb9f3a\"],[0.8888888888888888,\"#fdca26\"],[1.0,\"#f0f921\"]]}],\"contourcarpet\":[{\"type\":\"contourcarpet\",\"colorbar\":{\"outlinewidth\":0,\"ticks\":\"\"}}],\"contour\":[{\"type\":\"contour\",\"colorbar\":{\"outlinewidth\":0,\"ticks\":\"\"},\"colorscale\":[[0.0,\"#0d0887\"],[0.1111111111111111,\"#46039f\"],[0.2222222222222222,\"#7201a8\"],[0.3333333333333333,\"#9c179e\"],[0.4444444444444444,\"#bd3786\"],[0.5555555555555556,\"#d8576b\"],[0.6666666666666666,\"#ed7953\"],[0.7777777777777778,\"#fb9f3a\"],[0.8888888888888888,\"#fdca26\"],[1.0,\"#f0f921\"]]}],\"surface\":[{\"type\":\"surface\",\"colorbar\":{\"outlinewidth\":0,\"ticks\":\"\"},\"colorscale\":[[0.0,\"#0d0887\"],[0.1111111111111111,\"#46039f\"],[0.2222222222222222,\"#7201a8\"],[0.3333333333333333,\"#9c179e\"],[0.4444444444444444,\"#bd3786\"],[0.5555555555555556,\"#d8576b\"],[0.6666666666666666,\"#ed7953\"],[0.7777777777777778,\"#fb9f3a\"],[0.8888888888888888,\"#fdca26\"],[1.0,\"#f0f921\"]]}],\"mesh3d\":[{\"type\":\"mesh3d\",\"colorbar\":{\"outlinewidth\":0,\"ticks\":\"\"}}],\"scatter\":[{\"fillpattern\":{\"fillmode\":\"overlay\",\"size\":10,\"solidity\":0.2},\"type\":\"scatter\"}],\"parcoords\":[{\"type\":\"parcoords\",\"line\":{\"colorbar\":{\"outlinewidth\":0,\"ticks\":\"\"}}}],\"scatterpolargl\":[{\"type\":\"scatterpolargl\",\"marker\":{\"colorbar\":{\"outlinewidth\":0,\"ticks\":\"\"}}}],\"bar\":[{\"error_x\":{\"color\":\"#2a3f5f\"},\"error_y\":{\"color\":\"#2a3f5f\"},\"marker\":{\"line\":{\"color\":\"#E5ECF6\",\"width\":0.5},\"pattern\":{\"fillmode\":\"overlay\",\"size\":10,\"solidity\":0.2}},\"type\":\"bar\"}],\"scattergeo\":[{\"type\":\"scattergeo\",\"marker\":{\"colorbar\":{\"outlinewidth\":0,\"ticks\":\"\"}}}],\"scatterpolar\":[{\"type\":\"scatterpolar\",\"marker\":{\"colorbar\":{\"outlinewidth\":0,\"ticks\":\"\"}}}],\"histogram\":[{\"marker\":{\"pattern\":{\"fillmode\":\"overlay\",\"size\":10,\"solidity\":0.2}},\"type\":\"histogram\"}],\"scattergl\":[{\"type\":\"scattergl\",\"marker\":{\"colorbar\":{\"outlinewidth\":0,\"ticks\":\"\"}}}],\"scatter3d\":[{\"type\":\"scatter3d\",\"line\":{\"colorbar\":{\"outlinewidth\":0,\"ticks\":\"\"}},\"marker\":{\"colorbar\":{\"outlinewidth\":0,\"ticks\":\"\"}}}],\"scattermapbox\":[{\"type\":\"scattermapbox\",\"marker\":{\"colorbar\":{\"outlinewidth\":0,\"ticks\":\"\"}}}],\"scatterternary\":[{\"type\":\"scatterternary\",\"marker\":{\"colorbar\":{\"outlinewidth\":0,\"ticks\":\"\"}}}],\"scattercarpet\":[{\"type\":\"scattercarpet\",\"marker\":{\"colorbar\":{\"outlinewidth\":0,\"ticks\":\"\"}}}],\"carpet\":[{\"aaxis\":{\"endlinecolor\":\"#2a3f5f\",\"gridcolor\":\"white\",\"linecolor\":\"white\",\"minorgridcolor\":\"white\",\"startlinecolor\":\"#2a3f5f\"},\"baxis\":{\"endlinecolor\":\"#2a3f5f\",\"gridcolor\":\"white\",\"linecolor\":\"white\",\"minorgridcolor\":\"white\",\"startlinecolor\":\"#2a3f5f\"},\"type\":\"carpet\"}],\"table\":[{\"cells\":{\"fill\":{\"color\":\"#EBF0F8\"},\"line\":{\"color\":\"white\"}},\"header\":{\"fill\":{\"color\":\"#C8D4E3\"},\"line\":{\"color\":\"white\"}},\"type\":\"table\"}],\"barpolar\":[{\"marker\":{\"line\":{\"color\":\"#E5ECF6\",\"width\":0.5},\"pattern\":{\"fillmode\":\"overlay\",\"size\":10,\"solidity\":0.2}},\"type\":\"barpolar\"}],\"pie\":[{\"automargin\":true,\"type\":\"pie\"}]},\"layout\":{\"autotypenumbers\":\"strict\",\"colorway\":[\"#636efa\",\"#EF553B\",\"#00cc96\",\"#ab63fa\",\"#FFA15A\",\"#19d3f3\",\"#FF6692\",\"#B6E880\",\"#FF97FF\",\"#FECB52\"],\"font\":{\"color\":\"#2a3f5f\"},\"hovermode\":\"closest\",\"hoverlabel\":{\"align\":\"left\"},\"paper_bgcolor\":\"white\",\"plot_bgcolor\":\"#E5ECF6\",\"polar\":{\"bgcolor\":\"#E5ECF6\",\"angularaxis\":{\"gridcolor\":\"white\",\"linecolor\":\"white\",\"ticks\":\"\"},\"radialaxis\":{\"gridcolor\":\"white\",\"linecolor\":\"white\",\"ticks\":\"\"}},\"ternary\":{\"bgcolor\":\"#E5ECF6\",\"aaxis\":{\"gridcolor\":\"white\",\"linecolor\":\"white\",\"ticks\":\"\"},\"baxis\":{\"gridcolor\":\"white\",\"linecolor\":\"white\",\"ticks\":\"\"},\"caxis\":{\"gridcolor\":\"white\",\"linecolor\":\"white\",\"ticks\":\"\"}},\"coloraxis\":{\"colorbar\":{\"outlinewidth\":0,\"ticks\":\"\"}},\"colorscale\":{\"sequential\":[[0.0,\"#0d0887\"],[0.1111111111111111,\"#46039f\"],[0.2222222222222222,\"#7201a8\"],[0.3333333333333333,\"#9c179e\"],[0.4444444444444444,\"#bd3786\"],[0.5555555555555556,\"#d8576b\"],[0.6666666666666666,\"#ed7953\"],[0.7777777777777778,\"#fb9f3a\"],[0.8888888888888888,\"#fdca26\"],[1.0,\"#f0f921\"]],\"sequentialminus\":[[0.0,\"#0d0887\"],[0.1111111111111111,\"#46039f\"],[0.2222222222222222,\"#7201a8\"],[0.3333333333333333,\"#9c179e\"],[0.4444444444444444,\"#bd3786\"],[0.5555555555555556,\"#d8576b\"],[0.6666666666666666,\"#ed7953\"],[0.7777777777777778,\"#fb9f3a\"],[0.8888888888888888,\"#fdca26\"],[1.0,\"#f0f921\"]],\"diverging\":[[0,\"#8e0152\"],[0.1,\"#c51b7d\"],[0.2,\"#de77ae\"],[0.3,\"#f1b6da\"],[0.4,\"#fde0ef\"],[0.5,\"#f7f7f7\"],[0.6,\"#e6f5d0\"],[0.7,\"#b8e186\"],[0.8,\"#7fbc41\"],[0.9,\"#4d9221\"],[1,\"#276419\"]]},\"xaxis\":{\"gridcolor\":\"white\",\"linecolor\":\"white\",\"ticks\":\"\",\"title\":{\"standoff\":15},\"zerolinecolor\":\"white\",\"automargin\":true,\"zerolinewidth\":2},\"yaxis\":{\"gridcolor\":\"white\",\"linecolor\":\"white\",\"ticks\":\"\",\"title\":{\"standoff\":15},\"zerolinecolor\":\"white\",\"automargin\":true,\"zerolinewidth\":2},\"scene\":{\"xaxis\":{\"backgroundcolor\":\"#E5ECF6\",\"gridcolor\":\"white\",\"linecolor\":\"white\",\"showbackground\":true,\"ticks\":\"\",\"zerolinecolor\":\"white\",\"gridwidth\":2},\"yaxis\":{\"backgroundcolor\":\"#E5ECF6\",\"gridcolor\":\"white\",\"linecolor\":\"white\",\"showbackground\":true,\"ticks\":\"\",\"zerolinecolor\":\"white\",\"gridwidth\":2},\"zaxis\":{\"backgroundcolor\":\"#E5ECF6\",\"gridcolor\":\"white\",\"linecolor\":\"white\",\"showbackground\":true,\"ticks\":\"\",\"zerolinecolor\":\"white\",\"gridwidth\":2}},\"shapedefaults\":{\"line\":{\"color\":\"#2a3f5f\"}},\"annotationdefaults\":{\"arrowcolor\":\"#2a3f5f\",\"arrowhead\":0,\"arrowwidth\":1},\"geo\":{\"bgcolor\":\"white\",\"landcolor\":\"#E5ECF6\",\"subunitcolor\":\"white\",\"showland\":true,\"showlakes\":true,\"lakecolor\":\"white\"},\"title\":{\"x\":0.05},\"mapbox\":{\"style\":\"light\"}}},\"xaxis\":{\"anchor\":\"y\",\"domain\":[0.0,1.0],\"title\":{\"text\":\"value\"}},\"yaxis\":{\"anchor\":\"x\",\"domain\":[0.0,1.0],\"title\":{\"text\":\"count\"}},\"legend\":{\"title\":{\"text\":\"variable\"},\"tracegroupgap\":0},\"margin\":{\"t\":60},\"barmode\":\"relative\"},                        {\"responsive\": true}                    ).then(function(){\n                            \nvar gd = document.getElementById('24eaf603-85b2-443f-a4d2-f86a15b060e5');\nvar x = new MutationObserver(function (mutations, observer) {{\n        var display = window.getComputedStyle(gd).display;\n        if (!display || display === 'none') {{\n            console.log([gd, 'removed!']);\n            Plotly.purge(gd);\n            observer.disconnect();\n        }}\n}});\n\n// Listen for the removal of the full notebook cells\nvar notebookContainer = gd.closest('#notebook-container');\nif (notebookContainer) {{\n    x.observe(notebookContainer, {childList: true});\n}}\n\n// Listen for the clearing of the current output cell\nvar outputEl = gd.closest('.output');\nif (outputEl) {{\n    x.observe(outputEl, {childList: true});\n}}\n\n                        })                };                });            </script>        </div>"
     },
     "metadata": {},
     "output_type": "display_data"
    }
   ],
   "source": [
    "# Histogram of Targeted Muscle Group\n",
    "fig = px.histogram(workout_data, x=['MUSCLE'])\n",
    "fig.show()"
   ],
   "metadata": {
    "collapsed": false,
    "ExecuteTime": {
     "end_time": "2024-02-06T20:35:05.892055Z",
     "start_time": "2024-02-06T20:35:05.886712Z"
    }
   },
   "id": "127eaca6ada1c689",
   "execution_count": 45
  },
  {
   "cell_type": "code",
   "outputs": [
    {
     "data": {
      "application/vnd.plotly.v1+json": {
       "data": [
        {
         "domain": {
          "x": [
           0.0,
           1.0
          ],
          "y": [
           0.0,
           1.0
          ]
         },
         "hole": 0.6,
         "hovertemplate": "WORKOUT=%{label}<extra></extra>",
         "labels": [
          "Legs",
          "Legs",
          "Legs",
          "Legs",
          "Back / Shoulders / Biceps",
          "Chest / Shoulders / Triceps",
          "Chest / Shoulders / Triceps",
          "Legs",
          "Back / Shoulders / Biceps",
          "Chest / Shoulders / Triceps",
          "Back / Shoulders / Biceps",
          "Chest / Shoulders / Triceps",
          "Legs",
          "Back / Shoulders / Biceps",
          "Chest / Shoulders / Triceps",
          "Back / Shoulders / Biceps",
          "Legs",
          "Chest / Shoulders / Triceps",
          "Legs",
          "Back / Shoulders / Biceps",
          "Chest / Shoulders / Triceps",
          "Legs",
          "Back / Shoulders / Biceps",
          "Back / Shoulders / Biceps",
          "Chest / Shoulders / Triceps",
          "Back / Shoulders / Biceps",
          "Chest / Shoulders / Triceps",
          "Back / Shoulders / Biceps",
          "Legs",
          "Chest / Shoulders / Triceps",
          "Back / Shoulders / Biceps",
          "Chest / Shoulders / Triceps",
          "Back / Shoulders / Biceps",
          "Chest / Shoulders / Triceps",
          "Back / Shoulders / Biceps",
          "Chest / Shoulders / Triceps",
          "Legs",
          "Chest / Shoulders / Triceps",
          "Back / Biceps",
          "Legs",
          "Chest / Shoulders / Triceps",
          "Back / Biceps",
          "Chest / Shoulders / Triceps",
          "Back / Biceps",
          "Chest / Shoulders / Triceps",
          "Chest / Shoulders / Triceps",
          "Back / Biceps",
          "Chest / Shoulders / Triceps",
          "Legs",
          "Back / Shoulders / Biceps",
          "Chest / Shoulders / Triceps",
          "Back / Shoulders / Biceps",
          "Chest / Shoulders / Triceps",
          "Back / Biceps",
          "Chest / Shoulders / Triceps",
          "Legs",
          "Chest / Shoulders / Triceps",
          "Legs",
          "Back / Biceps",
          "Legs",
          "Chest / Shoulders / Triceps",
          "Back / Shoulders / Biceps",
          "Chest / Shoulders / Triceps",
          "Legs",
          "Back / Shoulders / Biceps",
          "Chest / Shoulders / Triceps",
          "Legs",
          "Chest / Shoulders / Triceps",
          "Back / Biceps",
          "Back / Biceps",
          "Chest / Shoulders / Triceps",
          "Legs",
          "Chest / Shoulders / Triceps",
          "Back / Biceps",
          "Back / Shoulders / Biceps",
          "Chest / Shoulders / Triceps",
          "Legs",
          "Back / Biceps",
          "Chest / Shoulders / Triceps",
          "Legs",
          "Back / Biceps",
          "Chest / Shoulders / Triceps",
          "Back / Biceps",
          "Chest / Shoulders / Triceps",
          "Legs",
          "Back / Biceps",
          "Chest / Shoulders / Triceps",
          "Legs"
         ],
         "legendgroup": "",
         "name": "",
         "showlegend": true,
         "type": "pie"
        }
       ],
       "layout": {
        "template": {
         "data": {
          "histogram2dcontour": [
           {
            "type": "histogram2dcontour",
            "colorbar": {
             "outlinewidth": 0,
             "ticks": ""
            },
            "colorscale": [
             [
              0.0,
              "#0d0887"
             ],
             [
              0.1111111111111111,
              "#46039f"
             ],
             [
              0.2222222222222222,
              "#7201a8"
             ],
             [
              0.3333333333333333,
              "#9c179e"
             ],
             [
              0.4444444444444444,
              "#bd3786"
             ],
             [
              0.5555555555555556,
              "#d8576b"
             ],
             [
              0.6666666666666666,
              "#ed7953"
             ],
             [
              0.7777777777777778,
              "#fb9f3a"
             ],
             [
              0.8888888888888888,
              "#fdca26"
             ],
             [
              1.0,
              "#f0f921"
             ]
            ]
           }
          ],
          "choropleth": [
           {
            "type": "choropleth",
            "colorbar": {
             "outlinewidth": 0,
             "ticks": ""
            }
           }
          ],
          "histogram2d": [
           {
            "type": "histogram2d",
            "colorbar": {
             "outlinewidth": 0,
             "ticks": ""
            },
            "colorscale": [
             [
              0.0,
              "#0d0887"
             ],
             [
              0.1111111111111111,
              "#46039f"
             ],
             [
              0.2222222222222222,
              "#7201a8"
             ],
             [
              0.3333333333333333,
              "#9c179e"
             ],
             [
              0.4444444444444444,
              "#bd3786"
             ],
             [
              0.5555555555555556,
              "#d8576b"
             ],
             [
              0.6666666666666666,
              "#ed7953"
             ],
             [
              0.7777777777777778,
              "#fb9f3a"
             ],
             [
              0.8888888888888888,
              "#fdca26"
             ],
             [
              1.0,
              "#f0f921"
             ]
            ]
           }
          ],
          "heatmap": [
           {
            "type": "heatmap",
            "colorbar": {
             "outlinewidth": 0,
             "ticks": ""
            },
            "colorscale": [
             [
              0.0,
              "#0d0887"
             ],
             [
              0.1111111111111111,
              "#46039f"
             ],
             [
              0.2222222222222222,
              "#7201a8"
             ],
             [
              0.3333333333333333,
              "#9c179e"
             ],
             [
              0.4444444444444444,
              "#bd3786"
             ],
             [
              0.5555555555555556,
              "#d8576b"
             ],
             [
              0.6666666666666666,
              "#ed7953"
             ],
             [
              0.7777777777777778,
              "#fb9f3a"
             ],
             [
              0.8888888888888888,
              "#fdca26"
             ],
             [
              1.0,
              "#f0f921"
             ]
            ]
           }
          ],
          "heatmapgl": [
           {
            "type": "heatmapgl",
            "colorbar": {
             "outlinewidth": 0,
             "ticks": ""
            },
            "colorscale": [
             [
              0.0,
              "#0d0887"
             ],
             [
              0.1111111111111111,
              "#46039f"
             ],
             [
              0.2222222222222222,
              "#7201a8"
             ],
             [
              0.3333333333333333,
              "#9c179e"
             ],
             [
              0.4444444444444444,
              "#bd3786"
             ],
             [
              0.5555555555555556,
              "#d8576b"
             ],
             [
              0.6666666666666666,
              "#ed7953"
             ],
             [
              0.7777777777777778,
              "#fb9f3a"
             ],
             [
              0.8888888888888888,
              "#fdca26"
             ],
             [
              1.0,
              "#f0f921"
             ]
            ]
           }
          ],
          "contourcarpet": [
           {
            "type": "contourcarpet",
            "colorbar": {
             "outlinewidth": 0,
             "ticks": ""
            }
           }
          ],
          "contour": [
           {
            "type": "contour",
            "colorbar": {
             "outlinewidth": 0,
             "ticks": ""
            },
            "colorscale": [
             [
              0.0,
              "#0d0887"
             ],
             [
              0.1111111111111111,
              "#46039f"
             ],
             [
              0.2222222222222222,
              "#7201a8"
             ],
             [
              0.3333333333333333,
              "#9c179e"
             ],
             [
              0.4444444444444444,
              "#bd3786"
             ],
             [
              0.5555555555555556,
              "#d8576b"
             ],
             [
              0.6666666666666666,
              "#ed7953"
             ],
             [
              0.7777777777777778,
              "#fb9f3a"
             ],
             [
              0.8888888888888888,
              "#fdca26"
             ],
             [
              1.0,
              "#f0f921"
             ]
            ]
           }
          ],
          "surface": [
           {
            "type": "surface",
            "colorbar": {
             "outlinewidth": 0,
             "ticks": ""
            },
            "colorscale": [
             [
              0.0,
              "#0d0887"
             ],
             [
              0.1111111111111111,
              "#46039f"
             ],
             [
              0.2222222222222222,
              "#7201a8"
             ],
             [
              0.3333333333333333,
              "#9c179e"
             ],
             [
              0.4444444444444444,
              "#bd3786"
             ],
             [
              0.5555555555555556,
              "#d8576b"
             ],
             [
              0.6666666666666666,
              "#ed7953"
             ],
             [
              0.7777777777777778,
              "#fb9f3a"
             ],
             [
              0.8888888888888888,
              "#fdca26"
             ],
             [
              1.0,
              "#f0f921"
             ]
            ]
           }
          ],
          "mesh3d": [
           {
            "type": "mesh3d",
            "colorbar": {
             "outlinewidth": 0,
             "ticks": ""
            }
           }
          ],
          "scatter": [
           {
            "fillpattern": {
             "fillmode": "overlay",
             "size": 10,
             "solidity": 0.2
            },
            "type": "scatter"
           }
          ],
          "parcoords": [
           {
            "type": "parcoords",
            "line": {
             "colorbar": {
              "outlinewidth": 0,
              "ticks": ""
             }
            }
           }
          ],
          "scatterpolargl": [
           {
            "type": "scatterpolargl",
            "marker": {
             "colorbar": {
              "outlinewidth": 0,
              "ticks": ""
             }
            }
           }
          ],
          "bar": [
           {
            "error_x": {
             "color": "#2a3f5f"
            },
            "error_y": {
             "color": "#2a3f5f"
            },
            "marker": {
             "line": {
              "color": "#E5ECF6",
              "width": 0.5
             },
             "pattern": {
              "fillmode": "overlay",
              "size": 10,
              "solidity": 0.2
             }
            },
            "type": "bar"
           }
          ],
          "scattergeo": [
           {
            "type": "scattergeo",
            "marker": {
             "colorbar": {
              "outlinewidth": 0,
              "ticks": ""
             }
            }
           }
          ],
          "scatterpolar": [
           {
            "type": "scatterpolar",
            "marker": {
             "colorbar": {
              "outlinewidth": 0,
              "ticks": ""
             }
            }
           }
          ],
          "histogram": [
           {
            "marker": {
             "pattern": {
              "fillmode": "overlay",
              "size": 10,
              "solidity": 0.2
             }
            },
            "type": "histogram"
           }
          ],
          "scattergl": [
           {
            "type": "scattergl",
            "marker": {
             "colorbar": {
              "outlinewidth": 0,
              "ticks": ""
             }
            }
           }
          ],
          "scatter3d": [
           {
            "type": "scatter3d",
            "line": {
             "colorbar": {
              "outlinewidth": 0,
              "ticks": ""
             }
            },
            "marker": {
             "colorbar": {
              "outlinewidth": 0,
              "ticks": ""
             }
            }
           }
          ],
          "scattermapbox": [
           {
            "type": "scattermapbox",
            "marker": {
             "colorbar": {
              "outlinewidth": 0,
              "ticks": ""
             }
            }
           }
          ],
          "scatterternary": [
           {
            "type": "scatterternary",
            "marker": {
             "colorbar": {
              "outlinewidth": 0,
              "ticks": ""
             }
            }
           }
          ],
          "scattercarpet": [
           {
            "type": "scattercarpet",
            "marker": {
             "colorbar": {
              "outlinewidth": 0,
              "ticks": ""
             }
            }
           }
          ],
          "carpet": [
           {
            "aaxis": {
             "endlinecolor": "#2a3f5f",
             "gridcolor": "white",
             "linecolor": "white",
             "minorgridcolor": "white",
             "startlinecolor": "#2a3f5f"
            },
            "baxis": {
             "endlinecolor": "#2a3f5f",
             "gridcolor": "white",
             "linecolor": "white",
             "minorgridcolor": "white",
             "startlinecolor": "#2a3f5f"
            },
            "type": "carpet"
           }
          ],
          "table": [
           {
            "cells": {
             "fill": {
              "color": "#EBF0F8"
             },
             "line": {
              "color": "white"
             }
            },
            "header": {
             "fill": {
              "color": "#C8D4E3"
             },
             "line": {
              "color": "white"
             }
            },
            "type": "table"
           }
          ],
          "barpolar": [
           {
            "marker": {
             "line": {
              "color": "#E5ECF6",
              "width": 0.5
             },
             "pattern": {
              "fillmode": "overlay",
              "size": 10,
              "solidity": 0.2
             }
            },
            "type": "barpolar"
           }
          ],
          "pie": [
           {
            "automargin": true,
            "type": "pie"
           }
          ]
         },
         "layout": {
          "autotypenumbers": "strict",
          "colorway": [
           "#636efa",
           "#EF553B",
           "#00cc96",
           "#ab63fa",
           "#FFA15A",
           "#19d3f3",
           "#FF6692",
           "#B6E880",
           "#FF97FF",
           "#FECB52"
          ],
          "font": {
           "color": "#2a3f5f"
          },
          "hovermode": "closest",
          "hoverlabel": {
           "align": "left"
          },
          "paper_bgcolor": "white",
          "plot_bgcolor": "#E5ECF6",
          "polar": {
           "bgcolor": "#E5ECF6",
           "angularaxis": {
            "gridcolor": "white",
            "linecolor": "white",
            "ticks": ""
           },
           "radialaxis": {
            "gridcolor": "white",
            "linecolor": "white",
            "ticks": ""
           }
          },
          "ternary": {
           "bgcolor": "#E5ECF6",
           "aaxis": {
            "gridcolor": "white",
            "linecolor": "white",
            "ticks": ""
           },
           "baxis": {
            "gridcolor": "white",
            "linecolor": "white",
            "ticks": ""
           },
           "caxis": {
            "gridcolor": "white",
            "linecolor": "white",
            "ticks": ""
           }
          },
          "coloraxis": {
           "colorbar": {
            "outlinewidth": 0,
            "ticks": ""
           }
          },
          "colorscale": {
           "sequential": [
            [
             0.0,
             "#0d0887"
            ],
            [
             0.1111111111111111,
             "#46039f"
            ],
            [
             0.2222222222222222,
             "#7201a8"
            ],
            [
             0.3333333333333333,
             "#9c179e"
            ],
            [
             0.4444444444444444,
             "#bd3786"
            ],
            [
             0.5555555555555556,
             "#d8576b"
            ],
            [
             0.6666666666666666,
             "#ed7953"
            ],
            [
             0.7777777777777778,
             "#fb9f3a"
            ],
            [
             0.8888888888888888,
             "#fdca26"
            ],
            [
             1.0,
             "#f0f921"
            ]
           ],
           "sequentialminus": [
            [
             0.0,
             "#0d0887"
            ],
            [
             0.1111111111111111,
             "#46039f"
            ],
            [
             0.2222222222222222,
             "#7201a8"
            ],
            [
             0.3333333333333333,
             "#9c179e"
            ],
            [
             0.4444444444444444,
             "#bd3786"
            ],
            [
             0.5555555555555556,
             "#d8576b"
            ],
            [
             0.6666666666666666,
             "#ed7953"
            ],
            [
             0.7777777777777778,
             "#fb9f3a"
            ],
            [
             0.8888888888888888,
             "#fdca26"
            ],
            [
             1.0,
             "#f0f921"
            ]
           ],
           "diverging": [
            [
             0,
             "#8e0152"
            ],
            [
             0.1,
             "#c51b7d"
            ],
            [
             0.2,
             "#de77ae"
            ],
            [
             0.3,
             "#f1b6da"
            ],
            [
             0.4,
             "#fde0ef"
            ],
            [
             0.5,
             "#f7f7f7"
            ],
            [
             0.6,
             "#e6f5d0"
            ],
            [
             0.7,
             "#b8e186"
            ],
            [
             0.8,
             "#7fbc41"
            ],
            [
             0.9,
             "#4d9221"
            ],
            [
             1,
             "#276419"
            ]
           ]
          },
          "xaxis": {
           "gridcolor": "white",
           "linecolor": "white",
           "ticks": "",
           "title": {
            "standoff": 15
           },
           "zerolinecolor": "white",
           "automargin": true,
           "zerolinewidth": 2
          },
          "yaxis": {
           "gridcolor": "white",
           "linecolor": "white",
           "ticks": "",
           "title": {
            "standoff": 15
           },
           "zerolinecolor": "white",
           "automargin": true,
           "zerolinewidth": 2
          },
          "scene": {
           "xaxis": {
            "backgroundcolor": "#E5ECF6",
            "gridcolor": "white",
            "linecolor": "white",
            "showbackground": true,
            "ticks": "",
            "zerolinecolor": "white",
            "gridwidth": 2
           },
           "yaxis": {
            "backgroundcolor": "#E5ECF6",
            "gridcolor": "white",
            "linecolor": "white",
            "showbackground": true,
            "ticks": "",
            "zerolinecolor": "white",
            "gridwidth": 2
           },
           "zaxis": {
            "backgroundcolor": "#E5ECF6",
            "gridcolor": "white",
            "linecolor": "white",
            "showbackground": true,
            "ticks": "",
            "zerolinecolor": "white",
            "gridwidth": 2
           }
          },
          "shapedefaults": {
           "line": {
            "color": "#2a3f5f"
           }
          },
          "annotationdefaults": {
           "arrowcolor": "#2a3f5f",
           "arrowhead": 0,
           "arrowwidth": 1
          },
          "geo": {
           "bgcolor": "white",
           "landcolor": "#E5ECF6",
           "subunitcolor": "white",
           "showland": true,
           "showlakes": true,
           "lakecolor": "white"
          },
          "title": {
           "x": 0.05
          },
          "mapbox": {
           "style": "light"
          }
         }
        },
        "legend": {
         "tracegroupgap": 0
        },
        "margin": {
         "t": 60
        }
       },
       "config": {
        "plotlyServerURL": "https://plot.ly"
       }
      },
      "text/html": "<div>                            <div id=\"4315f0b5-46f3-45d9-ae13-b4c2c4846b1e\" class=\"plotly-graph-div\" style=\"height:525px; width:100%;\"></div>            <script type=\"text/javascript\">                require([\"plotly\"], function(Plotly) {                    window.PLOTLYENV=window.PLOTLYENV || {};                                    if (document.getElementById(\"4315f0b5-46f3-45d9-ae13-b4c2c4846b1e\")) {                    Plotly.newPlot(                        \"4315f0b5-46f3-45d9-ae13-b4c2c4846b1e\",                        [{\"domain\":{\"x\":[0.0,1.0],\"y\":[0.0,1.0]},\"hole\":0.6,\"hovertemplate\":\"WORKOUT=%{label}\\u003cextra\\u003e\\u003c\\u002fextra\\u003e\",\"labels\":[\"Legs\",\"Legs\",\"Legs\",\"Legs\",\"Back \\u002f Shoulders \\u002f Biceps\",\"Chest \\u002f Shoulders \\u002f Triceps\",\"Chest \\u002f Shoulders \\u002f Triceps\",\"Legs\",\"Back \\u002f Shoulders \\u002f Biceps\",\"Chest \\u002f Shoulders \\u002f Triceps\",\"Back \\u002f Shoulders \\u002f Biceps\",\"Chest \\u002f Shoulders \\u002f Triceps\",\"Legs\",\"Back \\u002f Shoulders \\u002f Biceps\",\"Chest \\u002f Shoulders \\u002f Triceps\",\"Back \\u002f Shoulders \\u002f Biceps\",\"Legs\",\"Chest \\u002f Shoulders \\u002f Triceps\",\"Legs\",\"Back \\u002f Shoulders \\u002f Biceps\",\"Chest \\u002f Shoulders \\u002f Triceps\",\"Legs\",\"Back \\u002f Shoulders \\u002f Biceps\",\"Back \\u002f Shoulders \\u002f Biceps\",\"Chest \\u002f Shoulders \\u002f Triceps\",\"Back \\u002f Shoulders \\u002f Biceps\",\"Chest \\u002f Shoulders \\u002f Triceps\",\"Back \\u002f Shoulders \\u002f Biceps\",\"Legs\",\"Chest \\u002f Shoulders \\u002f Triceps\",\"Back \\u002f Shoulders \\u002f Biceps\",\"Chest \\u002f Shoulders \\u002f Triceps\",\"Back \\u002f Shoulders \\u002f Biceps\",\"Chest \\u002f Shoulders \\u002f Triceps\",\"Back \\u002f Shoulders \\u002f Biceps\",\"Chest \\u002f Shoulders \\u002f Triceps\",\"Legs\",\"Chest \\u002f Shoulders \\u002f Triceps\",\"Back \\u002f Biceps\",\"Legs\",\"Chest \\u002f Shoulders \\u002f Triceps\",\"Back \\u002f Biceps\",\"Chest \\u002f Shoulders \\u002f Triceps\",\"Back \\u002f Biceps\",\"Chest \\u002f Shoulders \\u002f Triceps\",\"Chest \\u002f Shoulders \\u002f Triceps\",\"Back \\u002f Biceps\",\"Chest \\u002f Shoulders \\u002f Triceps\",\"Legs\",\"Back \\u002f Shoulders \\u002f Biceps\",\"Chest \\u002f Shoulders \\u002f Triceps\",\"Back \\u002f Shoulders \\u002f Biceps\",\"Chest \\u002f Shoulders \\u002f Triceps\",\"Back \\u002f Biceps\",\"Chest \\u002f Shoulders \\u002f Triceps\",\"Legs\",\"Chest \\u002f Shoulders \\u002f Triceps\",\"Legs\",\"Back \\u002f Biceps\",\"Legs\",\"Chest \\u002f Shoulders \\u002f Triceps\",\"Back \\u002f Shoulders \\u002f Biceps\",\"Chest \\u002f Shoulders \\u002f Triceps\",\"Legs\",\"Back \\u002f Shoulders \\u002f Biceps\",\"Chest \\u002f Shoulders \\u002f Triceps\",\"Legs\",\"Chest \\u002f Shoulders \\u002f Triceps\",\"Back \\u002f Biceps\",\"Back \\u002f Biceps\",\"Chest \\u002f Shoulders \\u002f Triceps\",\"Legs\",\"Chest \\u002f Shoulders \\u002f Triceps\",\"Back \\u002f Biceps\",\"Back \\u002f Shoulders \\u002f Biceps\",\"Chest \\u002f Shoulders \\u002f Triceps\",\"Legs\",\"Back \\u002f Biceps\",\"Chest \\u002f Shoulders \\u002f Triceps\",\"Legs\",\"Back \\u002f Biceps\",\"Chest \\u002f Shoulders \\u002f Triceps\",\"Back \\u002f Biceps\",\"Chest \\u002f Shoulders \\u002f Triceps\",\"Legs\",\"Back \\u002f Biceps\",\"Chest \\u002f Shoulders \\u002f Triceps\",\"Legs\"],\"legendgroup\":\"\",\"name\":\"\",\"showlegend\":true,\"type\":\"pie\"}],                        {\"template\":{\"data\":{\"histogram2dcontour\":[{\"type\":\"histogram2dcontour\",\"colorbar\":{\"outlinewidth\":0,\"ticks\":\"\"},\"colorscale\":[[0.0,\"#0d0887\"],[0.1111111111111111,\"#46039f\"],[0.2222222222222222,\"#7201a8\"],[0.3333333333333333,\"#9c179e\"],[0.4444444444444444,\"#bd3786\"],[0.5555555555555556,\"#d8576b\"],[0.6666666666666666,\"#ed7953\"],[0.7777777777777778,\"#fb9f3a\"],[0.8888888888888888,\"#fdca26\"],[1.0,\"#f0f921\"]]}],\"choropleth\":[{\"type\":\"choropleth\",\"colorbar\":{\"outlinewidth\":0,\"ticks\":\"\"}}],\"histogram2d\":[{\"type\":\"histogram2d\",\"colorbar\":{\"outlinewidth\":0,\"ticks\":\"\"},\"colorscale\":[[0.0,\"#0d0887\"],[0.1111111111111111,\"#46039f\"],[0.2222222222222222,\"#7201a8\"],[0.3333333333333333,\"#9c179e\"],[0.4444444444444444,\"#bd3786\"],[0.5555555555555556,\"#d8576b\"],[0.6666666666666666,\"#ed7953\"],[0.7777777777777778,\"#fb9f3a\"],[0.8888888888888888,\"#fdca26\"],[1.0,\"#f0f921\"]]}],\"heatmap\":[{\"type\":\"heatmap\",\"colorbar\":{\"outlinewidth\":0,\"ticks\":\"\"},\"colorscale\":[[0.0,\"#0d0887\"],[0.1111111111111111,\"#46039f\"],[0.2222222222222222,\"#7201a8\"],[0.3333333333333333,\"#9c179e\"],[0.4444444444444444,\"#bd3786\"],[0.5555555555555556,\"#d8576b\"],[0.6666666666666666,\"#ed7953\"],[0.7777777777777778,\"#fb9f3a\"],[0.8888888888888888,\"#fdca26\"],[1.0,\"#f0f921\"]]}],\"heatmapgl\":[{\"type\":\"heatmapgl\",\"colorbar\":{\"outlinewidth\":0,\"ticks\":\"\"},\"colorscale\":[[0.0,\"#0d0887\"],[0.1111111111111111,\"#46039f\"],[0.2222222222222222,\"#7201a8\"],[0.3333333333333333,\"#9c179e\"],[0.4444444444444444,\"#bd3786\"],[0.5555555555555556,\"#d8576b\"],[0.6666666666666666,\"#ed7953\"],[0.7777777777777778,\"#fb9f3a\"],[0.8888888888888888,\"#fdca26\"],[1.0,\"#f0f921\"]]}],\"contourcarpet\":[{\"type\":\"contourcarpet\",\"colorbar\":{\"outlinewidth\":0,\"ticks\":\"\"}}],\"contour\":[{\"type\":\"contour\",\"colorbar\":{\"outlinewidth\":0,\"ticks\":\"\"},\"colorscale\":[[0.0,\"#0d0887\"],[0.1111111111111111,\"#46039f\"],[0.2222222222222222,\"#7201a8\"],[0.3333333333333333,\"#9c179e\"],[0.4444444444444444,\"#bd3786\"],[0.5555555555555556,\"#d8576b\"],[0.6666666666666666,\"#ed7953\"],[0.7777777777777778,\"#fb9f3a\"],[0.8888888888888888,\"#fdca26\"],[1.0,\"#f0f921\"]]}],\"surface\":[{\"type\":\"surface\",\"colorbar\":{\"outlinewidth\":0,\"ticks\":\"\"},\"colorscale\":[[0.0,\"#0d0887\"],[0.1111111111111111,\"#46039f\"],[0.2222222222222222,\"#7201a8\"],[0.3333333333333333,\"#9c179e\"],[0.4444444444444444,\"#bd3786\"],[0.5555555555555556,\"#d8576b\"],[0.6666666666666666,\"#ed7953\"],[0.7777777777777778,\"#fb9f3a\"],[0.8888888888888888,\"#fdca26\"],[1.0,\"#f0f921\"]]}],\"mesh3d\":[{\"type\":\"mesh3d\",\"colorbar\":{\"outlinewidth\":0,\"ticks\":\"\"}}],\"scatter\":[{\"fillpattern\":{\"fillmode\":\"overlay\",\"size\":10,\"solidity\":0.2},\"type\":\"scatter\"}],\"parcoords\":[{\"type\":\"parcoords\",\"line\":{\"colorbar\":{\"outlinewidth\":0,\"ticks\":\"\"}}}],\"scatterpolargl\":[{\"type\":\"scatterpolargl\",\"marker\":{\"colorbar\":{\"outlinewidth\":0,\"ticks\":\"\"}}}],\"bar\":[{\"error_x\":{\"color\":\"#2a3f5f\"},\"error_y\":{\"color\":\"#2a3f5f\"},\"marker\":{\"line\":{\"color\":\"#E5ECF6\",\"width\":0.5},\"pattern\":{\"fillmode\":\"overlay\",\"size\":10,\"solidity\":0.2}},\"type\":\"bar\"}],\"scattergeo\":[{\"type\":\"scattergeo\",\"marker\":{\"colorbar\":{\"outlinewidth\":0,\"ticks\":\"\"}}}],\"scatterpolar\":[{\"type\":\"scatterpolar\",\"marker\":{\"colorbar\":{\"outlinewidth\":0,\"ticks\":\"\"}}}],\"histogram\":[{\"marker\":{\"pattern\":{\"fillmode\":\"overlay\",\"size\":10,\"solidity\":0.2}},\"type\":\"histogram\"}],\"scattergl\":[{\"type\":\"scattergl\",\"marker\":{\"colorbar\":{\"outlinewidth\":0,\"ticks\":\"\"}}}],\"scatter3d\":[{\"type\":\"scatter3d\",\"line\":{\"colorbar\":{\"outlinewidth\":0,\"ticks\":\"\"}},\"marker\":{\"colorbar\":{\"outlinewidth\":0,\"ticks\":\"\"}}}],\"scattermapbox\":[{\"type\":\"scattermapbox\",\"marker\":{\"colorbar\":{\"outlinewidth\":0,\"ticks\":\"\"}}}],\"scatterternary\":[{\"type\":\"scatterternary\",\"marker\":{\"colorbar\":{\"outlinewidth\":0,\"ticks\":\"\"}}}],\"scattercarpet\":[{\"type\":\"scattercarpet\",\"marker\":{\"colorbar\":{\"outlinewidth\":0,\"ticks\":\"\"}}}],\"carpet\":[{\"aaxis\":{\"endlinecolor\":\"#2a3f5f\",\"gridcolor\":\"white\",\"linecolor\":\"white\",\"minorgridcolor\":\"white\",\"startlinecolor\":\"#2a3f5f\"},\"baxis\":{\"endlinecolor\":\"#2a3f5f\",\"gridcolor\":\"white\",\"linecolor\":\"white\",\"minorgridcolor\":\"white\",\"startlinecolor\":\"#2a3f5f\"},\"type\":\"carpet\"}],\"table\":[{\"cells\":{\"fill\":{\"color\":\"#EBF0F8\"},\"line\":{\"color\":\"white\"}},\"header\":{\"fill\":{\"color\":\"#C8D4E3\"},\"line\":{\"color\":\"white\"}},\"type\":\"table\"}],\"barpolar\":[{\"marker\":{\"line\":{\"color\":\"#E5ECF6\",\"width\":0.5},\"pattern\":{\"fillmode\":\"overlay\",\"size\":10,\"solidity\":0.2}},\"type\":\"barpolar\"}],\"pie\":[{\"automargin\":true,\"type\":\"pie\"}]},\"layout\":{\"autotypenumbers\":\"strict\",\"colorway\":[\"#636efa\",\"#EF553B\",\"#00cc96\",\"#ab63fa\",\"#FFA15A\",\"#19d3f3\",\"#FF6692\",\"#B6E880\",\"#FF97FF\",\"#FECB52\"],\"font\":{\"color\":\"#2a3f5f\"},\"hovermode\":\"closest\",\"hoverlabel\":{\"align\":\"left\"},\"paper_bgcolor\":\"white\",\"plot_bgcolor\":\"#E5ECF6\",\"polar\":{\"bgcolor\":\"#E5ECF6\",\"angularaxis\":{\"gridcolor\":\"white\",\"linecolor\":\"white\",\"ticks\":\"\"},\"radialaxis\":{\"gridcolor\":\"white\",\"linecolor\":\"white\",\"ticks\":\"\"}},\"ternary\":{\"bgcolor\":\"#E5ECF6\",\"aaxis\":{\"gridcolor\":\"white\",\"linecolor\":\"white\",\"ticks\":\"\"},\"baxis\":{\"gridcolor\":\"white\",\"linecolor\":\"white\",\"ticks\":\"\"},\"caxis\":{\"gridcolor\":\"white\",\"linecolor\":\"white\",\"ticks\":\"\"}},\"coloraxis\":{\"colorbar\":{\"outlinewidth\":0,\"ticks\":\"\"}},\"colorscale\":{\"sequential\":[[0.0,\"#0d0887\"],[0.1111111111111111,\"#46039f\"],[0.2222222222222222,\"#7201a8\"],[0.3333333333333333,\"#9c179e\"],[0.4444444444444444,\"#bd3786\"],[0.5555555555555556,\"#d8576b\"],[0.6666666666666666,\"#ed7953\"],[0.7777777777777778,\"#fb9f3a\"],[0.8888888888888888,\"#fdca26\"],[1.0,\"#f0f921\"]],\"sequentialminus\":[[0.0,\"#0d0887\"],[0.1111111111111111,\"#46039f\"],[0.2222222222222222,\"#7201a8\"],[0.3333333333333333,\"#9c179e\"],[0.4444444444444444,\"#bd3786\"],[0.5555555555555556,\"#d8576b\"],[0.6666666666666666,\"#ed7953\"],[0.7777777777777778,\"#fb9f3a\"],[0.8888888888888888,\"#fdca26\"],[1.0,\"#f0f921\"]],\"diverging\":[[0,\"#8e0152\"],[0.1,\"#c51b7d\"],[0.2,\"#de77ae\"],[0.3,\"#f1b6da\"],[0.4,\"#fde0ef\"],[0.5,\"#f7f7f7\"],[0.6,\"#e6f5d0\"],[0.7,\"#b8e186\"],[0.8,\"#7fbc41\"],[0.9,\"#4d9221\"],[1,\"#276419\"]]},\"xaxis\":{\"gridcolor\":\"white\",\"linecolor\":\"white\",\"ticks\":\"\",\"title\":{\"standoff\":15},\"zerolinecolor\":\"white\",\"automargin\":true,\"zerolinewidth\":2},\"yaxis\":{\"gridcolor\":\"white\",\"linecolor\":\"white\",\"ticks\":\"\",\"title\":{\"standoff\":15},\"zerolinecolor\":\"white\",\"automargin\":true,\"zerolinewidth\":2},\"scene\":{\"xaxis\":{\"backgroundcolor\":\"#E5ECF6\",\"gridcolor\":\"white\",\"linecolor\":\"white\",\"showbackground\":true,\"ticks\":\"\",\"zerolinecolor\":\"white\",\"gridwidth\":2},\"yaxis\":{\"backgroundcolor\":\"#E5ECF6\",\"gridcolor\":\"white\",\"linecolor\":\"white\",\"showbackground\":true,\"ticks\":\"\",\"zerolinecolor\":\"white\",\"gridwidth\":2},\"zaxis\":{\"backgroundcolor\":\"#E5ECF6\",\"gridcolor\":\"white\",\"linecolor\":\"white\",\"showbackground\":true,\"ticks\":\"\",\"zerolinecolor\":\"white\",\"gridwidth\":2}},\"shapedefaults\":{\"line\":{\"color\":\"#2a3f5f\"}},\"annotationdefaults\":{\"arrowcolor\":\"#2a3f5f\",\"arrowhead\":0,\"arrowwidth\":1},\"geo\":{\"bgcolor\":\"white\",\"landcolor\":\"#E5ECF6\",\"subunitcolor\":\"white\",\"showland\":true,\"showlakes\":true,\"lakecolor\":\"white\"},\"title\":{\"x\":0.05},\"mapbox\":{\"style\":\"light\"}}},\"legend\":{\"tracegroupgap\":0},\"margin\":{\"t\":60}},                        {\"responsive\": true}                    ).then(function(){\n                            \nvar gd = document.getElementById('4315f0b5-46f3-45d9-ae13-b4c2c4846b1e');\nvar x = new MutationObserver(function (mutations, observer) {{\n        var display = window.getComputedStyle(gd).display;\n        if (!display || display === 'none') {{\n            console.log([gd, 'removed!']);\n            Plotly.purge(gd);\n            observer.disconnect();\n        }}\n}});\n\n// Listen for the removal of the full notebook cells\nvar notebookContainer = gd.closest('#notebook-container');\nif (notebookContainer) {{\n    x.observe(notebookContainer, {childList: true});\n}}\n\n// Listen for the clearing of the current output cell\nvar outputEl = gd.closest('.output');\nif (outputEl) {{\n    x.observe(outputEl, {childList: true});\n}}\n\n                        })                };                });            </script>        </div>"
     },
     "metadata": {},
     "output_type": "display_data"
    }
   ],
   "source": [
    "# Donut chart of workout types (Workouts above 5 occurrences)\n",
    "workout_days = workout_data.drop_duplicates(subset=[\"DATE\"])\n",
    "\n",
    "workout_occurrences = workout_days[\"WORKOUT\"].value_counts()\n",
    "valid_workouts = workout_occurrences[workout_occurrences > 5].index\n",
    "valid_workouts_data = workout_days[workout_days['WORKOUT'].isin(valid_workouts)]\n",
    "\n",
    "fig = px.pie(valid_workouts_data, names='WORKOUT', hole=0.6)\n",
    "fig.show()"
   ],
   "metadata": {
    "collapsed": false,
    "ExecuteTime": {
     "end_time": "2024-02-06T21:24:28.181797Z",
     "start_time": "2024-02-06T21:24:28.074943Z"
    }
   },
   "id": "d8918e6fe3d00e17",
   "execution_count": 111
  },
  {
   "cell_type": "code",
   "outputs": [
    {
     "name": "stderr",
     "output_type": "stream",
     "text": [
      "/Users/gabriel-macbook/Library/CloudStorage/OneDrive-Efrei/Efrei/M2/Machine Learning in Production/mlops-workout/.venv/lib/python3.10/site-packages/plotly/express/_core.py:2065: FutureWarning:\n",
      "\n",
      "When grouping with a length-1 list-like, you will need to pass a length-1 tuple to get_group in a future version of pandas. Pass `(name,)` instead of `name` to silence this warning.\n",
      "\n"
     ]
    },
    {
     "data": {
      "application/vnd.plotly.v1+json": {
       "data": [
        {
         "hovertemplate": "EXERCISE=Pull-up<br>DATE=%{x}<br>AVERAGE_WEIGHT=%{y}<br>AVERAGE_REPS=%{marker.size}<extra></extra>",
         "legendgroup": "Pull-up",
         "marker": {
          "color": "#636efa",
          "size": [
           5.0,
           4.25,
           4.5,
           7.333333333333333,
           7.0,
           7.333333333333333,
           7.0,
           7.5,
           7.75,
           9.0,
           9.0,
           9.0,
           8.666666666666666,
           8.666666666666666,
           9.333333333333334,
           6.666666666666667,
           8.25,
           9.0,
           7.5,
           7.5,
           7.5,
           6.5,
           6.75,
           7.25,
           8.0,
           7.5,
           8.5,
           6.5,
           6.5
          ],
          "sizemode": "area",
          "sizeref": 0.03166666666666666,
          "symbol": "circle"
         },
         "mode": "markers",
         "name": "Pull-up",
         "orientation": "v",
         "showlegend": true,
         "x": [
          "2023-03-28T00:00:00",
          "2023-04-04T00:00:00",
          "2023-04-14T00:00:00",
          "2023-05-20T00:00:00",
          "2023-05-25T00:00:00",
          "2023-05-29T00:00:00",
          "2023-06-02T00:00:00",
          "2023-06-06T00:00:00",
          "2023-06-10T00:00:00",
          "2023-06-21T00:00:00",
          "2023-06-26T00:00:00",
          "2023-07-01T00:00:00",
          "2023-07-05T00:00:00",
          "2023-07-08T00:00:00",
          "2023-07-12T00:00:00",
          "2023-07-16T00:00:00",
          "2023-07-22T00:00:00",
          "2023-08-18T00:00:00",
          "2023-09-15T00:00:00",
          "2023-09-22T00:00:00",
          "2023-10-29T00:00:00",
          "2023-11-18T00:00:00",
          "2023-12-17T00:00:00",
          "2023-12-22T00:00:00",
          "2023-12-31T00:00:00",
          "2024-01-12T00:00:00",
          "2024-01-18T00:00:00",
          "2024-01-26T00:00:00",
          "2024-02-02T00:00:00"
         ],
         "xaxis": "x",
         "y": [
          0.0,
          0.0,
          0.0,
          0.0,
          0.0,
          2.727272727272727,
          0.7142857142857143,
          0.0,
          0.0,
          0.0,
          0.0,
          2.074074074074074,
          2.1538461538461537,
          2.1538461538461537,
          2.4285714285714284,
          8.25,
          5.0,
          5.0,
          5.0,
          5.0,
          5.0,
          7.884615384615385,
          8.703703703703704,
          8.793103448275861,
          8.75,
          9.0,
          8.823529411764707,
          12.5,
          12.5
         ],
         "yaxis": "y",
         "type": "scatter"
        },
        {
         "hovertemplate": "EXERCISE=Seated dumbbell shoulder press<br>DATE=%{x}<br>AVERAGE_WEIGHT=%{y}<br>AVERAGE_REPS=%{marker.size}<extra></extra>",
         "legendgroup": "Seated dumbbell shoulder press",
         "marker": {
          "color": "#EF553B",
          "size": [
           7.5,
           8.0,
           7.75,
           7.333333333333333,
           5.666666666666667,
           7.666666666666667,
           8.333333333333334,
           5.666666666666667,
           7.333333333333333,
           5.666666666666667,
           8.333333333333334,
           8.0,
           8.0,
           8.333333333333334,
           10.0,
           11.333333333333334,
           7.0,
           10.0,
           7.0,
           8.333333333333334,
           7.666666666666667,
           9.333333333333334,
           4.0,
           6.666666666666667,
           6.666666666666667,
           6.0,
           7.5,
           6.666666666666667,
           8.0,
           8.0,
           8.333333333333334
          ],
          "sizemode": "area",
          "sizeref": 0.03166666666666666,
          "symbol": "circle"
         },
         "mode": "markers",
         "name": "Seated dumbbell shoulder press",
         "orientation": "v",
         "showlegend": true,
         "x": [
          "2023-04-03T00:00:00",
          "2023-04-10T00:00:00",
          "2023-04-15T00:00:00",
          "2023-05-27T00:00:00",
          "2023-05-30T00:00:00",
          "2023-06-03T00:00:00",
          "2023-06-09T00:00:00",
          "2023-06-16T00:00:00",
          "2023-06-22T00:00:00",
          "2023-07-02T00:00:00",
          "2023-07-07T00:00:00",
          "2023-07-11T00:00:00",
          "2023-07-15T00:00:00",
          "2023-07-19T00:00:00",
          "2023-07-24T00:00:00",
          "2023-07-30T00:00:00",
          "2023-08-08T00:00:00",
          "2023-08-22T00:00:00",
          "2023-09-05T00:00:00",
          "2023-09-13T00:00:00",
          "2023-09-16T00:00:00",
          "2023-09-23T00:00:00",
          "2023-09-30T00:00:00",
          "2023-10-18T00:00:00",
          "2023-11-11T00:00:00",
          "2023-12-02T00:00:00",
          "2023-12-16T00:00:00",
          "2023-12-30T00:00:00",
          "2024-01-06T00:00:00",
          "2024-01-13T00:00:00",
          "2024-01-20T00:00:00"
         ],
         "xaxis": "x",
         "y": [
          11.333333333333334,
          12.3125,
          12.0,
          17.09090909090909,
          17.294117647058822,
          18.0,
          18.0,
          18.0,
          18.0,
          17.41176470588235,
          20.0,
          19.166666666666668,
          20.0,
          20.0,
          18.0,
          18.0,
          20.0,
          20.0,
          20.0,
          18.0,
          18.0,
          18.0,
          24.0,
          20.0,
          18.0,
          20.0,
          22.0,
          20.0,
          22.0,
          24.0,
          20.0
         ],
         "yaxis": "y",
         "type": "scatter"
        },
        {
         "hovertemplate": "EXERCISE=Dumbbell lateral raise<br>DATE=%{x}<br>AVERAGE_WEIGHT=%{y}<br>AVERAGE_REPS=%{marker.size}<extra></extra>",
         "legendgroup": "Dumbbell lateral raise",
         "marker": {
          "color": "#00cc96",
          "size": [
           9.0,
           9.0,
           7.25,
           8.75,
           8.75,
           8.666666666666666,
           9.0,
           9.0,
           8.666666666666666,
           9.0,
           7.333333333333333,
           8.25,
           9.666666666666666,
           9.666666666666666,
           11.0,
           9.0,
           8.666666666666666,
           8.0,
           9.0,
           9.0,
           8.0,
           8.0,
           9.0,
           9.333333333333334,
           8.333333333333334,
           10.0,
           8.666666666666666,
           11.333333333333334,
           9.0,
           9.0,
           8.0,
           7.666666666666667
          ],
          "sizemode": "area",
          "sizeref": 0.03166666666666666,
          "symbol": "circle"
         },
         "mode": "markers",
         "name": "Dumbbell lateral raise",
         "orientation": "v",
         "showlegend": true,
         "x": [
          "2023-04-04T00:00:00",
          "2023-04-14T00:00:00",
          "2023-05-21T00:00:00",
          "2023-05-25T00:00:00",
          "2023-05-27T00:00:00",
          "2023-05-30T00:00:00",
          "2023-06-03T00:00:00",
          "2023-06-09T00:00:00",
          "2023-06-16T00:00:00",
          "2023-06-22T00:00:00",
          "2023-07-02T00:00:00",
          "2023-07-07T00:00:00",
          "2023-07-11T00:00:00",
          "2023-07-15T00:00:00",
          "2023-07-19T00:00:00",
          "2023-07-24T00:00:00",
          "2023-07-30T00:00:00",
          "2023-08-08T00:00:00",
          "2023-08-22T00:00:00",
          "2023-09-05T00:00:00",
          "2023-09-13T00:00:00",
          "2023-09-16T00:00:00",
          "2023-09-23T00:00:00",
          "2023-09-30T00:00:00",
          "2023-10-18T00:00:00",
          "2023-11-04T00:00:00",
          "2023-11-11T00:00:00",
          "2023-11-25T00:00:00",
          "2023-12-02T00:00:00",
          "2023-12-09T00:00:00",
          "2023-12-30T00:00:00",
          "2024-01-20T00:00:00"
         ],
         "xaxis": "x",
         "y": [
          7.444444444444445,
          8.333333333333334,
          8.655172413793103,
          9.371428571428572,
          10.0,
          10.0,
          10.0,
          12.0,
          11.0,
          12.0,
          12.0,
          12.0,
          12.0,
          12.0,
          12.0,
          12.0,
          12.0,
          12.0,
          12.0,
          12.0,
          12.0,
          12.0,
          12.0,
          12.0,
          12.0,
          12.0,
          12.0,
          12.0,
          12.0,
          14.0,
          14.0,
          14.0
         ],
         "yaxis": "y",
         "type": "scatter"
        },
        {
         "hovertemplate": "EXERCISE=Behind-the-head skullcrusher<br>DATE=%{x}<br>AVERAGE_WEIGHT=%{y}<br>AVERAGE_REPS=%{marker.size}<extra></extra>",
         "legendgroup": "Behind-the-head skullcrusher",
         "marker": {
          "color": "#ab63fa",
          "size": [
           8.25,
           8.25,
           5.666666666666667,
           12.666666666666666,
           10.666666666666666,
           10.0,
           9.333333333333334,
           12.0,
           9.333333333333334,
           8.0,
           8.0,
           8.333333333333334,
           10.333333333333334,
           7.666666666666667,
           9.666666666666666,
           9.0,
           10.666666666666666,
           8.333333333333334,
           7.666666666666667,
           9.333333333333334,
           9.0,
           10.666666666666666,
           7.0,
           8.0,
           9.333333333333334,
           9.0,
           8.0,
           6.666666666666667,
           10.0,
           5.666666666666667
          ],
          "sizemode": "area",
          "sizeref": 0.03166666666666666,
          "symbol": "circle"
         },
         "mode": "markers",
         "name": "Behind-the-head skullcrusher",
         "orientation": "v",
         "showlegend": true,
         "x": [
          "2023-04-08T00:00:00",
          "2023-04-20T00:00:00",
          "2023-05-30T00:00:00",
          "2023-06-16T00:00:00",
          "2023-07-02T00:00:00",
          "2023-07-07T00:00:00",
          "2023-07-11T00:00:00",
          "2023-07-15T00:00:00",
          "2023-07-19T00:00:00",
          "2023-07-24T00:00:00",
          "2023-08-08T00:00:00",
          "2023-09-05T00:00:00",
          "2023-09-13T00:00:00",
          "2023-09-16T00:00:00",
          "2023-09-20T00:00:00",
          "2023-09-30T00:00:00",
          "2023-10-15T00:00:00",
          "2023-11-04T00:00:00",
          "2023-11-11T00:00:00",
          "2023-11-25T00:00:00",
          "2023-12-02T00:00:00",
          "2023-12-09T00:00:00",
          "2023-12-16T00:00:00",
          "2023-12-23T00:00:00",
          "2023-12-30T00:00:00",
          "2024-01-06T00:00:00",
          "2024-01-13T00:00:00",
          "2024-01-20T00:00:00",
          "2024-01-27T00:00:00",
          "2024-02-03T00:00:00"
         ],
         "xaxis": "x",
         "y": [
          14.363636363636363,
          15.787878787878787,
          16.58823529411765,
          13.68421052631579,
          17.125,
          20.0,
          21.142857142857142,
          20.0,
          25.0,
          22.5,
          25.0,
          25.0,
          22.0,
          24.0,
          24.0,
          25.0,
          24.0,
          25.0,
          24.0,
          27.142857142857142,
          24.0,
          25.0,
          27.714285714285715,
          30.0,
          25.0,
          30.0,
          30.0,
          30.0,
          30.0,
          35.0
         ],
         "yaxis": "y",
         "type": "scatter"
        },
        {
         "hovertemplate": "EXERCISE=Incline dumbbell biceps curl<br>DATE=%{x}<br>AVERAGE_WEIGHT=%{y}<br>AVERAGE_REPS=%{marker.size}<extra></extra>",
         "legendgroup": "Incline dumbbell biceps curl",
         "marker": {
          "color": "#FFA15A",
          "size": [
           7.0,
           6.0,
           5.75,
           6.5,
           7.5,
           6.0,
           7.333333333333333,
           8.0,
           7.333333333333333,
           8.0,
           7.666666666666667,
           10.666666666666666,
           10.0,
           7.0,
           10.0,
           7.333333333333333,
           9.0,
           7.333333333333333,
           6.333333333333333,
           8.0,
           9.666666666666666,
           6.5,
           7.25,
           7.75,
           10.0,
           8.25,
           6.75,
           8.0,
           7.0
          ],
          "sizemode": "area",
          "sizeref": 0.03166666666666666,
          "symbol": "circle"
         },
         "mode": "markers",
         "name": "Incline dumbbell biceps curl",
         "orientation": "v",
         "showlegend": true,
         "x": [
          "2023-05-20T00:00:00",
          "2023-05-29T00:00:00",
          "2023-06-02T00:00:00",
          "2023-06-06T00:00:00",
          "2023-06-10T00:00:00",
          "2023-06-21T00:00:00",
          "2023-06-26T00:00:00",
          "2023-07-01T00:00:00",
          "2023-07-05T00:00:00",
          "2023-07-08T00:00:00",
          "2023-07-12T00:00:00",
          "2023-07-22T00:00:00",
          "2023-08-18T00:00:00",
          "2023-09-15T00:00:00",
          "2023-09-20T00:00:00",
          "2023-10-01T00:00:00",
          "2023-10-15T00:00:00",
          "2023-10-29T00:00:00",
          "2023-11-18T00:00:00",
          "2023-12-01T00:00:00",
          "2023-12-08T00:00:00",
          "2023-12-17T00:00:00",
          "2023-12-22T00:00:00",
          "2023-12-31T00:00:00",
          "2024-01-05T00:00:00",
          "2024-01-12T00:00:00",
          "2024-01-18T00:00:00",
          "2024-01-26T00:00:00",
          "2024-02-02T00:00:00"
         ],
         "xaxis": "x",
         "y": [
          8.0,
          8.791666666666666,
          8.0,
          8.0,
          8.0,
          8.0,
          8.0,
          9.0,
          8.545454545454545,
          9.96875,
          8.608695652173912,
          8.0,
          8.0,
          8.0,
          10.0,
          10.0,
          10.0,
          9.272727272727273,
          8.526315789473685,
          8.583333333333334,
          8.0,
          10.0,
          10.0,
          10.0,
          10.0,
          10.0,
          11.037037037037036,
          12.0,
          12.0
         ],
         "yaxis": "y",
         "type": "scatter"
        }
       ],
       "layout": {
        "template": {
         "data": {
          "histogram2dcontour": [
           {
            "type": "histogram2dcontour",
            "colorbar": {
             "outlinewidth": 0,
             "ticks": ""
            },
            "colorscale": [
             [
              0.0,
              "#0d0887"
             ],
             [
              0.1111111111111111,
              "#46039f"
             ],
             [
              0.2222222222222222,
              "#7201a8"
             ],
             [
              0.3333333333333333,
              "#9c179e"
             ],
             [
              0.4444444444444444,
              "#bd3786"
             ],
             [
              0.5555555555555556,
              "#d8576b"
             ],
             [
              0.6666666666666666,
              "#ed7953"
             ],
             [
              0.7777777777777778,
              "#fb9f3a"
             ],
             [
              0.8888888888888888,
              "#fdca26"
             ],
             [
              1.0,
              "#f0f921"
             ]
            ]
           }
          ],
          "choropleth": [
           {
            "type": "choropleth",
            "colorbar": {
             "outlinewidth": 0,
             "ticks": ""
            }
           }
          ],
          "histogram2d": [
           {
            "type": "histogram2d",
            "colorbar": {
             "outlinewidth": 0,
             "ticks": ""
            },
            "colorscale": [
             [
              0.0,
              "#0d0887"
             ],
             [
              0.1111111111111111,
              "#46039f"
             ],
             [
              0.2222222222222222,
              "#7201a8"
             ],
             [
              0.3333333333333333,
              "#9c179e"
             ],
             [
              0.4444444444444444,
              "#bd3786"
             ],
             [
              0.5555555555555556,
              "#d8576b"
             ],
             [
              0.6666666666666666,
              "#ed7953"
             ],
             [
              0.7777777777777778,
              "#fb9f3a"
             ],
             [
              0.8888888888888888,
              "#fdca26"
             ],
             [
              1.0,
              "#f0f921"
             ]
            ]
           }
          ],
          "heatmap": [
           {
            "type": "heatmap",
            "colorbar": {
             "outlinewidth": 0,
             "ticks": ""
            },
            "colorscale": [
             [
              0.0,
              "#0d0887"
             ],
             [
              0.1111111111111111,
              "#46039f"
             ],
             [
              0.2222222222222222,
              "#7201a8"
             ],
             [
              0.3333333333333333,
              "#9c179e"
             ],
             [
              0.4444444444444444,
              "#bd3786"
             ],
             [
              0.5555555555555556,
              "#d8576b"
             ],
             [
              0.6666666666666666,
              "#ed7953"
             ],
             [
              0.7777777777777778,
              "#fb9f3a"
             ],
             [
              0.8888888888888888,
              "#fdca26"
             ],
             [
              1.0,
              "#f0f921"
             ]
            ]
           }
          ],
          "heatmapgl": [
           {
            "type": "heatmapgl",
            "colorbar": {
             "outlinewidth": 0,
             "ticks": ""
            },
            "colorscale": [
             [
              0.0,
              "#0d0887"
             ],
             [
              0.1111111111111111,
              "#46039f"
             ],
             [
              0.2222222222222222,
              "#7201a8"
             ],
             [
              0.3333333333333333,
              "#9c179e"
             ],
             [
              0.4444444444444444,
              "#bd3786"
             ],
             [
              0.5555555555555556,
              "#d8576b"
             ],
             [
              0.6666666666666666,
              "#ed7953"
             ],
             [
              0.7777777777777778,
              "#fb9f3a"
             ],
             [
              0.8888888888888888,
              "#fdca26"
             ],
             [
              1.0,
              "#f0f921"
             ]
            ]
           }
          ],
          "contourcarpet": [
           {
            "type": "contourcarpet",
            "colorbar": {
             "outlinewidth": 0,
             "ticks": ""
            }
           }
          ],
          "contour": [
           {
            "type": "contour",
            "colorbar": {
             "outlinewidth": 0,
             "ticks": ""
            },
            "colorscale": [
             [
              0.0,
              "#0d0887"
             ],
             [
              0.1111111111111111,
              "#46039f"
             ],
             [
              0.2222222222222222,
              "#7201a8"
             ],
             [
              0.3333333333333333,
              "#9c179e"
             ],
             [
              0.4444444444444444,
              "#bd3786"
             ],
             [
              0.5555555555555556,
              "#d8576b"
             ],
             [
              0.6666666666666666,
              "#ed7953"
             ],
             [
              0.7777777777777778,
              "#fb9f3a"
             ],
             [
              0.8888888888888888,
              "#fdca26"
             ],
             [
              1.0,
              "#f0f921"
             ]
            ]
           }
          ],
          "surface": [
           {
            "type": "surface",
            "colorbar": {
             "outlinewidth": 0,
             "ticks": ""
            },
            "colorscale": [
             [
              0.0,
              "#0d0887"
             ],
             [
              0.1111111111111111,
              "#46039f"
             ],
             [
              0.2222222222222222,
              "#7201a8"
             ],
             [
              0.3333333333333333,
              "#9c179e"
             ],
             [
              0.4444444444444444,
              "#bd3786"
             ],
             [
              0.5555555555555556,
              "#d8576b"
             ],
             [
              0.6666666666666666,
              "#ed7953"
             ],
             [
              0.7777777777777778,
              "#fb9f3a"
             ],
             [
              0.8888888888888888,
              "#fdca26"
             ],
             [
              1.0,
              "#f0f921"
             ]
            ]
           }
          ],
          "mesh3d": [
           {
            "type": "mesh3d",
            "colorbar": {
             "outlinewidth": 0,
             "ticks": ""
            }
           }
          ],
          "scatter": [
           {
            "fillpattern": {
             "fillmode": "overlay",
             "size": 10,
             "solidity": 0.2
            },
            "type": "scatter"
           }
          ],
          "parcoords": [
           {
            "type": "parcoords",
            "line": {
             "colorbar": {
              "outlinewidth": 0,
              "ticks": ""
             }
            }
           }
          ],
          "scatterpolargl": [
           {
            "type": "scatterpolargl",
            "marker": {
             "colorbar": {
              "outlinewidth": 0,
              "ticks": ""
             }
            }
           }
          ],
          "bar": [
           {
            "error_x": {
             "color": "#2a3f5f"
            },
            "error_y": {
             "color": "#2a3f5f"
            },
            "marker": {
             "line": {
              "color": "#E5ECF6",
              "width": 0.5
             },
             "pattern": {
              "fillmode": "overlay",
              "size": 10,
              "solidity": 0.2
             }
            },
            "type": "bar"
           }
          ],
          "scattergeo": [
           {
            "type": "scattergeo",
            "marker": {
             "colorbar": {
              "outlinewidth": 0,
              "ticks": ""
             }
            }
           }
          ],
          "scatterpolar": [
           {
            "type": "scatterpolar",
            "marker": {
             "colorbar": {
              "outlinewidth": 0,
              "ticks": ""
             }
            }
           }
          ],
          "histogram": [
           {
            "marker": {
             "pattern": {
              "fillmode": "overlay",
              "size": 10,
              "solidity": 0.2
             }
            },
            "type": "histogram"
           }
          ],
          "scattergl": [
           {
            "type": "scattergl",
            "marker": {
             "colorbar": {
              "outlinewidth": 0,
              "ticks": ""
             }
            }
           }
          ],
          "scatter3d": [
           {
            "type": "scatter3d",
            "line": {
             "colorbar": {
              "outlinewidth": 0,
              "ticks": ""
             }
            },
            "marker": {
             "colorbar": {
              "outlinewidth": 0,
              "ticks": ""
             }
            }
           }
          ],
          "scattermapbox": [
           {
            "type": "scattermapbox",
            "marker": {
             "colorbar": {
              "outlinewidth": 0,
              "ticks": ""
             }
            }
           }
          ],
          "scatterternary": [
           {
            "type": "scatterternary",
            "marker": {
             "colorbar": {
              "outlinewidth": 0,
              "ticks": ""
             }
            }
           }
          ],
          "scattercarpet": [
           {
            "type": "scattercarpet",
            "marker": {
             "colorbar": {
              "outlinewidth": 0,
              "ticks": ""
             }
            }
           }
          ],
          "carpet": [
           {
            "aaxis": {
             "endlinecolor": "#2a3f5f",
             "gridcolor": "white",
             "linecolor": "white",
             "minorgridcolor": "white",
             "startlinecolor": "#2a3f5f"
            },
            "baxis": {
             "endlinecolor": "#2a3f5f",
             "gridcolor": "white",
             "linecolor": "white",
             "minorgridcolor": "white",
             "startlinecolor": "#2a3f5f"
            },
            "type": "carpet"
           }
          ],
          "table": [
           {
            "cells": {
             "fill": {
              "color": "#EBF0F8"
             },
             "line": {
              "color": "white"
             }
            },
            "header": {
             "fill": {
              "color": "#C8D4E3"
             },
             "line": {
              "color": "white"
             }
            },
            "type": "table"
           }
          ],
          "barpolar": [
           {
            "marker": {
             "line": {
              "color": "#E5ECF6",
              "width": 0.5
             },
             "pattern": {
              "fillmode": "overlay",
              "size": 10,
              "solidity": 0.2
             }
            },
            "type": "barpolar"
           }
          ],
          "pie": [
           {
            "automargin": true,
            "type": "pie"
           }
          ]
         },
         "layout": {
          "autotypenumbers": "strict",
          "colorway": [
           "#636efa",
           "#EF553B",
           "#00cc96",
           "#ab63fa",
           "#FFA15A",
           "#19d3f3",
           "#FF6692",
           "#B6E880",
           "#FF97FF",
           "#FECB52"
          ],
          "font": {
           "color": "#2a3f5f"
          },
          "hovermode": "closest",
          "hoverlabel": {
           "align": "left"
          },
          "paper_bgcolor": "white",
          "plot_bgcolor": "#E5ECF6",
          "polar": {
           "bgcolor": "#E5ECF6",
           "angularaxis": {
            "gridcolor": "white",
            "linecolor": "white",
            "ticks": ""
           },
           "radialaxis": {
            "gridcolor": "white",
            "linecolor": "white",
            "ticks": ""
           }
          },
          "ternary": {
           "bgcolor": "#E5ECF6",
           "aaxis": {
            "gridcolor": "white",
            "linecolor": "white",
            "ticks": ""
           },
           "baxis": {
            "gridcolor": "white",
            "linecolor": "white",
            "ticks": ""
           },
           "caxis": {
            "gridcolor": "white",
            "linecolor": "white",
            "ticks": ""
           }
          },
          "coloraxis": {
           "colorbar": {
            "outlinewidth": 0,
            "ticks": ""
           }
          },
          "colorscale": {
           "sequential": [
            [
             0.0,
             "#0d0887"
            ],
            [
             0.1111111111111111,
             "#46039f"
            ],
            [
             0.2222222222222222,
             "#7201a8"
            ],
            [
             0.3333333333333333,
             "#9c179e"
            ],
            [
             0.4444444444444444,
             "#bd3786"
            ],
            [
             0.5555555555555556,
             "#d8576b"
            ],
            [
             0.6666666666666666,
             "#ed7953"
            ],
            [
             0.7777777777777778,
             "#fb9f3a"
            ],
            [
             0.8888888888888888,
             "#fdca26"
            ],
            [
             1.0,
             "#f0f921"
            ]
           ],
           "sequentialminus": [
            [
             0.0,
             "#0d0887"
            ],
            [
             0.1111111111111111,
             "#46039f"
            ],
            [
             0.2222222222222222,
             "#7201a8"
            ],
            [
             0.3333333333333333,
             "#9c179e"
            ],
            [
             0.4444444444444444,
             "#bd3786"
            ],
            [
             0.5555555555555556,
             "#d8576b"
            ],
            [
             0.6666666666666666,
             "#ed7953"
            ],
            [
             0.7777777777777778,
             "#fb9f3a"
            ],
            [
             0.8888888888888888,
             "#fdca26"
            ],
            [
             1.0,
             "#f0f921"
            ]
           ],
           "diverging": [
            [
             0,
             "#8e0152"
            ],
            [
             0.1,
             "#c51b7d"
            ],
            [
             0.2,
             "#de77ae"
            ],
            [
             0.3,
             "#f1b6da"
            ],
            [
             0.4,
             "#fde0ef"
            ],
            [
             0.5,
             "#f7f7f7"
            ],
            [
             0.6,
             "#e6f5d0"
            ],
            [
             0.7,
             "#b8e186"
            ],
            [
             0.8,
             "#7fbc41"
            ],
            [
             0.9,
             "#4d9221"
            ],
            [
             1,
             "#276419"
            ]
           ]
          },
          "xaxis": {
           "gridcolor": "white",
           "linecolor": "white",
           "ticks": "",
           "title": {
            "standoff": 15
           },
           "zerolinecolor": "white",
           "automargin": true,
           "zerolinewidth": 2
          },
          "yaxis": {
           "gridcolor": "white",
           "linecolor": "white",
           "ticks": "",
           "title": {
            "standoff": 15
           },
           "zerolinecolor": "white",
           "automargin": true,
           "zerolinewidth": 2
          },
          "scene": {
           "xaxis": {
            "backgroundcolor": "#E5ECF6",
            "gridcolor": "white",
            "linecolor": "white",
            "showbackground": true,
            "ticks": "",
            "zerolinecolor": "white",
            "gridwidth": 2
           },
           "yaxis": {
            "backgroundcolor": "#E5ECF6",
            "gridcolor": "white",
            "linecolor": "white",
            "showbackground": true,
            "ticks": "",
            "zerolinecolor": "white",
            "gridwidth": 2
           },
           "zaxis": {
            "backgroundcolor": "#E5ECF6",
            "gridcolor": "white",
            "linecolor": "white",
            "showbackground": true,
            "ticks": "",
            "zerolinecolor": "white",
            "gridwidth": 2
           }
          },
          "shapedefaults": {
           "line": {
            "color": "#2a3f5f"
           }
          },
          "annotationdefaults": {
           "arrowcolor": "#2a3f5f",
           "arrowhead": 0,
           "arrowwidth": 1
          },
          "geo": {
           "bgcolor": "white",
           "landcolor": "#E5ECF6",
           "subunitcolor": "white",
           "showland": true,
           "showlakes": true,
           "lakecolor": "white"
          },
          "title": {
           "x": 0.05
          },
          "mapbox": {
           "style": "light"
          }
         }
        },
        "xaxis": {
         "anchor": "y",
         "domain": [
          0.0,
          1.0
         ],
         "title": {
          "text": "DATE"
         }
        },
        "yaxis": {
         "anchor": "x",
         "domain": [
          0.0,
          1.0
         ],
         "title": {
          "text": "AVERAGE_WEIGHT"
         }
        },
        "legend": {
         "title": {
          "text": "EXERCISE"
         },
         "tracegroupgap": 0,
         "itemsizing": "constant"
        },
        "margin": {
         "t": 60
        }
       },
       "config": {
        "plotlyServerURL": "https://plot.ly"
       }
      },
      "text/html": "<div>                            <div id=\"74a79dee-08d8-44bf-834c-e852f04235a9\" class=\"plotly-graph-div\" style=\"height:525px; width:100%;\"></div>            <script type=\"text/javascript\">                require([\"plotly\"], function(Plotly) {                    window.PLOTLYENV=window.PLOTLYENV || {};                                    if (document.getElementById(\"74a79dee-08d8-44bf-834c-e852f04235a9\")) {                    Plotly.newPlot(                        \"74a79dee-08d8-44bf-834c-e852f04235a9\",                        [{\"hovertemplate\":\"EXERCISE=Pull-up\\u003cbr\\u003eDATE=%{x}\\u003cbr\\u003eAVERAGE_WEIGHT=%{y}\\u003cbr\\u003eAVERAGE_REPS=%{marker.size}\\u003cextra\\u003e\\u003c\\u002fextra\\u003e\",\"legendgroup\":\"Pull-up\",\"marker\":{\"color\":\"#636efa\",\"size\":[5.0,4.25,4.5,7.333333333333333,7.0,7.333333333333333,7.0,7.5,7.75,9.0,9.0,9.0,8.666666666666666,8.666666666666666,9.333333333333334,6.666666666666667,8.25,9.0,7.5,7.5,7.5,6.5,6.75,7.25,8.0,7.5,8.5,6.5,6.5],\"sizemode\":\"area\",\"sizeref\":0.03166666666666666,\"symbol\":\"circle\"},\"mode\":\"markers\",\"name\":\"Pull-up\",\"orientation\":\"v\",\"showlegend\":true,\"x\":[\"2023-03-28T00:00:00\",\"2023-04-04T00:00:00\",\"2023-04-14T00:00:00\",\"2023-05-20T00:00:00\",\"2023-05-25T00:00:00\",\"2023-05-29T00:00:00\",\"2023-06-02T00:00:00\",\"2023-06-06T00:00:00\",\"2023-06-10T00:00:00\",\"2023-06-21T00:00:00\",\"2023-06-26T00:00:00\",\"2023-07-01T00:00:00\",\"2023-07-05T00:00:00\",\"2023-07-08T00:00:00\",\"2023-07-12T00:00:00\",\"2023-07-16T00:00:00\",\"2023-07-22T00:00:00\",\"2023-08-18T00:00:00\",\"2023-09-15T00:00:00\",\"2023-09-22T00:00:00\",\"2023-10-29T00:00:00\",\"2023-11-18T00:00:00\",\"2023-12-17T00:00:00\",\"2023-12-22T00:00:00\",\"2023-12-31T00:00:00\",\"2024-01-12T00:00:00\",\"2024-01-18T00:00:00\",\"2024-01-26T00:00:00\",\"2024-02-02T00:00:00\"],\"xaxis\":\"x\",\"y\":[0.0,0.0,0.0,0.0,0.0,2.727272727272727,0.7142857142857143,0.0,0.0,0.0,0.0,2.074074074074074,2.1538461538461537,2.1538461538461537,2.4285714285714284,8.25,5.0,5.0,5.0,5.0,5.0,7.884615384615385,8.703703703703704,8.793103448275861,8.75,9.0,8.823529411764707,12.5,12.5],\"yaxis\":\"y\",\"type\":\"scatter\"},{\"hovertemplate\":\"EXERCISE=Seated dumbbell shoulder press\\u003cbr\\u003eDATE=%{x}\\u003cbr\\u003eAVERAGE_WEIGHT=%{y}\\u003cbr\\u003eAVERAGE_REPS=%{marker.size}\\u003cextra\\u003e\\u003c\\u002fextra\\u003e\",\"legendgroup\":\"Seated dumbbell shoulder press\",\"marker\":{\"color\":\"#EF553B\",\"size\":[7.5,8.0,7.75,7.333333333333333,5.666666666666667,7.666666666666667,8.333333333333334,5.666666666666667,7.333333333333333,5.666666666666667,8.333333333333334,8.0,8.0,8.333333333333334,10.0,11.333333333333334,7.0,10.0,7.0,8.333333333333334,7.666666666666667,9.333333333333334,4.0,6.666666666666667,6.666666666666667,6.0,7.5,6.666666666666667,8.0,8.0,8.333333333333334],\"sizemode\":\"area\",\"sizeref\":0.03166666666666666,\"symbol\":\"circle\"},\"mode\":\"markers\",\"name\":\"Seated dumbbell shoulder press\",\"orientation\":\"v\",\"showlegend\":true,\"x\":[\"2023-04-03T00:00:00\",\"2023-04-10T00:00:00\",\"2023-04-15T00:00:00\",\"2023-05-27T00:00:00\",\"2023-05-30T00:00:00\",\"2023-06-03T00:00:00\",\"2023-06-09T00:00:00\",\"2023-06-16T00:00:00\",\"2023-06-22T00:00:00\",\"2023-07-02T00:00:00\",\"2023-07-07T00:00:00\",\"2023-07-11T00:00:00\",\"2023-07-15T00:00:00\",\"2023-07-19T00:00:00\",\"2023-07-24T00:00:00\",\"2023-07-30T00:00:00\",\"2023-08-08T00:00:00\",\"2023-08-22T00:00:00\",\"2023-09-05T00:00:00\",\"2023-09-13T00:00:00\",\"2023-09-16T00:00:00\",\"2023-09-23T00:00:00\",\"2023-09-30T00:00:00\",\"2023-10-18T00:00:00\",\"2023-11-11T00:00:00\",\"2023-12-02T00:00:00\",\"2023-12-16T00:00:00\",\"2023-12-30T00:00:00\",\"2024-01-06T00:00:00\",\"2024-01-13T00:00:00\",\"2024-01-20T00:00:00\"],\"xaxis\":\"x\",\"y\":[11.333333333333334,12.3125,12.0,17.09090909090909,17.294117647058822,18.0,18.0,18.0,18.0,17.41176470588235,20.0,19.166666666666668,20.0,20.0,18.0,18.0,20.0,20.0,20.0,18.0,18.0,18.0,24.0,20.0,18.0,20.0,22.0,20.0,22.0,24.0,20.0],\"yaxis\":\"y\",\"type\":\"scatter\"},{\"hovertemplate\":\"EXERCISE=Dumbbell lateral raise\\u003cbr\\u003eDATE=%{x}\\u003cbr\\u003eAVERAGE_WEIGHT=%{y}\\u003cbr\\u003eAVERAGE_REPS=%{marker.size}\\u003cextra\\u003e\\u003c\\u002fextra\\u003e\",\"legendgroup\":\"Dumbbell lateral raise\",\"marker\":{\"color\":\"#00cc96\",\"size\":[9.0,9.0,7.25,8.75,8.75,8.666666666666666,9.0,9.0,8.666666666666666,9.0,7.333333333333333,8.25,9.666666666666666,9.666666666666666,11.0,9.0,8.666666666666666,8.0,9.0,9.0,8.0,8.0,9.0,9.333333333333334,8.333333333333334,10.0,8.666666666666666,11.333333333333334,9.0,9.0,8.0,7.666666666666667],\"sizemode\":\"area\",\"sizeref\":0.03166666666666666,\"symbol\":\"circle\"},\"mode\":\"markers\",\"name\":\"Dumbbell lateral raise\",\"orientation\":\"v\",\"showlegend\":true,\"x\":[\"2023-04-04T00:00:00\",\"2023-04-14T00:00:00\",\"2023-05-21T00:00:00\",\"2023-05-25T00:00:00\",\"2023-05-27T00:00:00\",\"2023-05-30T00:00:00\",\"2023-06-03T00:00:00\",\"2023-06-09T00:00:00\",\"2023-06-16T00:00:00\",\"2023-06-22T00:00:00\",\"2023-07-02T00:00:00\",\"2023-07-07T00:00:00\",\"2023-07-11T00:00:00\",\"2023-07-15T00:00:00\",\"2023-07-19T00:00:00\",\"2023-07-24T00:00:00\",\"2023-07-30T00:00:00\",\"2023-08-08T00:00:00\",\"2023-08-22T00:00:00\",\"2023-09-05T00:00:00\",\"2023-09-13T00:00:00\",\"2023-09-16T00:00:00\",\"2023-09-23T00:00:00\",\"2023-09-30T00:00:00\",\"2023-10-18T00:00:00\",\"2023-11-04T00:00:00\",\"2023-11-11T00:00:00\",\"2023-11-25T00:00:00\",\"2023-12-02T00:00:00\",\"2023-12-09T00:00:00\",\"2023-12-30T00:00:00\",\"2024-01-20T00:00:00\"],\"xaxis\":\"x\",\"y\":[7.444444444444445,8.333333333333334,8.655172413793103,9.371428571428572,10.0,10.0,10.0,12.0,11.0,12.0,12.0,12.0,12.0,12.0,12.0,12.0,12.0,12.0,12.0,12.0,12.0,12.0,12.0,12.0,12.0,12.0,12.0,12.0,12.0,14.0,14.0,14.0],\"yaxis\":\"y\",\"type\":\"scatter\"},{\"hovertemplate\":\"EXERCISE=Behind-the-head skullcrusher\\u003cbr\\u003eDATE=%{x}\\u003cbr\\u003eAVERAGE_WEIGHT=%{y}\\u003cbr\\u003eAVERAGE_REPS=%{marker.size}\\u003cextra\\u003e\\u003c\\u002fextra\\u003e\",\"legendgroup\":\"Behind-the-head skullcrusher\",\"marker\":{\"color\":\"#ab63fa\",\"size\":[8.25,8.25,5.666666666666667,12.666666666666666,10.666666666666666,10.0,9.333333333333334,12.0,9.333333333333334,8.0,8.0,8.333333333333334,10.333333333333334,7.666666666666667,9.666666666666666,9.0,10.666666666666666,8.333333333333334,7.666666666666667,9.333333333333334,9.0,10.666666666666666,7.0,8.0,9.333333333333334,9.0,8.0,6.666666666666667,10.0,5.666666666666667],\"sizemode\":\"area\",\"sizeref\":0.03166666666666666,\"symbol\":\"circle\"},\"mode\":\"markers\",\"name\":\"Behind-the-head skullcrusher\",\"orientation\":\"v\",\"showlegend\":true,\"x\":[\"2023-04-08T00:00:00\",\"2023-04-20T00:00:00\",\"2023-05-30T00:00:00\",\"2023-06-16T00:00:00\",\"2023-07-02T00:00:00\",\"2023-07-07T00:00:00\",\"2023-07-11T00:00:00\",\"2023-07-15T00:00:00\",\"2023-07-19T00:00:00\",\"2023-07-24T00:00:00\",\"2023-08-08T00:00:00\",\"2023-09-05T00:00:00\",\"2023-09-13T00:00:00\",\"2023-09-16T00:00:00\",\"2023-09-20T00:00:00\",\"2023-09-30T00:00:00\",\"2023-10-15T00:00:00\",\"2023-11-04T00:00:00\",\"2023-11-11T00:00:00\",\"2023-11-25T00:00:00\",\"2023-12-02T00:00:00\",\"2023-12-09T00:00:00\",\"2023-12-16T00:00:00\",\"2023-12-23T00:00:00\",\"2023-12-30T00:00:00\",\"2024-01-06T00:00:00\",\"2024-01-13T00:00:00\",\"2024-01-20T00:00:00\",\"2024-01-27T00:00:00\",\"2024-02-03T00:00:00\"],\"xaxis\":\"x\",\"y\":[14.363636363636363,15.787878787878787,16.58823529411765,13.68421052631579,17.125,20.0,21.142857142857142,20.0,25.0,22.5,25.0,25.0,22.0,24.0,24.0,25.0,24.0,25.0,24.0,27.142857142857142,24.0,25.0,27.714285714285715,30.0,25.0,30.0,30.0,30.0,30.0,35.0],\"yaxis\":\"y\",\"type\":\"scatter\"},{\"hovertemplate\":\"EXERCISE=Incline dumbbell biceps curl\\u003cbr\\u003eDATE=%{x}\\u003cbr\\u003eAVERAGE_WEIGHT=%{y}\\u003cbr\\u003eAVERAGE_REPS=%{marker.size}\\u003cextra\\u003e\\u003c\\u002fextra\\u003e\",\"legendgroup\":\"Incline dumbbell biceps curl\",\"marker\":{\"color\":\"#FFA15A\",\"size\":[7.0,6.0,5.75,6.5,7.5,6.0,7.333333333333333,8.0,7.333333333333333,8.0,7.666666666666667,10.666666666666666,10.0,7.0,10.0,7.333333333333333,9.0,7.333333333333333,6.333333333333333,8.0,9.666666666666666,6.5,7.25,7.75,10.0,8.25,6.75,8.0,7.0],\"sizemode\":\"area\",\"sizeref\":0.03166666666666666,\"symbol\":\"circle\"},\"mode\":\"markers\",\"name\":\"Incline dumbbell biceps curl\",\"orientation\":\"v\",\"showlegend\":true,\"x\":[\"2023-05-20T00:00:00\",\"2023-05-29T00:00:00\",\"2023-06-02T00:00:00\",\"2023-06-06T00:00:00\",\"2023-06-10T00:00:00\",\"2023-06-21T00:00:00\",\"2023-06-26T00:00:00\",\"2023-07-01T00:00:00\",\"2023-07-05T00:00:00\",\"2023-07-08T00:00:00\",\"2023-07-12T00:00:00\",\"2023-07-22T00:00:00\",\"2023-08-18T00:00:00\",\"2023-09-15T00:00:00\",\"2023-09-20T00:00:00\",\"2023-10-01T00:00:00\",\"2023-10-15T00:00:00\",\"2023-10-29T00:00:00\",\"2023-11-18T00:00:00\",\"2023-12-01T00:00:00\",\"2023-12-08T00:00:00\",\"2023-12-17T00:00:00\",\"2023-12-22T00:00:00\",\"2023-12-31T00:00:00\",\"2024-01-05T00:00:00\",\"2024-01-12T00:00:00\",\"2024-01-18T00:00:00\",\"2024-01-26T00:00:00\",\"2024-02-02T00:00:00\"],\"xaxis\":\"x\",\"y\":[8.0,8.791666666666666,8.0,8.0,8.0,8.0,8.0,9.0,8.545454545454545,9.96875,8.608695652173912,8.0,8.0,8.0,10.0,10.0,10.0,9.272727272727273,8.526315789473685,8.583333333333334,8.0,10.0,10.0,10.0,10.0,10.0,11.037037037037036,12.0,12.0],\"yaxis\":\"y\",\"type\":\"scatter\"}],                        {\"template\":{\"data\":{\"histogram2dcontour\":[{\"type\":\"histogram2dcontour\",\"colorbar\":{\"outlinewidth\":0,\"ticks\":\"\"},\"colorscale\":[[0.0,\"#0d0887\"],[0.1111111111111111,\"#46039f\"],[0.2222222222222222,\"#7201a8\"],[0.3333333333333333,\"#9c179e\"],[0.4444444444444444,\"#bd3786\"],[0.5555555555555556,\"#d8576b\"],[0.6666666666666666,\"#ed7953\"],[0.7777777777777778,\"#fb9f3a\"],[0.8888888888888888,\"#fdca26\"],[1.0,\"#f0f921\"]]}],\"choropleth\":[{\"type\":\"choropleth\",\"colorbar\":{\"outlinewidth\":0,\"ticks\":\"\"}}],\"histogram2d\":[{\"type\":\"histogram2d\",\"colorbar\":{\"outlinewidth\":0,\"ticks\":\"\"},\"colorscale\":[[0.0,\"#0d0887\"],[0.1111111111111111,\"#46039f\"],[0.2222222222222222,\"#7201a8\"],[0.3333333333333333,\"#9c179e\"],[0.4444444444444444,\"#bd3786\"],[0.5555555555555556,\"#d8576b\"],[0.6666666666666666,\"#ed7953\"],[0.7777777777777778,\"#fb9f3a\"],[0.8888888888888888,\"#fdca26\"],[1.0,\"#f0f921\"]]}],\"heatmap\":[{\"type\":\"heatmap\",\"colorbar\":{\"outlinewidth\":0,\"ticks\":\"\"},\"colorscale\":[[0.0,\"#0d0887\"],[0.1111111111111111,\"#46039f\"],[0.2222222222222222,\"#7201a8\"],[0.3333333333333333,\"#9c179e\"],[0.4444444444444444,\"#bd3786\"],[0.5555555555555556,\"#d8576b\"],[0.6666666666666666,\"#ed7953\"],[0.7777777777777778,\"#fb9f3a\"],[0.8888888888888888,\"#fdca26\"],[1.0,\"#f0f921\"]]}],\"heatmapgl\":[{\"type\":\"heatmapgl\",\"colorbar\":{\"outlinewidth\":0,\"ticks\":\"\"},\"colorscale\":[[0.0,\"#0d0887\"],[0.1111111111111111,\"#46039f\"],[0.2222222222222222,\"#7201a8\"],[0.3333333333333333,\"#9c179e\"],[0.4444444444444444,\"#bd3786\"],[0.5555555555555556,\"#d8576b\"],[0.6666666666666666,\"#ed7953\"],[0.7777777777777778,\"#fb9f3a\"],[0.8888888888888888,\"#fdca26\"],[1.0,\"#f0f921\"]]}],\"contourcarpet\":[{\"type\":\"contourcarpet\",\"colorbar\":{\"outlinewidth\":0,\"ticks\":\"\"}}],\"contour\":[{\"type\":\"contour\",\"colorbar\":{\"outlinewidth\":0,\"ticks\":\"\"},\"colorscale\":[[0.0,\"#0d0887\"],[0.1111111111111111,\"#46039f\"],[0.2222222222222222,\"#7201a8\"],[0.3333333333333333,\"#9c179e\"],[0.4444444444444444,\"#bd3786\"],[0.5555555555555556,\"#d8576b\"],[0.6666666666666666,\"#ed7953\"],[0.7777777777777778,\"#fb9f3a\"],[0.8888888888888888,\"#fdca26\"],[1.0,\"#f0f921\"]]}],\"surface\":[{\"type\":\"surface\",\"colorbar\":{\"outlinewidth\":0,\"ticks\":\"\"},\"colorscale\":[[0.0,\"#0d0887\"],[0.1111111111111111,\"#46039f\"],[0.2222222222222222,\"#7201a8\"],[0.3333333333333333,\"#9c179e\"],[0.4444444444444444,\"#bd3786\"],[0.5555555555555556,\"#d8576b\"],[0.6666666666666666,\"#ed7953\"],[0.7777777777777778,\"#fb9f3a\"],[0.8888888888888888,\"#fdca26\"],[1.0,\"#f0f921\"]]}],\"mesh3d\":[{\"type\":\"mesh3d\",\"colorbar\":{\"outlinewidth\":0,\"ticks\":\"\"}}],\"scatter\":[{\"fillpattern\":{\"fillmode\":\"overlay\",\"size\":10,\"solidity\":0.2},\"type\":\"scatter\"}],\"parcoords\":[{\"type\":\"parcoords\",\"line\":{\"colorbar\":{\"outlinewidth\":0,\"ticks\":\"\"}}}],\"scatterpolargl\":[{\"type\":\"scatterpolargl\",\"marker\":{\"colorbar\":{\"outlinewidth\":0,\"ticks\":\"\"}}}],\"bar\":[{\"error_x\":{\"color\":\"#2a3f5f\"},\"error_y\":{\"color\":\"#2a3f5f\"},\"marker\":{\"line\":{\"color\":\"#E5ECF6\",\"width\":0.5},\"pattern\":{\"fillmode\":\"overlay\",\"size\":10,\"solidity\":0.2}},\"type\":\"bar\"}],\"scattergeo\":[{\"type\":\"scattergeo\",\"marker\":{\"colorbar\":{\"outlinewidth\":0,\"ticks\":\"\"}}}],\"scatterpolar\":[{\"type\":\"scatterpolar\",\"marker\":{\"colorbar\":{\"outlinewidth\":0,\"ticks\":\"\"}}}],\"histogram\":[{\"marker\":{\"pattern\":{\"fillmode\":\"overlay\",\"size\":10,\"solidity\":0.2}},\"type\":\"histogram\"}],\"scattergl\":[{\"type\":\"scattergl\",\"marker\":{\"colorbar\":{\"outlinewidth\":0,\"ticks\":\"\"}}}],\"scatter3d\":[{\"type\":\"scatter3d\",\"line\":{\"colorbar\":{\"outlinewidth\":0,\"ticks\":\"\"}},\"marker\":{\"colorbar\":{\"outlinewidth\":0,\"ticks\":\"\"}}}],\"scattermapbox\":[{\"type\":\"scattermapbox\",\"marker\":{\"colorbar\":{\"outlinewidth\":0,\"ticks\":\"\"}}}],\"scatterternary\":[{\"type\":\"scatterternary\",\"marker\":{\"colorbar\":{\"outlinewidth\":0,\"ticks\":\"\"}}}],\"scattercarpet\":[{\"type\":\"scattercarpet\",\"marker\":{\"colorbar\":{\"outlinewidth\":0,\"ticks\":\"\"}}}],\"carpet\":[{\"aaxis\":{\"endlinecolor\":\"#2a3f5f\",\"gridcolor\":\"white\",\"linecolor\":\"white\",\"minorgridcolor\":\"white\",\"startlinecolor\":\"#2a3f5f\"},\"baxis\":{\"endlinecolor\":\"#2a3f5f\",\"gridcolor\":\"white\",\"linecolor\":\"white\",\"minorgridcolor\":\"white\",\"startlinecolor\":\"#2a3f5f\"},\"type\":\"carpet\"}],\"table\":[{\"cells\":{\"fill\":{\"color\":\"#EBF0F8\"},\"line\":{\"color\":\"white\"}},\"header\":{\"fill\":{\"color\":\"#C8D4E3\"},\"line\":{\"color\":\"white\"}},\"type\":\"table\"}],\"barpolar\":[{\"marker\":{\"line\":{\"color\":\"#E5ECF6\",\"width\":0.5},\"pattern\":{\"fillmode\":\"overlay\",\"size\":10,\"solidity\":0.2}},\"type\":\"barpolar\"}],\"pie\":[{\"automargin\":true,\"type\":\"pie\"}]},\"layout\":{\"autotypenumbers\":\"strict\",\"colorway\":[\"#636efa\",\"#EF553B\",\"#00cc96\",\"#ab63fa\",\"#FFA15A\",\"#19d3f3\",\"#FF6692\",\"#B6E880\",\"#FF97FF\",\"#FECB52\"],\"font\":{\"color\":\"#2a3f5f\"},\"hovermode\":\"closest\",\"hoverlabel\":{\"align\":\"left\"},\"paper_bgcolor\":\"white\",\"plot_bgcolor\":\"#E5ECF6\",\"polar\":{\"bgcolor\":\"#E5ECF6\",\"angularaxis\":{\"gridcolor\":\"white\",\"linecolor\":\"white\",\"ticks\":\"\"},\"radialaxis\":{\"gridcolor\":\"white\",\"linecolor\":\"white\",\"ticks\":\"\"}},\"ternary\":{\"bgcolor\":\"#E5ECF6\",\"aaxis\":{\"gridcolor\":\"white\",\"linecolor\":\"white\",\"ticks\":\"\"},\"baxis\":{\"gridcolor\":\"white\",\"linecolor\":\"white\",\"ticks\":\"\"},\"caxis\":{\"gridcolor\":\"white\",\"linecolor\":\"white\",\"ticks\":\"\"}},\"coloraxis\":{\"colorbar\":{\"outlinewidth\":0,\"ticks\":\"\"}},\"colorscale\":{\"sequential\":[[0.0,\"#0d0887\"],[0.1111111111111111,\"#46039f\"],[0.2222222222222222,\"#7201a8\"],[0.3333333333333333,\"#9c179e\"],[0.4444444444444444,\"#bd3786\"],[0.5555555555555556,\"#d8576b\"],[0.6666666666666666,\"#ed7953\"],[0.7777777777777778,\"#fb9f3a\"],[0.8888888888888888,\"#fdca26\"],[1.0,\"#f0f921\"]],\"sequentialminus\":[[0.0,\"#0d0887\"],[0.1111111111111111,\"#46039f\"],[0.2222222222222222,\"#7201a8\"],[0.3333333333333333,\"#9c179e\"],[0.4444444444444444,\"#bd3786\"],[0.5555555555555556,\"#d8576b\"],[0.6666666666666666,\"#ed7953\"],[0.7777777777777778,\"#fb9f3a\"],[0.8888888888888888,\"#fdca26\"],[1.0,\"#f0f921\"]],\"diverging\":[[0,\"#8e0152\"],[0.1,\"#c51b7d\"],[0.2,\"#de77ae\"],[0.3,\"#f1b6da\"],[0.4,\"#fde0ef\"],[0.5,\"#f7f7f7\"],[0.6,\"#e6f5d0\"],[0.7,\"#b8e186\"],[0.8,\"#7fbc41\"],[0.9,\"#4d9221\"],[1,\"#276419\"]]},\"xaxis\":{\"gridcolor\":\"white\",\"linecolor\":\"white\",\"ticks\":\"\",\"title\":{\"standoff\":15},\"zerolinecolor\":\"white\",\"automargin\":true,\"zerolinewidth\":2},\"yaxis\":{\"gridcolor\":\"white\",\"linecolor\":\"white\",\"ticks\":\"\",\"title\":{\"standoff\":15},\"zerolinecolor\":\"white\",\"automargin\":true,\"zerolinewidth\":2},\"scene\":{\"xaxis\":{\"backgroundcolor\":\"#E5ECF6\",\"gridcolor\":\"white\",\"linecolor\":\"white\",\"showbackground\":true,\"ticks\":\"\",\"zerolinecolor\":\"white\",\"gridwidth\":2},\"yaxis\":{\"backgroundcolor\":\"#E5ECF6\",\"gridcolor\":\"white\",\"linecolor\":\"white\",\"showbackground\":true,\"ticks\":\"\",\"zerolinecolor\":\"white\",\"gridwidth\":2},\"zaxis\":{\"backgroundcolor\":\"#E5ECF6\",\"gridcolor\":\"white\",\"linecolor\":\"white\",\"showbackground\":true,\"ticks\":\"\",\"zerolinecolor\":\"white\",\"gridwidth\":2}},\"shapedefaults\":{\"line\":{\"color\":\"#2a3f5f\"}},\"annotationdefaults\":{\"arrowcolor\":\"#2a3f5f\",\"arrowhead\":0,\"arrowwidth\":1},\"geo\":{\"bgcolor\":\"white\",\"landcolor\":\"#E5ECF6\",\"subunitcolor\":\"white\",\"showland\":true,\"showlakes\":true,\"lakecolor\":\"white\"},\"title\":{\"x\":0.05},\"mapbox\":{\"style\":\"light\"}}},\"xaxis\":{\"anchor\":\"y\",\"domain\":[0.0,1.0],\"title\":{\"text\":\"DATE\"}},\"yaxis\":{\"anchor\":\"x\",\"domain\":[0.0,1.0],\"title\":{\"text\":\"AVERAGE_WEIGHT\"}},\"legend\":{\"title\":{\"text\":\"EXERCISE\"},\"tracegroupgap\":0,\"itemsizing\":\"constant\"},\"margin\":{\"t\":60}},                        {\"responsive\": true}                    ).then(function(){\n                            \nvar gd = document.getElementById('74a79dee-08d8-44bf-834c-e852f04235a9');\nvar x = new MutationObserver(function (mutations, observer) {{\n        var display = window.getComputedStyle(gd).display;\n        if (!display || display === 'none') {{\n            console.log([gd, 'removed!']);\n            Plotly.purge(gd);\n            observer.disconnect();\n        }}\n}});\n\n// Listen for the removal of the full notebook cells\nvar notebookContainer = gd.closest('#notebook-container');\nif (notebookContainer) {{\n    x.observe(notebookContainer, {childList: true});\n}}\n\n// Listen for the clearing of the current output cell\nvar outputEl = gd.closest('.output');\nif (outputEl) {{\n    x.observe(outputEl, {childList: true});\n}}\n\n                        })                };                });            </script>        </div>"
     },
     "metadata": {},
     "output_type": "display_data"
    }
   ],
   "source": [
    "# Line chart of weights over time (top 5 exercises)\n",
    "top_5_exercises = workout_day_exercises['EXERCISE'].value_counts().head(5).index\n",
    "top_5_exercises = workout_day_exercises[workout_day_exercises['EXERCISE'].isin(top_5_exercises)]\n",
    "top_5_exercises.loc[:, 'DATE'] = pd.to_datetime(top_5_exercises['DATE'])\n",
    "fig = px.scatter(top_5_exercises, x='DATE', y='AVERAGE_WEIGHT', size='AVERAGE_REPS', color='EXERCISE')\n",
    "fig.show()"
   ],
   "metadata": {
    "collapsed": false,
    "ExecuteTime": {
     "end_time": "2024-02-06T21:41:50.925319Z",
     "start_time": "2024-02-06T21:41:50.893944Z"
    }
   },
   "id": "24fe088f0ac49309",
   "execution_count": 130
  },
  {
   "cell_type": "code",
   "outputs": [
    {
     "name": "stdout",
     "output_type": "stream",
     "text": [
      "Strength\n",
      "Dumbbell\n",
      "Intermediate\n",
      "8.53\n"
     ]
    }
   ],
   "source": [
    "# Metrics of workout exercises\n",
    "# Favorite Exercise Type\n",
    "print(workout_exercises['Type'].value_counts().idxmax())\n",
    "# Favorite Equipment\n",
    "print(workout_exercises['Equipment'].value_counts().idxmax())\n",
    "# Favorite Exercise Level\n",
    "print(workout_exercises['Level'].value_counts().idxmax())\n",
    "# Average Rating of Exercises\n",
    "print(workout_exercises['Rating'].mean().round(2))"
   ],
   "metadata": {
    "collapsed": false,
    "ExecuteTime": {
     "end_time": "2024-02-06T21:45:23.421369Z",
     "start_time": "2024-02-06T21:45:23.412741Z"
    }
   },
   "id": "f57b925473066ca8",
   "execution_count": 134
  }
 ],
 "metadata": {
  "kernelspec": {
   "display_name": "Python 3",
   "language": "python",
   "name": "python3"
  },
  "language_info": {
   "codemirror_mode": {
    "name": "ipython",
    "version": 2
   },
   "file_extension": ".py",
   "mimetype": "text/x-python",
   "name": "python",
   "nbconvert_exporter": "python",
   "pygments_lexer": "ipython2",
   "version": "2.7.6"
  }
 },
 "nbformat": 4,
 "nbformat_minor": 5
}

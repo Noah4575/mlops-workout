{
 "cells": [
  {
   "cell_type": "code",
   "execution_count": null,
   "id": "initial_id",
   "metadata": {
    "collapsed": true
   },
   "outputs": [],
   "source": [
    "import pandas as pd\n",
    "import plotly.express as px\n",
    "import plotly.graph_objects as go"
   ]
  },
  {
   "cell_type": "code",
   "outputs": [],
   "source": [
    "workout_data = pd.read_csv('../data/current/workout_data.csv')\n",
    "workout_data"
   ],
   "metadata": {
    "collapsed": false
   },
   "id": "db48250689f1699b",
   "execution_count": null
  },
  {
   "cell_type": "code",
   "outputs": [],
   "source": [
    "enriched_workout_data = pd.read_csv('../data/current/enriched_workout_data.csv')\n",
    "enriched_workout_data"
   ],
   "metadata": {
    "collapsed": false
   },
   "id": "274958593f54ba84",
   "execution_count": null
  },
  {
   "cell_type": "code",
   "outputs": [],
   "source": [
    "workout_day_exercises = pd.read_csv('../data/current/workout_day_exercises.csv')\n",
    "workout_day_exercises"
   ],
   "metadata": {
    "collapsed": false
   },
   "id": "853b82a1fe763765",
   "execution_count": null
  },
  {
   "cell_type": "code",
   "outputs": [],
   "source": [
    "workout_days = pd.read_csv('../data/current/workout_days.csv')\n",
    "workout_days"
   ],
   "metadata": {
    "collapsed": false
   },
   "id": "6574eede3d53238e",
   "execution_count": null
  },
  {
   "cell_type": "code",
   "outputs": [],
   "source": [
    "workout_exercises = pd.read_csv('../data/current/workout_exercises.csv')\n",
    "workout_exercises"
   ],
   "metadata": {
    "collapsed": false
   },
   "id": "57e2623bb57dfff8",
   "execution_count": null
  },
  {
   "cell_type": "markdown",
   "source": [
    "# Distributions of workout_exercises columns"
   ],
   "metadata": {
    "collapsed": false
   },
   "id": "943a1a292da485ab"
  },
  {
   "cell_type": "code",
   "outputs": [],
   "source": [
    "# Distributions of columns\n",
    "for column in workout_exercises.drop(columns=[\"Desc\", \"Title\"]).columns:\n",
    "    fig = px.histogram(workout_exercises, x=column)\n",
    "    fig.show()"
   ],
   "metadata": {
    "collapsed": false
   },
   "id": "3cf54487ab663119",
   "execution_count": null
  },
  {
   "cell_type": "code",
   "outputs": [],
   "source": [
    "# Delete column 'RatingDesc'\n",
    "workout_exercises = workout_exercises.drop(columns=['RatingDesc'])"
   ],
   "metadata": {
    "collapsed": false
   },
   "id": "702f461801603062",
   "execution_count": null
  },
  {
   "cell_type": "markdown",
   "source": [
    "# Analytics"
   ],
   "metadata": {
    "collapsed": false
   },
   "id": "9fe5adfe6544cfbf"
  },
  {
   "cell_type": "code",
   "outputs": [],
   "source": [
    "# Metrics of workout exercises\n",
    "# Favorite Exercise Type\n",
    "print(workout_exercises['Type'].value_counts().idxmax())\n",
    "# Favorite Equipment\n",
    "print(workout_exercises['Equipment'].value_counts().idxmax())\n",
    "# Favorite Exercise Level\n",
    "print(workout_exercises['Level'].value_counts().idxmax())\n",
    "# Average Rating of Exercises\n",
    "print(workout_exercises['Rating'].mean().round(2))"
   ],
   "metadata": {
    "collapsed": false
   },
   "id": "f57b925473066ca8",
   "execution_count": null
  },
  {
   "cell_type": "code",
   "outputs": [],
   "source": [
    "# Calculate histogram data\n",
    "hist_data = enriched_workout_data['BodyPart'].value_counts().sort_values(ascending=False)\n",
    "\n",
    "# Create figure\n",
    "fig = go.Figure()\n",
    "\n",
    "# Histogram of Targeted Muscle Group\n",
    "fig.add_trace(go.Bar(\n",
    "    x=hist_data.index,\n",
    "    y=hist_data.values,\n",
    "    marker_color=\"#4a3e80\",\n",
    "    hovertemplate=\"Number of Sets: %{y}<extra></extra>\",\n",
    "))\n",
    "\n",
    "# Update layout\n",
    "fig.update_layout(\n",
    "    title=\"Histogram of Targeted Muscle Group\",\n",
    "    xaxis_title=\"Muscle Group\",\n",
    "    yaxis_title=\"Number of Sets\",\n",
    "    hovermode=\"x unified\",\n",
    "    font=dict(\n",
    "        family=\"Roboto, sans-serif\",\n",
    "        size=18,\n",
    "        color=\"#333\"\n",
    "    ),\n",
    "    template=\"plotly_white\",\n",
    "    height=700,\n",
    "    plot_bgcolor=\"#f4f4f4\",\n",
    "    paper_bgcolor=\"#f4f4f4\",\n",
    "    yaxis=dict(\n",
    "        gridcolor=\"#ddd\",\n",
    "        zerolinecolor=\"#ddd\",\n",
    "    ),\n",
    ")\n",
    "\n",
    "fig.show()"
   ],
   "metadata": {
    "collapsed": false
   },
   "id": "6f9d59ac2f3c785",
   "execution_count": null
  },
  {
   "cell_type": "code",
   "outputs": [],
   "source": [
    "# Count of workout types\n",
    "workout_occurrences = workout_days[\"WORKOUT\"].value_counts()\n",
    "\n",
    "# Workout types above 5 occurrences\n",
    "valid_workouts = workout_occurrences[workout_occurrences > 5].index\n",
    "valid_workouts_data = workout_days[workout_days['WORKOUT'].isin(valid_workouts)]\n",
    "\n",
    "# Donut chart of workout types (Workouts above 5 occurrences)\n",
    "fig = go.Figure()\n",
    "\n",
    "# Create donut chart\n",
    "fig.add_trace(go.Pie(\n",
    "    labels=valid_workouts_data['WORKOUT'].value_counts().index,\n",
    "    values=valid_workouts_data['WORKOUT'].value_counts().values,\n",
    "    hole=0.6,\n",
    "    marker_colors=px.colors.qualitative.Bold,\n",
    "    hoverinfo=\"label+percent\",\n",
    "    hovertemplate=\"Workout: %{label}<br>Percentage: %{percent}<br>Occurrences: %{value}<extra></extra>\",\n",
    "    textinfo=\"value\",\n",
    "    textposition=\"inside\"\n",
    "))\n",
    "\n",
    "# Update layout\n",
    "fig.update_layout(\n",
    "    title=\"Donut Chart of Workout Types\",\n",
    "    font=dict(\n",
    "        family=\"Roboto, sans-serif\",\n",
    "        size=18,\n",
    "        color=\"#7f7f7f\"\n",
    "    ),\n",
    "    template=\"plotly_white\",\n",
    "    height=500,\n",
    ")\n",
    "\n",
    "fig.show()"
   ],
   "metadata": {
    "collapsed": false
   },
   "id": "d16a59160ea88b8f",
   "execution_count": null
  },
  {
   "cell_type": "code",
   "outputs": [],
   "source": [
    "# Get top 5 exercises\n",
    "top_5_exercises = workout_day_exercises['EXERCISE'].value_counts().head(5).index\n",
    "top_5_exercises_data = workout_day_exercises[workout_day_exercises['EXERCISE'].isin(top_5_exercises)]\n",
    "top_5_exercises_data.loc[:, 'DATE'] = pd.to_datetime(top_5_exercises_data['DATE'])\n",
    "\n",
    "# Define color map for the exercises\n",
    "color_map = dict(zip(top_5_exercises, px.colors.qualitative.Bold))\n",
    "\n",
    "# Create figure\n",
    "fig = go.Figure()\n",
    "\n",
    "# Add a scatter trace for each exercise\n",
    "for exo in top_5_exercises:\n",
    "    exo_data = top_5_exercises_data[top_5_exercises_data['EXERCISE'] == exo]\n",
    "    fig.add_trace(\n",
    "        go.Scatter(\n",
    "            x=exo_data['DATE'],\n",
    "            y=exo_data['AVERAGE_WEIGHT'],\n",
    "            mode='markers',\n",
    "            marker=dict(size=exo_data['AVERAGE_REPS'], color=color_map[exo]),\n",
    "            name=exo,\n",
    "            hovertext=exo_data['EXERCISE'],\n",
    "            hovertemplate=\n",
    "            \"<b>%{hovertext}</b><br>\" +\n",
    "            \"Average Weight: %{y:.1f} kg<br>\" +\n",
    "            \"Average Reps: %{marker.size:.1f}<extra></extra>\",\n",
    "        )\n",
    "    )\n",
    "    \n",
    "# Update layout\n",
    "fig.update_layout(\n",
    "    title=\"Evolution of Weights and Reps over Time (Top 5 Exercises)\",\n",
    "    xaxis_title=None,\n",
    "    yaxis_title=\"Average Weight\",\n",
    "    hovermode=\"x unified\",\n",
    "    font=dict(\n",
    "        family=\"Roboto, sans-serif\",\n",
    "        size=18,\n",
    "        color=\"#7f7f7f\"\n",
    "    ),\n",
    "    template=\"plotly_white\",\n",
    "    height=700,\n",
    ")\n",
    "\n",
    "fig.show()"
   ],
   "metadata": {
    "collapsed": false
   },
   "id": "30260f6ede7cc969",
   "execution_count": null
  },
  {
   "cell_type": "code",
   "outputs": [],
   "source": [],
   "metadata": {
    "collapsed": false
   },
   "id": "90eb733d769e79bf"
  }
 ],
 "metadata": {
  "kernelspec": {
   "display_name": "Python 3",
   "language": "python",
   "name": "python3"
  },
  "language_info": {
   "codemirror_mode": {
    "name": "ipython",
    "version": 2
   },
   "file_extension": ".py",
   "mimetype": "text/x-python",
   "name": "python",
   "nbconvert_exporter": "python",
   "pygments_lexer": "ipython2",
   "version": "2.7.6"
  }
 },
 "nbformat": 4,
 "nbformat_minor": 5
}
